{
  "nbformat": 4,
  "nbformat_minor": 0,
  "metadata": {
    "colab": {
      "name": "Classiq- large problems.ipynb",
      "provenance": []
    },
    "kernelspec": {
      "name": "python3",
      "display_name": "Python 3"
    },
    "language_info": {
      "name": "python"
    }
  },
  "cells": [
    {
      "cell_type": "markdown",
      "source": [
        "# classiq"
      ],
      "metadata": {
        "id": "V-228Lj-0HKQ"
      }
    },
    {
      "cell_type": "code",
      "source": [
        "%pip install qiskit\n",
        "%pip install classiq\n",
        "%pip install nest_asyncio"
      ],
      "metadata": {
        "colab": {
          "base_uri": "https://localhost:8080/",
          "height": 1000
        },
        "outputId": "68e5cc21-d9e1-4cd4-a60c-3ae8e00abfa0",
        "id": "7DIy0Pvn0HKZ"
      },
      "execution_count": 1,
      "outputs": [
        {
          "output_type": "stream",
          "name": "stdout",
          "text": [
            "Looking in indexes: https://pypi.org/simple, https://us-python.pkg.dev/colab-wheels/public/simple/\n",
            "Collecting qiskit\n",
            "  Downloading qiskit-0.37.1.tar.gz (13 kB)\n",
            "Collecting qiskit-terra==0.21.1\n",
            "  Downloading qiskit_terra-0.21.1-cp37-cp37m-manylinux_2_17_x86_64.manylinux2014_x86_64.whl (6.7 MB)\n",
            "\u001b[K     |████████████████████████████████| 6.7 MB 9.9 MB/s \n",
            "\u001b[?25hCollecting qiskit-aer==0.10.4\n",
            "  Downloading qiskit_aer-0.10.4-cp37-cp37m-manylinux_2_12_x86_64.manylinux2010_x86_64.whl (18.0 MB)\n",
            "\u001b[K     |████████████████████████████████| 18.0 MB 26.8 MB/s \n",
            "\u001b[?25hCollecting qiskit-ibmq-provider==0.19.2\n",
            "  Downloading qiskit_ibmq_provider-0.19.2-py3-none-any.whl (240 kB)\n",
            "\u001b[K     |████████████████████████████████| 240 kB 68.4 MB/s \n",
            "\u001b[?25hRequirement already satisfied: numpy>=1.16.3 in /usr/local/lib/python3.7/dist-packages (from qiskit-aer==0.10.4->qiskit) (1.21.6)\n",
            "Requirement already satisfied: scipy>=1.0 in /usr/local/lib/python3.7/dist-packages (from qiskit-aer==0.10.4->qiskit) (1.7.3)\n",
            "Requirement already satisfied: python-dateutil>=2.8.0 in /usr/local/lib/python3.7/dist-packages (from qiskit-ibmq-provider==0.19.2->qiskit) (2.8.2)\n",
            "Collecting websockets>=10.0\n",
            "  Downloading websockets-10.3-cp37-cp37m-manylinux_2_5_x86_64.manylinux1_x86_64.manylinux_2_12_x86_64.manylinux2010_x86_64.whl (112 kB)\n",
            "\u001b[K     |████████████████████████████████| 112 kB 67.6 MB/s \n",
            "\u001b[?25hCollecting requests-ntlm>=1.1.0\n",
            "  Downloading requests_ntlm-1.1.0-py2.py3-none-any.whl (5.7 kB)\n",
            "Collecting websocket-client>=1.0.1\n",
            "  Downloading websocket_client-1.3.3-py3-none-any.whl (54 kB)\n",
            "\u001b[K     |████████████████████████████████| 54 kB 3.3 MB/s \n",
            "\u001b[?25hRequirement already satisfied: urllib3>=1.21.1 in /usr/local/lib/python3.7/dist-packages (from qiskit-ibmq-provider==0.19.2->qiskit) (1.24.3)\n",
            "Requirement already satisfied: requests>=2.19 in /usr/local/lib/python3.7/dist-packages (from qiskit-ibmq-provider==0.19.2->qiskit) (2.23.0)\n",
            "Collecting ply>=3.10\n",
            "  Downloading ply-3.11-py2.py3-none-any.whl (49 kB)\n",
            "\u001b[K     |████████████████████████████████| 49 kB 7.4 MB/s \n",
            "\u001b[?25hCollecting stevedore>=3.0.0\n",
            "  Downloading stevedore-3.5.0-py3-none-any.whl (49 kB)\n",
            "\u001b[K     |████████████████████████████████| 49 kB 7.2 MB/s \n",
            "\u001b[?25hRequirement already satisfied: dill>=0.3 in /usr/local/lib/python3.7/dist-packages (from qiskit-terra==0.21.1->qiskit) (0.3.5.1)\n",
            "Collecting retworkx>=0.11.0\n",
            "  Downloading retworkx-0.11.0-cp37-cp37m-manylinux_2_5_x86_64.manylinux1_x86_64.manylinux_2_12_x86_64.manylinux2010_x86_64.whl (1.6 MB)\n",
            "\u001b[K     |████████████████████████████████| 1.6 MB 70.8 MB/s \n",
            "\u001b[?25hCollecting symengine>=0.9\n",
            "  Downloading symengine-0.9.2-cp37-cp37m-manylinux2010_x86_64.whl (37.5 MB)\n",
            "\u001b[K     |████████████████████████████████| 37.5 MB 1.3 MB/s \n",
            "\u001b[?25hRequirement already satisfied: psutil>=5 in /usr/local/lib/python3.7/dist-packages (from qiskit-terra==0.21.1->qiskit) (5.4.8)\n",
            "Requirement already satisfied: typing-extensions in /usr/local/lib/python3.7/dist-packages (from qiskit-terra==0.21.1->qiskit) (4.1.1)\n",
            "Requirement already satisfied: sympy>=1.3 in /usr/local/lib/python3.7/dist-packages (from qiskit-terra==0.21.1->qiskit) (1.7.1)\n",
            "Collecting tweedledum<2.0,>=1.1\n",
            "  Downloading tweedledum-1.1.1-cp37-cp37m-manylinux_2_12_x86_64.manylinux2010_x86_64.whl (943 kB)\n",
            "\u001b[K     |████████████████████████████████| 943 kB 63.0 MB/s \n",
            "\u001b[?25hCollecting shared-memory38\n",
            "  Downloading shared_memory38-0.1.2-cp37-cp37m-manylinux_2_5_x86_64.manylinux1_x86_64.whl (25 kB)\n",
            "Requirement already satisfied: six>=1.5 in /usr/local/lib/python3.7/dist-packages (from python-dateutil>=2.8.0->qiskit-ibmq-provider==0.19.2->qiskit) (1.15.0)\n",
            "Requirement already satisfied: certifi>=2017.4.17 in /usr/local/lib/python3.7/dist-packages (from requests>=2.19->qiskit-ibmq-provider==0.19.2->qiskit) (2022.6.15)\n",
            "Requirement already satisfied: idna<3,>=2.5 in /usr/local/lib/python3.7/dist-packages (from requests>=2.19->qiskit-ibmq-provider==0.19.2->qiskit) (2.10)\n",
            "Requirement already satisfied: chardet<4,>=3.0.2 in /usr/local/lib/python3.7/dist-packages (from requests>=2.19->qiskit-ibmq-provider==0.19.2->qiskit) (3.0.4)\n",
            "Collecting ntlm-auth>=1.0.2\n",
            "  Downloading ntlm_auth-1.5.0-py2.py3-none-any.whl (29 kB)\n",
            "Collecting cryptography>=1.3\n",
            "  Downloading cryptography-37.0.4-cp36-abi3-manylinux_2_24_x86_64.whl (4.1 MB)\n",
            "\u001b[K     |████████████████████████████████| 4.1 MB 68.5 MB/s \n",
            "\u001b[?25hRequirement already satisfied: cffi>=1.12 in /usr/local/lib/python3.7/dist-packages (from cryptography>=1.3->requests-ntlm>=1.1.0->qiskit-ibmq-provider==0.19.2->qiskit) (1.15.1)\n",
            "Requirement already satisfied: pycparser in /usr/local/lib/python3.7/dist-packages (from cffi>=1.12->cryptography>=1.3->requests-ntlm>=1.1.0->qiskit-ibmq-provider==0.19.2->qiskit) (2.21)\n",
            "Requirement already satisfied: importlib-metadata>=1.7.0 in /usr/local/lib/python3.7/dist-packages (from stevedore>=3.0.0->qiskit-terra==0.21.1->qiskit) (4.12.0)\n",
            "Collecting pbr!=2.1.0,>=2.0.0\n",
            "  Downloading pbr-5.10.0-py2.py3-none-any.whl (112 kB)\n",
            "\u001b[K     |████████████████████████████████| 112 kB 92.0 MB/s \n",
            "\u001b[?25hRequirement already satisfied: zipp>=0.5 in /usr/local/lib/python3.7/dist-packages (from importlib-metadata>=1.7.0->stevedore>=3.0.0->qiskit-terra==0.21.1->qiskit) (3.8.1)\n",
            "Requirement already satisfied: mpmath>=0.19 in /usr/local/lib/python3.7/dist-packages (from sympy>=1.3->qiskit-terra==0.21.1->qiskit) (1.2.1)\n",
            "Building wheels for collected packages: qiskit\n",
            "  Building wheel for qiskit (setup.py) ... \u001b[?25l\u001b[?25hdone\n",
            "  Created wheel for qiskit: filename=qiskit-0.37.1-py3-none-any.whl size=12067 sha256=6152e55025b81a3a4199fdee9b06792317416be50bd76f13974d49047b474972\n",
            "  Stored in directory: /root/.cache/pip/wheels/1c/3c/a3/bf8c2931e17937329c34a88b76cb88cbb7f9f2692fa7cfbcd1\n",
            "Successfully built qiskit\n",
            "Installing collected packages: pbr, tweedledum, symengine, stevedore, shared-memory38, retworkx, ply, ntlm-auth, cryptography, websockets, websocket-client, requests-ntlm, qiskit-terra, qiskit-ibmq-provider, qiskit-aer, qiskit\n",
            "Successfully installed cryptography-37.0.4 ntlm-auth-1.5.0 pbr-5.10.0 ply-3.11 qiskit-0.37.1 qiskit-aer-0.10.4 qiskit-ibmq-provider-0.19.2 qiskit-terra-0.21.1 requests-ntlm-1.1.0 retworkx-0.11.0 shared-memory38-0.1.2 stevedore-3.5.0 symengine-0.9.2 tweedledum-1.1.1 websocket-client-1.3.3 websockets-10.3\n",
            "Looking in indexes: https://pypi.org/simple, https://us-python.pkg.dev/colab-wheels/public/simple/\n",
            "Collecting classiq\n",
            "  Downloading classiq-0.15.0-py3-none-any.whl (188 kB)\n",
            "\u001b[K     |████████████████████████████████| 188 kB 16.3 MB/s \n",
            "\u001b[?25hRequirement already satisfied: more-itertools<9.0.0,>=8.8.0 in /usr/local/lib/python3.7/dist-packages (from classiq) (8.14.0)\n",
            "Requirement already satisfied: pandas<1.4.0,>=1.3.0 in /usr/local/lib/python3.7/dist-packages (from classiq) (1.3.5)\n",
            "Requirement already satisfied: tabulate<1,>=0.8.9 in /usr/local/lib/python3.7/dist-packages (from classiq) (0.8.10)\n",
            "Requirement already satisfied: networkx<3.0.0,>=2.5.1 in /usr/local/lib/python3.7/dist-packages (from classiq) (2.6.3)\n",
            "Collecting ConfigArgParse<2.0.0,>=1.5.3\n",
            "  Downloading ConfigArgParse-1.5.3-py3-none-any.whl (20 kB)\n",
            "Requirement already satisfied: importlib-metadata<5.0.0,>=4.11.1 in /usr/local/lib/python3.7/dist-packages (from classiq) (4.12.0)\n",
            "Collecting httpx<1,>=0.23.0\n",
            "  Downloading httpx-0.23.0-py3-none-any.whl (84 kB)\n",
            "\u001b[K     |████████████████████████████████| 84 kB 2.6 MB/s \n",
            "\u001b[?25hCollecting nest-asyncio<2.0.0,>=1.5.4\n",
            "  Downloading nest_asyncio-1.5.5-py3-none-any.whl (5.2 kB)\n",
            "Requirement already satisfied: scipy<1.8.0,>=1.7.3 in /usr/local/lib/python3.7/dist-packages (from classiq) (1.7.3)\n",
            "Collecting plotly<6.0.0,>=5.7.0\n",
            "  Downloading plotly-5.10.0-py2.py3-none-any.whl (15.2 MB)\n",
            "\u001b[K     |████████████████████████████████| 15.2 MB 64.5 MB/s \n",
            "\u001b[?25hRequirement already satisfied: semver<3.0.0,>=2.13.0 in /usr/local/lib/python3.7/dist-packages (from classiq) (2.13.0)\n",
            "Collecting sympy<2.0.0,>=1.9.0\n",
            "  Downloading sympy-1.10.1-py3-none-any.whl (6.4 MB)\n",
            "\u001b[K     |████████████████████████████████| 6.4 MB 37.1 MB/s \n",
            "\u001b[?25hRequirement already satisfied: pydantic<2.0.0,>=1.9.0 in /usr/local/lib/python3.7/dist-packages (from classiq) (1.9.2)\n",
            "Collecting keyring<24.0.0,>=23.5.0\n",
            "  Downloading keyring-23.8.2-py3-none-any.whl (34 kB)\n",
            "Collecting matplotlib<4.0.0,>=3.4.3\n",
            "  Downloading matplotlib-3.5.3-cp37-cp37m-manylinux_2_5_x86_64.manylinux1_x86_64.whl (11.2 MB)\n",
            "\u001b[K     |████████████████████████████████| 11.2 MB 74.5 MB/s \n",
            "\u001b[?25hRequirement already satisfied: numpy<2.0.0,>=1.20.1 in /usr/local/lib/python3.7/dist-packages (from classiq) (1.21.6)\n",
            "Collecting pillow<10.0.0,>=9.0.0\n",
            "  Downloading Pillow-9.2.0-cp37-cp37m-manylinux_2_17_x86_64.manylinux2014_x86_64.whl (3.1 MB)\n",
            "\u001b[K     |████████████████████████████████| 3.1 MB 81.6 MB/s \n",
            "\u001b[?25hCollecting Pyomo<6.1,>=6.0\n",
            "  Downloading Pyomo-6.0.1-cp37-cp37m-manylinux_2_5_x86_64.manylinux1_x86_64.manylinux_2_12_x86_64.manylinux2010_x86_64.whl (8.9 MB)\n",
            "\u001b[K     |████████████████████████████████| 8.9 MB 56.5 MB/s \n",
            "\u001b[?25hCollecting httpcore<0.16.0,>=0.15.0\n",
            "  Downloading httpcore-0.15.0-py3-none-any.whl (68 kB)\n",
            "\u001b[K     |████████████████████████████████| 68 kB 7.4 MB/s \n",
            "\u001b[?25hCollecting rfc3986[idna2008]<2,>=1.3\n",
            "  Downloading rfc3986-1.5.0-py2.py3-none-any.whl (31 kB)\n",
            "Requirement already satisfied: certifi in /usr/local/lib/python3.7/dist-packages (from httpx<1,>=0.23.0->classiq) (2022.6.15)\n",
            "Collecting sniffio\n",
            "  Downloading sniffio-1.2.0-py3-none-any.whl (10 kB)\n",
            "Collecting anyio==3.*\n",
            "  Downloading anyio-3.6.1-py3-none-any.whl (80 kB)\n",
            "\u001b[K     |████████████████████████████████| 80 kB 9.8 MB/s \n",
            "\u001b[?25hCollecting h11<0.13,>=0.11\n",
            "  Downloading h11-0.12.0-py3-none-any.whl (54 kB)\n",
            "\u001b[K     |████████████████████████████████| 54 kB 3.9 MB/s \n",
            "\u001b[?25hRequirement already satisfied: typing-extensions in /usr/local/lib/python3.7/dist-packages (from anyio==3.*->httpcore<0.16.0,>=0.15.0->httpx<1,>=0.23.0->classiq) (4.1.1)\n",
            "Requirement already satisfied: idna>=2.8 in /usr/local/lib/python3.7/dist-packages (from anyio==3.*->httpcore<0.16.0,>=0.15.0->httpx<1,>=0.23.0->classiq) (2.10)\n",
            "Requirement already satisfied: zipp>=0.5 in /usr/local/lib/python3.7/dist-packages (from importlib-metadata<5.0.0,>=4.11.1->classiq) (3.8.1)\n",
            "Collecting SecretStorage>=3.2\n",
            "  Downloading SecretStorage-3.3.3-py3-none-any.whl (15 kB)\n",
            "Collecting jeepney>=0.4.2\n",
            "  Downloading jeepney-0.8.0-py3-none-any.whl (48 kB)\n",
            "\u001b[K     |████████████████████████████████| 48 kB 6.3 MB/s \n",
            "\u001b[?25hCollecting fonttools>=4.22.0\n",
            "  Downloading fonttools-4.36.0-py3-none-any.whl (950 kB)\n",
            "\u001b[K     |████████████████████████████████| 950 kB 68.1 MB/s \n",
            "\u001b[?25hRequirement already satisfied: python-dateutil>=2.7 in /usr/local/lib/python3.7/dist-packages (from matplotlib<4.0.0,>=3.4.3->classiq) (2.8.2)\n",
            "Requirement already satisfied: cycler>=0.10 in /usr/local/lib/python3.7/dist-packages (from matplotlib<4.0.0,>=3.4.3->classiq) (0.11.0)\n",
            "Requirement already satisfied: kiwisolver>=1.0.1 in /usr/local/lib/python3.7/dist-packages (from matplotlib<4.0.0,>=3.4.3->classiq) (1.4.4)\n",
            "Requirement already satisfied: pyparsing>=2.2.1 in /usr/local/lib/python3.7/dist-packages (from matplotlib<4.0.0,>=3.4.3->classiq) (3.0.9)\n",
            "Requirement already satisfied: packaging>=20.0 in /usr/local/lib/python3.7/dist-packages (from matplotlib<4.0.0,>=3.4.3->classiq) (21.3)\n",
            "Requirement already satisfied: pytz>=2017.3 in /usr/local/lib/python3.7/dist-packages (from pandas<1.4.0,>=1.3.0->classiq) (2022.2.1)\n",
            "Requirement already satisfied: tenacity>=6.2.0 in /usr/local/lib/python3.7/dist-packages (from plotly<6.0.0,>=5.7.0->classiq) (8.0.1)\n",
            "Requirement already satisfied: ply in /usr/local/lib/python3.7/dist-packages (from Pyomo<6.1,>=6.0->classiq) (3.11)\n",
            "Requirement already satisfied: six>=1.5 in /usr/local/lib/python3.7/dist-packages (from python-dateutil>=2.7->matplotlib<4.0.0,>=3.4.3->classiq) (1.15.0)\n",
            "Requirement already satisfied: cryptography>=2.0 in /usr/local/lib/python3.7/dist-packages (from SecretStorage>=3.2->keyring<24.0.0,>=23.5.0->classiq) (37.0.4)\n",
            "Requirement already satisfied: cffi>=1.12 in /usr/local/lib/python3.7/dist-packages (from cryptography>=2.0->SecretStorage>=3.2->keyring<24.0.0,>=23.5.0->classiq) (1.15.1)\n",
            "Requirement already satisfied: pycparser in /usr/local/lib/python3.7/dist-packages (from cffi>=1.12->cryptography>=2.0->SecretStorage>=3.2->keyring<24.0.0,>=23.5.0->classiq) (2.21)\n",
            "Requirement already satisfied: mpmath>=0.19 in /usr/local/lib/python3.7/dist-packages (from sympy<2.0.0,>=1.9.0->classiq) (1.2.1)\n",
            "Installing collected packages: sniffio, rfc3986, jeepney, h11, anyio, SecretStorage, pillow, httpcore, fonttools, sympy, Pyomo, plotly, nest-asyncio, matplotlib, keyring, httpx, ConfigArgParse, classiq\n",
            "  Attempting uninstall: pillow\n",
            "    Found existing installation: Pillow 7.1.2\n",
            "    Uninstalling Pillow-7.1.2:\n",
            "      Successfully uninstalled Pillow-7.1.2\n",
            "  Attempting uninstall: sympy\n",
            "    Found existing installation: sympy 1.7.1\n",
            "    Uninstalling sympy-1.7.1:\n",
            "      Successfully uninstalled sympy-1.7.1\n",
            "  Attempting uninstall: plotly\n",
            "    Found existing installation: plotly 5.5.0\n",
            "    Uninstalling plotly-5.5.0:\n",
            "      Successfully uninstalled plotly-5.5.0\n",
            "  Attempting uninstall: matplotlib\n",
            "    Found existing installation: matplotlib 3.2.2\n",
            "    Uninstalling matplotlib-3.2.2:\n",
            "      Successfully uninstalled matplotlib-3.2.2\n",
            "Successfully installed ConfigArgParse-1.5.3 Pyomo-6.0.1 SecretStorage-3.3.3 anyio-3.6.1 classiq-0.15.0 fonttools-4.36.0 h11-0.12.0 httpcore-0.15.0 httpx-0.23.0 jeepney-0.8.0 keyring-23.8.2 matplotlib-3.5.3 nest-asyncio-1.5.5 pillow-9.2.0 plotly-5.10.0 rfc3986-1.5.0 sniffio-1.2.0 sympy-1.10.1\n"
          ]
        },
        {
          "output_type": "display_data",
          "data": {
            "application/vnd.colab-display-data+json": {
              "pip_warning": {
                "packages": [
                  "PIL",
                  "matplotlib",
                  "mpl_toolkits"
                ]
              }
            }
          },
          "metadata": {}
        },
        {
          "output_type": "stream",
          "name": "stdout",
          "text": [
            "Looking in indexes: https://pypi.org/simple, https://us-python.pkg.dev/colab-wheels/public/simple/\n",
            "Requirement already satisfied: nest_asyncio in /usr/local/lib/python3.7/dist-packages (1.5.5)\n"
          ]
        }
      ]
    },
    {
      "cell_type": "code",
      "source": [
        "import nest_asyncio\n",
        "nest_asyncio.apply()\n",
        "import classiq\n",
        "\n",
        "classiq.authenticate()"
      ],
      "metadata": {
        "id": "A79EDVzf0HKZ",
        "colab": {
          "base_uri": "https://localhost:8080/"
        },
        "outputId": "e741b099-79d0-4545-f0bb-95f359c4fbd7"
      },
      "execution_count": 2,
      "outputs": [
        {
          "output_type": "stream",
          "name": "stdout",
          "text": [
            "Your user code: QLHG-CSZM\n",
            "If a browser doesn't automatically open, please visit the url: https://classiq.eu.auth0.com/activate?user_code=QLHG-CSZM\n"
          ]
        }
      ]
    },
    {
      "cell_type": "code",
      "source": [
        "from classiq import ModelDesigner, Executor\n",
        "from classiq.builtin_functions import UCC, HartreeFock\n",
        "\n",
        "from classiq.interface.chemistry.molecule import Molecule\n",
        "from classiq.interface.chemistry.ground_state_problem import GroundStateProblem\n",
        "from classiq.interface.backend.backend_preferences import (\n",
        "    IBMBackendPreferences,\n",
        "    IBMBackendProvider,\n",
        ")\n",
        "from classiq.interface.executor.execution_preferences import ExecutionPreferences, OptimizerPreferences\n",
        "from classiq.interface.executor.hamiltonian_minimization_problem import HamiltonianMinimizationProblem\n",
        "from classiq.interface.executor.quantum_instruction_set import QuantumInstructionSet\n",
        "from classiq.interface.executor.quantum_program import QuantumProgram\n",
        "from classiq.interface.chemistry.operator import PauliOperator\n",
        "from classiq import ModelDesigner\n",
        "from classiq.builtin_functions import HardwareEfficientAnsatz"
      ],
      "metadata": {
        "id": "UiqvmbPd0HKZ"
      },
      "execution_count": 3,
      "outputs": []
    },
    {
      "cell_type": "markdown",
      "metadata": {
        "id": "6F7y-T5TOQOB"
      },
      "source": [
        "### preparing the hamiltonian for n quibts (Ising model)"
      ]
    },
    {
      "cell_type": "code",
      "execution_count": 4,
      "metadata": {
        "id": "QjWlWhqtOQOC"
      },
      "outputs": [],
      "source": [
        "import numpy as np\n",
        "from qiskit.opflow import Z, I\n",
        "\n",
        "def multiply_ising_models(ham1, ham2, coef1, coef2):\n",
        "  final_sigma = \"\"\n",
        "  final_coef = 0\n",
        "  for i in range(len(ham1)):\n",
        "      sigma1 = ham1[i]\n",
        "      sigma2 = ham2[i]\n",
        "      if (sigma1 == 'Z' and sigma2 == 'Z'):\n",
        "        final_sigma += 'I'\n",
        "      elif (sigma1 == 'I' and sigma2 == 'Z'):\n",
        "        final_sigma += 'Z'\n",
        "      elif (sigma1 == 'Z' and sigma2 == 'I'):\n",
        "        final_sigma += 'Z'\n",
        "      else:\n",
        "        final_sigma += 'I'\n",
        "  return (final_sigma,coef1*coef2)\n",
        "\n",
        "\n",
        "def create_general_hamiltonian_classiq(S):\n",
        "  num_qubits = len(S)\n",
        "  operator = []\n",
        "  sigmas_list = []\n",
        "  for qubit in range(num_qubits):\n",
        "    if qubit == 0:\n",
        "       sigma = \"Z\"\n",
        "    else:\n",
        "       sigma = \"I\"\n",
        "    for i in range(1,num_qubits):\n",
        "      if i == qubit:\n",
        "        sigma = sigma + \"Z\"\n",
        "      else:\n",
        "        sigma = sigma + \"I\"\n",
        "    sigmas_list.append((sigma,S[qubit]))\n",
        "\n",
        "  for i in range(len(sigmas_list)):\n",
        "    for j in range(len(sigmas_list)):\n",
        "      sigma = multiply_ising_models(sigmas_list[i][0], sigmas_list[j][0], sigmas_list[i][1], sigmas_list[j][1])\n",
        "      operator.append(sigma)\n",
        "  return operator \n"
      ]
    },
    {
      "cell_type": "markdown",
      "source": [
        "## Prepare simulator"
      ],
      "metadata": {
        "id": "HKXVTP8p0HKa"
      }
    },
    {
      "cell_type": "code",
      "source": [
        "def define_simulator(simulator_name):\n",
        "    if(simulator_name == \"qasm\" or simulator_name == \"QASM\"):\n",
        "      curr_simulator = \"qasm_simulator\"\n",
        "    else:\n",
        "      curr_simulator = \"aer_simulator_statevector\"\n",
        "    return curr_simulator"
      ],
      "metadata": {
        "id": "GWanBkLTCD88"
      },
      "execution_count": 5,
      "outputs": []
    },
    {
      "cell_type": "code",
      "source": [
        "def define_optimizer(optimizer_name):\n",
        "    if(optimizer_name == \"cobyla\" or optimizer_name == \"COBYLA\"):\n",
        "      curr_optimizer = \"COBYLA\"\n",
        "    else:\n",
        "      curr_optimizer = \"L_BFGS_B\"\n",
        "    return curr_optimizer"
      ],
      "metadata": {
        "id": "XXPi5KKdDG2w"
      },
      "execution_count": 6,
      "outputs": []
    },
    {
      "cell_type": "code",
      "source": [
        "def prepare_simulator_classiq(curr_simulator, curr_optimizer,num_of_qubits=2, anzatz_first_gate = \"x\",anzatz_second_gate = \"ry\"):\n",
        "    NUM_QUBITS = num_of_qubits\n",
        "    FULLY_CONNECTED_MESH = []\n",
        "    for i in range(num_of_qubits-1):\n",
        "        FULLY_CONNECTED_MESH.append([i,i+1])\n",
        "    hwea_params = HardwareEfficientAnsatz(\n",
        "        num_qubits=NUM_QUBITS,\n",
        "        connectivity_map=FULLY_CONNECTED_MESH,\n",
        "        one_qubit_gates=[anzatz_first_gate, anzatz_second_gate],\n",
        "        two_qubit_gates=\"cx\",\n",
        "        reps=3,\n",
        "    )\n",
        "\n",
        "    model_designer = ModelDesigner()\n",
        "    model_designer.HardwareEfficientAnsatz(params=hwea_params)\n",
        "    circuit = model_designer.synthesize()\n",
        "    #circuit.show()\n",
        "    #circuit.draw()\n",
        "    circuit_qasm = circuit.qasm\n",
        "    optimizer_preferences = OptimizerPreferences(\n",
        "        max_iteration=60,\n",
        "        name = curr_optimizer\n",
        "    )\n",
        "\n",
        "    ibm_provider = IBMBackendProvider(\n",
        "        \"insert your data\"\n",
        "    )\n",
        "\n",
        "    backend_preferences = IBMBackendPreferences(\n",
        "        backend_name=curr_simulator,\n",
        "        access_token=\"insert your data\",\n",
        "        provider=ibm_provider,\n",
        "    )\n",
        "\n",
        "    num_shots = 8192\n",
        "\n",
        "    execution_preferences = ExecutionPreferences(\n",
        "        num_shots=num_shots,\n",
        "        backend_preferences=backend_preferences,\n",
        "        optimizer_preferences=optimizer_preferences\n",
        "    )\n",
        "    return execution_preferences, circuit_qasm"
      ],
      "metadata": {
        "id": "mBjluCYWDh9z"
      },
      "execution_count": 7,
      "outputs": []
    },
    {
      "cell_type": "markdown",
      "source": [
        "## compute minimal eigenvalue"
      ],
      "metadata": {
        "id": "iY0un-Is0HKa"
      }
    },
    {
      "cell_type": "code",
      "source": [
        "def minimum_eigenvalue_by_vqe(H):\n",
        "  hamiltonian_problem = HamiltonianMinimizationProblem(\n",
        "      ansatz=QuantumProgram(code=circuit_qasm, syntax=QuantumInstructionSet.QASM),\n",
        "      hamiltonian=H\n",
        "  )\n",
        "  result = Executor(\n",
        "      preferences=execution_preferences\n",
        "  ).execute_hamiltonian_minimization(hamiltonian_problem)\n",
        "  print(\"minimal eigenvalue: \", format(result.energy,\".3f\"))\n",
        "  return result.energy"
      ],
      "metadata": {
        "id": "KglpQYOv0HKa"
      },
      "execution_count": 127,
      "outputs": []
    },
    {
      "cell_type": "markdown",
      "source": [
        "## define parameters"
      ],
      "metadata": {
        "id": "6ojqjmUeOUQQ"
      }
    },
    {
      "cell_type": "code",
      "source": [
        "avg_array_solvable = []\n",
        "avg_array_unsolvable = []\n",
        "avg = 0.0\n",
        "sum = 0\n",
        "entanglement = \"linear\""
      ],
      "metadata": {
        "id": "srvseKbwOJFZ"
      },
      "execution_count": 128,
      "outputs": []
    },
    {
      "cell_type": "markdown",
      "source": [
        "# solvable sets of 2 quibts"
      ],
      "metadata": {
        "id": "j0J_LbFY4ct0"
      }
    },
    {
      "cell_type": "code",
      "execution_count": 129,
      "metadata": {
        "id": "_ysJOh3IfoMj"
      },
      "outputs": [],
      "source": [
        "s1 = [1,1]\n",
        "s2 = [2,2]\n",
        "s3 = [24,24]\n",
        "s4 = [0,0]"
      ]
    },
    {
      "cell_type": "code",
      "source": [
        "sum = 0\n",
        "partitioningProblem = create_general_hamiltonian_classiq(s1)\n",
        "operator= PauliOperator(pauli_list=partitioningProblem)\n",
        "curr_simulator = define_simulator(\"aer_statevector\")\n",
        "curr_optimizer = define_optimizer(\"cobyla\")\n",
        "execution_preferences, circuit_qasm = prepare_simulator_classiq(curr_simulator, curr_optimizer,len(s1) , \"ry\",\"rz\")\n",
        "sum += minimum_eigenvalue_by_vqe(operator)"
      ],
      "metadata": {
        "colab": {
          "base_uri": "https://localhost:8080/"
        },
        "id": "lHd9FYkOsbQb",
        "outputId": "fa95df61-ccba-496e-d692-f5d3f1018372"
      },
      "execution_count": 130,
      "outputs": [
        {
          "output_type": "stream",
          "name": "stdout",
          "text": [
            "minimal eigenvalue:  0.000\n"
          ]
        }
      ]
    },
    {
      "cell_type": "code",
      "source": [
        "partitioningProblem = create_general_hamiltonian_classiq(s2)\n",
        "operator= PauliOperator(pauli_list=partitioningProblem)\n",
        "curr_simulator = define_simulator(\"aer_statevector\")\n",
        "curr_optimizer = define_optimizer(\"cobyla\")\n",
        "execution_preferences, circuit_qasm = prepare_simulator_classiq(curr_simulator, curr_optimizer,len(s2) , \"ry\",\"rz\")\n",
        "sum += minimum_eigenvalue_by_vqe(operator)"
      ],
      "metadata": {
        "colab": {
          "base_uri": "https://localhost:8080/"
        },
        "id": "Hvje_4nzs15Z",
        "outputId": "8c2856ba-aeea-43ba-8f2b-2439688e5f2f"
      },
      "execution_count": 131,
      "outputs": [
        {
          "output_type": "stream",
          "name": "stdout",
          "text": [
            "minimal eigenvalue:  0.000\n"
          ]
        }
      ]
    },
    {
      "cell_type": "code",
      "source": [
        "partitioningProblem = create_general_hamiltonian_classiq(s3)\n",
        "operator= PauliOperator(pauli_list=partitioningProblem)\n",
        "curr_simulator = define_simulator(\"aer_statevector\")\n",
        "curr_optimizer = define_optimizer(\"cobyla\")\n",
        "execution_preferences, circuit_qasm = prepare_simulator_classiq(curr_simulator, curr_optimizer,len(s3) , \"ry\",\"rz\")\n",
        "sum += minimum_eigenvalue_by_vqe(operator)"
      ],
      "metadata": {
        "colab": {
          "base_uri": "https://localhost:8080/"
        },
        "id": "fAziWRlos2VK",
        "outputId": "252aadea-0302-4652-c105-c149a629d659"
      },
      "execution_count": 132,
      "outputs": [
        {
          "output_type": "stream",
          "name": "stdout",
          "text": [
            "minimal eigenvalue:  0.135\n"
          ]
        }
      ]
    },
    {
      "cell_type": "code",
      "source": [
        "partitioningProblem = create_general_hamiltonian_classiq(s4)\n",
        "operator= PauliOperator(pauli_list=partitioningProblem)\n",
        "curr_simulator = define_simulator(\"aer_statevector\")\n",
        "curr_optimizer = define_optimizer(\"cobyla\")\n",
        "execution_preferences, circuit_qasm = prepare_simulator_classiq(curr_simulator, curr_optimizer,len(s4) , \"ry\",\"rz\")\n",
        "sum += minimum_eigenvalue_by_vqe(operator)"
      ],
      "metadata": {
        "colab": {
          "base_uri": "https://localhost:8080/"
        },
        "id": "wsZ4tUBSs2gT",
        "outputId": "dc015db7-50a7-4c64-fe7e-f2fc95061b2b"
      },
      "execution_count": 133,
      "outputs": [
        {
          "output_type": "stream",
          "name": "stdout",
          "text": [
            "minimal eigenvalue:  0.000\n"
          ]
        }
      ]
    },
    {
      "cell_type": "code",
      "source": [
        "avg = sum / 4.0\n",
        "avg_array_solvable.append(avg)"
      ],
      "metadata": {
        "id": "Na5cYlZxO_jA"
      },
      "execution_count": 134,
      "outputs": []
    },
    {
      "cell_type": "markdown",
      "source": [
        "# unsolvable sets of 2 quibts"
      ],
      "metadata": {
        "id": "dhcu23vv5AuC"
      }
    },
    {
      "cell_type": "code",
      "source": [
        "s1 = [0,1]\n",
        "s2 = [1,2]\n",
        "s3 = [2,24]\n",
        "s4 = [23,25]"
      ],
      "metadata": {
        "id": "r17vIVDwgUBw"
      },
      "execution_count": 135,
      "outputs": []
    },
    {
      "cell_type": "code",
      "source": [
        "sum = 0\n",
        "partitioningProblem = create_general_hamiltonian_classiq(s1)\n",
        "operator= PauliOperator(pauli_list=partitioningProblem)\n",
        "curr_simulator = define_simulator(\"aer_statevector\")\n",
        "curr_optimizer = define_optimizer(\"cobyla\")\n",
        "execution_preferences, circuit_qasm = prepare_simulator_classiq(curr_simulator, curr_optimizer,len(s1) , \"ry\",\"rz\")\n",
        "sum += minimum_eigenvalue_by_vqe(operator) -1"
      ],
      "metadata": {
        "colab": {
          "base_uri": "https://localhost:8080/"
        },
        "outputId": "1537217a-1c33-44e2-9271-cb32cc9f919a",
        "id": "B8-0ZB5Vu_Tc"
      },
      "execution_count": 136,
      "outputs": [
        {
          "output_type": "stream",
          "name": "stdout",
          "text": [
            "minimal eigenvalue:  1.000\n"
          ]
        }
      ]
    },
    {
      "cell_type": "code",
      "source": [
        "partitioningProblem = create_general_hamiltonian_classiq(s2)\n",
        "operator= PauliOperator(pauli_list=partitioningProblem)\n",
        "curr_simulator = define_simulator(\"aer_statevector\")\n",
        "curr_optimizer = define_optimizer(\"cobyla\")\n",
        "execution_preferences, circuit_qasm = prepare_simulator_classiq(curr_simulator, curr_optimizer,len(s2) , \"ry\",\"rz\")\n",
        "sum += minimum_eigenvalue_by_vqe(operator) -1"
      ],
      "metadata": {
        "colab": {
          "base_uri": "https://localhost:8080/"
        },
        "outputId": "0e8db54e-a951-47fd-8ece-e2856dbeb2d7",
        "id": "Oy_q1zVNu_Td"
      },
      "execution_count": 137,
      "outputs": [
        {
          "output_type": "stream",
          "name": "stdout",
          "text": [
            "minimal eigenvalue:  1.000\n"
          ]
        }
      ]
    },
    {
      "cell_type": "code",
      "source": [
        "partitioningProblem = create_general_hamiltonian_classiq(s3)\n",
        "operator= PauliOperator(pauli_list=partitioningProblem)\n",
        "curr_simulator = define_simulator(\"aer_statevector\")\n",
        "curr_optimizer = define_optimizer(\"cobyla\")\n",
        "execution_preferences, circuit_qasm = prepare_simulator_classiq(curr_simulator, curr_optimizer,len(s3) , \"ry\",\"rz\")\n",
        "sum += minimum_eigenvalue_by_vqe(operator) - 484"
      ],
      "metadata": {
        "colab": {
          "base_uri": "https://localhost:8080/"
        },
        "outputId": "4771e949-7cff-47fb-c3c4-bbdca33abee5",
        "id": "nEAXF1qCu_Te"
      },
      "execution_count": 138,
      "outputs": [
        {
          "output_type": "stream",
          "name": "stdout",
          "text": [
            "minimal eigenvalue:  484.058\n"
          ]
        }
      ]
    },
    {
      "cell_type": "code",
      "source": [
        "partitioningProblem = create_general_hamiltonian_classiq(s4)\n",
        "operator= PauliOperator(pauli_list=partitioningProblem)\n",
        "curr_simulator = define_simulator(\"aer_statevector\")\n",
        "curr_optimizer = define_optimizer(\"cobyla\")\n",
        "execution_preferences, circuit_qasm = prepare_simulator_classiq(curr_simulator, curr_optimizer,len(s4) , \"ry\",\"rz\")\n",
        "sum += minimum_eigenvalue_by_vqe(operator) - 4"
      ],
      "metadata": {
        "colab": {
          "base_uri": "https://localhost:8080/"
        },
        "outputId": "eeafd616-2a65-436e-db3a-2acb2ce627d5",
        "id": "S8hprH5yu_Te"
      },
      "execution_count": 139,
      "outputs": [
        {
          "output_type": "stream",
          "name": "stdout",
          "text": [
            "minimal eigenvalue:  4.200\n"
          ]
        }
      ]
    },
    {
      "cell_type": "code",
      "source": [
        "avg = sum / 4.0\n",
        "avg_array_unsolvable.append(avg)"
      ],
      "metadata": {
        "id": "7OCRZBSEu_Te"
      },
      "execution_count": 140,
      "outputs": []
    },
    {
      "cell_type": "markdown",
      "source": [
        "# solvable sets of 3 quibts"
      ],
      "metadata": {
        "id": "wf84iQs54mFS"
      }
    },
    {
      "cell_type": "code",
      "source": [
        "s1 = [0,1,1]\n",
        "s2 = [1,3,2]\n",
        "s3 = [7,4,3]\n",
        "s4 = [40,20,60]"
      ],
      "metadata": {
        "id": "lJioxnJBgphc"
      },
      "execution_count": 141,
      "outputs": []
    },
    {
      "cell_type": "code",
      "source": [
        "sum = 0\n",
        "partitioningProblem = create_general_hamiltonian_classiq(s1)\n",
        "operator= PauliOperator(pauli_list=partitioningProblem)\n",
        "curr_simulator = define_simulator(\"aer_statevector\")\n",
        "curr_optimizer = define_optimizer(\"cobyla\")\n",
        "execution_preferences, circuit_qasm = prepare_simulator_classiq(curr_simulator, curr_optimizer,len(s1) , \"ry\",\"rz\")\n",
        "sum += minimum_eigenvalue_by_vqe(operator)"
      ],
      "metadata": {
        "colab": {
          "base_uri": "https://localhost:8080/"
        },
        "outputId": "26c7ef06-29bf-4124-d41c-8e05c3727ce5",
        "id": "2OkWrhmzucZz"
      },
      "execution_count": 142,
      "outputs": [
        {
          "output_type": "stream",
          "name": "stdout",
          "text": [
            "minimal eigenvalue:  0.047\n"
          ]
        }
      ]
    },
    {
      "cell_type": "code",
      "source": [
        "partitioningProblem = create_general_hamiltonian_classiq(s2)\n",
        "operator= PauliOperator(pauli_list=partitioningProblem)\n",
        "curr_simulator = define_simulator(\"aer_statevector\")\n",
        "curr_optimizer = define_optimizer(\"cobyla\")\n",
        "execution_preferences, circuit_qasm = prepare_simulator_classiq(curr_simulator, curr_optimizer,len(s2) , \"ry\",\"rz\")\n",
        "sum += minimum_eigenvalue_by_vqe(operator)"
      ],
      "metadata": {
        "colab": {
          "base_uri": "https://localhost:8080/"
        },
        "outputId": "1e43b44c-f54e-422a-e60d-ae30c1492819",
        "id": "wLzapGk_ucZ0"
      },
      "execution_count": 143,
      "outputs": [
        {
          "output_type": "stream",
          "name": "stdout",
          "text": [
            "minimal eigenvalue:  0.385\n"
          ]
        }
      ]
    },
    {
      "cell_type": "code",
      "source": [
        "partitioningProblem = create_general_hamiltonian_classiq(s3)\n",
        "operator= PauliOperator(pauli_list=partitioningProblem)\n",
        "curr_simulator = define_simulator(\"aer_statevector\")\n",
        "curr_optimizer = define_optimizer(\"cobyla\")\n",
        "execution_preferences, circuit_qasm = prepare_simulator_classiq(curr_simulator, curr_optimizer,len(s3) , \"ry\",\"rz\")\n",
        "sum += minimum_eigenvalue_by_vqe(operator)"
      ],
      "metadata": {
        "colab": {
          "base_uri": "https://localhost:8080/"
        },
        "outputId": "e85a504f-6722-4c4e-aa79-4a48f614a4f4",
        "id": "fSVjka0BucZ0"
      },
      "execution_count": 144,
      "outputs": [
        {
          "output_type": "stream",
          "name": "stdout",
          "text": [
            "minimal eigenvalue:  12.210\n"
          ]
        }
      ]
    },
    {
      "cell_type": "code",
      "source": [
        "partitioningProblem = create_general_hamiltonian_classiq(s4)\n",
        "operator= PauliOperator(pauli_list=partitioningProblem)\n",
        "curr_simulator = define_simulator(\"aer_statevector\")\n",
        "curr_optimizer = define_optimizer(\"cobyla\")\n",
        "execution_preferences, circuit_qasm = prepare_simulator_classiq(curr_simulator, curr_optimizer,len(s4) , \"ry\",\"rz\")\n",
        "sum += minimum_eigenvalue_by_vqe(operator)"
      ],
      "metadata": {
        "colab": {
          "base_uri": "https://localhost:8080/"
        },
        "outputId": "b85057d9-d8b0-4d27-8403-caf9870e261b",
        "id": "8o3bX5CFucZ0"
      },
      "execution_count": 145,
      "outputs": [
        {
          "output_type": "stream",
          "name": "stdout",
          "text": [
            "minimal eigenvalue:  233.980\n"
          ]
        }
      ]
    },
    {
      "cell_type": "code",
      "source": [
        "avg = sum / 4.0\n",
        "avg_array_solvable.append(avg)"
      ],
      "metadata": {
        "id": "tkKPe1HpucZ0"
      },
      "execution_count": 146,
      "outputs": []
    },
    {
      "cell_type": "markdown",
      "source": [
        "# unsolvable sets of 3 quibts"
      ],
      "metadata": {
        "id": "igZcO2yr5FhP"
      }
    },
    {
      "cell_type": "code",
      "source": [
        "s1 = [1,1,1]\n",
        "s2 = [1,4,6]\n",
        "s3 = [13,1,11]\n",
        "s4 = [21,56,87]"
      ],
      "metadata": {
        "id": "AyQYLUBQhMdj"
      },
      "execution_count": 147,
      "outputs": []
    },
    {
      "cell_type": "code",
      "source": [
        "sum = 0\n",
        "partitioningProblem = create_general_hamiltonian_classiq(s1)\n",
        "operator= PauliOperator(pauli_list=partitioningProblem)\n",
        "curr_simulator = define_simulator(\"aer_statevector\")\n",
        "curr_optimizer = define_optimizer(\"cobyla\")\n",
        "execution_preferences, circuit_qasm = prepare_simulator_classiq(curr_simulator, curr_optimizer,len(s1) , \"ry\",\"rz\")\n",
        "sum += minimum_eigenvalue_by_vqe(operator) - 1"
      ],
      "metadata": {
        "colab": {
          "base_uri": "https://localhost:8080/"
        },
        "outputId": "a545be64-0fb8-4bb5-fdbb-97262fc9f7ef",
        "id": "S7EuoWkXvMx5"
      },
      "execution_count": 148,
      "outputs": [
        {
          "output_type": "stream",
          "name": "stdout",
          "text": [
            "minimal eigenvalue:  1.024\n"
          ]
        }
      ]
    },
    {
      "cell_type": "code",
      "source": [
        "partitioningProblem = create_general_hamiltonian_classiq(s2)\n",
        "operator= PauliOperator(pauli_list=partitioningProblem)\n",
        "curr_simulator = define_simulator(\"aer_statevector\")\n",
        "curr_optimizer = define_optimizer(\"cobyla\")\n",
        "execution_preferences, circuit_qasm = prepare_simulator_classiq(curr_simulator, curr_optimizer,len(s2) , \"ry\",\"rz\")\n",
        "sum += minimum_eigenvalue_by_vqe(operator) -1"
      ],
      "metadata": {
        "colab": {
          "base_uri": "https://localhost:8080/"
        },
        "outputId": "c5de6ab4-72e3-4adf-c93a-ed50b2a1f1de",
        "id": "D5zk9M0svMx6"
      },
      "execution_count": 149,
      "outputs": [
        {
          "output_type": "stream",
          "name": "stdout",
          "text": [
            "minimal eigenvalue:  6.532\n"
          ]
        }
      ]
    },
    {
      "cell_type": "code",
      "source": [
        "partitioningProblem = create_general_hamiltonian_classiq(s3)\n",
        "operator= PauliOperator(pauli_list=partitioningProblem)\n",
        "curr_simulator = define_simulator(\"aer_statevector\")\n",
        "curr_optimizer = define_optimizer(\"cobyla\")\n",
        "execution_preferences, circuit_qasm = prepare_simulator_classiq(curr_simulator, curr_optimizer,len(s3) , \"ry\",\"rz\")\n",
        "sum += minimum_eigenvalue_by_vqe(operator) -1"
      ],
      "metadata": {
        "colab": {
          "base_uri": "https://localhost:8080/"
        },
        "outputId": "7ca946fa-c2f3-43d4-b1d8-4671a08547d0",
        "id": "7eY7Ob2xvMx6"
      },
      "execution_count": 150,
      "outputs": [
        {
          "output_type": "stream",
          "name": "stdout",
          "text": [
            "minimal eigenvalue:  10.364\n"
          ]
        }
      ]
    },
    {
      "cell_type": "code",
      "source": [
        "partitioningProblem = create_general_hamiltonian_classiq(s4)\n",
        "operator= PauliOperator(pauli_list=partitioningProblem)\n",
        "curr_simulator = define_simulator(\"aer_statevector\")\n",
        "curr_optimizer = define_optimizer(\"cobyla\")\n",
        "execution_preferences, circuit_qasm = prepare_simulator_classiq(curr_simulator, curr_optimizer,len(s4) , \"ry\",\"rz\")\n",
        "sum += minimum_eigenvalue_by_vqe(operator) -100"
      ],
      "metadata": {
        "colab": {
          "base_uri": "https://localhost:8080/"
        },
        "outputId": "abff6ad1-64bb-4cb1-986a-e7717b246cfb",
        "id": "MBy_J_cCvMx6"
      },
      "execution_count": 151,
      "outputs": [
        {
          "output_type": "stream",
          "name": "stdout",
          "text": [
            "minimal eigenvalue:  1859.801\n"
          ]
        }
      ]
    },
    {
      "cell_type": "code",
      "source": [
        "avg = sum / 4.0\n",
        "avg_array_unsolvable.append(avg)"
      ],
      "metadata": {
        "id": "VzXDXUF9vMx6"
      },
      "execution_count": 152,
      "outputs": []
    },
    {
      "cell_type": "markdown",
      "source": [
        "# solvable sets of 4 quibts"
      ],
      "metadata": {
        "id": "Gx_XN7474ohv"
      }
    },
    {
      "cell_type": "code",
      "source": [
        "s1 = [1,6,2,3]\n",
        "s2 = [8,2,4,2]\n",
        "s3 = [14,7,3,4]\n",
        "s4 = [7,1,5,3]"
      ],
      "metadata": {
        "id": "OWXcqqz07lDt"
      },
      "execution_count": 153,
      "outputs": []
    },
    {
      "cell_type": "code",
      "source": [
        "sum = 0\n",
        "partitioningProblem = create_general_hamiltonian_classiq(s1)\n",
        "operator= PauliOperator(pauli_list=partitioningProblem)\n",
        "curr_simulator = define_simulator(\"aer_statevector\")\n",
        "curr_optimizer = define_optimizer(\"cobyla\")\n",
        "execution_preferences, circuit_qasm = prepare_simulator_classiq(curr_simulator, curr_optimizer,len(s1) , \"ry\",\"rz\")\n",
        "sum += minimum_eigenvalue_by_vqe(operator)"
      ],
      "metadata": {
        "colab": {
          "base_uri": "https://localhost:8080/"
        },
        "outputId": "67dd6db0-0634-4b28-eb78-00de6cbd3e71",
        "id": "nYlrsriSug4v"
      },
      "execution_count": 154,
      "outputs": [
        {
          "output_type": "stream",
          "name": "stdout",
          "text": [
            "minimal eigenvalue:  6.928\n"
          ]
        }
      ]
    },
    {
      "cell_type": "code",
      "source": [
        "partitioningProblem = create_general_hamiltonian_classiq(s2)\n",
        "operator= PauliOperator(pauli_list=partitioningProblem)\n",
        "curr_simulator = define_simulator(\"aer_statevector\")\n",
        "curr_optimizer = define_optimizer(\"cobyla\")\n",
        "execution_preferences, circuit_qasm = prepare_simulator_classiq(curr_simulator, curr_optimizer,len(s2) , \"ry\",\"rz\")\n",
        "sum += minimum_eigenvalue_by_vqe(operator)"
      ],
      "metadata": {
        "colab": {
          "base_uri": "https://localhost:8080/"
        },
        "outputId": "755b623f-56bf-4ebb-8b4c-b3adcf25f3fc",
        "id": "1wIBgqxwug4w"
      },
      "execution_count": 155,
      "outputs": [
        {
          "output_type": "stream",
          "name": "stdout",
          "text": [
            "minimal eigenvalue:  26.488\n"
          ]
        }
      ]
    },
    {
      "cell_type": "code",
      "source": [
        "partitioningProblem = create_general_hamiltonian_classiq(s3)\n",
        "operator= PauliOperator(pauli_list=partitioningProblem)\n",
        "curr_simulator = define_simulator(\"aer_statevector\")\n",
        "curr_optimizer = define_optimizer(\"cobyla\")\n",
        "execution_preferences, circuit_qasm = prepare_simulator_classiq(curr_simulator, curr_optimizer,len(s3) , \"ry\",\"rz\")\n",
        "sum += minimum_eigenvalue_by_vqe(operator)"
      ],
      "metadata": {
        "colab": {
          "base_uri": "https://localhost:8080/"
        },
        "outputId": "b587a217-2835-44cd-8a88-a3cd478bd0d9",
        "id": "l2V6Z-A-ug4w"
      },
      "execution_count": 156,
      "outputs": [
        {
          "output_type": "stream",
          "name": "stdout",
          "text": [
            "minimal eigenvalue:  56.462\n"
          ]
        }
      ]
    },
    {
      "cell_type": "code",
      "source": [
        "partitioningProblem = create_general_hamiltonian_classiq(s4)\n",
        "operator= PauliOperator(pauli_list=partitioningProblem)\n",
        "curr_simulator = define_simulator(\"aer_statevector\")\n",
        "curr_optimizer = define_optimizer(\"cobyla\")\n",
        "execution_preferences, circuit_qasm = prepare_simulator_classiq(curr_simulator, curr_optimizer,len(s4) , \"ry\",\"rz\")\n",
        "sum += minimum_eigenvalue_by_vqe(operator)"
      ],
      "metadata": {
        "colab": {
          "base_uri": "https://localhost:8080/"
        },
        "outputId": "e6d887a2-7bb7-4ad4-ecc3-c007066bbed6",
        "id": "nVrTAag3ug4x"
      },
      "execution_count": 157,
      "outputs": [
        {
          "output_type": "stream",
          "name": "stdout",
          "text": [
            "minimal eigenvalue:  18.849\n"
          ]
        }
      ]
    },
    {
      "cell_type": "code",
      "source": [
        "avg = sum / 4.0\n",
        "avg_array_solvable.append(avg)"
      ],
      "metadata": {
        "id": "jf7ol-oBug4x"
      },
      "execution_count": 158,
      "outputs": []
    },
    {
      "cell_type": "markdown",
      "source": [
        "# unsolvable sets of 4 quibts"
      ],
      "metadata": {
        "id": "FVP0B6oN5GXw"
      }
    },
    {
      "cell_type": "code",
      "source": [
        "s1 = [1,5,3,2]\n",
        "s2 = [8,6,4,5]\n",
        "s3 = [14,7,5,4]\n",
        "s4 = [7,3,4,3]"
      ],
      "metadata": {
        "id": "datmEbqJ8XLZ"
      },
      "execution_count": 159,
      "outputs": []
    },
    {
      "cell_type": "code",
      "source": [
        "sum = 0\n",
        "partitioningProblem = create_general_hamiltonian_classiq(s1)\n",
        "operator= PauliOperator(pauli_list=partitioningProblem)\n",
        "curr_simulator = define_simulator(\"aer_statevector\")\n",
        "curr_optimizer = define_optimizer(\"cobyla\")\n",
        "execution_preferences, circuit_qasm = prepare_simulator_classiq(curr_simulator, curr_optimizer,len(s1) , \"ry\",\"rz\") \n",
        "sum += minimum_eigenvalue_by_vqe(operator)-1"
      ],
      "metadata": {
        "colab": {
          "base_uri": "https://localhost:8080/"
        },
        "outputId": "b49b5909-51cb-4e2b-f2a5-7e596c0bd003",
        "id": "KfqzCflFvXsB"
      },
      "execution_count": 160,
      "outputs": [
        {
          "output_type": "stream",
          "name": "stdout",
          "text": [
            "minimal eigenvalue:  5.614\n"
          ]
        }
      ]
    },
    {
      "cell_type": "code",
      "source": [
        "partitioningProblem = create_general_hamiltonian_classiq(s2)\n",
        "operator= PauliOperator(pauli_list=partitioningProblem)\n",
        "curr_simulator = define_simulator(\"aer_statevector\")\n",
        "curr_optimizer = define_optimizer(\"cobyla\")\n",
        "execution_preferences, circuit_qasm = prepare_simulator_classiq(curr_simulator, curr_optimizer,len(s2) , \"ry\",\"rz\")\n",
        "sum += minimum_eigenvalue_by_vqe(operator)-9"
      ],
      "metadata": {
        "colab": {
          "base_uri": "https://localhost:8080/"
        },
        "outputId": "0d064db4-1c3b-4b2f-b83d-d93d893600cb",
        "id": "8ERweKfXvXsC"
      },
      "execution_count": 161,
      "outputs": [
        {
          "output_type": "stream",
          "name": "stdout",
          "text": [
            "minimal eigenvalue:  29.255\n"
          ]
        }
      ]
    },
    {
      "cell_type": "code",
      "source": [
        "partitioningProblem = create_general_hamiltonian_classiq(s3)\n",
        "operator= PauliOperator(pauli_list=partitioningProblem)\n",
        "curr_simulator = define_simulator(\"aer_statevector\")\n",
        "curr_optimizer = define_optimizer(\"cobyla\")\n",
        "execution_preferences, circuit_qasm = prepare_simulator_classiq(curr_simulator, curr_optimizer,len(s3) , \"ry\",\"rz\")\n",
        "sum += minimum_eigenvalue_by_vqe(operator)-4"
      ],
      "metadata": {
        "colab": {
          "base_uri": "https://localhost:8080/"
        },
        "outputId": "d206eb11-db6c-4119-81dd-9d489496abc0",
        "id": "QeLx7LD6vXsC"
      },
      "execution_count": 162,
      "outputs": [
        {
          "output_type": "stream",
          "name": "stdout",
          "text": [
            "minimal eigenvalue:  67.780\n"
          ]
        }
      ]
    },
    {
      "cell_type": "code",
      "source": [
        "partitioningProblem = create_general_hamiltonian_classiq(s4)\n",
        "operator= PauliOperator(pauli_list=partitioningProblem)\n",
        "curr_simulator = define_simulator(\"aer_statevector\")\n",
        "curr_optimizer = define_optimizer(\"cobyla\")\n",
        "execution_preferences, circuit_qasm = prepare_simulator_classiq(curr_simulator, curr_optimizer,len(s4) , \"ry\",\"rz\")\n",
        "sum += minimum_eigenvalue_by_vqe(operator)-9"
      ],
      "metadata": {
        "colab": {
          "base_uri": "https://localhost:8080/"
        },
        "outputId": "bace2b17-4792-46ce-9827-d5b2b7bf4585",
        "id": "dR0FYy59vXsC"
      },
      "execution_count": 163,
      "outputs": [
        {
          "output_type": "stream",
          "name": "stdout",
          "text": [
            "minimal eigenvalue:  21.721\n"
          ]
        }
      ]
    },
    {
      "cell_type": "code",
      "source": [
        "avg = sum / 4.0\n",
        "avg_array_unsolvable.append(avg)"
      ],
      "metadata": {
        "id": "wSFb2cmVvXsD"
      },
      "execution_count": 164,
      "outputs": []
    },
    {
      "cell_type": "markdown",
      "source": [
        "# solvable sets of 5 quibts"
      ],
      "metadata": {
        "id": "SVrK_V884r3n"
      }
    },
    {
      "cell_type": "code",
      "source": [
        "s1 = [2,3,5,4,6]\n",
        "s2 = [5,3,5,10,3]\n",
        "s3 = [4,7,3,7,7]\n",
        "s4 = [1,5,3,4,5]"
      ],
      "metadata": {
        "id": "qDOaS1rH8qgo"
      },
      "execution_count": 165,
      "outputs": []
    },
    {
      "cell_type": "code",
      "source": [
        "sum = 0\n",
        "partitioningProblem = create_general_hamiltonian_classiq(s1)\n",
        "operator= PauliOperator(pauli_list=partitioningProblem)\n",
        "curr_simulator = define_simulator(\"aer_statevector\")\n",
        "curr_optimizer = define_optimizer(\"cobyla\")\n",
        "execution_preferences, circuit_qasm = prepare_simulator_classiq(curr_simulator, curr_optimizer,len(s1) , \"ry\",\"rz\")\n",
        "sum += minimum_eigenvalue_by_vqe(operator)"
      ],
      "metadata": {
        "colab": {
          "base_uri": "https://localhost:8080/"
        },
        "outputId": "a818c3f6-ec7a-49b9-be24-162a823448b4",
        "id": "8phWpLPxulT3"
      },
      "execution_count": 166,
      "outputs": [
        {
          "output_type": "stream",
          "name": "stdout",
          "text": [
            "minimal eigenvalue:  19.327\n"
          ]
        }
      ]
    },
    {
      "cell_type": "code",
      "source": [
        "partitioningProblem = create_general_hamiltonian_classiq(s2)\n",
        "operator= PauliOperator(pauli_list=partitioningProblem)\n",
        "curr_simulator = define_simulator(\"aer_statevector\")\n",
        "curr_optimizer = define_optimizer(\"cobyla\")\n",
        "execution_preferences, circuit_qasm = prepare_simulator_classiq(curr_simulator, curr_optimizer,len(s2) , \"ry\",\"rz\")\n",
        "sum += minimum_eigenvalue_by_vqe(operator)"
      ],
      "metadata": {
        "colab": {
          "base_uri": "https://localhost:8080/"
        },
        "outputId": "2002eedb-c955-4ec0-e51b-55c6ecc2c135",
        "id": "nZgvmgXEulT4"
      },
      "execution_count": 167,
      "outputs": [
        {
          "output_type": "stream",
          "name": "stdout",
          "text": [
            "minimal eigenvalue:  15.700\n"
          ]
        }
      ]
    },
    {
      "cell_type": "code",
      "source": [
        "partitioningProblem = create_general_hamiltonian_classiq(s3)\n",
        "operator= PauliOperator(pauli_list=partitioningProblem)\n",
        "curr_simulator = define_simulator(\"aer_statevector\")\n",
        "curr_optimizer = define_optimizer(\"cobyla\")\n",
        "execution_preferences, circuit_qasm = prepare_simulator_classiq(curr_simulator, curr_optimizer,len(s3) , \"ry\",\"rz\")\n",
        "sum += minimum_eigenvalue_by_vqe(operator)"
      ],
      "metadata": {
        "colab": {
          "base_uri": "https://localhost:8080/"
        },
        "outputId": "0e75d364-dba2-4ed1-c144-3f217508c9f1",
        "id": "XSExpz-2ulT4"
      },
      "execution_count": 168,
      "outputs": [
        {
          "output_type": "stream",
          "name": "stdout",
          "text": [
            "minimal eigenvalue:  33.066\n"
          ]
        }
      ]
    },
    {
      "cell_type": "code",
      "source": [
        "partitioningProblem = create_general_hamiltonian_classiq(s4)\n",
        "operator= PauliOperator(pauli_list=partitioningProblem)\n",
        "curr_simulator = define_simulator(\"aer_statevector\")\n",
        "curr_optimizer = define_optimizer(\"cobyla\")\n",
        "execution_preferences, circuit_qasm = prepare_simulator_classiq(curr_simulator, curr_optimizer,len(s4) , \"ry\",\"rz\")\n",
        "sum += minimum_eigenvalue_by_vqe(operator)"
      ],
      "metadata": {
        "colab": {
          "base_uri": "https://localhost:8080/"
        },
        "outputId": "505a2dfb-e458-4ba9-a36e-e9c9b1324b77",
        "id": "m-b5FEl4ulT4"
      },
      "execution_count": 169,
      "outputs": [
        {
          "output_type": "stream",
          "name": "stdout",
          "text": [
            "minimal eigenvalue:  19.517\n"
          ]
        }
      ]
    },
    {
      "cell_type": "code",
      "source": [
        "avg = sum / 4.0\n",
        "avg_array_solvable.append(avg)"
      ],
      "metadata": {
        "id": "jnsU8eGUulT5"
      },
      "execution_count": 170,
      "outputs": []
    },
    {
      "cell_type": "markdown",
      "source": [
        "# unsolvable sets of 5 quibts"
      ],
      "metadata": {
        "id": "WblrL1Y25KWY"
      }
    },
    {
      "cell_type": "code",
      "source": [
        "s1 = [4,3,5,5,6]\n",
        "s2 = [5,4,4,10,2]\n",
        "s3 = [4,7,3,13,2]\n",
        "s4 = [2,4,4,4,5]"
      ],
      "metadata": {
        "id": "FCSBVlk99Gem"
      },
      "execution_count": 171,
      "outputs": []
    },
    {
      "cell_type": "code",
      "source": [
        "sum = 0\n",
        "partitioningProblem = create_general_hamiltonian_classiq(s1)\n",
        "operator= PauliOperator(pauli_list=partitioningProblem)\n",
        "curr_simulator = define_simulator(\"aer_statevector\")\n",
        "curr_optimizer = define_optimizer(\"cobyla\")\n",
        "execution_preferences, circuit_qasm = prepare_simulator_classiq(curr_simulator, curr_optimizer,len(s1) , \"ry\",\"rz\")\n",
        "sum += minimum_eigenvalue_by_vqe(operator)-1"
      ],
      "metadata": {
        "colab": {
          "base_uri": "https://localhost:8080/"
        },
        "outputId": "5d652345-6f41-4683-aeff-b1ca59717753",
        "id": "I9rCDUWSvpSG"
      },
      "execution_count": 172,
      "outputs": [
        {
          "output_type": "stream",
          "name": "stdout",
          "text": [
            "minimal eigenvalue:  22.580\n"
          ]
        }
      ]
    },
    {
      "cell_type": "code",
      "source": [
        "partitioningProblem = create_general_hamiltonian_classiq(s2)\n",
        "operator= PauliOperator(pauli_list=partitioningProblem)\n",
        "curr_simulator = define_simulator(\"aer_statevector\")\n",
        "curr_optimizer = define_optimizer(\"cobyla\")\n",
        "execution_preferences, circuit_qasm = prepare_simulator_classiq(curr_simulator, curr_optimizer,len(s2) , \"ry\",\"rz\")\n",
        "sum += minimum_eigenvalue_by_vqe(operator)-1"
      ],
      "metadata": {
        "colab": {
          "base_uri": "https://localhost:8080/"
        },
        "outputId": "5b5a2eab-2c95-4a5e-db6a-bf89377cd674",
        "id": "zFHomFyrvpSH"
      },
      "execution_count": 173,
      "outputs": [
        {
          "output_type": "stream",
          "name": "stdout",
          "text": [
            "minimal eigenvalue:  31.873\n"
          ]
        }
      ]
    },
    {
      "cell_type": "code",
      "source": [
        "partitioningProblem = create_general_hamiltonian_classiq(s3)\n",
        "operator= PauliOperator(pauli_list=partitioningProblem)\n",
        "curr_simulator = define_simulator(\"aer_statevector\")\n",
        "curr_optimizer = define_optimizer(\"cobyla\")\n",
        "execution_preferences, circuit_qasm = prepare_simulator_classiq(curr_simulator, curr_optimizer,len(s3) , \"ry\",\"rz\")\n",
        "sum += minimum_eigenvalue_by_vqe(operator)-1"
      ],
      "metadata": {
        "colab": {
          "base_uri": "https://localhost:8080/"
        },
        "outputId": "a20c6dc1-3e8e-4ca9-e090-42aa8d298c7e",
        "id": "zSIAXs6bvpSH"
      },
      "execution_count": 174,
      "outputs": [
        {
          "output_type": "stream",
          "name": "stdout",
          "text": [
            "minimal eigenvalue:  42.704\n"
          ]
        }
      ]
    },
    {
      "cell_type": "code",
      "source": [
        "partitioningProblem = create_general_hamiltonian_classiq(s4)\n",
        "operator= PauliOperator(pauli_list=partitioningProblem)\n",
        "curr_simulator = define_simulator(\"aer_statevector\")\n",
        "curr_optimizer = define_optimizer(\"cobyla\")\n",
        "execution_preferences, circuit_qasm = prepare_simulator_classiq(curr_simulator, curr_optimizer,len(s4) , \"ry\",\"rz\")\n",
        "sum += minimum_eigenvalue_by_vqe(operator)-1"
      ],
      "metadata": {
        "colab": {
          "base_uri": "https://localhost:8080/"
        },
        "outputId": "9b64751f-74d6-4f6e-f3cd-642b8086a755",
        "id": "VotFLyQhvpSH"
      },
      "execution_count": 175,
      "outputs": [
        {
          "output_type": "stream",
          "name": "stdout",
          "text": [
            "minimal eigenvalue:  14.699\n"
          ]
        }
      ]
    },
    {
      "cell_type": "code",
      "source": [
        "avg = sum / 4.0\n",
        "avg_array_unsolvable.append(avg)"
      ],
      "metadata": {
        "id": "JVXgLYzbvpSI"
      },
      "execution_count": 176,
      "outputs": []
    },
    {
      "cell_type": "markdown",
      "source": [
        "# solvable sets of 6 quibts"
      ],
      "metadata": {
        "id": "tVovid9l4ucW"
      }
    },
    {
      "cell_type": "code",
      "source": [
        "s1 = [4,5,3,4,4,4]\n",
        "s2 = [7,5,7,9,9,1]\n",
        "s3 = [8,1,2,5,1,5]\n",
        "s4 = [4,7,4,5,5,5]"
      ],
      "metadata": {
        "id": "rUviXpjP9kKT"
      },
      "execution_count": 177,
      "outputs": []
    },
    {
      "cell_type": "code",
      "source": [
        "sum = 0\n",
        "partitioningProblem = create_general_hamiltonian_classiq(s1)\n",
        "operator= PauliOperator(pauli_list=partitioningProblem)\n",
        "curr_simulator = define_simulator(\"aer_statevector\")\n",
        "curr_optimizer = define_optimizer(\"cobyla\")\n",
        "execution_preferences, circuit_qasm = prepare_simulator_classiq(curr_simulator, curr_optimizer,len(s1) , \"ry\",\"rz\")\n",
        "sum += minimum_eigenvalue_by_vqe(operator)"
      ],
      "metadata": {
        "colab": {
          "base_uri": "https://localhost:8080/"
        },
        "outputId": "fda22212-254a-4fe0-fa3a-9c8bcf32d79c",
        "id": "GHz902pZuop8"
      },
      "execution_count": 178,
      "outputs": [
        {
          "output_type": "stream",
          "name": "stdout",
          "text": [
            "minimal eigenvalue:  20.507\n"
          ]
        }
      ]
    },
    {
      "cell_type": "code",
      "source": [
        "partitioningProblem = create_general_hamiltonian_classiq(s2)\n",
        "operator= PauliOperator(pauli_list=partitioningProblem)\n",
        "curr_simulator = define_simulator(\"aer_statevector\")\n",
        "curr_optimizer = define_optimizer(\"cobyla\")\n",
        "execution_preferences, circuit_qasm = prepare_simulator_classiq(curr_simulator, curr_optimizer,len(s2) , \"ry\",\"rz\")\n",
        "sum += minimum_eigenvalue_by_vqe(operator)"
      ],
      "metadata": {
        "colab": {
          "base_uri": "https://localhost:8080/"
        },
        "outputId": "53b76327-db0a-4930-d299-e4783d12cd6a",
        "id": "qsnXDMcyuop9"
      },
      "execution_count": 179,
      "outputs": [
        {
          "output_type": "stream",
          "name": "stdout",
          "text": [
            "minimal eigenvalue:  77.881\n"
          ]
        }
      ]
    },
    {
      "cell_type": "code",
      "source": [
        "partitioningProblem = create_general_hamiltonian_classiq(s3)\n",
        "operator= PauliOperator(pauli_list=partitioningProblem)\n",
        "curr_simulator = define_simulator(\"aer_statevector\")\n",
        "curr_optimizer = define_optimizer(\"cobyla\")\n",
        "execution_preferences, circuit_qasm = prepare_simulator_classiq(curr_simulator, curr_optimizer,len(s3) , \"ry\",\"rz\")\n",
        "sum += minimum_eigenvalue_by_vqe(operator)"
      ],
      "metadata": {
        "colab": {
          "base_uri": "https://localhost:8080/"
        },
        "outputId": "76d005cc-4b90-42b3-9188-15011cb987be",
        "id": "0KCO4LeDuop-"
      },
      "execution_count": 180,
      "outputs": [
        {
          "output_type": "stream",
          "name": "stdout",
          "text": [
            "minimal eigenvalue:  36.759\n"
          ]
        }
      ]
    },
    {
      "cell_type": "code",
      "source": [
        "partitioningProblem = create_general_hamiltonian_classiq(s4)\n",
        "operator= PauliOperator(pauli_list=partitioningProblem)\n",
        "curr_simulator = define_simulator(\"aer_statevector\")\n",
        "curr_optimizer = define_optimizer(\"cobyla\")\n",
        "execution_preferences, circuit_qasm = prepare_simulator_classiq(curr_simulator, curr_optimizer,len(s4) , \"ry\",\"rz\")\n",
        "sum += minimum_eigenvalue_by_vqe(operator)"
      ],
      "metadata": {
        "colab": {
          "base_uri": "https://localhost:8080/"
        },
        "outputId": "aa2c38a9-0e70-477f-cbfb-5043b798dd31",
        "id": "AbSYF0Icuop-"
      },
      "execution_count": 181,
      "outputs": [
        {
          "output_type": "stream",
          "name": "stdout",
          "text": [
            "minimal eigenvalue:  41.878\n"
          ]
        }
      ]
    },
    {
      "cell_type": "code",
      "source": [
        "avg = sum / 4.0\n",
        "avg_array_solvable.append(avg)"
      ],
      "metadata": {
        "id": "P6OJ-1JZuop-"
      },
      "execution_count": 182,
      "outputs": []
    },
    {
      "cell_type": "markdown",
      "source": [
        "# unsolvable sets of 6 quibts"
      ],
      "metadata": {
        "id": "a-fA7dDm5Nbc"
      }
    },
    {
      "cell_type": "code",
      "source": [
        "s1 = [3,6,3,4,5,4]\n",
        "s2 = [6,5,8,9,8,1]\n",
        "s3 = [7,2,2,6,2,4]\n",
        "s4 = [6,7,2,5,4,5]"
      ],
      "metadata": {
        "id": "I0kv4RdD-Uil"
      },
      "execution_count": 183,
      "outputs": []
    },
    {
      "cell_type": "code",
      "source": [
        "sum = 0\n",
        "partitioningProblem = create_general_hamiltonian_classiq(s1)\n",
        "operator= PauliOperator(pauli_list=partitioningProblem)\n",
        "curr_simulator = define_simulator(\"aer_statevector\")\n",
        "curr_optimizer = define_optimizer(\"cobyla\")\n",
        "execution_preferences, circuit_qasm = prepare_simulator_classiq(curr_simulator, curr_optimizer,len(s1) , \"ry\",\"rz\")\n",
        "sum += minimum_eigenvalue_by_vqe(operator)-1"
      ],
      "metadata": {
        "colab": {
          "base_uri": "https://localhost:8080/"
        },
        "outputId": "3f74f0a8-5d34-4e05-a99c-8f9d3a4ee156",
        "id": "EXGI6VdUvvbJ"
      },
      "execution_count": 184,
      "outputs": [
        {
          "output_type": "stream",
          "name": "stdout",
          "text": [
            "minimal eigenvalue:  43.699\n"
          ]
        }
      ]
    },
    {
      "cell_type": "code",
      "source": [
        "partitioningProblem = create_general_hamiltonian_classiq(s2)\n",
        "operator= PauliOperator(pauli_list=partitioningProblem)\n",
        "curr_simulator = define_simulator(\"aer_statevector\")\n",
        "curr_optimizer = define_optimizer(\"cobyla\")\n",
        "execution_preferences, circuit_qasm = prepare_simulator_classiq(curr_simulator, curr_optimizer,len(s2) , \"ry\",\"rz\")\n",
        "sum += minimum_eigenvalue_by_vqe(operator)-1"
      ],
      "metadata": {
        "colab": {
          "base_uri": "https://localhost:8080/"
        },
        "outputId": "1f2c1257-daa9-4e13-ae28-9d44415ffd27",
        "id": "JhOs1PXJvvbJ"
      },
      "execution_count": 185,
      "outputs": [
        {
          "output_type": "stream",
          "name": "stdout",
          "text": [
            "minimal eigenvalue:  74.760\n"
          ]
        }
      ]
    },
    {
      "cell_type": "code",
      "source": [
        "partitioningProblem = create_general_hamiltonian_classiq(s3)\n",
        "operator= PauliOperator(pauli_list=partitioningProblem)\n",
        "curr_simulator = define_simulator(\"aer_statevector\")\n",
        "curr_optimizer = define_optimizer(\"cobyla\")\n",
        "execution_preferences, circuit_qasm = prepare_simulator_classiq(curr_simulator, curr_optimizer,len(s3) , \"ry\",\"rz\")\n",
        "sum += minimum_eigenvalue_by_vqe(operator)-1"
      ],
      "metadata": {
        "colab": {
          "base_uri": "https://localhost:8080/"
        },
        "outputId": "7505fb30-4e78-4458-c42a-96b50242fcfa",
        "id": "BDsUR38dvvbJ"
      },
      "execution_count": 186,
      "outputs": [
        {
          "output_type": "stream",
          "name": "stdout",
          "text": [
            "minimal eigenvalue:  42.909\n"
          ]
        }
      ]
    },
    {
      "cell_type": "code",
      "source": [
        "partitioningProblem = create_general_hamiltonian_classiq(s4)\n",
        "operator= PauliOperator(pauli_list=partitioningProblem)\n",
        "curr_simulator = define_simulator(\"aer_statevector\")\n",
        "curr_optimizer = define_optimizer(\"cobyla\")\n",
        "execution_preferences, circuit_qasm = prepare_simulator_classiq(curr_simulator, curr_optimizer,len(s4) , \"ry\",\"rz\")\n",
        "sum += minimum_eigenvalue_by_vqe(operator)-1"
      ],
      "metadata": {
        "colab": {
          "base_uri": "https://localhost:8080/"
        },
        "outputId": "24ca452d-e72d-4e47-a4b8-50a2a9429d20",
        "id": "a-Gs6SfrvvbK"
      },
      "execution_count": 187,
      "outputs": [
        {
          "output_type": "stream",
          "name": "stdout",
          "text": [
            "minimal eigenvalue:  58.531\n"
          ]
        }
      ]
    },
    {
      "cell_type": "code",
      "source": [
        "avg = sum / 4.0\n",
        "avg_array_unsolvable.append(avg)"
      ],
      "metadata": {
        "id": "rUMg9WAdvvbK"
      },
      "execution_count": 188,
      "outputs": []
    },
    {
      "cell_type": "markdown",
      "source": [
        "# solvable sets of 7 quibts"
      ],
      "metadata": {
        "id": "SVTnjTit4wpK"
      }
    },
    {
      "cell_type": "code",
      "source": [
        "s1 = [4,5,4,5,4,8,6]\n",
        "s2 = [7,3,7,4,4,4,5]\n",
        "s3 = [8,1,2,5,6,6,4]\n",
        "s4 = [5,3,4,5,12,4,1]"
      ],
      "metadata": {
        "id": "d7WpKyaU-1Zc"
      },
      "execution_count": 189,
      "outputs": []
    },
    {
      "cell_type": "code",
      "source": [
        "sum = 0\n",
        "partitioningProblem = create_general_hamiltonian_classiq(s1)\n",
        "operator= PauliOperator(pauli_list=partitioningProblem)\n",
        "curr_simulator = define_simulator(\"aer_statevector\")\n",
        "curr_optimizer = define_optimizer(\"cobyla\")\n",
        "execution_preferences, circuit_qasm = prepare_simulator_classiq(curr_simulator, curr_optimizer,len(s1) , \"ry\",\"rz\")\n",
        "sum += minimum_eigenvalue_by_vqe(operator)"
      ],
      "metadata": {
        "colab": {
          "base_uri": "https://localhost:8080/"
        },
        "outputId": "51490a75-ed56-4c83-f7e9-656b399b489d",
        "id": "9sPjV1YnuvGm"
      },
      "execution_count": 190,
      "outputs": [
        {
          "output_type": "stream",
          "name": "stdout",
          "text": [
            "minimal eigenvalue:  20.224\n"
          ]
        }
      ]
    },
    {
      "cell_type": "code",
      "source": [
        "partitioningProblem = create_general_hamiltonian_classiq(s2)\n",
        "operator= PauliOperator(pauli_list=partitioningProblem)\n",
        "curr_simulator = define_simulator(\"aer_statevector\")\n",
        "curr_optimizer = define_optimizer(\"cobyla\")\n",
        "execution_preferences, circuit_qasm = prepare_simulator_classiq(curr_simulator, curr_optimizer,len(s2) , \"ry\",\"rz\")\n",
        "sum += minimum_eigenvalue_by_vqe(operator)"
      ],
      "metadata": {
        "colab": {
          "base_uri": "https://localhost:8080/"
        },
        "outputId": "5f035082-419f-4bdc-9042-ef2900ec7dc4",
        "id": "rSdMToN6uvGn"
      },
      "execution_count": 191,
      "outputs": [
        {
          "output_type": "stream",
          "name": "stdout",
          "text": [
            "minimal eigenvalue:  60.861\n"
          ]
        }
      ]
    },
    {
      "cell_type": "code",
      "source": [
        "partitioningProblem = create_general_hamiltonian_classiq(s3)\n",
        "operator= PauliOperator(pauli_list=partitioningProblem)\n",
        "curr_simulator = define_simulator(\"aer_statevector\")\n",
        "curr_optimizer = define_optimizer(\"cobyla\")\n",
        "execution_preferences, circuit_qasm = prepare_simulator_classiq(curr_simulator, curr_optimizer,len(s3) , \"ry\",\"rz\")\n",
        "sum += minimum_eigenvalue_by_vqe(operator)"
      ],
      "metadata": {
        "colab": {
          "base_uri": "https://localhost:8080/"
        },
        "outputId": "5e4ffdea-d03b-40ef-8a89-fdaf25c00d85",
        "id": "t78ZOvmLuvGn"
      },
      "execution_count": 192,
      "outputs": [
        {
          "output_type": "stream",
          "name": "stdout",
          "text": [
            "minimal eigenvalue:  69.341\n"
          ]
        }
      ]
    },
    {
      "cell_type": "code",
      "source": [
        "partitioningProblem = create_general_hamiltonian_classiq(s4)\n",
        "operator= PauliOperator(pauli_list=partitioningProblem)\n",
        "curr_simulator = define_simulator(\"aer_statevector\")\n",
        "curr_optimizer = define_optimizer(\"cobyla\")\n",
        "execution_preferences, circuit_qasm = prepare_simulator_classiq(curr_simulator, curr_optimizer,len(s4) , \"ry\",\"rz\")\n",
        "sum += minimum_eigenvalue_by_vqe(operator)"
      ],
      "metadata": {
        "colab": {
          "base_uri": "https://localhost:8080/"
        },
        "outputId": "d9709fb7-8482-4890-8595-e3619d72cc6f",
        "id": "iBViapYOuvGo"
      },
      "execution_count": 193,
      "outputs": [
        {
          "output_type": "stream",
          "name": "stdout",
          "text": [
            "minimal eigenvalue:  49.233\n"
          ]
        }
      ]
    },
    {
      "cell_type": "code",
      "source": [
        "avg = sum / 4.0\n",
        "avg_array_solvable.append(avg)"
      ],
      "metadata": {
        "id": "aO3DLhLguvGo"
      },
      "execution_count": 194,
      "outputs": []
    },
    {
      "cell_type": "markdown",
      "source": [
        "# unsolvable sets of 7 quibts"
      ],
      "metadata": {
        "id": "tLbTjyeb5PXs"
      }
    },
    {
      "cell_type": "code",
      "source": [
        "s1 = [0,0,0,0,0,0,2]\n",
        "s2 = [1,2,3,4,10,1,0]\n",
        "s3 = [7,4,7,4,11,11,1]\n",
        "s4 = [5,3,4,6,16,1,2]"
      ],
      "metadata": {
        "id": "8fW0Yu0Y_je3"
      },
      "execution_count": 195,
      "outputs": []
    },
    {
      "cell_type": "code",
      "source": [
        "sum = 0\n",
        "partitioningProblem = create_general_hamiltonian_classiq(s1)\n",
        "operator= PauliOperator(pauli_list=partitioningProblem)\n",
        "curr_simulator = define_simulator(\"aer_statevector\")\n",
        "curr_optimizer = define_optimizer(\"cobyla\")\n",
        "execution_preferences, circuit_qasm = prepare_simulator_classiq(curr_simulator, curr_optimizer,len(s1) , \"ry\",\"rz\")\n",
        "sum += minimum_eigenvalue_by_vqe(operator)-4"
      ],
      "metadata": {
        "colab": {
          "base_uri": "https://localhost:8080/"
        },
        "outputId": "e2e692f9-2266-4936-a6c6-86e9d971cd52",
        "id": "_lhkIlcYv27u"
      },
      "execution_count": 196,
      "outputs": [
        {
          "output_type": "stream",
          "name": "stdout",
          "text": [
            "minimal eigenvalue:  4.000\n"
          ]
        }
      ]
    },
    {
      "cell_type": "code",
      "source": [
        "partitioningProblem = create_general_hamiltonian_classiq(s2)\n",
        "operator= PauliOperator(pauli_list=partitioningProblem)\n",
        "curr_simulator = define_simulator(\"aer_statevector\")\n",
        "curr_optimizer = define_optimizer(\"cobyla\")\n",
        "execution_preferences, circuit_qasm = prepare_simulator_classiq(curr_simulator, curr_optimizer,len(s2) , \"ry\",\"rz\")\n",
        "sum += minimum_eigenvalue_by_vqe(operator)-1"
      ],
      "metadata": {
        "colab": {
          "base_uri": "https://localhost:8080/"
        },
        "outputId": "85f4d9a2-752f-417c-b081-d525658c0452",
        "id": "7UGBkd7tv27u"
      },
      "execution_count": 197,
      "outputs": [
        {
          "output_type": "stream",
          "name": "stdout",
          "text": [
            "minimal eigenvalue:  54.119\n"
          ]
        }
      ]
    },
    {
      "cell_type": "code",
      "source": [
        "partitioningProblem = create_general_hamiltonian_classiq(s3)\n",
        "operator= PauliOperator(pauli_list=partitioningProblem)\n",
        "curr_simulator = define_simulator(\"aer_statevector\")\n",
        "curr_optimizer = define_optimizer(\"cobyla\")\n",
        "execution_preferences, circuit_qasm = prepare_simulator_classiq(curr_simulator, curr_optimizer,len(s3) , \"ry\",\"rz\")\n",
        "sum += minimum_eigenvalue_by_vqe(operator)-1"
      ],
      "metadata": {
        "colab": {
          "base_uri": "https://localhost:8080/"
        },
        "outputId": "ec16e8ac-d10f-4318-fb36-808e5e5b2bf4",
        "id": "1NCmD9tzv27v"
      },
      "execution_count": 198,
      "outputs": [
        {
          "output_type": "stream",
          "name": "stdout",
          "text": [
            "minimal eigenvalue:  42.210\n"
          ]
        }
      ]
    },
    {
      "cell_type": "code",
      "source": [
        "partitioningProblem = create_general_hamiltonian_classiq(s4)\n",
        "operator= PauliOperator(pauli_list=partitioningProblem)\n",
        "curr_simulator = define_simulator(\"aer_statevector\")\n",
        "curr_optimizer = define_optimizer(\"cobyla\")\n",
        "execution_preferences, circuit_qasm = prepare_simulator_classiq(curr_simulator, curr_optimizer,len(s4) , \"ry\",\"rz\")\n",
        "sum += minimum_eigenvalue_by_vqe(operator)-1"
      ],
      "metadata": {
        "colab": {
          "base_uri": "https://localhost:8080/"
        },
        "outputId": "cb8a44e0-e957-456f-c59f-f7321e0a9d76",
        "id": "W7YuPPqUv27v"
      },
      "execution_count": 199,
      "outputs": [
        {
          "output_type": "stream",
          "name": "stdout",
          "text": [
            "minimal eigenvalue:  133.114\n"
          ]
        }
      ]
    },
    {
      "cell_type": "code",
      "source": [
        "avg = sum / 4.0\n",
        "avg_array_unsolvable.append(avg)"
      ],
      "metadata": {
        "id": "QjeA3zL0v27v"
      },
      "execution_count": 200,
      "outputs": []
    },
    {
      "cell_type": "markdown",
      "source": [
        "# solvable sets of 8 quibts"
      ],
      "metadata": {
        "id": "uLh4Dr664zy_"
      }
    },
    {
      "cell_type": "code",
      "source": [
        "s1 = [1,0,0,0,0,0,2,1]\n",
        "s2 = [1,2,3,4,10,0,0,0]\n",
        "s3 = [5,6,7,8,11,11,1,3]\n",
        "s4 = [5,3,4,2,10,1,1,2]"
      ],
      "metadata": {
        "id": "oOwdEn_CAX4H"
      },
      "execution_count": 201,
      "outputs": []
    },
    {
      "cell_type": "code",
      "source": [
        "sum = 0\n",
        "partitioningProblem = create_general_hamiltonian_classiq(s1)\n",
        "operator= PauliOperator(pauli_list=partitioningProblem)\n",
        "curr_simulator = define_simulator(\"aer_statevector\")\n",
        "curr_optimizer = define_optimizer(\"cobyla\")\n",
        "execution_preferences, circuit_qasm = prepare_simulator_classiq(curr_simulator, curr_optimizer,len(s1) , \"ry\",\"rz\")\n",
        "sum += minimum_eigenvalue_by_vqe(operator)"
      ],
      "metadata": {
        "colab": {
          "base_uri": "https://localhost:8080/"
        },
        "outputId": "c1af7273-3d75-4aca-b129-ad861c465c18",
        "id": "9YsOtpTHux--"
      },
      "execution_count": 202,
      "outputs": [
        {
          "output_type": "stream",
          "name": "stdout",
          "text": [
            "minimal eigenvalue:  3.191\n"
          ]
        }
      ]
    },
    {
      "cell_type": "code",
      "source": [
        "partitioningProblem = create_general_hamiltonian_classiq(s2)\n",
        "operator= PauliOperator(pauli_list=partitioningProblem)\n",
        "curr_simulator = define_simulator(\"aer_statevector\")\n",
        "curr_optimizer = define_optimizer(\"cobyla\")\n",
        "execution_preferences, circuit_qasm = prepare_simulator_classiq(curr_simulator, curr_optimizer,len(s2) , \"ry\",\"rz\")\n",
        "sum += minimum_eigenvalue_by_vqe(operator)"
      ],
      "metadata": {
        "colab": {
          "base_uri": "https://localhost:8080/"
        },
        "outputId": "114c28df-2ea4-41ee-8fa8-036078b1dc5c",
        "id": "NtwjmNiKux--"
      },
      "execution_count": 203,
      "outputs": [
        {
          "output_type": "stream",
          "name": "stdout",
          "text": [
            "minimal eigenvalue:  43.025\n"
          ]
        }
      ]
    },
    {
      "cell_type": "code",
      "source": [
        "partitioningProblem = create_general_hamiltonian_classiq(s3)\n",
        "operator= PauliOperator(pauli_list=partitioningProblem)\n",
        "curr_simulator = define_simulator(\"aer_statevector\")\n",
        "curr_optimizer = define_optimizer(\"cobyla\")\n",
        "execution_preferences, circuit_qasm = prepare_simulator_classiq(curr_simulator, curr_optimizer,len(s3) , \"ry\",\"rz\")\n",
        "sum += minimum_eigenvalue_by_vqe(operator)"
      ],
      "metadata": {
        "colab": {
          "base_uri": "https://localhost:8080/"
        },
        "outputId": "b89da3c3-7ed0-489d-d247-348ef73d2bfc",
        "id": "MntUKN_1ux_A"
      },
      "execution_count": 204,
      "outputs": [
        {
          "output_type": "stream",
          "name": "stdout",
          "text": [
            "minimal eigenvalue:  84.463\n"
          ]
        }
      ]
    },
    {
      "cell_type": "code",
      "source": [
        "partitioningProblem = create_general_hamiltonian_classiq(s4)\n",
        "operator= PauliOperator(pauli_list=partitioningProblem)\n",
        "curr_simulator = define_simulator(\"aer_statevector\")\n",
        "curr_optimizer = define_optimizer(\"cobyla\")\n",
        "execution_preferences, circuit_qasm = prepare_simulator_classiq(curr_simulator, curr_optimizer,len(s4) , \"ry\",\"rz\")\n",
        "sum += minimum_eigenvalue_by_vqe(operator)"
      ],
      "metadata": {
        "colab": {
          "base_uri": "https://localhost:8080/"
        },
        "outputId": "9df3bf81-663e-41fa-aa99-7e698d50e673",
        "id": "5mIz0CFeux_B"
      },
      "execution_count": 205,
      "outputs": [
        {
          "output_type": "stream",
          "name": "stdout",
          "text": [
            "minimal eigenvalue:  81.150\n"
          ]
        }
      ]
    },
    {
      "cell_type": "code",
      "source": [
        "avg = sum / 4.0\n",
        "avg_array_solvable.append(avg)"
      ],
      "metadata": {
        "id": "7cbEtSIaux_B"
      },
      "execution_count": 206,
      "outputs": []
    },
    {
      "cell_type": "markdown",
      "source": [
        "# unsolvable sets of 8 quibts"
      ],
      "metadata": {
        "id": "LZ9mzDjp5RqX"
      }
    },
    {
      "cell_type": "code",
      "source": [
        "s1 = [1,0,0,0,1,0,2,1]\n",
        "s2 = [1,2,3,4,11,0,2,2]\n",
        "s3 = [5,9,4,8,10,11,1,3]\n",
        "s4 = [6,2,4,2,9,1,1,2]"
      ],
      "metadata": {
        "id": "CLMAfUa_CH_s"
      },
      "execution_count": 207,
      "outputs": []
    },
    {
      "cell_type": "code",
      "source": [
        "sum = 0\n",
        "partitioningProblem = create_general_hamiltonian_classiq(s1)\n",
        "operator= PauliOperator(pauli_list=partitioningProblem)\n",
        "curr_simulator = define_simulator(\"aer_statevector\")\n",
        "curr_optimizer = define_optimizer(\"cobyla\")\n",
        "execution_preferences, circuit_qasm = prepare_simulator_classiq(curr_simulator, curr_optimizer,len(s1) , \"ry\",\"rz\")\n",
        "sum += minimum_eigenvalue_by_vqe(operator)-1"
      ],
      "metadata": {
        "colab": {
          "base_uri": "https://localhost:8080/"
        },
        "outputId": "bbbad980-4038-4d30-c859-434c1840616f",
        "id": "bmn5OsSvv7UH"
      },
      "execution_count": 208,
      "outputs": [
        {
          "output_type": "stream",
          "name": "stdout",
          "text": [
            "minimal eigenvalue:  3.853\n"
          ]
        }
      ]
    },
    {
      "cell_type": "code",
      "source": [
        "partitioningProblem = create_general_hamiltonian_classiq(s2)\n",
        "operator= PauliOperator(pauli_list=partitioningProblem)\n",
        "curr_simulator = define_simulator(\"aer_statevector\")\n",
        "curr_optimizer = define_optimizer(\"cobyla\")\n",
        "execution_preferences, circuit_qasm = prepare_simulator_classiq(curr_simulator, curr_optimizer,len(s2) , \"ry\",\"rz\")\n",
        "sum += minimum_eigenvalue_by_vqe(operator)-1"
      ],
      "metadata": {
        "colab": {
          "base_uri": "https://localhost:8080/"
        },
        "outputId": "833b0f71-0546-48b7-d01b-e4de125f7afd",
        "id": "9tz3iainv7UI"
      },
      "execution_count": 209,
      "outputs": [
        {
          "output_type": "stream",
          "name": "stdout",
          "text": [
            "minimal eigenvalue:  51.287\n"
          ]
        }
      ]
    },
    {
      "cell_type": "code",
      "source": [
        "partitioningProblem = create_general_hamiltonian_classiq(s3)\n",
        "operator= PauliOperator(pauli_list=partitioningProblem)\n",
        "curr_simulator = define_simulator(\"aer_statevector\")\n",
        "curr_optimizer = define_optimizer(\"cobyla\")\n",
        "execution_preferences, circuit_qasm = prepare_simulator_classiq(curr_simulator, curr_optimizer,len(s3) , \"ry\",\"rz\")\n",
        "sum += minimum_eigenvalue_by_vqe(operator)-1"
      ],
      "metadata": {
        "colab": {
          "base_uri": "https://localhost:8080/"
        },
        "outputId": "dd07c9ad-50b9-464f-a939-75f93aebde19",
        "id": "b13_DBUQv7UI"
      },
      "execution_count": 210,
      "outputs": [
        {
          "output_type": "stream",
          "name": "stdout",
          "text": [
            "minimal eigenvalue:  160.435\n"
          ]
        }
      ]
    },
    {
      "cell_type": "code",
      "source": [
        "partitioningProblem = create_general_hamiltonian_classiq(s4)\n",
        "operator= PauliOperator(pauli_list=partitioningProblem)\n",
        "curr_simulator = define_simulator(\"aer_statevector\")\n",
        "curr_optimizer = define_optimizer(\"cobyla\")\n",
        "execution_preferences, circuit_qasm = prepare_simulator_classiq(curr_simulator, curr_optimizer,len(s4) , \"ry\",\"rz\")\n",
        "sum += minimum_eigenvalue_by_vqe(operator)-1"
      ],
      "metadata": {
        "colab": {
          "base_uri": "https://localhost:8080/"
        },
        "outputId": "36e71119-ffab-4f99-d695-c298d42f4277",
        "id": "BgpFMm_Jv7UJ"
      },
      "execution_count": 211,
      "outputs": [
        {
          "output_type": "stream",
          "name": "stdout",
          "text": [
            "minimal eigenvalue:  74.196\n"
          ]
        }
      ]
    },
    {
      "cell_type": "code",
      "source": [
        "avg = sum / 4.0\n",
        "avg_array_unsolvable.append(avg)"
      ],
      "metadata": {
        "id": "P1HYjTCrv7UJ"
      },
      "execution_count": 212,
      "outputs": []
    },
    {
      "cell_type": "markdown",
      "source": [
        "# solvable sets of 9 quibts"
      ],
      "metadata": {
        "id": "IbduooA2C4dB"
      }
    },
    {
      "cell_type": "code",
      "source": [
        "s1 = [1,6,2,0,1,2,6,2,0]\n",
        "s2 = [4,1,0,6,4,6,4,3,2]\n",
        "s3 = [2,1,0,4,5,7,3,1,1]\n",
        "s4 = [3,9,1,8,3,12,4,8,0]"
      ],
      "metadata": {
        "id": "uEiKx6mXC4dB"
      },
      "execution_count": 213,
      "outputs": []
    },
    {
      "cell_type": "code",
      "source": [
        "sum = 0\n",
        "partitioningProblem = create_general_hamiltonian_classiq(s1)\n",
        "operator= PauliOperator(pauli_list=partitioningProblem)\n",
        "curr_simulator = define_simulator(\"aer_statevector\")\n",
        "curr_optimizer = define_optimizer(\"cobyla\")\n",
        "execution_preferences, circuit_qasm = prepare_simulator_classiq(curr_simulator, curr_optimizer,len(s1) , \"ry\",\"rz\")\n",
        "sum += minimum_eigenvalue_by_vqe(operator)"
      ],
      "metadata": {
        "colab": {
          "base_uri": "https://localhost:8080/"
        },
        "outputId": "e0bc5ac6-5e56-4548-9b95-f70224085129",
        "id": "zDtzaIUiu1Sz"
      },
      "execution_count": 214,
      "outputs": [
        {
          "output_type": "stream",
          "name": "stdout",
          "text": [
            "minimal eigenvalue:  11.473\n"
          ]
        }
      ]
    },
    {
      "cell_type": "code",
      "source": [
        "partitioningProblem = create_general_hamiltonian_classiq(s2)\n",
        "operator= PauliOperator(pauli_list=partitioningProblem)\n",
        "curr_simulator = define_simulator(\"aer_statevector\")\n",
        "curr_optimizer = define_optimizer(\"cobyla\")\n",
        "execution_preferences, circuit_qasm = prepare_simulator_classiq(curr_simulator, curr_optimizer,len(s2) , \"ry\",\"rz\")\n",
        "sum += minimum_eigenvalue_by_vqe(operator)"
      ],
      "metadata": {
        "colab": {
          "base_uri": "https://localhost:8080/"
        },
        "outputId": "5179290a-ffd7-4457-b0eb-1ee6d42e0c92",
        "id": "1KH_e29pu1S0"
      },
      "execution_count": 215,
      "outputs": [
        {
          "output_type": "stream",
          "name": "stdout",
          "text": [
            "minimal eigenvalue:  36.800\n"
          ]
        }
      ]
    },
    {
      "cell_type": "code",
      "source": [
        "partitioningProblem = create_general_hamiltonian_classiq(s3)\n",
        "operator= PauliOperator(pauli_list=partitioningProblem)\n",
        "curr_simulator = define_simulator(\"aer_statevector\")\n",
        "curr_optimizer = define_optimizer(\"cobyla\")\n",
        "execution_preferences, circuit_qasm = prepare_simulator_classiq(curr_simulator, curr_optimizer,len(s3) , \"ry\",\"rz\")\n",
        "sum += minimum_eigenvalue_by_vqe(operator)"
      ],
      "metadata": {
        "colab": {
          "base_uri": "https://localhost:8080/"
        },
        "outputId": "e7755327-6428-44bf-d4de-a2f39f2e72ca",
        "id": "caL5vkKtu1S0"
      },
      "execution_count": 216,
      "outputs": [
        {
          "output_type": "stream",
          "name": "stdout",
          "text": [
            "minimal eigenvalue:  26.680\n"
          ]
        }
      ]
    },
    {
      "cell_type": "code",
      "source": [
        "partitioningProblem = create_general_hamiltonian_classiq(s4)\n",
        "operator= PauliOperator(pauli_list=partitioningProblem)\n",
        "curr_simulator = define_simulator(\"aer_statevector\")\n",
        "curr_optimizer = define_optimizer(\"cobyla\")\n",
        "execution_preferences, circuit_qasm = prepare_simulator_classiq(curr_simulator, curr_optimizer,len(s4) , \"ry\",\"rz\")\n",
        "sum += minimum_eigenvalue_by_vqe(operator)"
      ],
      "metadata": {
        "colab": {
          "base_uri": "https://localhost:8080/"
        },
        "outputId": "e726ac6c-b758-4c97-f78e-0db51db24151",
        "id": "xckw-UPYu1S0"
      },
      "execution_count": 217,
      "outputs": [
        {
          "output_type": "stream",
          "name": "stdout",
          "text": [
            "minimal eigenvalue:  146.367\n"
          ]
        }
      ]
    },
    {
      "cell_type": "code",
      "source": [
        "avg = sum / 4.0\n",
        "avg_array_solvable.append(avg)"
      ],
      "metadata": {
        "id": "6LoxsivPu1S0"
      },
      "execution_count": 218,
      "outputs": []
    },
    {
      "cell_type": "markdown",
      "source": [
        "# unsolvable sets of 9 quibts"
      ],
      "metadata": {
        "id": "PxO0whRuDOwT"
      }
    },
    {
      "cell_type": "code",
      "source": [
        "s1 = [2,8,4,11,3,7,5,7,0]\n",
        "s2 = [2,0,6,3,5,1,4,1,3]\n",
        "s3 = [3,2,1,2,4,6,5,3,5]\n",
        "s4 = [2,5,2,0,1,2,6,3,0]"
      ],
      "metadata": {
        "id": "U29QexiiDOwT"
      },
      "execution_count": 219,
      "outputs": []
    },
    {
      "cell_type": "code",
      "source": [
        "sum = 0\n",
        "partitioningProblem = create_general_hamiltonian_classiq(s1)\n",
        "operator= PauliOperator(pauli_list=partitioningProblem)\n",
        "curr_simulator = define_simulator(\"aer_statevector\")\n",
        "curr_optimizer = define_optimizer(\"cobyla\")\n",
        "execution_preferences, circuit_qasm = prepare_simulator_classiq(curr_simulator, curr_optimizer,len(s1) , \"ry\",\"rz\")\n",
        "sum += minimum_eigenvalue_by_vqe(operator)-1"
      ],
      "metadata": {
        "colab": {
          "base_uri": "https://localhost:8080/"
        },
        "outputId": "1f138f0c-9e41-470f-d63b-d4d51afc7e39",
        "id": "8ESwWCJ1v-gh"
      },
      "execution_count": 220,
      "outputs": [
        {
          "output_type": "stream",
          "name": "stdout",
          "text": [
            "minimal eigenvalue:  133.570\n"
          ]
        }
      ]
    },
    {
      "cell_type": "code",
      "source": [
        "partitioningProblem = create_general_hamiltonian_classiq(s2)\n",
        "operator= PauliOperator(pauli_list=partitioningProblem)\n",
        "curr_simulator = define_simulator(\"aer_statevector\")\n",
        "curr_optimizer = define_optimizer(\"cobyla\")\n",
        "execution_preferences, circuit_qasm = prepare_simulator_classiq(curr_simulator, curr_optimizer,len(s2) , \"ry\",\"rz\")\n",
        "sum += minimum_eigenvalue_by_vqe(operator)-1"
      ],
      "metadata": {
        "colab": {
          "base_uri": "https://localhost:8080/"
        },
        "outputId": "1e2bf341-0eb9-4dbf-be1e-44b87d468271",
        "id": "B5lbx9DNv-gh"
      },
      "execution_count": 221,
      "outputs": [
        {
          "output_type": "stream",
          "name": "stdout",
          "text": [
            "minimal eigenvalue:  37.928\n"
          ]
        }
      ]
    },
    {
      "cell_type": "code",
      "source": [
        "partitioningProblem = create_general_hamiltonian_classiq(s3)\n",
        "operator= PauliOperator(pauli_list=partitioningProblem)\n",
        "curr_simulator = define_simulator(\"aer_statevector\")\n",
        "curr_optimizer = define_optimizer(\"cobyla\")\n",
        "execution_preferences, circuit_qasm = prepare_simulator_classiq(curr_simulator, curr_optimizer,len(s3) , \"ry\",\"rz\")\n",
        "sum += minimum_eigenvalue_by_vqe(operator)-1"
      ],
      "metadata": {
        "colab": {
          "base_uri": "https://localhost:8080/"
        },
        "outputId": "81090623-a384-450c-b972-56a488916bb8",
        "id": "QuUtqL9Wv-gi"
      },
      "execution_count": 222,
      "outputs": [
        {
          "output_type": "stream",
          "name": "stdout",
          "text": [
            "minimal eigenvalue:  41.625\n"
          ]
        }
      ]
    },
    {
      "cell_type": "code",
      "source": [
        "partitioningProblem = create_general_hamiltonian_classiq(s4)\n",
        "operator= PauliOperator(pauli_list=partitioningProblem)\n",
        "curr_simulator = define_simulator(\"aer_statevector\")\n",
        "curr_optimizer = define_optimizer(\"cobyla\")\n",
        "execution_preferences, circuit_qasm = prepare_simulator_classiq(curr_simulator, curr_optimizer,len(s4) , \"ry\",\"rz\")\n",
        "sum += minimum_eigenvalue_by_vqe(operator)-1"
      ],
      "metadata": {
        "colab": {
          "base_uri": "https://localhost:8080/"
        },
        "outputId": "10c32911-a8c4-4791-db99-ab03f7e01176",
        "id": "NujcON08v-gi"
      },
      "execution_count": 223,
      "outputs": [
        {
          "output_type": "stream",
          "name": "stdout",
          "text": [
            "minimal eigenvalue:  15.770\n"
          ]
        }
      ]
    },
    {
      "cell_type": "code",
      "source": [
        "avg = sum / 4.0\n",
        "avg_array_unsolvable.append(avg)"
      ],
      "metadata": {
        "id": "OhJK3bhiv-gj"
      },
      "execution_count": 224,
      "outputs": []
    },
    {
      "cell_type": "markdown",
      "source": [
        "# solvable sets of 10 quibts"
      ],
      "metadata": {
        "id": "OSQJcjEkEVfw"
      }
    },
    {
      "cell_type": "code",
      "source": [
        "s1 = [8,2,5,1,0,2,4,3,2,5]\n",
        "s2 = [6,8,4,2,9,5,5,9,6,4]\n",
        "s3 = [5,8,1,3,2,6,4,3,3,3]\n",
        "s4 = [6,4,3,0,8,10,6,4,1,0]"
      ],
      "metadata": {
        "id": "NPfj7sBEEVfw"
      },
      "execution_count": 225,
      "outputs": []
    },
    {
      "cell_type": "code",
      "source": [
        "sum = 0\n",
        "partitioningProblem = create_general_hamiltonian_classiq(s1)\n",
        "operator= PauliOperator(pauli_list=partitioningProblem)\n",
        "curr_simulator = define_simulator(\"aer_statevector\")\n",
        "curr_optimizer = define_optimizer(\"cobyla\")\n",
        "execution_preferences, circuit_qasm = prepare_simulator_classiq(curr_simulator, curr_optimizer,len(s1) , \"ry\",\"rz\")\n",
        "sum += minimum_eigenvalue_by_vqe(operator)"
      ],
      "metadata": {
        "colab": {
          "base_uri": "https://localhost:8080/"
        },
        "outputId": "131a0841-6973-4fc8-dbfd-1d1658b8519b",
        "id": "XUZj79-2u4ly"
      },
      "execution_count": 226,
      "outputs": [
        {
          "output_type": "stream",
          "name": "stdout",
          "text": [
            "minimal eigenvalue:  80.022\n"
          ]
        }
      ]
    },
    {
      "cell_type": "code",
      "source": [
        "partitioningProblem = create_general_hamiltonian_classiq(s2)\n",
        "operator= PauliOperator(pauli_list=partitioningProblem)\n",
        "curr_simulator = define_simulator(\"aer_statevector\")\n",
        "curr_optimizer = define_optimizer(\"cobyla\")\n",
        "execution_preferences, circuit_qasm = prepare_simulator_classiq(curr_simulator, curr_optimizer,len(s2) , \"ry\",\"rz\")\n",
        "sum += minimum_eigenvalue_by_vqe(operator)"
      ],
      "metadata": {
        "colab": {
          "base_uri": "https://localhost:8080/"
        },
        "outputId": "0176a0a1-922d-4dae-9b45-5a5701be913e",
        "id": "4ezfKhs1u4ly"
      },
      "execution_count": 227,
      "outputs": [
        {
          "output_type": "stream",
          "name": "stdout",
          "text": [
            "minimal eigenvalue:  163.424\n"
          ]
        }
      ]
    },
    {
      "cell_type": "code",
      "source": [
        "partitioningProblem = create_general_hamiltonian_classiq(s3)\n",
        "operator= PauliOperator(pauli_list=partitioningProblem)\n",
        "curr_simulator = define_simulator(\"aer_statevector\")\n",
        "curr_optimizer = define_optimizer(\"cobyla\")\n",
        "execution_preferences, circuit_qasm = prepare_simulator_classiq(curr_simulator, curr_optimizer,len(s3) , \"ry\",\"rz\")\n",
        "sum += minimum_eigenvalue_by_vqe(operator)"
      ],
      "metadata": {
        "colab": {
          "base_uri": "https://localhost:8080/"
        },
        "outputId": "65ef7fd0-c7e5-4cac-d67f-7a7d75300c33",
        "id": "E5ucvkuou4lz"
      },
      "execution_count": 228,
      "outputs": [
        {
          "output_type": "stream",
          "name": "stdout",
          "text": [
            "minimal eigenvalue:  122.259\n"
          ]
        }
      ]
    },
    {
      "cell_type": "code",
      "source": [
        "partitioningProblem = create_general_hamiltonian_classiq(s4)\n",
        "operator= PauliOperator(pauli_list=partitioningProblem)\n",
        "curr_simulator = define_simulator(\"aer_statevector\")\n",
        "curr_optimizer = define_optimizer(\"cobyla\")\n",
        "execution_preferences, circuit_qasm = prepare_simulator_classiq(curr_simulator, curr_optimizer,len(s4) , \"ry\",\"rz\")\n",
        "sum += minimum_eigenvalue_by_vqe(operator)"
      ],
      "metadata": {
        "colab": {
          "base_uri": "https://localhost:8080/"
        },
        "outputId": "539ab879-5b20-4d66-af2d-7d50fef08bc4",
        "id": "UB4sE7ECu4lz"
      },
      "execution_count": 229,
      "outputs": [
        {
          "output_type": "stream",
          "name": "stdout",
          "text": [
            "minimal eigenvalue:  95.024\n"
          ]
        }
      ]
    },
    {
      "cell_type": "code",
      "source": [
        "avg = sum / 4.0\n",
        "avg_array_solvable.append(avg)"
      ],
      "metadata": {
        "id": "jCEmTYNLu4lz"
      },
      "execution_count": 230,
      "outputs": []
    },
    {
      "cell_type": "markdown",
      "source": [
        "# unsolvable sets of 10 quibts"
      ],
      "metadata": {
        "id": "175X8SAaEnOQ"
      }
    },
    {
      "cell_type": "code",
      "source": [
        "s1 = [7,3,2,4,0,2,4,3,1,5]\n",
        "s2 = [5,9,4,2,9,5,5,8,6,4]\n",
        "s3 = [6,7,1,3,2,6,4,3,2,3]\n",
        "s4 = [5,5,2,1,8,9,6,4,1,0]"
      ],
      "metadata": {
        "id": "dODvSn2xEnOQ"
      },
      "execution_count": 231,
      "outputs": []
    },
    {
      "cell_type": "code",
      "source": [
        "sum = 0\n",
        "partitioningProblem = create_general_hamiltonian_classiq(s1)\n",
        "operator= PauliOperator(pauli_list=partitioningProblem)\n",
        "curr_simulator = define_simulator(\"aer_statevector\")\n",
        "curr_optimizer = define_optimizer(\"cobyla\")\n",
        "execution_preferences, circuit_qasm = prepare_simulator_classiq(curr_simulator, curr_optimizer,len(s1) , \"ry\",\"rz\")\n",
        "sum += minimum_eigenvalue_by_vqe(operator)-1"
      ],
      "metadata": {
        "colab": {
          "base_uri": "https://localhost:8080/"
        },
        "outputId": "c422ad9c-c7b4-440b-f2ac-83651b58f409",
        "id": "34MXpy1twBbw"
      },
      "execution_count": 232,
      "outputs": [
        {
          "output_type": "stream",
          "name": "stdout",
          "text": [
            "minimal eigenvalue:  80.316\n"
          ]
        }
      ]
    },
    {
      "cell_type": "code",
      "source": [
        "partitioningProblem = create_general_hamiltonian_classiq(s2)\n",
        "operator= PauliOperator(pauli_list=partitioningProblem)\n",
        "curr_simulator = define_simulator(\"aer_statevector\")\n",
        "curr_optimizer = define_optimizer(\"cobyla\")\n",
        "execution_preferences, circuit_qasm = prepare_simulator_classiq(curr_simulator, curr_optimizer,len(s2) , \"ry\",\"rz\")\n",
        "sum += minimum_eigenvalue_by_vqe(operator)-1"
      ],
      "metadata": {
        "colab": {
          "base_uri": "https://localhost:8080/"
        },
        "outputId": "20c4eb60-7774-4a00-be8b-a4c6b4d389bd",
        "id": "Rpa4XVb3wBbx"
      },
      "execution_count": 233,
      "outputs": [
        {
          "output_type": "stream",
          "name": "stdout",
          "text": [
            "minimal eigenvalue:  179.947\n"
          ]
        }
      ]
    },
    {
      "cell_type": "code",
      "source": [
        "partitioningProblem = create_general_hamiltonian_classiq(s3)\n",
        "operator= PauliOperator(pauli_list=partitioningProblem)\n",
        "curr_simulator = define_simulator(\"aer_statevector\")\n",
        "curr_optimizer = define_optimizer(\"cobyla\")\n",
        "execution_preferences, circuit_qasm = prepare_simulator_classiq(curr_simulator, curr_optimizer,len(s3) , \"ry\",\"rz\")\n",
        "sum += minimum_eigenvalue_by_vqe(operator)-1"
      ],
      "metadata": {
        "colab": {
          "base_uri": "https://localhost:8080/"
        },
        "outputId": "38b52ae2-8a4f-4643-9a88-24ffee815fcf",
        "id": "ZOYgNqTEwBbx"
      },
      "execution_count": 234,
      "outputs": [
        {
          "output_type": "stream",
          "name": "stdout",
          "text": [
            "minimal eigenvalue:  111.006\n"
          ]
        }
      ]
    },
    {
      "cell_type": "code",
      "source": [
        "partitioningProblem = create_general_hamiltonian_classiq(s4)\n",
        "operator= PauliOperator(pauli_list=partitioningProblem)\n",
        "curr_simulator = define_simulator(\"aer_statevector\")\n",
        "curr_optimizer = define_optimizer(\"cobyla\")\n",
        "execution_preferences, circuit_qasm = prepare_simulator_classiq(curr_simulator, curr_optimizer,len(s4) , \"ry\",\"rz\")\n",
        "sum += minimum_eigenvalue_by_vqe(operator)-1"
      ],
      "metadata": {
        "colab": {
          "base_uri": "https://localhost:8080/"
        },
        "outputId": "5033dd8b-4e85-4614-9310-8db845665a0f",
        "id": "Y3RL2ryXwBbx"
      },
      "execution_count": 235,
      "outputs": [
        {
          "output_type": "stream",
          "name": "stdout",
          "text": [
            "minimal eigenvalue:  85.715\n"
          ]
        }
      ]
    },
    {
      "cell_type": "code",
      "source": [
        "avg = sum / 4.0\n",
        "avg_array_unsolvable.append(avg)"
      ],
      "metadata": {
        "id": "dzWkftuvwBby"
      },
      "execution_count": 236,
      "outputs": []
    },
    {
      "cell_type": "markdown",
      "source": [
        "# create the graphs"
      ],
      "metadata": {
        "id": "JVaT9509SOdU"
      }
    },
    {
      "cell_type": "markdown",
      "source": [
        "# solvable problems deviation from the desired result"
      ],
      "metadata": {
        "id": "2jRc4GFDSgB5"
      }
    },
    {
      "cell_type": "code",
      "source": [
        "!pip uninstall matplotlib\n",
        "!pip install matplotlib==3.1.3"
      ],
      "metadata": {
        "id": "bAOVAPXq5E-M"
      },
      "execution_count": null,
      "outputs": []
    },
    {
      "cell_type": "code",
      "source": [
        "\n",
        "\n",
        "import matplotlib.pyplot as plt\n",
        "  \n",
        "# y axis values\n",
        "y = avg_array_solvable\n",
        "# corresponding x axis values\n",
        "x = range(2,11)\n",
        "\n",
        "print(x)\n",
        "print(y)\n",
        "# plotting the points \n",
        "plt.plot(x, y, color='green', linestyle='dashed', linewidth = 3,\n",
        "         marker='o', markerfacecolor='blue', markersize=12)\n",
        "  \n",
        "# setting x and y axis range\n",
        "plt.ylim(0,120)\n",
        "plt.xlim(2,11)\n",
        "  \n",
        "# naming the x axis\n",
        "plt.xlabel('num of qubits')\n",
        "# naming the y axis\n",
        "plt.ylabel('deviation from the right result')\n",
        "  \n",
        "# giving a title to my graph\n",
        "plt.title('solvable problems deviation from the desired result')\n",
        "  \n",
        "# function to show the plot\n",
        "plt.show()\n"
      ],
      "metadata": {
        "colab": {
          "base_uri": "https://localhost:8080/",
          "height": 330
        },
        "id": "BN9oVpzdSSSx",
        "outputId": "037177e9-7fbe-41e6-fd66-8470e51dc80c"
      },
      "execution_count": 242,
      "outputs": [
        {
          "output_type": "stream",
          "name": "stdout",
          "text": [
            "range(2, 11)\n",
            "[0.0337991510776216, 61.65532472241821, 27.18183839318683, 21.90249497620745, 44.25649346477821, 49.91507435821412, 52.957187130102604, 55.330019261669904, 115.18224915732887]\n"
          ]
        },
        {
          "output_type": "display_data",
          "data": {
            "text/plain": [
              "<Figure size 432x288 with 1 Axes>"
            ],
            "image/png": "[encoded data removed]"
          },
          "metadata": {
            "needs_background": "light"
          }
        }
      ]
    },
    {
      "cell_type": "markdown",
      "source": [
        "# unsolvable problems deviation from the desired result"
      ],
      "metadata": {
        "id": "sT8WTZoPSo6K"
      }
    },
    {
      "cell_type": "code",
      "source": [
        "import matplotlib.pyplot as plt\n",
        "  \n",
        "# y axis values\n",
        "y = avg_array_unsolvable\n",
        "# corresponding x axis values\n",
        "x = range(2,11)\n",
        "  \n",
        "# plotting the points \n",
        "plt.plot(x, y, color='green', linestyle='dashed', linewidth = 3,\n",
        "         marker='o', markerfacecolor='blue', markersize=12)\n",
        "  \n",
        "# setting x and y axis range\n",
        "plt.ylim(0,440)\n",
        "plt.xlim(2,11)\n",
        "  \n",
        "# naming the x axis\n",
        "plt.xlabel('num of qubits')\n",
        "# naming the y axis\n",
        "plt.ylabel('deviation from the right result')\n",
        "  \n",
        "# giving a title to my graph\n",
        "plt.title('unsolvable problems deviation from the desired result')\n",
        "  \n",
        "# function to show the plot\n",
        "plt.show()\n",
        "print(x)\n",
        "print(y)"
      ],
      "metadata": {
        "colab": {
          "base_uri": "https://localhost:8080/",
          "height": 330
        },
        "id": "tVhlrCj-So6M",
        "outputId": "f769d389-5511-4b7c-ddd6-74432de7ccba"
      },
      "execution_count": 245,
      "outputs": [
        {
          "output_type": "display_data",
          "data": {
            "text/plain": [
              "<Figure size 432x288 with 1 Axes>"
            ],
            "image/png": "[encoded data removed]"
          },
          "metadata": {
            "needs_background": "light"
          }
        },
        {
          "output_type": "stream",
          "name": "stdout",
          "text": [
            "range(2, 11)\n",
            "[0.06446237582438852, 443.68013629034897, 25.3425874674068, 26.96399172536994, 53.97460349630358, 56.610739577823175, 71.44264579117268, 56.22299167857564, 113.24571230074744]\n"
          ]
        }
      ]
    }
  ]
}