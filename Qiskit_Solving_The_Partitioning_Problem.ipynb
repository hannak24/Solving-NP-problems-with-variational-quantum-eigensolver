{
  "nbformat": 4,
  "nbformat_minor": 0,
  "metadata": {
    "colab": {
      "name": "Qiskit - Solving The Partitioning Problem.ipynb",
      "provenance": []
    },
    "kernelspec": {
      "name": "python3",
      "display_name": "Python 3"
    },
    "language_info": {
      "name": "python"
    }
  },
  "cells": [
    {
      "cell_type": "markdown",
      "source": [
        "I will start with small 2 qubit problems, one solvable and one not."
      ],
      "metadata": {
        "id": "DGTsntVYw3Tr"
      }
    },
    {
      "cell_type": "markdown",
      "metadata": {
        "id": "806fc4e0"
      },
      "source": [
        "# The set"
      ]
    },
    {
      "cell_type": "code",
      "execution_count": 1,
      "metadata": {
        "id": "d01bebbb"
      },
      "outputs": [],
      "source": [
        "solvable_problem = [1,1] #An solvable instance of the partitioning problem to be solved using 2 quibts\n",
        "unsolvable_problem = [1,3] #An unsolvable instance of the partitioning problem to be solved using 2 quibts"
      ]
    },
    {
      "cell_type": "markdown",
      "source": [
        "# Qiskit"
      ],
      "metadata": {
        "id": "_1qvghO-S5Ok"
      }
    },
    {
      "cell_type": "code",
      "execution_count": 2,
      "metadata": {
        "colab": {
          "base_uri": "https://localhost:8080/"
        },
        "id": "3614b67b",
        "outputId": "6f40061c-1b5a-492f-dfde-c3aa80f48df6"
      },
      "outputs": [
        {
          "output_type": "stream",
          "name": "stdout",
          "text": [
            "Looking in indexes: https://pypi.org/simple, https://us-python.pkg.dev/colab-wheels/public/simple/\n",
            "Collecting qiskit\n",
            "  Downloading qiskit-0.37.1.tar.gz (13 kB)\n",
            "Collecting qiskit-terra==0.21.1\n",
            "  Downloading qiskit_terra-0.21.1-cp37-cp37m-manylinux_2_17_x86_64.manylinux2014_x86_64.whl (6.7 MB)\n",
            "\u001b[K     |████████████████████████████████| 6.7 MB 5.5 MB/s \n",
            "\u001b[?25hCollecting qiskit-aer==0.10.4\n",
            "  Downloading qiskit_aer-0.10.4-cp37-cp37m-manylinux_2_12_x86_64.manylinux2010_x86_64.whl (18.0 MB)\n",
            "\u001b[K     |████████████████████████████████| 18.0 MB 313 kB/s \n",
            "\u001b[?25hCollecting qiskit-ibmq-provider==0.19.2\n",
            "  Downloading qiskit_ibmq_provider-0.19.2-py3-none-any.whl (240 kB)\n",
            "\u001b[K     |████████████████████████████████| 240 kB 60.3 MB/s \n",
            "\u001b[?25hRequirement already satisfied: numpy>=1.16.3 in /usr/local/lib/python3.7/dist-packages (from qiskit-aer==0.10.4->qiskit) (1.21.6)\n",
            "Requirement already satisfied: scipy>=1.0 in /usr/local/lib/python3.7/dist-packages (from qiskit-aer==0.10.4->qiskit) (1.7.3)\n",
            "Requirement already satisfied: python-dateutil>=2.8.0 in /usr/local/lib/python3.7/dist-packages (from qiskit-ibmq-provider==0.19.2->qiskit) (2.8.2)\n",
            "Collecting requests-ntlm>=1.1.0\n",
            "  Downloading requests_ntlm-1.1.0-py2.py3-none-any.whl (5.7 kB)\n",
            "Requirement already satisfied: requests>=2.19 in /usr/local/lib/python3.7/dist-packages (from qiskit-ibmq-provider==0.19.2->qiskit) (2.23.0)\n",
            "Collecting websocket-client>=1.0.1\n",
            "  Downloading websocket_client-1.3.3-py3-none-any.whl (54 kB)\n",
            "\u001b[K     |████████████████████████████████| 54 kB 3.0 MB/s \n",
            "\u001b[?25hCollecting websockets>=10.0\n",
            "  Downloading websockets-10.3-cp37-cp37m-manylinux_2_5_x86_64.manylinux1_x86_64.manylinux_2_12_x86_64.manylinux2010_x86_64.whl (112 kB)\n",
            "\u001b[K     |████████████████████████████████| 112 kB 47.3 MB/s \n",
            "\u001b[?25hRequirement already satisfied: urllib3>=1.21.1 in /usr/local/lib/python3.7/dist-packages (from qiskit-ibmq-provider==0.19.2->qiskit) (1.24.3)\n",
            "Requirement already satisfied: dill>=0.3 in /usr/local/lib/python3.7/dist-packages (from qiskit-terra==0.21.1->qiskit) (0.3.5.1)\n",
            "Collecting shared-memory38\n",
            "  Downloading shared_memory38-0.1.2-cp37-cp37m-manylinux_2_5_x86_64.manylinux1_x86_64.whl (25 kB)\n",
            "Requirement already satisfied: typing-extensions in /usr/local/lib/python3.7/dist-packages (from qiskit-terra==0.21.1->qiskit) (4.1.1)\n",
            "Collecting ply>=3.10\n",
            "  Downloading ply-3.11-py2.py3-none-any.whl (49 kB)\n",
            "\u001b[K     |████████████████████████████████| 49 kB 5.1 MB/s \n",
            "\u001b[?25hRequirement already satisfied: sympy>=1.3 in /usr/local/lib/python3.7/dist-packages (from qiskit-terra==0.21.1->qiskit) (1.7.1)\n",
            "Collecting symengine>=0.9\n",
            "  Downloading symengine-0.9.2-cp37-cp37m-manylinux2010_x86_64.whl (37.5 MB)\n",
            "\u001b[K     |████████████████████████████████| 37.5 MB 1.3 MB/s \n",
            "\u001b[?25hCollecting retworkx>=0.11.0\n",
            "  Downloading retworkx-0.11.0-cp37-cp37m-manylinux_2_5_x86_64.manylinux1_x86_64.manylinux_2_12_x86_64.manylinux2010_x86_64.whl (1.6 MB)\n",
            "\u001b[K     |████████████████████████████████| 1.6 MB 44.7 MB/s \n",
            "\u001b[?25hCollecting tweedledum<2.0,>=1.1\n",
            "  Downloading tweedledum-1.1.1-cp37-cp37m-manylinux_2_12_x86_64.manylinux2010_x86_64.whl (943 kB)\n",
            "\u001b[K     |████████████████████████████████| 943 kB 44.3 MB/s \n",
            "\u001b[?25hCollecting stevedore>=3.0.0\n",
            "  Downloading stevedore-3.5.0-py3-none-any.whl (49 kB)\n",
            "\u001b[K     |████████████████████████████████| 49 kB 5.9 MB/s \n",
            "\u001b[?25hRequirement already satisfied: psutil>=5 in /usr/local/lib/python3.7/dist-packages (from qiskit-terra==0.21.1->qiskit) (5.4.8)\n",
            "Requirement already satisfied: six>=1.5 in /usr/local/lib/python3.7/dist-packages (from python-dateutil>=2.8.0->qiskit-ibmq-provider==0.19.2->qiskit) (1.15.0)\n",
            "Requirement already satisfied: idna<3,>=2.5 in /usr/local/lib/python3.7/dist-packages (from requests>=2.19->qiskit-ibmq-provider==0.19.2->qiskit) (2.10)\n",
            "Requirement already satisfied: chardet<4,>=3.0.2 in /usr/local/lib/python3.7/dist-packages (from requests>=2.19->qiskit-ibmq-provider==0.19.2->qiskit) (3.0.4)\n",
            "Requirement already satisfied: certifi>=2017.4.17 in /usr/local/lib/python3.7/dist-packages (from requests>=2.19->qiskit-ibmq-provider==0.19.2->qiskit) (2022.6.15)\n",
            "Collecting ntlm-auth>=1.0.2\n",
            "  Downloading ntlm_auth-1.5.0-py2.py3-none-any.whl (29 kB)\n",
            "Collecting cryptography>=1.3\n",
            "  Downloading cryptography-37.0.4-cp36-abi3-manylinux_2_24_x86_64.whl (4.1 MB)\n",
            "\u001b[K     |████████████████████████████████| 4.1 MB 34.1 MB/s \n",
            "\u001b[?25hRequirement already satisfied: cffi>=1.12 in /usr/local/lib/python3.7/dist-packages (from cryptography>=1.3->requests-ntlm>=1.1.0->qiskit-ibmq-provider==0.19.2->qiskit) (1.15.1)\n",
            "Requirement already satisfied: pycparser in /usr/local/lib/python3.7/dist-packages (from cffi>=1.12->cryptography>=1.3->requests-ntlm>=1.1.0->qiskit-ibmq-provider==0.19.2->qiskit) (2.21)\n",
            "Collecting pbr!=2.1.0,>=2.0.0\n",
            "  Downloading pbr-5.10.0-py2.py3-none-any.whl (112 kB)\n",
            "\u001b[K     |████████████████████████████████| 112 kB 44.9 MB/s \n",
            "\u001b[?25hRequirement already satisfied: importlib-metadata>=1.7.0 in /usr/local/lib/python3.7/dist-packages (from stevedore>=3.0.0->qiskit-terra==0.21.1->qiskit) (4.12.0)\n",
            "Requirement already satisfied: zipp>=0.5 in /usr/local/lib/python3.7/dist-packages (from importlib-metadata>=1.7.0->stevedore>=3.0.0->qiskit-terra==0.21.1->qiskit) (3.8.1)\n",
            "Requirement already satisfied: mpmath>=0.19 in /usr/local/lib/python3.7/dist-packages (from sympy>=1.3->qiskit-terra==0.21.1->qiskit) (1.2.1)\n",
            "Building wheels for collected packages: qiskit\n",
            "  Building wheel for qiskit (setup.py) ... \u001b[?25l\u001b[?25hdone\n",
            "  Created wheel for qiskit: filename=qiskit-0.37.1-py3-none-any.whl size=12067 sha256=9f571ecea6aabbeb7f6ff08e0d937248f60ef69b6f0273ea3a5f22e03d74274c\n",
            "  Stored in directory: /root/.cache/pip/wheels/1c/3c/a3/bf8c2931e17937329c34a88b76cb88cbb7f9f2692fa7cfbcd1\n",
            "Successfully built qiskit\n",
            "Installing collected packages: pbr, tweedledum, symengine, stevedore, shared-memory38, retworkx, ply, ntlm-auth, cryptography, websockets, websocket-client, requests-ntlm, qiskit-terra, qiskit-ibmq-provider, qiskit-aer, qiskit\n",
            "Successfully installed cryptography-37.0.4 ntlm-auth-1.5.0 pbr-5.10.0 ply-3.11 qiskit-0.37.1 qiskit-aer-0.10.4 qiskit-ibmq-provider-0.19.2 qiskit-terra-0.21.1 requests-ntlm-1.1.0 retworkx-0.11.0 shared-memory38-0.1.2 stevedore-3.5.0 symengine-0.9.2 tweedledum-1.1.1 websocket-client-1.3.3 websockets-10.3\n"
          ]
        }
      ],
      "source": [
        "!pip install qiskit"
      ]
    },
    {
      "cell_type": "code",
      "source": [
        "from qiskit.algorithms import VQE\n",
        "from qiskit import Aer, IBMQ\n",
        "from qiskit.utils import QuantumInstance, algorithm_globals\n",
        "from qiskit.providers.aer.noise import NoiseModel\n",
        "from qiskit.algorithms.optimizers import L_BFGS_B, COBYLA\n",
        "\n",
        "seed = 9999\n"
      ],
      "metadata": {
        "id": "LWn1XIxR3sBK"
      },
      "execution_count": 3,
      "outputs": []
    },
    {
      "cell_type": "markdown",
      "metadata": {
        "id": "18c5b858"
      },
      "source": [
        "## preparing the simulator"
      ]
    },
    {
      "cell_type": "code",
      "execution_count": 4,
      "metadata": {
        "id": "167f7e1e"
      },
      "outputs": [],
      "source": [
        "def prepare_simulator(simulator_name, optimizer_name, seed):\n",
        "    algorithm_globals.random_seed = seed\n",
        "    backend = Aer.get_backend(simulator_name)\n",
        "    quantum_instance = QuantumInstance(backend=backend, \n",
        "                                      shots=8192, \n",
        "                                      seed_transpiler=seed, \n",
        "                                      seed_simulator=seed\n",
        "                                      )\n",
        "    if optimizer_name == \"cobyla\" or optimizer_name == \"COBYLA\":\n",
        "      optimizer = COBYLA(maxiter=60)\n",
        "    else:\n",
        "      optimizer = L_BFGS_B(maxiter=60)\n",
        "    return optimizer, quantum_instance"
      ]
    },
    {
      "cell_type": "markdown",
      "metadata": {
        "id": "cb1814a7"
      },
      "source": [
        "## preparing the hamiltonian for 2 quibts (Ising model)"
      ]
    },
    {
      "cell_type": "code",
      "execution_count": 5,
      "metadata": {
        "id": "da896710"
      },
      "outputs": [],
      "source": [
        "import numpy as np\n",
        "from qiskit.opflow import Z, I\n",
        "\n",
        "def create_hamiltonian(S):\n",
        "  n_1 = S[0]\n",
        "  n_2 = S[1]\n",
        "\n",
        "  H = n_1*n_1*(I^I) + n_1*n_2*(Z^Z) + n_2*n_1*(Z^Z) + n_2*n_2*(I^I)\n",
        "  print(\"========== Ising Model Hamiltonian for Two Qubits ==========\\n\")\n",
        "  print(H.to_matrix())\n",
        "  print()\n",
        "  return H"
      ]
    },
    {
      "cell_type": "markdown",
      "source": [
        "## compute minimal eigenvalue"
      ],
      "metadata": {
        "id": "xb1lbl_Cb8Xk"
      }
    },
    {
      "cell_type": "code",
      "source": [
        "from qiskit.circuit.library import EfficientSU2\n",
        "\n",
        "def minimum_eigenvalue_by_vqe(num_qubits, ansatz_entanglement, optimizer, quantum_instance, hamiltonian):\n",
        "    ansatz = EfficientSU2(num_qubits=num_qubits, entanglement=entanglement)\n",
        "    #ansatz.draw(output='latex', scale=0.5)\n",
        "    vqe = VQE(ansatz, optimizer, quantum_instance=quantum_instance)\n",
        "    result = vqe.compute_minimum_eigenvalue(hamiltonian)\n",
        "    print(\"minimal eigenvalue: \", format(result.eigenvalue,\".3f\"))"
      ],
      "metadata": {
        "id": "Eu7q77nAb724"
      },
      "execution_count": 6,
      "outputs": []
    },
    {
      "cell_type": "markdown",
      "metadata": {
        "id": "a821e568"
      },
      "source": [
        "## compute minimal eigenvalue for solvable problem"
      ]
    },
    {
      "cell_type": "code",
      "source": [
        "from qiskit.circuit.library import EfficientSU2  \n",
        "num_qubits = 2\n",
        "entanglement = \"linear\"\n",
        "H = create_hamiltonian(solvable_problem)"
      ],
      "metadata": {
        "colab": {
          "base_uri": "https://localhost:8080/"
        },
        "id": "bWqPojz87cAn",
        "outputId": "9f9667f2-9489-459b-93df-8ddcab84bc50"
      },
      "execution_count": 7,
      "outputs": [
        {
          "output_type": "stream",
          "name": "stdout",
          "text": [
            "========== Ising Model Hamiltonian for Two Qubits ==========\n",
            "\n",
            "[[4.+0.j 0.+0.j 0.+0.j 0.+0.j]\n",
            " [0.+0.j 0.+0.j 0.+0.j 0.+0.j]\n",
            " [0.+0.j 0.+0.j 0.+0.j 0.+0.j]\n",
            " [0.+0.j 0.+0.j 0.+0.j 4.+0.j]]\n",
            "\n"
          ]
        }
      ]
    },
    {
      "cell_type": "markdown",
      "source": [
        "### qasm simulator and cobyla optimizer"
      ],
      "metadata": {
        "id": "ge6XnLhu6S55"
      }
    },
    {
      "cell_type": "code",
      "source": [
        "bfgs_optimizer, quantum_instance = prepare_simulator(\"qasm_simulator\", \"cobyla\", seed) \n",
        "minimum_eigenvalue_by_vqe(num_qubits, entanglement, bfgs_optimizer, quantum_instance, H)"
      ],
      "metadata": {
        "colab": {
          "base_uri": "https://localhost:8080/"
        },
        "id": "o1QBtpDW8lWw",
        "outputId": "dcfad798-0a86-4df1-956a-b68bde402274"
      },
      "execution_count": 8,
      "outputs": [
        {
          "output_type": "stream",
          "name": "stdout",
          "text": [
            "minimal eigenvalue:  0.000+0.000j\n"
          ]
        }
      ]
    },
    {
      "cell_type": "markdown",
      "source": [
        "### qasm simulator and bfgs optimizer"
      ],
      "metadata": {
        "id": "MIJK4h416bP4"
      }
    },
    {
      "cell_type": "markdown",
      "source": [
        "returns wrong result :/ expected result: 0.000"
      ],
      "metadata": {
        "id": "CMDCZSD4xPni"
      }
    },
    {
      "cell_type": "code",
      "source": [
        "from qiskit.tools.visualization import circuit_drawer\n",
        "bfgs_optimizer, quantum_instance = prepare_simulator(\"qasm_simulator\", \"bfgs\", seed) \n",
        "minimum_eigenvalue_by_vqe(num_qubits, entanglement, bfgs_optimizer, quantum_instance, H)"
      ],
      "metadata": {
        "colab": {
          "base_uri": "https://localhost:8080/"
        },
        "id": "rXWXpwFS8Dd7",
        "outputId": "d170023b-47f1-4980-be06-d7e0d10e1410"
      },
      "execution_count": 9,
      "outputs": [
        {
          "output_type": "stream",
          "name": "stdout",
          "text": [
            "minimal eigenvalue:  1.247+0.000j\n"
          ]
        }
      ]
    },
    {
      "cell_type": "markdown",
      "source": [
        "### aer_statevector simulator and cobyla optimizer"
      ],
      "metadata": {
        "id": "VFFCVr1i6foe"
      }
    },
    {
      "cell_type": "markdown",
      "source": [
        "returns wrong result :/ expected result: 0.000"
      ],
      "metadata": {
        "id": "LkMgsSHjxf9y"
      }
    },
    {
      "cell_type": "code",
      "source": [
        "cobyla_optimizer, quantum_instance = prepare_simulator(\"aer_simulator_statevector\", \"cobyla\", seed) \n",
        "minimum_eigenvalue_by_vqe(num_qubits, entanglement, cobyla_optimizer, quantum_instance, H)"
      ],
      "metadata": {
        "colab": {
          "base_uri": "https://localhost:8080/"
        },
        "id": "Z6YLMF-L7YfN",
        "outputId": "a480e3b0-d0b5-44b1-9e64-5b67a04c14a5"
      },
      "execution_count": 10,
      "outputs": [
        {
          "output_type": "stream",
          "name": "stdout",
          "text": [
            "minimal eigenvalue:  0.002+0.000j\n"
          ]
        }
      ]
    },
    {
      "cell_type": "markdown",
      "source": [
        "### aer_statevector simulator and bfgs optimizer"
      ],
      "metadata": {
        "id": "6yuZxnUd6omw"
      }
    },
    {
      "cell_type": "code",
      "execution_count": 11,
      "metadata": {
        "scrolled": true,
        "colab": {
          "base_uri": "https://localhost:8080/"
        },
        "id": "1f149367",
        "outputId": "8c9afba5-d140-459d-8bd4-100462e6cd2e"
      },
      "outputs": [
        {
          "output_type": "stream",
          "name": "stdout",
          "text": [
            "minimal eigenvalue:  0.000+0.000j\n"
          ]
        }
      ],
      "source": [
        "bfgs_optimizer, quantum_instance = prepare_simulator(\"aer_simulator_statevector\", \"bfgs\", seed) \n",
        "minimum_eigenvalue_by_vqe(num_qubits, entanglement, bfgs_optimizer, quantum_instance, H)"
      ]
    },
    {
      "cell_type": "markdown",
      "source": [
        "## compute minimal eigenvalue for unsolvable problem"
      ],
      "metadata": {
        "id": "-VGosfePbzpw"
      }
    },
    {
      "cell_type": "code",
      "source": [
        "from qiskit.circuit.library import EfficientSU2  \n",
        "num_qubits = 2\n",
        "entanglement = \"linear\"\n",
        "H = create_hamiltonian(unsolvable_problem)"
      ],
      "metadata": {
        "colab": {
          "base_uri": "https://localhost:8080/"
        },
        "outputId": "07dd4233-81fb-4414-d18c-3ec0b7d39f54",
        "id": "To7ttUic1wIK"
      },
      "execution_count": 12,
      "outputs": [
        {
          "output_type": "stream",
          "name": "stdout",
          "text": [
            "========== Ising Model Hamiltonian for Two Qubits ==========\n",
            "\n",
            "[[16.+0.j  0.+0.j  0.+0.j  0.+0.j]\n",
            " [ 0.+0.j  4.+0.j  0.+0.j  0.+0.j]\n",
            " [ 0.+0.j  0.+0.j  4.+0.j  0.+0.j]\n",
            " [ 0.+0.j  0.+0.j  0.+0.j 16.+0.j]]\n",
            "\n"
          ]
        }
      ]
    },
    {
      "cell_type": "markdown",
      "source": [
        "### qasm simulator and cobyla optimizer"
      ],
      "metadata": {
        "id": "Vx30bcn-1wIR"
      }
    },
    {
      "cell_type": "code",
      "source": [
        "bfgs_optimizer, quantum_instance = prepare_simulator(\"qasm_simulator\", \"cobyla\", seed) \n",
        "minimum_eigenvalue_by_vqe(num_qubits, entanglement, bfgs_optimizer, quantum_instance, H)"
      ],
      "metadata": {
        "colab": {
          "base_uri": "https://localhost:8080/"
        },
        "outputId": "3ea9a689-b1e7-4998-e521-7534d438cc19",
        "id": "KEmcNLVe1wIR"
      },
      "execution_count": 13,
      "outputs": [
        {
          "output_type": "stream",
          "name": "stdout",
          "text": [
            "minimal eigenvalue:  4.000+0.000j\n"
          ]
        }
      ]
    },
    {
      "cell_type": "markdown",
      "source": [
        "### qasm simulator and bfgs optimizer"
      ],
      "metadata": {
        "id": "r7cvYdpX1wIS"
      }
    },
    {
      "cell_type": "markdown",
      "source": [
        "returns wrong result :/ expected result: 4.000"
      ],
      "metadata": {
        "id": "Izl-60Ugxjn5"
      }
    },
    {
      "cell_type": "code",
      "source": [
        "from qiskit.tools.visualization import circuit_drawer\n",
        "bfgs_optimizer, quantum_instance = prepare_simulator(\"qasm_simulator\", \"bfgs\", seed) \n",
        "minimum_eigenvalue_by_vqe(num_qubits, entanglement, bfgs_optimizer, quantum_instance, H)"
      ],
      "metadata": {
        "colab": {
          "base_uri": "https://localhost:8080/"
        },
        "outputId": "06f25a31-5881-4c7d-830a-a149f133ed85",
        "id": "hC9FkA2F1wIS"
      },
      "execution_count": 14,
      "outputs": [
        {
          "output_type": "stream",
          "name": "stdout",
          "text": [
            "minimal eigenvalue:  7.740+0.000j\n"
          ]
        }
      ]
    },
    {
      "cell_type": "markdown",
      "source": [
        "### aer_statevector simulator and cobyla optimizer"
      ],
      "metadata": {
        "id": "wmdRCHFJ1wIS"
      }
    },
    {
      "cell_type": "code",
      "source": [
        "cobyla_optimizer, quantum_instance = prepare_simulator(\"aer_simulator_statevector\", \"cobyla\", seed) \n",
        "minimum_eigenvalue_by_vqe(num_qubits, entanglement, cobyla_optimizer, quantum_instance, H)"
      ],
      "metadata": {
        "colab": {
          "base_uri": "https://localhost:8080/"
        },
        "outputId": "c9d88b0a-056d-4ef4-d95a-0af0cd252298",
        "id": "36M_3MKO1wIS"
      },
      "execution_count": 15,
      "outputs": [
        {
          "output_type": "stream",
          "name": "stdout",
          "text": [
            "minimal eigenvalue:  4.004+0.000j\n"
          ]
        }
      ]
    },
    {
      "cell_type": "markdown",
      "source": [
        "### aer_statevector simulator and bfgs optimizer"
      ],
      "metadata": {
        "id": "WPKF43us1wIT"
      }
    },
    {
      "cell_type": "code",
      "execution_count": 16,
      "metadata": {
        "scrolled": true,
        "colab": {
          "base_uri": "https://localhost:8080/"
        },
        "outputId": "0333570d-14d3-4c0f-fbb7-9da6f471afc2",
        "id": "UYxHgTIo1wIT"
      },
      "outputs": [
        {
          "output_type": "stream",
          "name": "stdout",
          "text": [
            "minimal eigenvalue:  4.000+0.000j\n"
          ]
        }
      ],
      "source": [
        "bfgs_optimizer, quantum_instance = prepare_simulator(\"aer_simulator_statevector\", \"bfgs\", seed) \n",
        "minimum_eigenvalue_by_vqe(num_qubits, entanglement, bfgs_optimizer, quantum_instance, H)"
      ]
    },
    {
      "cell_type": "markdown",
      "source": [
        "## General Form"
      ],
      "metadata": {
        "id": "_yiEbpcGcanO"
      }
    },
    {
      "cell_type": "code",
      "source": [
        "solvable_problem_4_qubits = [1,2,3,2]\n",
        "unsolvable_problem_4_qubits = [1,2,4,2]"
      ],
      "metadata": {
        "id": "WNKChVheFUdd"
      },
      "execution_count": 17,
      "outputs": []
    },
    {
      "cell_type": "markdown",
      "metadata": {
        "id": "TjZGaMsrcnkY"
      },
      "source": [
        "### preparing the hamiltonian for n quibts (Ising model)"
      ]
    },
    {
      "cell_type": "code",
      "execution_count": 18,
      "metadata": {
        "id": "_sFzMhg3cnkY"
      },
      "outputs": [],
      "source": [
        "import numpy as np\n",
        "from qiskit.opflow import Z, I\n",
        "\n",
        "def create_general_hamiltonian(S):\n",
        "  num_qubits = len(S)\n",
        "  sum = 0\n",
        "  sigmas_list = []\n",
        "  for qubit in range(num_qubits):\n",
        "    if qubit == 0:\n",
        "       sigma = Z\n",
        "    else:\n",
        "       sigma = I\n",
        "    for i in range(1,num_qubits):\n",
        "      if i == qubit:\n",
        "        sigma = sigma^Z\n",
        "      else:\n",
        "        sigma = sigma^I\n",
        "    sigmas_list.append(sigma)  \n",
        "\n",
        "  for i in range(len(sigmas_list)):\n",
        "    for j in range(len(sigmas_list)):\n",
        "      sum += S[i]*S[j]* sigmas_list[i]@sigmas_list[j]\n",
        "  print(\"========== Ising Model Hamiltonian ==========\\n\")\n",
        "  print(sum.to_matrix())\n",
        "  print()\n",
        "  return sum"
      ]
    },
    {
      "cell_type": "markdown",
      "source": [
        "### Example: solvable 4 qubit problem"
      ],
      "metadata": {
        "id": "LphpIOEnGB2S"
      }
    },
    {
      "cell_type": "code",
      "source": [
        "H = create_general_hamiltonian(solvable_problem_4_qubits)\n",
        "bfgs_optimizer, quantum_instance = prepare_simulator(\"aer_simulator_statevector\", \"bfgs\", seed) \n",
        "minimum_eigenvalue_by_vqe(len(solvable_problem_4_qubits), entanglement, bfgs_optimizer, quantum_instance, H)"
      ],
      "metadata": {
        "colab": {
          "base_uri": "https://localhost:8080/"
        },
        "id": "nDmo7n3cFbmP",
        "outputId": "fb1b0bc0-0857-4de3-e696-e56984d543ec"
      },
      "execution_count": 19,
      "outputs": [
        {
          "output_type": "stream",
          "name": "stdout",
          "text": [
            "========== Ising Model Hamiltonian ==========\n",
            "\n",
            "[[64.+0.j  0.+0.j  0.+0.j  0.+0.j  0.+0.j  0.+0.j  0.+0.j  0.+0.j  0.+0.j\n",
            "   0.+0.j  0.+0.j  0.+0.j  0.+0.j  0.+0.j  0.+0.j  0.+0.j]\n",
            " [ 0.+0.j 16.+0.j  0.+0.j  0.+0.j  0.+0.j  0.+0.j  0.+0.j  0.+0.j  0.+0.j\n",
            "   0.+0.j  0.+0.j  0.+0.j  0.+0.j  0.+0.j  0.+0.j  0.+0.j]\n",
            " [ 0.+0.j  0.+0.j  4.+0.j  0.+0.j  0.+0.j  0.+0.j  0.+0.j  0.+0.j  0.+0.j\n",
            "   0.+0.j  0.+0.j  0.+0.j  0.+0.j  0.+0.j  0.+0.j  0.+0.j]\n",
            " [ 0.+0.j  0.+0.j  0.+0.j  4.+0.j  0.+0.j  0.+0.j  0.+0.j  0.+0.j  0.+0.j\n",
            "   0.+0.j  0.+0.j  0.+0.j  0.+0.j  0.+0.j  0.+0.j  0.+0.j]\n",
            " [ 0.+0.j  0.+0.j  0.+0.j  0.+0.j 16.+0.j  0.+0.j  0.+0.j  0.+0.j  0.+0.j\n",
            "   0.+0.j  0.+0.j  0.+0.j  0.+0.j  0.+0.j  0.+0.j  0.+0.j]\n",
            " [ 0.+0.j  0.+0.j  0.+0.j  0.+0.j  0.+0.j  0.+0.j  0.+0.j  0.+0.j  0.+0.j\n",
            "   0.+0.j  0.+0.j  0.+0.j  0.+0.j  0.+0.j  0.+0.j  0.+0.j]\n",
            " [ 0.+0.j  0.+0.j  0.+0.j  0.+0.j  0.+0.j  0.+0.j  4.+0.j  0.+0.j  0.+0.j\n",
            "   0.+0.j  0.+0.j  0.+0.j  0.+0.j  0.+0.j  0.+0.j  0.+0.j]\n",
            " [ 0.+0.j  0.+0.j  0.+0.j  0.+0.j  0.+0.j  0.+0.j  0.+0.j 36.+0.j  0.+0.j\n",
            "   0.+0.j  0.+0.j  0.+0.j  0.+0.j  0.+0.j  0.+0.j  0.+0.j]\n",
            " [ 0.+0.j  0.+0.j  0.+0.j  0.+0.j  0.+0.j  0.+0.j  0.+0.j  0.+0.j 36.+0.j\n",
            "   0.+0.j  0.+0.j  0.+0.j  0.+0.j  0.+0.j  0.+0.j  0.+0.j]\n",
            " [ 0.+0.j  0.+0.j  0.+0.j  0.+0.j  0.+0.j  0.+0.j  0.+0.j  0.+0.j  0.+0.j\n",
            "   4.+0.j  0.+0.j  0.+0.j  0.+0.j  0.+0.j  0.+0.j  0.+0.j]\n",
            " [ 0.+0.j  0.+0.j  0.+0.j  0.+0.j  0.+0.j  0.+0.j  0.+0.j  0.+0.j  0.+0.j\n",
            "   0.+0.j  0.+0.j  0.+0.j  0.+0.j  0.+0.j  0.+0.j  0.+0.j]\n",
            " [ 0.+0.j  0.+0.j  0.+0.j  0.+0.j  0.+0.j  0.+0.j  0.+0.j  0.+0.j  0.+0.j\n",
            "   0.+0.j  0.+0.j 16.+0.j  0.+0.j  0.+0.j  0.+0.j  0.+0.j]\n",
            " [ 0.+0.j  0.+0.j  0.+0.j  0.+0.j  0.+0.j  0.+0.j  0.+0.j  0.+0.j  0.+0.j\n",
            "   0.+0.j  0.+0.j  0.+0.j  4.+0.j  0.+0.j  0.+0.j  0.+0.j]\n",
            " [ 0.+0.j  0.+0.j  0.+0.j  0.+0.j  0.+0.j  0.+0.j  0.+0.j  0.+0.j  0.+0.j\n",
            "   0.+0.j  0.+0.j  0.+0.j  0.+0.j  4.+0.j  0.+0.j  0.+0.j]\n",
            " [ 0.+0.j  0.+0.j  0.+0.j  0.+0.j  0.+0.j  0.+0.j  0.+0.j  0.+0.j  0.+0.j\n",
            "   0.+0.j  0.+0.j  0.+0.j  0.+0.j  0.+0.j 16.+0.j  0.+0.j]\n",
            " [ 0.+0.j  0.+0.j  0.+0.j  0.+0.j  0.+0.j  0.+0.j  0.+0.j  0.+0.j  0.+0.j\n",
            "   0.+0.j  0.+0.j  0.+0.j  0.+0.j  0.+0.j  0.+0.j 64.+0.j]]\n",
            "\n",
            "minimal eigenvalue:  0.000+0.000j\n"
          ]
        }
      ]
    },
    {
      "cell_type": "markdown",
      "source": [
        "### Example: unsolvable 4 qubit problem"
      ],
      "metadata": {
        "id": "N6Cx8NX5GL4o"
      }
    },
    {
      "cell_type": "code",
      "source": [
        "H = create_general_hamiltonian(unsolvable_problem_4_qubits)\n",
        "bfgs_optimizer, quantum_instance = prepare_simulator(\"aer_simulator_statevector\", \"bfgs\", seed) \n",
        "minimum_eigenvalue_by_vqe(len(solvable_problem_4_qubits), entanglement, bfgs_optimizer, quantum_instance, H)"
      ],
      "metadata": {
        "colab": {
          "base_uri": "https://localhost:8080/"
        },
        "outputId": "ef87c1da-0050-4338-c657-1af8e73cb290",
        "id": "m9RmupOoGL4v"
      },
      "execution_count": 20,
      "outputs": [
        {
          "output_type": "stream",
          "name": "stdout",
          "text": [
            "========== Ising Model Hamiltonian ==========\n",
            "\n",
            "[[81.+0.j  0.+0.j  0.+0.j  0.+0.j  0.+0.j  0.+0.j  0.+0.j  0.+0.j  0.+0.j\n",
            "   0.+0.j  0.+0.j  0.+0.j  0.+0.j  0.+0.j  0.+0.j  0.+0.j]\n",
            " [ 0.+0.j 25.+0.j  0.+0.j  0.+0.j  0.+0.j  0.+0.j  0.+0.j  0.+0.j  0.+0.j\n",
            "   0.+0.j  0.+0.j  0.+0.j  0.+0.j  0.+0.j  0.+0.j  0.+0.j]\n",
            " [ 0.+0.j  0.+0.j  1.+0.j  0.+0.j  0.+0.j  0.+0.j  0.+0.j  0.+0.j  0.+0.j\n",
            "   0.+0.j  0.+0.j  0.+0.j  0.+0.j  0.+0.j  0.+0.j  0.+0.j]\n",
            " [ 0.+0.j  0.+0.j  0.+0.j  9.+0.j  0.+0.j  0.+0.j  0.+0.j  0.+0.j  0.+0.j\n",
            "   0.+0.j  0.+0.j  0.+0.j  0.+0.j  0.+0.j  0.+0.j  0.+0.j]\n",
            " [ 0.+0.j  0.+0.j  0.+0.j  0.+0.j 25.+0.j  0.+0.j  0.+0.j  0.+0.j  0.+0.j\n",
            "   0.+0.j  0.+0.j  0.+0.j  0.+0.j  0.+0.j  0.+0.j  0.+0.j]\n",
            " [ 0.+0.j  0.+0.j  0.+0.j  0.+0.j  0.+0.j  1.+0.j  0.+0.j  0.+0.j  0.+0.j\n",
            "   0.+0.j  0.+0.j  0.+0.j  0.+0.j  0.+0.j  0.+0.j  0.+0.j]\n",
            " [ 0.+0.j  0.+0.j  0.+0.j  0.+0.j  0.+0.j  0.+0.j  9.+0.j  0.+0.j  0.+0.j\n",
            "   0.+0.j  0.+0.j  0.+0.j  0.+0.j  0.+0.j  0.+0.j  0.+0.j]\n",
            " [ 0.+0.j  0.+0.j  0.+0.j  0.+0.j  0.+0.j  0.+0.j  0.+0.j 49.+0.j  0.+0.j\n",
            "   0.+0.j  0.+0.j  0.+0.j  0.+0.j  0.+0.j  0.+0.j  0.+0.j]\n",
            " [ 0.+0.j  0.+0.j  0.+0.j  0.+0.j  0.+0.j  0.+0.j  0.+0.j  0.+0.j 49.+0.j\n",
            "   0.+0.j  0.+0.j  0.+0.j  0.+0.j  0.+0.j  0.+0.j  0.+0.j]\n",
            " [ 0.+0.j  0.+0.j  0.+0.j  0.+0.j  0.+0.j  0.+0.j  0.+0.j  0.+0.j  0.+0.j\n",
            "   9.+0.j  0.+0.j  0.+0.j  0.+0.j  0.+0.j  0.+0.j  0.+0.j]\n",
            " [ 0.+0.j  0.+0.j  0.+0.j  0.+0.j  0.+0.j  0.+0.j  0.+0.j  0.+0.j  0.+0.j\n",
            "   0.+0.j  1.+0.j  0.+0.j  0.+0.j  0.+0.j  0.+0.j  0.+0.j]\n",
            " [ 0.+0.j  0.+0.j  0.+0.j  0.+0.j  0.+0.j  0.+0.j  0.+0.j  0.+0.j  0.+0.j\n",
            "   0.+0.j  0.+0.j 25.+0.j  0.+0.j  0.+0.j  0.+0.j  0.+0.j]\n",
            " [ 0.+0.j  0.+0.j  0.+0.j  0.+0.j  0.+0.j  0.+0.j  0.+0.j  0.+0.j  0.+0.j\n",
            "   0.+0.j  0.+0.j  0.+0.j  9.+0.j  0.+0.j  0.+0.j  0.+0.j]\n",
            " [ 0.+0.j  0.+0.j  0.+0.j  0.+0.j  0.+0.j  0.+0.j  0.+0.j  0.+0.j  0.+0.j\n",
            "   0.+0.j  0.+0.j  0.+0.j  0.+0.j  1.+0.j  0.+0.j  0.+0.j]\n",
            " [ 0.+0.j  0.+0.j  0.+0.j  0.+0.j  0.+0.j  0.+0.j  0.+0.j  0.+0.j  0.+0.j\n",
            "   0.+0.j  0.+0.j  0.+0.j  0.+0.j  0.+0.j 25.+0.j  0.+0.j]\n",
            " [ 0.+0.j  0.+0.j  0.+0.j  0.+0.j  0.+0.j  0.+0.j  0.+0.j  0.+0.j  0.+0.j\n",
            "   0.+0.j  0.+0.j  0.+0.j  0.+0.j  0.+0.j  0.+0.j 81.+0.j]]\n",
            "\n",
            "minimal eigenvalue:  1.000+0.000j\n"
          ]
        }
      ]
    }
  ]
}