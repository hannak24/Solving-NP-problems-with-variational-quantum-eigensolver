{
  "cells": [
    {
      "cell_type": "markdown",
      "metadata": {
        "id": "V-228Lj-0HKQ"
      },
      "source": [
        "# classiq"
      ]
    },
    {
      "cell_type": "markdown",
      "metadata": {
        "id": "fz5soA412HR1"
      },
      "source": [
        "I will start with small 2 qubit problems, one solvable and one not."
      ]
    },
    {
      "cell_type": "code",
      "execution_count": 1,
      "metadata": {
        "id": "Zx9pgIAC_w7e"
      },
      "outputs": [],
      "source": [
        "solvable_problem = [1,1] #An solvable instance of the partitioning problem to be solved using 2 quibts\n",
        "unsolvable_problem = [1,3] #An unsolvable instance of the partitioning problem to be solved using 2 quibts"
      ]
    },
    {
      "cell_type": "code",
      "execution_count": 2,
      "metadata": {
        "colab": {
          "base_uri": "https://localhost:8080/",
          "height": 1000
        },
        "id": "7DIy0Pvn0HKZ",
        "outputId": "c62a4f97-88c9-412c-f311-fd7ccba93122"
      },
      "outputs": [
        {
          "name": "stdout",
          "output_type": "stream",
          "text": [
            "Looking in indexes: https://pypi.org/simple, https://us-python.pkg.dev/colab-wheels/public/simple/\n",
            "Collecting qiskit\n",
            "  Downloading qiskit-0.39.2.tar.gz (13 kB)\n",
            "Collecting qiskit-terra==0.22.2\n",
            "  Downloading qiskit_terra-0.22.2-cp37-cp37m-manylinux_2_17_x86_64.manylinux2014_x86_64.whl (4.8 MB)\n",
            "\u001b[K     |████████████████████████████████| 4.8 MB 5.1 MB/s \n",
            "\u001b[?25hCollecting qiskit-aer==0.11.1\n",
            "  Downloading qiskit_aer-0.11.1-cp37-cp37m-manylinux_2_17_x86_64.manylinux2014_x86_64.whl (19.2 MB)\n",
            "\u001b[K     |████████████████████████████████| 19.2 MB 66.6 MB/s \n",
            "\u001b[?25hCollecting qiskit-ibmq-provider==0.19.2\n",
            "  Downloading qiskit_ibmq_provider-0.19.2-py3-none-any.whl (240 kB)\n",
            "\u001b[K     |████████████████████████████████| 240 kB 8.1 MB/s \n",
            "\u001b[?25hRequirement already satisfied: scipy>=1.0 in /usr/local/lib/python3.7/dist-packages (from qiskit-aer==0.11.1->qiskit) (1.7.3)\n",
            "Requirement already satisfied: numpy>=1.16.3 in /usr/local/lib/python3.7/dist-packages (from qiskit-aer==0.11.1->qiskit) (1.21.6)\n",
            "Collecting requests-ntlm>=1.1.0\n",
            "  Downloading requests_ntlm-1.1.0-py2.py3-none-any.whl (5.7 kB)\n",
            "Collecting websocket-client>=1.0.1\n",
            "  Downloading websocket_client-1.4.2-py3-none-any.whl (55 kB)\n",
            "\u001b[K     |████████████████████████████████| 55 kB 1.3 MB/s \n",
            "\u001b[?25hCollecting websockets>=10.0\n",
            "  Downloading websockets-10.4-cp37-cp37m-manylinux_2_5_x86_64.manylinux1_x86_64.manylinux_2_17_x86_64.manylinux2014_x86_64.whl (106 kB)\n",
            "\u001b[K     |████████████████████████████████| 106 kB 46.1 MB/s \n",
            "\u001b[?25hRequirement already satisfied: urllib3>=1.21.1 in /usr/local/lib/python3.7/dist-packages (from qiskit-ibmq-provider==0.19.2->qiskit) (1.24.3)\n",
            "Requirement already satisfied: python-dateutil>=2.8.0 in /usr/local/lib/python3.7/dist-packages (from qiskit-ibmq-provider==0.19.2->qiskit) (2.8.2)\n",
            "Requirement already satisfied: requests>=2.19 in /usr/local/lib/python3.7/dist-packages (from qiskit-ibmq-provider==0.19.2->qiskit) (2.23.0)\n",
            "Collecting ply>=3.10\n",
            "  Downloading ply-3.11-py2.py3-none-any.whl (49 kB)\n",
            "\u001b[K     |████████████████████████████████| 49 kB 2.9 MB/s \n",
            "\u001b[?25hCollecting retworkx>=0.11.0\n",
            "  Downloading retworkx-0.12.1-py3-none-any.whl (10 kB)\n",
            "Requirement already satisfied: sympy>=1.3 in /usr/local/lib/python3.7/dist-packages (from qiskit-terra==0.22.2->qiskit) (1.7.1)\n",
            "Collecting tweedledum<2.0,>=1.1\n",
            "  Downloading tweedledum-1.1.1-cp37-cp37m-manylinux_2_12_x86_64.manylinux2010_x86_64.whl (943 kB)\n",
            "\u001b[K     |████████████████████████████████| 943 kB 43.1 MB/s \n",
            "\u001b[?25hRequirement already satisfied: importlib-metadata<5.0 in /usr/local/lib/python3.7/dist-packages (from qiskit-terra==0.22.2->qiskit) (4.13.0)\n",
            "Requirement already satisfied: psutil>=5 in /usr/local/lib/python3.7/dist-packages (from qiskit-terra==0.22.2->qiskit) (5.4.8)\n",
            "Collecting stevedore>=3.0.0\n",
            "  Downloading stevedore-3.5.2-py3-none-any.whl (50 kB)\n",
            "\u001b[K     |████████████████████████████████| 50 kB 2.1 MB/s \n",
            "\u001b[?25hCollecting symengine>=0.9\n",
            "  Downloading symengine-0.9.2-cp37-cp37m-manylinux2010_x86_64.whl (37.5 MB)\n",
            "\u001b[K     |████████████████████████████████| 37.5 MB 1.6 MB/s \n",
            "\u001b[?25hCollecting shared-memory38\n",
            "  Downloading shared_memory38-0.1.2-cp37-cp37m-manylinux_2_5_x86_64.manylinux1_x86_64.whl (25 kB)\n",
            "Requirement already satisfied: dill>=0.3 in /usr/local/lib/python3.7/dist-packages (from qiskit-terra==0.22.2->qiskit) (0.3.6)\n",
            "Requirement already satisfied: typing-extensions in /usr/local/lib/python3.7/dist-packages (from qiskit-terra==0.22.2->qiskit) (4.1.1)\n",
            "Requirement already satisfied: zipp>=0.5 in /usr/local/lib/python3.7/dist-packages (from importlib-metadata<5.0->qiskit-terra==0.22.2->qiskit) (3.10.0)\n",
            "Requirement already satisfied: six>=1.5 in /usr/local/lib/python3.7/dist-packages (from python-dateutil>=2.8.0->qiskit-ibmq-provider==0.19.2->qiskit) (1.15.0)\n",
            "Requirement already satisfied: certifi>=2017.4.17 in /usr/local/lib/python3.7/dist-packages (from requests>=2.19->qiskit-ibmq-provider==0.19.2->qiskit) (2022.9.24)\n",
            "Requirement already satisfied: chardet<4,>=3.0.2 in /usr/local/lib/python3.7/dist-packages (from requests>=2.19->qiskit-ibmq-provider==0.19.2->qiskit) (3.0.4)\n",
            "Requirement already satisfied: idna<3,>=2.5 in /usr/local/lib/python3.7/dist-packages (from requests>=2.19->qiskit-ibmq-provider==0.19.2->qiskit) (2.10)\n",
            "Collecting ntlm-auth>=1.0.2\n",
            "  Downloading ntlm_auth-1.5.0-py2.py3-none-any.whl (29 kB)\n",
            "Collecting cryptography>=1.3\n",
            "  Downloading cryptography-38.0.3-cp36-abi3-manylinux_2_24_x86_64.whl (4.1 MB)\n",
            "\u001b[K     |████████████████████████████████| 4.1 MB 31.0 MB/s \n",
            "\u001b[?25hRequirement already satisfied: cffi>=1.12 in /usr/local/lib/python3.7/dist-packages (from cryptography>=1.3->requests-ntlm>=1.1.0->qiskit-ibmq-provider==0.19.2->qiskit) (1.15.1)\n",
            "Requirement already satisfied: pycparser in /usr/local/lib/python3.7/dist-packages (from cffi>=1.12->cryptography>=1.3->requests-ntlm>=1.1.0->qiskit-ibmq-provider==0.19.2->qiskit) (2.21)\n",
            "Collecting rustworkx==0.12.1\n",
            "  Downloading rustworkx-0.12.1-cp37-cp37m-manylinux_2_17_x86_64.manylinux2014_x86_64.whl (1.9 MB)\n",
            "\u001b[K     |████████████████████████████████| 1.9 MB 41.7 MB/s \n",
            "\u001b[?25hCollecting pbr!=2.1.0,>=2.0.0\n",
            "  Downloading pbr-5.11.0-py2.py3-none-any.whl (112 kB)\n",
            "\u001b[K     |████████████████████████████████| 112 kB 41.0 MB/s \n",
            "\u001b[?25hRequirement already satisfied: mpmath>=0.19 in /usr/local/lib/python3.7/dist-packages (from sympy>=1.3->qiskit-terra==0.22.2->qiskit) (1.2.1)\n",
            "Building wheels for collected packages: qiskit\n",
            "  Building wheel for qiskit (setup.py) ... \u001b[?25l\u001b[?25hdone\n",
            "  Created wheel for qiskit: filename=qiskit-0.39.2-py3-none-any.whl size=12224 sha256=2eadb83f90abe5835bdb294be9f12b0541e8448b1e7ea9eccf3037427deed4ee\n",
            "  Stored in directory: /root/.cache/pip/wheels/30/dc/90/0ee55ccffd13c16db1abd4c43028f7c9cedb5576b190402190\n",
            "Successfully built qiskit\n",
            "Installing collected packages: rustworkx, pbr, tweedledum, symengine, stevedore, shared-memory38, retworkx, ply, ntlm-auth, cryptography, websockets, websocket-client, requests-ntlm, qiskit-terra, qiskit-ibmq-provider, qiskit-aer, qiskit\n",
            "Successfully installed cryptography-38.0.3 ntlm-auth-1.5.0 pbr-5.11.0 ply-3.11 qiskit-0.39.2 qiskit-aer-0.11.1 qiskit-ibmq-provider-0.19.2 qiskit-terra-0.22.2 requests-ntlm-1.1.0 retworkx-0.12.1 rustworkx-0.12.1 shared-memory38-0.1.2 stevedore-3.5.2 symengine-0.9.2 tweedledum-1.1.1 websocket-client-1.4.2 websockets-10.4\n",
            "Looking in indexes: https://pypi.org/simple, https://us-python.pkg.dev/colab-wheels/public/simple/\n",
            "Collecting classiq\n",
            "  Downloading classiq-0.18.2-py3-none-any.whl (237 kB)\n",
            "\u001b[K     |████████████████████████████████| 237 kB 9.4 MB/s \n",
            "\u001b[?25hCollecting plotly<6.0.0,>=5.7.0\n",
            "  Downloading plotly-5.11.0-py2.py3-none-any.whl (15.3 MB)\n",
            "\u001b[K     |████████████████████████████████| 15.3 MB 2.0 MB/s \n",
            "\u001b[?25hCollecting pillow<10.0.0,>=9.0.0\n",
            "  Downloading Pillow-9.3.0-cp37-cp37m-manylinux_2_17_x86_64.manylinux2014_x86_64.whl (3.2 MB)\n",
            "\u001b[K     |████████████████████████████████| 3.2 MB 46.3 MB/s \n",
            "\u001b[?25hRequirement already satisfied: scipy<1.8.0,>=1.7.3 in /usr/local/lib/python3.7/dist-packages (from classiq) (1.7.3)\n",
            "Collecting sympy<2.0.0,>=1.9.0\n",
            "  Downloading sympy-1.10.1-py3-none-any.whl (6.4 MB)\n",
            "\u001b[K     |████████████████████████████████| 6.4 MB 31.0 MB/s \n",
            "\u001b[?25hRequirement already satisfied: tabulate<1,>=0.8.9 in /usr/local/lib/python3.7/dist-packages (from classiq) (0.8.10)\n",
            "Collecting matplotlib<4.0.0,>=3.4.3\n",
            "  Downloading matplotlib-3.5.3-cp37-cp37m-manylinux_2_5_x86_64.manylinux1_x86_64.whl (11.2 MB)\n",
            "\u001b[K     |████████████████████████████████| 11.2 MB 30.4 MB/s \n",
            "\u001b[?25hCollecting Pyomo<6.1,>=6.0\n",
            "  Downloading Pyomo-6.0.1-cp37-cp37m-manylinux_2_5_x86_64.manylinux1_x86_64.manylinux_2_12_x86_64.manylinux2010_x86_64.whl (8.9 MB)\n",
            "\u001b[K     |████████████████████████████████| 8.9 MB 16.7 MB/s \n",
            "\u001b[?25hCollecting nest-asyncio<2.0.0,>=1.5.4\n",
            "  Downloading nest_asyncio-1.5.6-py3-none-any.whl (5.2 kB)\n",
            "Collecting ConfigArgParse<2.0.0,>=1.5.3\n",
            "  Downloading ConfigArgParse-1.5.3-py3-none-any.whl (20 kB)\n",
            "Collecting keyring<24.0.0,>=23.5.0\n",
            "  Downloading keyring-23.11.0-py3-none-any.whl (36 kB)\n",
            "Collecting more-itertools<9.0.0,>=8.8.0\n",
            "  Downloading more_itertools-8.14.0-py3-none-any.whl (52 kB)\n",
            "\u001b[K     |████████████████████████████████| 52 kB 612 kB/s \n",
            "\u001b[?25hRequirement already satisfied: numpy<2.0.0,>=1.20.1 in /usr/local/lib/python3.7/dist-packages (from classiq) (1.21.6)\n",
            "Collecting httpx<1,>=0.23.0\n",
            "  Downloading httpx-0.23.1-py3-none-any.whl (84 kB)\n",
            "\u001b[K     |████████████████████████████████| 84 kB 3.2 MB/s \n",
            "\u001b[?25hRequirement already satisfied: pandas<1.4.0,>=1.3.0 in /usr/local/lib/python3.7/dist-packages (from classiq) (1.3.5)\n",
            "Requirement already satisfied: networkx<3.0.0,>=2.5.1 in /usr/local/lib/python3.7/dist-packages (from classiq) (2.6.3)\n",
            "Requirement already satisfied: packaging<22.0,>=21.3 in /usr/local/lib/python3.7/dist-packages (from classiq) (21.3)\n",
            "Requirement already satisfied: pydantic<2.0.0,>=1.9.0 in /usr/local/lib/python3.7/dist-packages (from classiq) (1.10.2)\n",
            "Collecting sniffio\n",
            "  Downloading sniffio-1.3.0-py3-none-any.whl (10 kB)\n",
            "Collecting rfc3986[idna2008]<2,>=1.3\n",
            "  Downloading rfc3986-1.5.0-py2.py3-none-any.whl (31 kB)\n",
            "Requirement already satisfied: certifi in /usr/local/lib/python3.7/dist-packages (from httpx<1,>=0.23.0->classiq) (2022.9.24)\n",
            "Collecting httpcore<0.17.0,>=0.15.0\n",
            "  Downloading httpcore-0.16.1-py3-none-any.whl (68 kB)\n",
            "\u001b[K     |████████████████████████████████| 68 kB 302 kB/s \n",
            "\u001b[?25hCollecting h11<0.15,>=0.13\n",
            "  Downloading h11-0.14.0-py3-none-any.whl (58 kB)\n",
            "\u001b[K     |████████████████████████████████| 58 kB 5.1 MB/s \n",
            "\u001b[?25hCollecting anyio<5.0,>=3.0\n",
            "  Downloading anyio-3.6.2-py3-none-any.whl (80 kB)\n",
            "\u001b[K     |████████████████████████████████| 80 kB 9.2 MB/s \n",
            "\u001b[?25hRequirement already satisfied: typing-extensions in /usr/local/lib/python3.7/dist-packages (from anyio<5.0,>=3.0->httpcore<0.17.0,>=0.15.0->httpx<1,>=0.23.0->classiq) (4.1.1)\n",
            "Requirement already satisfied: idna>=2.8 in /usr/local/lib/python3.7/dist-packages (from anyio<5.0,>=3.0->httpcore<0.17.0,>=0.15.0->httpx<1,>=0.23.0->classiq) (2.10)\n",
            "Requirement already satisfied: importlib-metadata>=4.11.4 in /usr/local/lib/python3.7/dist-packages (from keyring<24.0.0,>=23.5.0->classiq) (4.13.0)\n",
            "Collecting SecretStorage>=3.2\n",
            "  Downloading SecretStorage-3.3.3-py3-none-any.whl (15 kB)\n",
            "Collecting jeepney>=0.4.2\n",
            "  Downloading jeepney-0.8.0-py3-none-any.whl (48 kB)\n",
            "\u001b[K     |████████████████████████████████| 48 kB 4.0 MB/s \n",
            "\u001b[?25hCollecting jaraco.classes\n",
            "  Downloading jaraco.classes-3.2.3-py3-none-any.whl (6.0 kB)\n",
            "Requirement already satisfied: zipp>=0.5 in /usr/local/lib/python3.7/dist-packages (from importlib-metadata>=4.11.4->keyring<24.0.0,>=23.5.0->classiq) (3.10.0)\n",
            "Requirement already satisfied: cycler>=0.10 in /usr/local/lib/python3.7/dist-packages (from matplotlib<4.0.0,>=3.4.3->classiq) (0.11.0)\n",
            "Requirement already satisfied: python-dateutil>=2.7 in /usr/local/lib/python3.7/dist-packages (from matplotlib<4.0.0,>=3.4.3->classiq) (2.8.2)\n",
            "Requirement already satisfied: pyparsing>=2.2.1 in /usr/local/lib/python3.7/dist-packages (from matplotlib<4.0.0,>=3.4.3->classiq) (3.0.9)\n",
            "Collecting fonttools>=4.22.0\n",
            "  Downloading fonttools-4.38.0-py3-none-any.whl (965 kB)\n",
            "\u001b[K     |████████████████████████████████| 965 kB 35.9 MB/s \n",
            "\u001b[?25hRequirement already satisfied: kiwisolver>=1.0.1 in /usr/local/lib/python3.7/dist-packages (from matplotlib<4.0.0,>=3.4.3->classiq) (1.4.4)\n",
            "Requirement already satisfied: pytz>=2017.3 in /usr/local/lib/python3.7/dist-packages (from pandas<1.4.0,>=1.3.0->classiq) (2022.6)\n",
            "Requirement already satisfied: tenacity>=6.2.0 in /usr/local/lib/python3.7/dist-packages (from plotly<6.0.0,>=5.7.0->classiq) (8.1.0)\n",
            "Requirement already satisfied: ply in /usr/local/lib/python3.7/dist-packages (from Pyomo<6.1,>=6.0->classiq) (3.11)\n",
            "Requirement already satisfied: six>=1.5 in /usr/local/lib/python3.7/dist-packages (from python-dateutil>=2.7->matplotlib<4.0.0,>=3.4.3->classiq) (1.15.0)\n",
            "Requirement already satisfied: cryptography>=2.0 in /usr/local/lib/python3.7/dist-packages (from SecretStorage>=3.2->keyring<24.0.0,>=23.5.0->classiq) (38.0.3)\n",
            "Requirement already satisfied: cffi>=1.12 in /usr/local/lib/python3.7/dist-packages (from cryptography>=2.0->SecretStorage>=3.2->keyring<24.0.0,>=23.5.0->classiq) (1.15.1)\n",
            "Requirement already satisfied: pycparser in /usr/local/lib/python3.7/dist-packages (from cffi>=1.12->cryptography>=2.0->SecretStorage>=3.2->keyring<24.0.0,>=23.5.0->classiq) (2.21)\n",
            "Requirement already satisfied: mpmath>=0.19 in /usr/local/lib/python3.7/dist-packages (from sympy<2.0.0,>=1.9.0->classiq) (1.2.1)\n",
            "Installing collected packages: sniffio, rfc3986, more-itertools, jeepney, h11, anyio, SecretStorage, pillow, jaraco.classes, httpcore, fonttools, sympy, Pyomo, plotly, nest-asyncio, matplotlib, keyring, httpx, ConfigArgParse, classiq\n",
            "  Attempting uninstall: more-itertools\n",
            "    Found existing installation: more-itertools 9.0.0\n",
            "    Uninstalling more-itertools-9.0.0:\n",
            "      Successfully uninstalled more-itertools-9.0.0\n",
            "  Attempting uninstall: pillow\n",
            "    Found existing installation: Pillow 7.1.2\n",
            "    Uninstalling Pillow-7.1.2:\n",
            "      Successfully uninstalled Pillow-7.1.2\n",
            "  Attempting uninstall: sympy\n",
            "    Found existing installation: sympy 1.7.1\n",
            "    Uninstalling sympy-1.7.1:\n",
            "      Successfully uninstalled sympy-1.7.1\n",
            "  Attempting uninstall: plotly\n",
            "    Found existing installation: plotly 5.5.0\n",
            "    Uninstalling plotly-5.5.0:\n",
            "      Successfully uninstalled plotly-5.5.0\n",
            "  Attempting uninstall: matplotlib\n",
            "    Found existing installation: matplotlib 3.2.2\n",
            "    Uninstalling matplotlib-3.2.2:\n",
            "      Successfully uninstalled matplotlib-3.2.2\n",
            "Successfully installed ConfigArgParse-1.5.3 Pyomo-6.0.1 SecretStorage-3.3.3 anyio-3.6.2 classiq-0.18.2 fonttools-4.38.0 h11-0.14.0 httpcore-0.16.1 httpx-0.23.1 jaraco.classes-3.2.3 jeepney-0.8.0 keyring-23.11.0 matplotlib-3.5.3 more-itertools-8.14.0 nest-asyncio-1.5.6 pillow-9.3.0 plotly-5.11.0 rfc3986-1.5.0 sniffio-1.3.0 sympy-1.10.1\n"
          ]
        },
        {
          "data": {
            "application/vnd.colab-display-data+json": {
              "pip_warning": {
                "packages": [
                  "PIL",
                  "matplotlib",
                  "mpl_toolkits"
                ]
              }
            }
          },
          "metadata": {},
          "output_type": "display_data"
        },
        {
          "name": "stdout",
          "output_type": "stream",
          "text": [
            "Looking in indexes: https://pypi.org/simple, https://us-python.pkg.dev/colab-wheels/public/simple/\n",
            "Requirement already satisfied: nest_asyncio in /usr/local/lib/python3.7/dist-packages (1.5.6)\n"
          ]
        }
      ],
      "source": [
        "%pip install qiskit\n",
        "%pip install classiq\n",
        "%pip install nest_asyncio"
      ]
    },
    {
      "cell_type": "code",
      "execution_count": 3,
      "metadata": {
        "colab": {
          "base_uri": "https://localhost:8080/"
        },
        "id": "A79EDVzf0HKZ",
        "outputId": "523c3fc4-8423-4d48-d691-c42069ae3d08"
      },
      "outputs": [
        {
          "name": "stdout",
          "output_type": "stream",
          "text": [
            "Your user code: CKWQ-MQXW\n",
            "If a browser doesn't automatically open, please visit the url: https://classiq.eu.auth0.com/activate?user_code=CKWQ-MQXW\n"
          ]
        }
      ],
      "source": [
        "import nest_asyncio\n",
        "nest_asyncio.apply()\n",
        "import classiq\n",
        "\n",
        "classiq.authenticate()"
      ]
    },
    {
      "cell_type": "code",
      "execution_count": 4,
      "metadata": {
        "id": "UiqvmbPd0HKZ"
      },
      "outputs": [],
      "source": [
        "from classiq import ModelDesigner, Executor\n",
        "from classiq.builtin_functions import UCC, HartreeFock\n",
        "\n",
        "from classiq.interface.chemistry.molecule import Molecule\n",
        "from classiq.interface.chemistry.ground_state_problem import GroundStateProblem\n",
        "from classiq.interface.backend.backend_preferences import (\n",
        "    IBMBackendPreferences,\n",
        "    IBMBackendProvider,\n",
        ")\n",
        "from classiq.interface.executor.execution_preferences import ExecutionPreferences, OptimizerPreferences\n",
        "from classiq.interface.executor.hamiltonian_minimization_problem import HamiltonianMinimizationProblem\n",
        "from classiq.interface.executor.quantum_instruction_set import QuantumInstructionSet\n",
        "from classiq.interface.executor.quantum_program import QuantumProgram\n",
        "from classiq.interface.chemistry.operator import PauliOperator\n",
        "from classiq import ModelDesigner\n",
        "from classiq.builtin_functions import HardwareEfficientAnsatz"
      ]
    },
    {
      "cell_type": "markdown",
      "metadata": {
        "id": "s0Op-nXJ0HKZ"
      },
      "source": [
        "## preparing the hamiltonian for 2 quibts (Ising model)"
      ]
    },
    {
      "cell_type": "code",
      "execution_count": 5,
      "metadata": {
        "id": "kRsNWDAj0HKa"
      },
      "outputs": [],
      "source": [
        "def create_hamiltonian(S):\n",
        "  n_1 = S[0]\n",
        "  n_2 = S[1]\n",
        "\n",
        "  H = [(\"II\",n_1*n_1),\n",
        " (\"ZZ\",n_1*n_2),\n",
        " (\"ZZ\",n_2*n_1),\n",
        " (\"II\",n_2*n_2)]\n",
        "  return H\n"
      ]
    },
    {
      "cell_type": "markdown",
      "metadata": {
        "id": "HKXVTP8p0HKa"
      },
      "source": [
        "## Prepare simulator"
      ]
    },
    {
      "cell_type": "code",
      "execution_count": 6,
      "metadata": {
        "id": "GWanBkLTCD88"
      },
      "outputs": [],
      "source": [
        "def define_simulator(simulator_name):\n",
        "    if(simulator_name == \"qasm\" or simulator_name == \"QASM\"):\n",
        "      curr_simulator = \"qasm_simulator\"\n",
        "    else:\n",
        "      curr_simulator = \"aer_simulator_statevector\"\n",
        "    return curr_simulator"
      ]
    },
    {
      "cell_type": "code",
      "execution_count": 7,
      "metadata": {
        "id": "XXPi5KKdDG2w"
      },
      "outputs": [],
      "source": [
        "def define_optimizer(optimizer_name):\n",
        "    if(optimizer_name == \"cobyla\" or optimizer_name == \"COBYLA\"):\n",
        "      curr_optimizer = \"COBYLA\"\n",
        "    else:\n",
        "      curr_optimizer = \"L_BFGS_B\"\n",
        "    return curr_optimizer"
      ]
    },
    {
      "cell_type": "code",
      "execution_count": 8,
      "metadata": {
        "id": "mBjluCYWDh9z"
      },
      "outputs": [],
      "source": [
        "def prepare_simulator_classiq(curr_simulator, curr_optimizer,num_of_qubits=2, anzatz_first_gate = \"x\"):\n",
        "    NUM_QUBITS = num_of_qubits\n",
        "    FULLY_CONNECTED_MESH = [[0, 1]]\n",
        "    hwea_params = HardwareEfficientAnsatz(\n",
        "        num_qubits=NUM_QUBITS,\n",
        "        connectivity_map=FULLY_CONNECTED_MESH,\n",
        "        one_qubit_gates=[anzatz_first_gate, \"ry\"],\n",
        "        two_qubit_gates=\"cx\",\n",
        "        reps=3,\n",
        "    )\n",
        "\n",
        "    model_designer = ModelDesigner()\n",
        "    model_designer.HardwareEfficientAnsatz(params=hwea_params)\n",
        "    circuit = model_designer.synthesize()\n",
        "    #circuit.show()\n",
        "    circuit_qasm = circuit.qasm\n",
        "    optimizer_preferences = OptimizerPreferences(\n",
        "        max_iteration=60,\n",
        "        name = curr_optimizer\n",
        "    )\n",
        "\n",
        "    ibm_provider = IBMBackendProvider(\n",
        "        #insert your information\n",
        "    )\n",
        "\n",
        "    backend_preferences = IBMBackendPreferences(\n",
        "        backend_name=curr_simulator,\n",
        "        access_token = \"insert your information\" ,\n",
        "        provider=ibm_provider,\n",
        "    )\n",
        "\n",
        "    num_shots = 8192\n",
        "\n",
        "    execution_preferences = ExecutionPreferences(\n",
        "        num_shots=num_shots,\n",
        "        backend_preferences=backend_preferences,\n",
        "        optimizer_preferences=optimizer_preferences\n",
        "    )\n",
        "    return execution_preferences, circuit_qasm"
      ]
    },
    {
      "cell_type": "markdown",
      "metadata": {
        "id": "iY0un-Is0HKa"
      },
      "source": [
        "## compute minimal eigenvalue"
      ]
    },
    {
      "cell_type": "code",
      "execution_count": 19,
      "metadata": {
        "id": "KglpQYOv0HKa"
      },
      "outputs": [],
      "source": [
        "def minimum_eigenvalue_by_vqe(H, circuit_qasm, execution_preferences):\n",
        "  hamiltonian_problem = HamiltonianMinimizationProblem(\n",
        "      ansatz=QuantumProgram(code=circuit_qasm, syntax=QuantumInstructionSet.QASM),\n",
        "      hamiltonian=H\n",
        "  )\n",
        "  result = Executor(\n",
        "      preferences=execution_preferences\n",
        "  ).execute_hamiltonian_minimization(hamiltonian_problem)\n",
        "  print(\"minimal eigenvalue: \", format(result.energy,\".3f\"))"
      ]
    },
    {
      "cell_type": "markdown",
      "metadata": {
        "id": "_0hke4WX0HKa"
      },
      "source": [
        "## create problem instance"
      ]
    },
    {
      "cell_type": "code",
      "execution_count": 20,
      "metadata": {
        "id": "gE4oA4Bl0HKb"
      },
      "outputs": [],
      "source": [
        "def calc_operator(problem):\n",
        "  partitioningProblem = create_hamiltonian(problem)\n",
        "  operator= PauliOperator(pauli_list=partitioningProblem)\n",
        "  print(operator)\n",
        "  return operator"
      ]
    },
    {
      "cell_type": "code",
      "execution_count": 21,
      "metadata": {
        "colab": {
          "base_uri": "https://localhost:8080/"
        },
        "id": "Q-EuNs0xlr29",
        "outputId": "ce8c0d1e-b53a-4273-add6-8a4913d7a492"
      },
      "outputs": [
        {
          "name": "stdout",
          "output_type": "stream",
          "text": [
            "version='0.18.2' pauli_list=[('II', (1+0j)), ('ZZ', (1+0j)), ('ZZ', (1+0j)), ('II', (1+0j))]\n"
          ]
        }
      ],
      "source": [
        "default_operator = calc_operator(solvable_problem) "
      ]
    },
    {
      "cell_type": "markdown",
      "metadata": {
        "id": "-T1hmni4sVYt"
      },
      "source": [
        "## run experiment"
      ]
    },
    {
      "cell_type": "code",
      "execution_count": 22,
      "metadata": {
        "id": "bmDfhqeWseSL"
      },
      "outputs": [],
      "source": [
        "def run_experiment(simulator,optimizer,num_quibits=2,anzatz_first_gate = \"x\",operator= default_operator):\n",
        "  curr_simulator = define_simulator(simulator)\n",
        "  curr_optimizer = define_optimizer(optimizer)\n",
        "  execution_preferences, circuit_qasm = prepare_simulator_classiq(curr_simulator, curr_optimizer, num_quibits, anzatz_first_gate)\n",
        "  minimum_eigenvalue_by_vqe(operator, circuit_qasm, execution_preferences)\n"
      ]
    },
    {
      "cell_type": "code",
      "execution_count": 31,
      "metadata": {
        "id": "mRKUsC96s7qK"
      },
      "outputs": [],
      "source": [
        "def test_problem_instance(operator, num_quibits=2):\n",
        "  #run_experiment(\"qasm\",\"cobyla\",num_quibits,\"x\",operator)   //returns error                          \n",
        "  #run_experiment(\"qasm\",\"bfgs\",num_quibits,\"x\",operator)    //returns error \n",
        "  print(f\"simulator: aer_statevector, optimizer: cobyla, num of quibits: {num_quibits}, anzats: x, \", end = ' ')                            \n",
        "  r1 = run_experiment(\"aer_statevector\",\"cobyla\",num_quibits,\"x\",operator)  \n",
        "  print(f\"simulator: aer_statevector, optimizer: cobyla, num of quibits: {num_quibits}, anzats: RyRz, \", end = ' ')                \n",
        "  r2 = run_experiment(\"aer_statevector\",\"cobyla\",num_quibits,\"rz\",operator) \n",
        "  print(f\"simulator: aer_statevector, optimizer: bfgs, num of quibits: {num_quibits}, anzats: x, \", end = ' ')          \n",
        "  r3 = run_experiment(\"aer_statevector\",\"bfgs\",num_quibits,\"x\",operator) \n",
        "  print(f\"simulator: aer_statevector, optimizer: bfgs, num of quibits: {num_quibits}, anzats: RyRz, \", end = ' ')                   \n",
        "  r4 = run_experiment(\"aer_statevector\",\"bfgs\",num_quibits,\"rz\",operator)  \n",
        "  return r1, r2, r3, r4           "
      ]
    },
    {
      "cell_type": "markdown",
      "metadata": {
        "id": "Q9bAXSX7s8bz"
      },
      "source": [
        "# Run experiments"
      ]
    },
    {
      "cell_type": "code",
      "execution_count": 32,
      "metadata": {
        "colab": {
          "base_uri": "https://localhost:8080/"
        },
        "id": "j8VyYDwuc6I6",
        "outputId": "882ed0cc-1219-4af9-e78d-08c9d9287154"
      },
      "outputs": [
        {
          "name": "stdout",
          "output_type": "stream",
          "text": [
            "Solving the solvable problem [1, 1]\n",
            "version='0.18.2' pauli_list=[('II', (1+0j)), ('ZZ', (1+0j)), ('ZZ', (1+0j)), ('II', (1+0j))]\n",
            "simulator: aer_statevector, optimizer: cobyla, num of quibits: 2, anzats: x,  minimal eigenvalue:  0.000\n",
            "simulator: aer_statevector, optimizer: cobyla, num of quibits: 2, anzats: RyRz,  minimal eigenvalue:  0.004\n",
            "simulator: aer_statevector, optimizer: bfgs, num of quibits: 2, anzats: x,  minimal eigenvalue:  0.000\n",
            "simulator: aer_statevector, optimizer: bfgs, num of quibits: 2, anzats: RyRz,  minimal eigenvalue:  0.001\n"
          ]
        }
      ],
      "source": [
        "print(\"Solving the solvable problem \", end = '')\n",
        "print(solvable_problem)\n",
        "solvable_operator = calc_operator(solvable_problem)\n",
        "r1_1, r2_1, r3_1, r4_1 = test_problem_instance(solvable_operator)"
      ]
    },
    {
      "cell_type": "code",
      "execution_count": 33,
      "metadata": {
        "colab": {
          "base_uri": "https://localhost:8080/"
        },
        "id": "xc4aguPFd8An",
        "outputId": "d06fc256-486b-4582-d6f3-e28145e238e0"
      },
      "outputs": [
        {
          "name": "stdout",
          "output_type": "stream",
          "text": [
            "Solving the unsolvable problem [1, 3]\n",
            "version='0.18.2' pauli_list=[('II', (1+0j)), ('ZZ', (3+0j)), ('ZZ', (3+0j)), ('II', (9+0j))]\n",
            "simulator: aer_statevector, optimizer: cobyla, num of quibits: 2, anzats: x,  minimal eigenvalue:  4.000\n",
            "simulator: aer_statevector, optimizer: cobyla, num of quibits: 2, anzats: RyRz,  minimal eigenvalue:  4.002\n",
            "simulator: aer_statevector, optimizer: bfgs, num of quibits: 2, anzats: x,  minimal eigenvalue:  4.001\n",
            "simulator: aer_statevector, optimizer: bfgs, num of quibits: 2, anzats: RyRz,  minimal eigenvalue:  4.004\n"
          ]
        }
      ],
      "source": [
        "print(\"Solving the unsolvable problem \", end = '')\n",
        "print(unsolvable_problem)\n",
        "unsolvable_operator = calc_operator(unsolvable_problem)\n",
        "r1_2, r2_2, r3_2, r4_2 = test_problem_instance(unsolvable_operator)"
      ]
    },
    {
      "cell_type": "markdown",
      "metadata": {
        "id": "fulISLVaeJth"
      },
      "source": [
        "# Results for 2 qubits problems instances"
      ]
    },
    {
      "cell_type": "markdown",
      "metadata": {
        "id": "PJQPUk_li4zr"
      },
      "source": [
        "## Solvable problem ([1,1])"
      ]
    },
    {
      "cell_type": "markdown",
      "metadata": {
        "id": "xQhAiWuQiqi4"
      },
      "source": [
        "* The qasm simulator **didn't work at all** (got stuck in infinite loop or threw error).\n",
        "\n",
        "* The aer_statevector simulator worked well with the x anzats but gave wrong results with the RyRz anzats."
      ]
    },
    {
      "cell_type": "markdown",
      "metadata": {
        "id": "N5JyEZvfeQqI"
      },
      "source": [
        "\n",
        "\n",
        "\n",
        "\n",
        "\n",
        "\n",
        "\n",
        "Optimizer/Anzats  | x               | RyRz\n",
        "------------------|:----------------|--------------------\n",
        "Cobyla            |  0.0 (worked!)  |  0.004 (wrong result)\n",
        "bfgs              |  0.0 (worked!)  |  0.001 (wrong result)"
      ]
    },
    {
      "cell_type": "markdown",
      "metadata": {
        "id": "fUXM49NljFPK"
      },
      "source": [
        "## Unsolvable problem ([1,3])"
      ]
    },
    {
      "cell_type": "markdown",
      "metadata": {
        "id": "ZVmheDK7jFPK"
      },
      "source": [
        "* The qasm simulator **didn't work at all** (got stuck in infinite loop or threw error).\n",
        "\n",
        "* The aer_statevector simulator worked well **only with cobyla optimizer and x anzats**, and gave wrong results for all the other options."
      ]
    },
    {
      "cell_type": "markdown",
      "metadata": {
        "id": "FbuP7uqujFPK"
      },
      "source": [
        "\n",
        "\n",
        "\n",
        "\n",
        "\n",
        "\n",
        "\n",
        "Optimizer/Anzats  | x               | RyRz\n",
        "------------------|:----------------|--------------------\n",
        "Cobyla            |  4.0 (worked!)  |  4.002 (wrong result)\n",
        "bfgs              |  4.001 (wrong result)| 4.004 (wrong result)"
      ]
    },
    {
      "cell_type": "markdown",
      "metadata": {
        "id": "Jg_zSDMaOQOB"
      },
      "source": [
        "## General Form"
      ]
    },
    {
      "cell_type": "code",
      "execution_count": 35,
      "metadata": {
        "id": "2xcvXwFqOQOB"
      },
      "outputs": [],
      "source": [
        "solvable_problem_3_qubits = [1,2,1]\n",
        "unsolvable_problem_3_qubits = [1,3,1]"
      ]
    },
    {
      "cell_type": "markdown",
      "metadata": {
        "id": "6F7y-T5TOQOB"
      },
      "source": [
        "### preparing the hamiltonian for n quibts (Ising model)"
      ]
    },
    {
      "cell_type": "code",
      "execution_count": 34,
      "metadata": {
        "id": "QjWlWhqtOQOC"
      },
      "outputs": [],
      "source": [
        "import numpy as np\n",
        "from qiskit.opflow import Z, I\n",
        "\n",
        "def multiply_ising_models(ham1, ham2, coef1, coef2):\n",
        "  final_sigma = \"\"\n",
        "  final_coef = 0\n",
        "  for i in range(len(ham1)):\n",
        "      sigma1 = ham1[i]\n",
        "      sigma2 = ham2[i]\n",
        "      if (sigma1 == 'Z' and sigma2 == 'Z'):\n",
        "        final_sigma += 'I'\n",
        "      elif (sigma1 == 'I' and sigma2 == 'Z'):\n",
        "        final_sigma += 'Z'\n",
        "      elif (sigma1 == 'Z' and sigma2 == 'I'):\n",
        "        final_sigma += 'Z'\n",
        "      else:\n",
        "        final_sigma += 'I'\n",
        "  return (final_sigma,coef1*coef2)\n",
        "\n",
        "\n",
        "def create_general_hamiltonian_classiq(S):\n",
        "  num_qubits = len(S)\n",
        "  operator = []\n",
        "  sigmas_list = []\n",
        "  for qubit in range(num_qubits):\n",
        "    if qubit == 0:\n",
        "       sigma = \"Z\"\n",
        "    else:\n",
        "       sigma = \"I\"\n",
        "    for i in range(1,num_qubits):\n",
        "      if i == qubit:\n",
        "        sigma = sigma + \"Z\"\n",
        "      else:\n",
        "        sigma = sigma + \"I\"\n",
        "    sigmas_list.append((sigma,S[qubit]))\n",
        "\n",
        "  for i in range(len(sigmas_list)):\n",
        "    for j in range(len(sigmas_list)):\n",
        "      sigma = multiply_ising_models(sigmas_list[i][0], sigmas_list[j][0], sigmas_list[i][1], sigmas_list[j][1])\n",
        "      operator.append(sigma)\n",
        "\n",
        "  H = operator\n",
        "  final_operator= PauliOperator(pauli_list=H)\n",
        "  return final_operator \n"
      ]
    },
    {
      "cell_type": "markdown",
      "metadata": {
        "id": "FD8yxYmCpnBS"
      },
      "source": [
        "# Run experiments"
      ]
    },
    {
      "cell_type": "markdown",
      "metadata": {
        "id": "tKQUaC5Jpwbh"
      },
      "source": [
        "## 3 quibit problems"
      ]
    },
    {
      "cell_type": "code",
      "execution_count": 36,
      "metadata": {
        "colab": {
          "base_uri": "https://localhost:8080/"
        },
        "id": "bpWmTzjxp1Ik",
        "outputId": "77731fbe-810a-4a3d-f314-a4577dd4e5ef"
      },
      "outputs": [
        {
          "name": "stdout",
          "output_type": "stream",
          "text": [
            "Solving the solvable problem [1, 2, 1]\n",
            "simulator: aer_statevector, optimizer: cobyla, num of quibits: 3, anzats: x,  minimal eigenvalue:  0.004\n",
            "simulator: aer_statevector, optimizer: cobyla, num of quibits: 3, anzats: RyRz,  minimal eigenvalue:  0.213\n",
            "simulator: aer_statevector, optimizer: bfgs, num of quibits: 3, anzats: x,  minimal eigenvalue:  0.004\n",
            "simulator: aer_statevector, optimizer: bfgs, num of quibits: 3, anzats: RyRz,  minimal eigenvalue:  0.006\n"
          ]
        },
        {
          "data": {
            "text/plain": [
              "(None, None, None, None)"
            ]
          },
          "execution_count": 36,
          "metadata": {},
          "output_type": "execute_result"
        }
      ],
      "source": [
        "print(\"Solving the solvable problem \", end = '')\n",
        "print(solvable_problem_3_qubits)\n",
        "solvable_operator = create_general_hamiltonian_classiq(solvable_problem_3_qubits)\n",
        "test_problem_instance(solvable_operator, 3)"
      ]
    },
    {
      "cell_type": "code",
      "execution_count": 38,
      "metadata": {
        "colab": {
          "base_uri": "https://localhost:8080/"
        },
        "id": "RHmrzoprqArK",
        "outputId": "224006bd-be25-4cd4-b65b-29b8462e3715"
      },
      "outputs": [
        {
          "name": "stdout",
          "output_type": "stream",
          "text": [
            "Solving the unsolvable problem [1, 3, 1]\n",
            "simulator: aer_statevector, optimizer: cobyla, num of quibits: 3, anzats: x,  minimal eigenvalue:  1.001\n",
            "simulator: aer_statevector, optimizer: cobyla, num of quibits: 3, anzats: RyRz,  minimal eigenvalue:  1.555\n",
            "simulator: aer_statevector, optimizer: bfgs, num of quibits: 3, anzats: x,  minimal eigenvalue:  1.029\n",
            "simulator: aer_statevector, optimizer: bfgs, num of quibits: 3, anzats: RyRz,  minimal eigenvalue:  1.018\n"
          ]
        },
        {
          "data": {
            "text/plain": [
              "(None, None, None, None)"
            ]
          },
          "execution_count": 38,
          "metadata": {},
          "output_type": "execute_result"
        }
      ],
      "source": [
        "print(\"Solving the unsolvable problem \", end = '')\n",
        "print(unsolvable_problem_3_qubits)\n",
        "unsolvable_operator = create_general_hamiltonian_classiq(unsolvable_problem_3_qubits)\n",
        "test_problem_instance(unsolvable_operator, 3)"
      ]
    },
    {
      "cell_type": "markdown",
      "metadata": {
        "id": "4zXfLKT0xZMJ"
      },
      "source": [
        "# Results for 3 qubits problems instances"
      ]
    },
    {
      "cell_type": "markdown",
      "metadata": {
        "id": "jMtDv5V4xZMQ"
      },
      "source": [
        "* The qasm simulator **didn't work at all** (got stuck in infinite loop or threw error).\n",
        "\n",
        "* The aer_statevector unfourtunatly returned wrong result for all the options, especially for the cobyla-RyRz anzats combination."
      ]
    },
    {
      "cell_type": "markdown",
      "metadata": {
        "id": "yKTNBHTqxZMQ"
      },
      "source": [
        "## Solvable problem ([1,2,1])"
      ]
    },
    {
      "cell_type": "markdown",
      "metadata": {
        "id": "b_LWg6y-xZMQ"
      },
      "source": [
        "\n",
        "\n",
        "\n",
        "\n",
        "\n",
        "\n",
        "\n",
        "Optimizer/Anzats  | x               | RyRz\n",
        "------------------|:----------------|--------------------\n",
        "Cobyla            |  0.004 (wrong result)  |  0.213 (very wrong result)\n",
        "bfgs              |  0.004 (wrong result)| 0.006 (wrong result)"
      ]
    },
    {
      "cell_type": "markdown",
      "metadata": {
        "id": "QtjlZ9_JxZMQ"
      },
      "source": [
        "## Unsolvable problem ([1,3,1])\n",
        "\n",
        "\n",
        "\n"
      ]
    },
    {
      "cell_type": "markdown",
      "metadata": {
        "id": "dpADrtovxZMR"
      },
      "source": [
        "\n",
        "\n",
        "\n",
        "\n",
        "\n",
        "\n",
        "\n",
        "Optimizer/Anzats  | x               | RyRz\n",
        "------------------|:----------------|--------------------\n",
        "Cobyla            |  1.001 (wrong result)  | 1.555 (very wrong result)\n",
        "bfgs              |  1.029 (wrong result)| 1.018 (wrong result)"
      ]
    }
  ],
  "metadata": {
    "colab": {
      "provenance": []
    },
    "kernelspec": {
      "display_name": "Python 3.10.5 64-bit",
      "language": "python",
      "name": "python3"
    },
    "language_info": {
      "name": "python",
      "version": "3.10.5"
    },
    "vscode": {
      "interpreter": {
        "hash": "8a3a0e426858314758f763e7ef6780f2ad8839acb88e80dce3c543b124cafa32"
      }
    }
  },
  "nbformat": 4,
  "nbformat_minor": 0
}
