{
  "nbformat": 4,
  "nbformat_minor": 0,
  "metadata": {
    "colab": {
      "provenance": [],
      "collapsed_sections": [
        "JVaT9509SOdU"
      ]
    },
    "kernelspec": {
      "name": "python3",
      "display_name": "Python 3"
    },
    "language_info": {
      "name": "python"
    }
  },
  "cells": [
    {
      "cell_type": "markdown",
      "source": [
        "# classiq"
      ],
      "metadata": {
        "id": "V-228Lj-0HKQ"
      }
    },
    {
      "cell_type": "code",
      "source": [
        "%pip install qiskit\n",
        "%pip install classiq\n",
        "%pip install nest_asyncio"
      ],
      "metadata": {
        "colab": {
          "base_uri": "https://localhost:8080/",
          "height": 1000
        },
        "outputId": "64b7bd7a-8751-4f63-e2f6-c71630937bce",
        "id": "7DIy0Pvn0HKZ"
      },
      "execution_count": 5,
      "outputs": [
        {
          "output_type": "stream",
          "name": "stdout",
          "text": [
            "Looking in indexes: https://pypi.org/simple, https://us-python.pkg.dev/colab-wheels/public/simple/\n",
            "Collecting qiskit\n",
            "  Downloading qiskit-0.39.2.tar.gz (13 kB)\n",
            "Collecting qiskit-terra==0.22.2\n",
            "  Downloading qiskit_terra-0.22.2-cp37-cp37m-manylinux_2_17_x86_64.manylinux2014_x86_64.whl (4.8 MB)\n",
            "\u001b[K     |████████████████████████████████| 4.8 MB 39.0 MB/s \n",
            "\u001b[?25hCollecting qiskit-aer==0.11.1\n",
            "  Downloading qiskit_aer-0.11.1-cp37-cp37m-manylinux_2_17_x86_64.manylinux2014_x86_64.whl (19.2 MB)\n",
            "\u001b[K     |████████████████████████████████| 19.2 MB 4.9 MB/s \n",
            "\u001b[?25hCollecting qiskit-ibmq-provider==0.19.2\n",
            "  Downloading qiskit_ibmq_provider-0.19.2-py3-none-any.whl (240 kB)\n",
            "\u001b[K     |████████████████████████████████| 240 kB 58.3 MB/s \n",
            "\u001b[?25hRequirement already satisfied: scipy>=1.0 in /usr/local/lib/python3.7/dist-packages (from qiskit-aer==0.11.1->qiskit) (1.7.3)\n",
            "Requirement already satisfied: numpy>=1.16.3 in /usr/local/lib/python3.7/dist-packages (from qiskit-aer==0.11.1->qiskit) (1.21.6)\n",
            "Collecting websockets>=10.0\n",
            "  Downloading websockets-10.4-cp37-cp37m-manylinux_2_5_x86_64.manylinux1_x86_64.manylinux_2_17_x86_64.manylinux2014_x86_64.whl (106 kB)\n",
            "\u001b[K     |████████████████████████████████| 106 kB 52.3 MB/s \n",
            "\u001b[?25hRequirement already satisfied: requests>=2.19 in /usr/local/lib/python3.7/dist-packages (from qiskit-ibmq-provider==0.19.2->qiskit) (2.23.0)\n",
            "Requirement already satisfied: urllib3>=1.21.1 in /usr/local/lib/python3.7/dist-packages (from qiskit-ibmq-provider==0.19.2->qiskit) (1.24.3)\n",
            "Collecting requests-ntlm>=1.1.0\n",
            "  Downloading requests_ntlm-1.1.0-py2.py3-none-any.whl (5.7 kB)\n",
            "Requirement already satisfied: python-dateutil>=2.8.0 in /usr/local/lib/python3.7/dist-packages (from qiskit-ibmq-provider==0.19.2->qiskit) (2.8.2)\n",
            "Collecting websocket-client>=1.0.1\n",
            "  Downloading websocket_client-1.4.2-py3-none-any.whl (55 kB)\n",
            "\u001b[K     |████████████████████████████████| 55 kB 3.6 MB/s \n",
            "\u001b[?25hRequirement already satisfied: typing-extensions in /usr/local/lib/python3.7/dist-packages (from qiskit-terra==0.22.2->qiskit) (4.1.1)\n",
            "Collecting ply>=3.10\n",
            "  Downloading ply-3.11-py2.py3-none-any.whl (49 kB)\n",
            "\u001b[K     |████████████████████████████████| 49 kB 6.4 MB/s \n",
            "\u001b[?25hCollecting stevedore>=3.0.0\n",
            "  Downloading stevedore-3.5.2-py3-none-any.whl (50 kB)\n",
            "\u001b[K     |████████████████████████████████| 50 kB 7.0 MB/s \n",
            "\u001b[?25hCollecting symengine>=0.9\n",
            "  Downloading symengine-0.9.2-cp37-cp37m-manylinux2010_x86_64.whl (37.5 MB)\n",
            "\u001b[K     |████████████████████████████████| 37.5 MB 1.3 MB/s \n",
            "\u001b[?25hRequirement already satisfied: sympy>=1.3 in /usr/local/lib/python3.7/dist-packages (from qiskit-terra==0.22.2->qiskit) (1.7.1)\n",
            "Requirement already satisfied: psutil>=5 in /usr/local/lib/python3.7/dist-packages (from qiskit-terra==0.22.2->qiskit) (5.4.8)\n",
            "Collecting tweedledum<2.0,>=1.1\n",
            "  Downloading tweedledum-1.1.1-cp37-cp37m-manylinux_2_12_x86_64.manylinux2010_x86_64.whl (943 kB)\n",
            "\u001b[K     |████████████████████████████████| 943 kB 53.1 MB/s \n",
            "\u001b[?25hCollecting retworkx>=0.11.0\n",
            "  Downloading retworkx-0.12.1-py3-none-any.whl (10 kB)\n",
            "Collecting shared-memory38\n",
            "  Downloading shared_memory38-0.1.2-cp37-cp37m-manylinux_2_5_x86_64.manylinux1_x86_64.whl (25 kB)\n",
            "Requirement already satisfied: importlib-metadata<5.0 in /usr/local/lib/python3.7/dist-packages (from qiskit-terra==0.22.2->qiskit) (4.13.0)\n",
            "Requirement already satisfied: dill>=0.3 in /usr/local/lib/python3.7/dist-packages (from qiskit-terra==0.22.2->qiskit) (0.3.6)\n",
            "Requirement already satisfied: zipp>=0.5 in /usr/local/lib/python3.7/dist-packages (from importlib-metadata<5.0->qiskit-terra==0.22.2->qiskit) (3.10.0)\n",
            "Requirement already satisfied: six>=1.5 in /usr/local/lib/python3.7/dist-packages (from python-dateutil>=2.8.0->qiskit-ibmq-provider==0.19.2->qiskit) (1.15.0)\n",
            "Requirement already satisfied: idna<3,>=2.5 in /usr/local/lib/python3.7/dist-packages (from requests>=2.19->qiskit-ibmq-provider==0.19.2->qiskit) (2.10)\n",
            "Requirement already satisfied: chardet<4,>=3.0.2 in /usr/local/lib/python3.7/dist-packages (from requests>=2.19->qiskit-ibmq-provider==0.19.2->qiskit) (3.0.4)\n",
            "Requirement already satisfied: certifi>=2017.4.17 in /usr/local/lib/python3.7/dist-packages (from requests>=2.19->qiskit-ibmq-provider==0.19.2->qiskit) (2022.9.24)\n",
            "Collecting cryptography>=1.3\n",
            "  Downloading cryptography-38.0.3-cp36-abi3-manylinux_2_24_x86_64.whl (4.1 MB)\n",
            "\u001b[K     |████████████████████████████████| 4.1 MB 37.7 MB/s \n",
            "\u001b[?25hCollecting ntlm-auth>=1.0.2\n",
            "  Downloading ntlm_auth-1.5.0-py2.py3-none-any.whl (29 kB)\n",
            "Requirement already satisfied: cffi>=1.12 in /usr/local/lib/python3.7/dist-packages (from cryptography>=1.3->requests-ntlm>=1.1.0->qiskit-ibmq-provider==0.19.2->qiskit) (1.15.1)\n",
            "Requirement already satisfied: pycparser in /usr/local/lib/python3.7/dist-packages (from cffi>=1.12->cryptography>=1.3->requests-ntlm>=1.1.0->qiskit-ibmq-provider==0.19.2->qiskit) (2.21)\n",
            "Collecting rustworkx==0.12.1\n",
            "  Downloading rustworkx-0.12.1-cp37-cp37m-manylinux_2_17_x86_64.manylinux2014_x86_64.whl (1.9 MB)\n",
            "\u001b[K     |████████████████████████████████| 1.9 MB 54.9 MB/s \n",
            "\u001b[?25hCollecting pbr!=2.1.0,>=2.0.0\n",
            "  Downloading pbr-5.11.0-py2.py3-none-any.whl (112 kB)\n",
            "\u001b[K     |████████████████████████████████| 112 kB 50.8 MB/s \n",
            "\u001b[?25hRequirement already satisfied: mpmath>=0.19 in /usr/local/lib/python3.7/dist-packages (from sympy>=1.3->qiskit-terra==0.22.2->qiskit) (1.2.1)\n",
            "Building wheels for collected packages: qiskit\n",
            "  Building wheel for qiskit (setup.py) ... \u001b[?25l\u001b[?25hdone\n",
            "  Created wheel for qiskit: filename=qiskit-0.39.2-py3-none-any.whl size=12224 sha256=124015b758c8beb9fbc1befda88d76b85c05107d216845ff682096ebded1cbbb\n",
            "  Stored in directory: /root/.cache/pip/wheels/30/dc/90/0ee55ccffd13c16db1abd4c43028f7c9cedb5576b190402190\n",
            "Successfully built qiskit\n",
            "Installing collected packages: rustworkx, pbr, tweedledum, symengine, stevedore, shared-memory38, retworkx, ply, ntlm-auth, cryptography, websockets, websocket-client, requests-ntlm, qiskit-terra, qiskit-ibmq-provider, qiskit-aer, qiskit\n",
            "Successfully installed cryptography-38.0.3 ntlm-auth-1.5.0 pbr-5.11.0 ply-3.11 qiskit-0.39.2 qiskit-aer-0.11.1 qiskit-ibmq-provider-0.19.2 qiskit-terra-0.22.2 requests-ntlm-1.1.0 retworkx-0.12.1 rustworkx-0.12.1 shared-memory38-0.1.2 stevedore-3.5.2 symengine-0.9.2 tweedledum-1.1.1 websocket-client-1.4.2 websockets-10.4\n",
            "Looking in indexes: https://pypi.org/simple, https://us-python.pkg.dev/colab-wheels/public/simple/\n",
            "Collecting classiq\n",
            "  Downloading classiq-0.18.2-py3-none-any.whl (237 kB)\n",
            "\u001b[K     |████████████████████████████████| 237 kB 21.9 MB/s \n",
            "\u001b[?25hCollecting ConfigArgParse<2.0.0,>=1.5.3\n",
            "  Downloading ConfigArgParse-1.5.3-py3-none-any.whl (20 kB)\n",
            "Collecting more-itertools<9.0.0,>=8.8.0\n",
            "  Downloading more_itertools-8.14.0-py3-none-any.whl (52 kB)\n",
            "\u001b[K     |████████████████████████████████| 52 kB 965 kB/s \n",
            "\u001b[?25hRequirement already satisfied: networkx<3.0.0,>=2.5.1 in /usr/local/lib/python3.7/dist-packages (from classiq) (2.6.3)\n",
            "Collecting Pyomo<6.1,>=6.0\n",
            "  Downloading Pyomo-6.0.1-cp37-cp37m-manylinux_2_5_x86_64.manylinux1_x86_64.manylinux_2_12_x86_64.manylinux2010_x86_64.whl (8.9 MB)\n",
            "\u001b[K     |████████████████████████████████| 8.9 MB 48.3 MB/s \n",
            "\u001b[?25hCollecting pillow<10.0.0,>=9.0.0\n",
            "  Downloading Pillow-9.3.0-cp37-cp37m-manylinux_2_17_x86_64.manylinux2014_x86_64.whl (3.2 MB)\n",
            "\u001b[K     |████████████████████████████████| 3.2 MB 54.0 MB/s \n",
            "\u001b[?25hCollecting httpx<1,>=0.23.0\n",
            "  Downloading httpx-0.23.1-py3-none-any.whl (84 kB)\n",
            "\u001b[K     |████████████████████████████████| 84 kB 3.8 MB/s \n",
            "\u001b[?25hRequirement already satisfied: tabulate<1,>=0.8.9 in /usr/local/lib/python3.7/dist-packages (from classiq) (0.8.10)\n",
            "Requirement already satisfied: numpy<2.0.0,>=1.20.1 in /usr/local/lib/python3.7/dist-packages (from classiq) (1.21.6)\n",
            "Requirement already satisfied: pydantic<2.0.0,>=1.9.0 in /usr/local/lib/python3.7/dist-packages (from classiq) (1.10.2)\n",
            "Requirement already satisfied: scipy<1.8.0,>=1.7.3 in /usr/local/lib/python3.7/dist-packages (from classiq) (1.7.3)\n",
            "Requirement already satisfied: pandas<1.4.0,>=1.3.0 in /usr/local/lib/python3.7/dist-packages (from classiq) (1.3.5)\n",
            "Collecting sympy<2.0.0,>=1.9.0\n",
            "  Downloading sympy-1.10.1-py3-none-any.whl (6.4 MB)\n",
            "\u001b[K     |████████████████████████████████| 6.4 MB 43.9 MB/s \n",
            "\u001b[?25hCollecting keyring<24.0.0,>=23.5.0\n",
            "  Downloading keyring-23.11.0-py3-none-any.whl (36 kB)\n",
            "Collecting nest-asyncio<2.0.0,>=1.5.4\n",
            "  Downloading nest_asyncio-1.5.6-py3-none-any.whl (5.2 kB)\n",
            "Collecting matplotlib<4.0.0,>=3.4.3\n",
            "  Downloading matplotlib-3.5.3-cp37-cp37m-manylinux_2_5_x86_64.manylinux1_x86_64.whl (11.2 MB)\n",
            "\u001b[K     |████████████████████████████████| 11.2 MB 48.2 MB/s \n",
            "\u001b[?25hRequirement already satisfied: packaging<22.0,>=21.3 in /usr/local/lib/python3.7/dist-packages (from classiq) (21.3)\n",
            "Collecting plotly<6.0.0,>=5.7.0\n",
            "  Downloading plotly-5.11.0-py2.py3-none-any.whl (15.3 MB)\n",
            "\u001b[K     |████████████████████████████████| 15.3 MB 56.7 MB/s \n",
            "\u001b[?25hRequirement already satisfied: certifi in /usr/local/lib/python3.7/dist-packages (from httpx<1,>=0.23.0->classiq) (2022.9.24)\n",
            "Collecting sniffio\n",
            "  Downloading sniffio-1.3.0-py3-none-any.whl (10 kB)\n",
            "Collecting rfc3986[idna2008]<2,>=1.3\n",
            "  Downloading rfc3986-1.5.0-py2.py3-none-any.whl (31 kB)\n",
            "Collecting httpcore<0.17.0,>=0.15.0\n",
            "  Downloading httpcore-0.16.1-py3-none-any.whl (68 kB)\n",
            "\u001b[K     |████████████████████████████████| 68 kB 8.2 MB/s \n",
            "\u001b[?25hCollecting anyio<5.0,>=3.0\n",
            "  Downloading anyio-3.6.2-py3-none-any.whl (80 kB)\n",
            "\u001b[K     |████████████████████████████████| 80 kB 9.8 MB/s \n",
            "\u001b[?25hCollecting h11<0.15,>=0.13\n",
            "  Downloading h11-0.14.0-py3-none-any.whl (58 kB)\n",
            "\u001b[K     |████████████████████████████████| 58 kB 6.6 MB/s \n",
            "\u001b[?25hRequirement already satisfied: idna>=2.8 in /usr/local/lib/python3.7/dist-packages (from anyio<5.0,>=3.0->httpcore<0.17.0,>=0.15.0->httpx<1,>=0.23.0->classiq) (2.10)\n",
            "Requirement already satisfied: typing-extensions in /usr/local/lib/python3.7/dist-packages (from anyio<5.0,>=3.0->httpcore<0.17.0,>=0.15.0->httpx<1,>=0.23.0->classiq) (4.1.1)\n",
            "Requirement already satisfied: importlib-metadata>=4.11.4 in /usr/local/lib/python3.7/dist-packages (from keyring<24.0.0,>=23.5.0->classiq) (4.13.0)\n",
            "Collecting jeepney>=0.4.2\n",
            "  Downloading jeepney-0.8.0-py3-none-any.whl (48 kB)\n",
            "\u001b[K     |████████████████████████████████| 48 kB 5.9 MB/s \n",
            "\u001b[?25hCollecting jaraco.classes\n",
            "  Downloading jaraco.classes-3.2.3-py3-none-any.whl (6.0 kB)\n",
            "Collecting SecretStorage>=3.2\n",
            "  Downloading SecretStorage-3.3.3-py3-none-any.whl (15 kB)\n",
            "Requirement already satisfied: zipp>=0.5 in /usr/local/lib/python3.7/dist-packages (from importlib-metadata>=4.11.4->keyring<24.0.0,>=23.5.0->classiq) (3.10.0)\n",
            "Requirement already satisfied: cycler>=0.10 in /usr/local/lib/python3.7/dist-packages (from matplotlib<4.0.0,>=3.4.3->classiq) (0.11.0)\n",
            "Requirement already satisfied: kiwisolver>=1.0.1 in /usr/local/lib/python3.7/dist-packages (from matplotlib<4.0.0,>=3.4.3->classiq) (1.4.4)\n",
            "Requirement already satisfied: python-dateutil>=2.7 in /usr/local/lib/python3.7/dist-packages (from matplotlib<4.0.0,>=3.4.3->classiq) (2.8.2)\n",
            "Collecting fonttools>=4.22.0\n",
            "  Downloading fonttools-4.38.0-py3-none-any.whl (965 kB)\n",
            "\u001b[K     |████████████████████████████████| 965 kB 55.4 MB/s \n",
            "\u001b[?25hRequirement already satisfied: pyparsing>=2.2.1 in /usr/local/lib/python3.7/dist-packages (from matplotlib<4.0.0,>=3.4.3->classiq) (3.0.9)\n",
            "Requirement already satisfied: pytz>=2017.3 in /usr/local/lib/python3.7/dist-packages (from pandas<1.4.0,>=1.3.0->classiq) (2022.6)\n",
            "Requirement already satisfied: tenacity>=6.2.0 in /usr/local/lib/python3.7/dist-packages (from plotly<6.0.0,>=5.7.0->classiq) (8.1.0)\n",
            "Requirement already satisfied: ply in /usr/local/lib/python3.7/dist-packages (from Pyomo<6.1,>=6.0->classiq) (3.11)\n",
            "Requirement already satisfied: six>=1.5 in /usr/local/lib/python3.7/dist-packages (from python-dateutil>=2.7->matplotlib<4.0.0,>=3.4.3->classiq) (1.15.0)\n",
            "Requirement already satisfied: cryptography>=2.0 in /usr/local/lib/python3.7/dist-packages (from SecretStorage>=3.2->keyring<24.0.0,>=23.5.0->classiq) (38.0.3)\n",
            "Requirement already satisfied: cffi>=1.12 in /usr/local/lib/python3.7/dist-packages (from cryptography>=2.0->SecretStorage>=3.2->keyring<24.0.0,>=23.5.0->classiq) (1.15.1)\n",
            "Requirement already satisfied: pycparser in /usr/local/lib/python3.7/dist-packages (from cffi>=1.12->cryptography>=2.0->SecretStorage>=3.2->keyring<24.0.0,>=23.5.0->classiq) (2.21)\n",
            "Requirement already satisfied: mpmath>=0.19 in /usr/local/lib/python3.7/dist-packages (from sympy<2.0.0,>=1.9.0->classiq) (1.2.1)\n",
            "Installing collected packages: sniffio, rfc3986, more-itertools, jeepney, h11, anyio, SecretStorage, pillow, jaraco.classes, httpcore, fonttools, sympy, Pyomo, plotly, nest-asyncio, matplotlib, keyring, httpx, ConfigArgParse, classiq\n",
            "  Attempting uninstall: more-itertools\n",
            "    Found existing installation: more-itertools 9.0.0\n",
            "    Uninstalling more-itertools-9.0.0:\n",
            "      Successfully uninstalled more-itertools-9.0.0\n",
            "  Attempting uninstall: pillow\n",
            "    Found existing installation: Pillow 7.1.2\n",
            "    Uninstalling Pillow-7.1.2:\n",
            "      Successfully uninstalled Pillow-7.1.2\n",
            "  Attempting uninstall: sympy\n",
            "    Found existing installation: sympy 1.7.1\n",
            "    Uninstalling sympy-1.7.1:\n",
            "      Successfully uninstalled sympy-1.7.1\n",
            "  Attempting uninstall: plotly\n",
            "    Found existing installation: plotly 5.5.0\n",
            "    Uninstalling plotly-5.5.0:\n",
            "      Successfully uninstalled plotly-5.5.0\n",
            "  Attempting uninstall: matplotlib\n",
            "    Found existing installation: matplotlib 3.2.2\n",
            "    Uninstalling matplotlib-3.2.2:\n",
            "      Successfully uninstalled matplotlib-3.2.2\n",
            "Successfully installed ConfigArgParse-1.5.3 Pyomo-6.0.1 SecretStorage-3.3.3 anyio-3.6.2 classiq-0.18.2 fonttools-4.38.0 h11-0.14.0 httpcore-0.16.1 httpx-0.23.1 jaraco.classes-3.2.3 jeepney-0.8.0 keyring-23.11.0 matplotlib-3.5.3 more-itertools-8.14.0 nest-asyncio-1.5.6 pillow-9.3.0 plotly-5.11.0 rfc3986-1.5.0 sniffio-1.3.0 sympy-1.10.1\n"
          ]
        },
        {
          "output_type": "display_data",
          "data": {
            "application/vnd.colab-display-data+json": {
              "pip_warning": {
                "packages": [
                  "PIL",
                  "matplotlib",
                  "mpl_toolkits"
                ]
              }
            }
          },
          "metadata": {}
        },
        {
          "output_type": "stream",
          "name": "stdout",
          "text": [
            "Looking in indexes: https://pypi.org/simple, https://us-python.pkg.dev/colab-wheels/public/simple/\n",
            "Requirement already satisfied: nest_asyncio in /usr/local/lib/python3.7/dist-packages (1.5.6)\n"
          ]
        }
      ]
    },
    {
      "cell_type": "code",
      "source": [
        "import nest_asyncio\n",
        "nest_asyncio.apply()\n",
        "import classiq\n",
        "\n",
        "classiq.authenticate()"
      ],
      "metadata": {
        "id": "A79EDVzf0HKZ",
        "colab": {
          "base_uri": "https://localhost:8080/"
        },
        "outputId": "b58d1693-046f-4ded-864a-ae68486f5961"
      },
      "execution_count": 6,
      "outputs": [
        {
          "output_type": "stream",
          "name": "stdout",
          "text": [
            "Your user code: MPPR-XWTX\n",
            "If a browser doesn't automatically open, please visit the url: https://classiq.eu.auth0.com/activate?user_code=MPPR-XWTX\n"
          ]
        }
      ]
    },
    {
      "cell_type": "code",
      "source": [
        "from classiq import ModelDesigner, Executor\n",
        "from classiq.builtin_functions import UCC, HartreeFock\n",
        "\n",
        "from classiq.interface.chemistry.molecule import Molecule\n",
        "from classiq.interface.chemistry.ground_state_problem import GroundStateProblem\n",
        "from classiq.interface.backend.backend_preferences import (\n",
        "    IBMBackendPreferences,\n",
        "    IBMBackendProvider,\n",
        ")\n",
        "from classiq.interface.executor.execution_preferences import ExecutionPreferences, OptimizerPreferences\n",
        "from classiq.interface.executor.hamiltonian_minimization_problem import HamiltonianMinimizationProblem\n",
        "from classiq.interface.executor.quantum_instruction_set import QuantumInstructionSet\n",
        "from classiq.interface.executor.quantum_program import QuantumProgram\n",
        "from classiq.interface.chemistry.operator import PauliOperator\n",
        "from classiq import ModelDesigner\n",
        "from classiq.builtin_functions import HardwareEfficientAnsatz"
      ],
      "metadata": {
        "id": "UiqvmbPd0HKZ"
      },
      "execution_count": 7,
      "outputs": []
    },
    {
      "cell_type": "markdown",
      "source": [
        "## Prepare simulator"
      ],
      "metadata": {
        "id": "HKXVTP8p0HKa"
      }
    },
    {
      "cell_type": "code",
      "source": [
        "def define_simulator(simulator_name):\n",
        "    if(simulator_name == \"qasm\" or simulator_name == \"QASM\"):\n",
        "      curr_simulator = \"qasm_simulator\"\n",
        "    else:\n",
        "      curr_simulator = \"aer_simulator_statevector\"\n",
        "    return curr_simulator"
      ],
      "metadata": {
        "id": "GWanBkLTCD88"
      },
      "execution_count": 8,
      "outputs": []
    },
    {
      "cell_type": "code",
      "source": [
        "def define_optimizer(optimizer_name):\n",
        "    if(optimizer_name == \"cobyla\" or optimizer_name == \"COBYLA\"):\n",
        "      curr_optimizer = \"COBYLA\"\n",
        "    else:\n",
        "      curr_optimizer = \"L_BFGS_B\"\n",
        "    return curr_optimizer"
      ],
      "metadata": {
        "id": "XXPi5KKdDG2w"
      },
      "execution_count": 9,
      "outputs": []
    },
    {
      "cell_type": "code",
      "source": [
        "def prepare_simulator_classiq(curr_simulator, curr_optimizer,num_of_qubits=2, anzatz_first_gate = \"x\"):\n",
        "    NUM_QUBITS = num_of_qubits\n",
        "    FULLY_CONNECTED_MESH = [[0, 1]]\n",
        "    hwea_params = HardwareEfficientAnsatz(\n",
        "        num_qubits=NUM_QUBITS,\n",
        "        connectivity_map=FULLY_CONNECTED_MESH,\n",
        "        one_qubit_gates=[anzatz_first_gate, \"ry\"],\n",
        "        two_qubit_gates=\"cx\",\n",
        "        reps=3,\n",
        "    )\n",
        "\n",
        "    model_designer = ModelDesigner()\n",
        "    model_designer.HardwareEfficientAnsatz(params=hwea_params)\n",
        "    circuit = model_designer.synthesize()\n",
        "    #circuit.show()\n",
        "    circuit_qasm = circuit.qasm\n",
        "    optimizer_preferences = OptimizerPreferences(\n",
        "        max_iteration=60,\n",
        "        name = curr_optimizer\n",
        "    )\n",
        "\n",
        "    ibm_provider = IBMBackendProvider(\n",
        "        #insert your information\n",
        "    )\n",
        "\n",
        "    backend_preferences = IBMBackendPreferences(\n",
        "        backend_name=curr_simulator,\n",
        "        access_token = \"insert your information\" ,\n",
        "        provider=ibm_provider,\n",
        "    )\n",
        "\n",
        "    num_shots = 8192\n",
        "\n",
        "    execution_preferences = ExecutionPreferences(\n",
        "        num_shots=num_shots,\n",
        "        backend_preferences=backend_preferences,\n",
        "        optimizer_preferences=optimizer_preferences\n",
        "    )\n",
        "    return execution_preferences, circuit_qasm"
      ],
      "metadata": {
        "id": "mBjluCYWDh9z"
      },
      "execution_count": 10,
      "outputs": []
    },
    {
      "cell_type": "markdown",
      "source": [
        "## compute minimal eigenvalue"
      ],
      "metadata": {
        "id": "iY0un-Is0HKa"
      }
    },
    {
      "cell_type": "code",
      "source": [
        "def minimum_eigenvalue_by_vqe(H, circuit_qasm, execution_preferences):\n",
        "  hamiltonian_problem = HamiltonianMinimizationProblem(\n",
        "      ansatz=QuantumProgram(code=circuit_qasm, syntax=QuantumInstructionSet.QASM),\n",
        "      hamiltonian=H\n",
        "  )\n",
        "  result = Executor(\n",
        "      preferences=execution_preferences\n",
        "  ).execute_hamiltonian_minimization(hamiltonian_problem)\n",
        "  print(\"minimal eigenvalue: \", format(result.energy,\".3f\"))\n",
        "  return result.energy"
      ],
      "metadata": {
        "id": "KglpQYOv0HKa"
      },
      "execution_count": 28,
      "outputs": []
    },
    {
      "cell_type": "markdown",
      "source": [
        "## create problem instance"
      ],
      "metadata": {
        "id": "_0hke4WX0HKa"
      }
    },
    {
      "cell_type": "code",
      "source": [
        "def calc_operator(problem):\n",
        "  partitioningProblem = create_hamiltonian(problem)\n",
        "  operator= PauliOperator(pauli_list=partitioningProblem)\n",
        "  print(operator)\n",
        "  return operator"
      ],
      "metadata": {
        "id": "gE4oA4Bl0HKb"
      },
      "execution_count": 12,
      "outputs": []
    },
    {
      "cell_type": "markdown",
      "metadata": {
        "id": "6F7y-T5TOQOB"
      },
      "source": [
        "### preparing the hamiltonian for n quibts (Ising model)"
      ]
    },
    {
      "cell_type": "code",
      "execution_count": 14,
      "metadata": {
        "id": "QjWlWhqtOQOC"
      },
      "outputs": [],
      "source": [
        "import numpy as np\n",
        "from qiskit.opflow import Z, I\n",
        "\n",
        "def multiply_ising_models(ham1, ham2, coef1, coef2):\n",
        "  final_sigma = \"\"\n",
        "  final_coef = 0\n",
        "  for i in range(len(ham1)):\n",
        "      sigma1 = ham1[i]\n",
        "      sigma2 = ham2[i]\n",
        "      if (sigma1 == 'Z' and sigma2 == 'Z'):\n",
        "        final_sigma += 'I'\n",
        "      elif (sigma1 == 'I' and sigma2 == 'Z'):\n",
        "        final_sigma += 'Z'\n",
        "      elif (sigma1 == 'Z' and sigma2 == 'I'):\n",
        "        final_sigma += 'Z'\n",
        "      else:\n",
        "        final_sigma += 'I'\n",
        "  return (final_sigma,coef1*coef2)\n",
        "\n",
        "\n",
        "def create_general_hamiltonian_classiq(S):\n",
        "  num_qubits = len(S)\n",
        "  operator = []\n",
        "  sigmas_list = []\n",
        "  for qubit in range(num_qubits):\n",
        "    if qubit == 0:\n",
        "       sigma = \"Z\"\n",
        "    else:\n",
        "       sigma = \"I\"\n",
        "    for i in range(1,num_qubits):\n",
        "      if i == qubit:\n",
        "        sigma = sigma + \"Z\"\n",
        "      else:\n",
        "        sigma = sigma + \"I\"\n",
        "    sigmas_list.append((sigma,S[qubit]))\n",
        "\n",
        "  for i in range(len(sigmas_list)):\n",
        "    for j in range(len(sigmas_list)):\n",
        "      sigma = multiply_ising_models(sigmas_list[i][0], sigmas_list[j][0], sigmas_list[i][1], sigmas_list[j][1])\n",
        "      operator.append(sigma)\n",
        "\n",
        "  H = operator\n",
        "  final_operator= PauliOperator(pauli_list=H)\n",
        "  return final_operator \n"
      ]
    },
    {
      "cell_type": "markdown",
      "source": [
        "## define parameters"
      ],
      "metadata": {
        "id": "6ojqjmUeOUQQ"
      }
    },
    {
      "cell_type": "code",
      "source": [
        "avg_array_solvable = []\n",
        "avg_array_unsolvable = []\n",
        "avg = 0.0\n",
        "sum = 0\n",
        "entanglement = \"linear\"\n",
        "default_operator = create_general_hamiltonian_classiq([1,1]) "
      ],
      "metadata": {
        "id": "srvseKbwOJFZ"
      },
      "execution_count": 43,
      "outputs": []
    },
    {
      "cell_type": "markdown",
      "source": [
        "## run experiment"
      ],
      "metadata": {
        "id": "-T1hmni4sVYt"
      }
    },
    {
      "cell_type": "code",
      "source": [
        "def run_experiment(simulator,optimizer,num_quibits=2,anzatz_first_gate = \"x\",problems = [], expected_results = [0,0,0,0], solvable = True):\n",
        "  sum = 0\n",
        "  curr_simulator = define_simulator(simulator)\n",
        "  curr_optimizer = define_optimizer(optimizer)\n",
        "  execution_preferences, circuit_qasm = prepare_simulator_classiq(curr_simulator, curr_optimizer, num_quibits, anzatz_first_gate)\n",
        "  for idx, problem in enumerate(problems):\n",
        "    print(\"problem: \", problem, end= ', ')\n",
        "    operator = create_general_hamiltonian_classiq(problem)\n",
        "    result = minimum_eigenvalue_by_vqe(operator, circuit_qasm, execution_preferences)\n",
        "    sum += result - expected_results[idx] \n",
        "  avg = sum / 4.0\n",
        "  if(solvable):\n",
        "    avg_array_solvable.append(avg)\n",
        "  else:\n",
        "    avg_array_unsolvable.append(avg)\n",
        "          "
      ],
      "metadata": {
        "id": "mRKUsC96s7qK"
      },
      "execution_count": 50,
      "outputs": []
    },
    {
      "cell_type": "code",
      "source": [
        "def test_problem_instances(num_quibits=2, problems = [], expected_results = [0,0,0,0], solvable = True):\n",
        "  print(f\"simulator: aer_statevector, optimizer: cobyla, num of quibits: {num_quibits}, anzats: x, \")   \n",
        "  if(not solvable):                         \n",
        "    r1 = run_experiment(\"aer_statevector\",\"cobyla\",num_quibits,\"x\",problems[num_quibits-2], expected_results[num_quibits-2], solvable)  \n",
        "  else:\n",
        "    r1 = run_experiment(\"aer_statevector\",\"cobyla\",num_quibits,\"x\",problems[num_quibits-2], expected_results, solvable)\n",
        "  return r1"
      ],
      "metadata": {
        "id": "na_RL0R496Yu"
      },
      "execution_count": 52,
      "outputs": []
    },
    {
      "cell_type": "markdown",
      "source": [
        "# Run experiments"
      ],
      "metadata": {
        "id": "FD8yxYmCpnBS"
      }
    },
    {
      "cell_type": "markdown",
      "source": [
        "## Solvable problems"
      ],
      "metadata": {
        "id": "Up7shZjJF8y1"
      }
    },
    {
      "cell_type": "code",
      "source": [
        "solvable_problems_sets = [[[1,1],[2,2],[24,24],[0,0]],\n",
        "                          [[0,1,1],[1,3,2],[7,4,3],[40,20,60]],\n",
        "                          [[1,6,2,3],[8,2,4,2],[14,7,3,4],[7,1,5,3]],\n",
        "                          [[2,3,5,4,6],[5,3,5,10,3],[4,7,3,7,7],[1,5,3,4,5]],\n",
        "                          [[4,5,3,4,4,4],[7,5,7,9,9,1],[8,1,2,5,1,5],[4,7,4,5,5,5]],\n",
        "                          [[4,5,4,5,4,8,6],[7,3,7,4,4,4,5],[8,1,2,5,6,6,4],[5,3,4,5,12,4,1]],\n",
        "                          [[1,0,0,0,0,0,2,1],[1,2,3,4,10,0,0,0],[5,6,7,8,11,11,1,3],[5,3,4,2,10,1,1,2]],\n",
        "                          [[1,6,2,0,1,2,6,2,0],[4,1,0,6,4,6,4,3,2],[2,1,0,4,5,7,3,1,1],[3,9,1,8,3,12,4,8,0]],\n",
        "                          [[8,2,5,1,0,2,4,3,2,5],[6,8,4,2,9,5,5,9,6,4],[5,8,1,3,2,6,4,3,3,3],[6,4,3,0,8,10,6,4,1,0]]\n",
        "                          ]"
      ],
      "metadata": {
        "id": "ZFq8aU2zGBZr"
      },
      "execution_count": 42,
      "outputs": []
    },
    {
      "cell_type": "code",
      "source": [
        "for i in range(2,11):\n",
        "  test_problem_instances(num_quibits=i, problems = solvable_problems_sets)\n",
        "  print(f\"The average deviation from the desired result of {i} quibit solvable instances is: \", avg_array_solvable[i-2])\n",
        "  print(\"\\n\\n\")"
      ],
      "metadata": {
        "colab": {
          "base_uri": "https://localhost:8080/"
        },
        "id": "9kiBkDnM_ayb",
        "outputId": "97388d32-c479-45b4-f8d0-341eb209c852"
      },
      "execution_count": 45,
      "outputs": [
        {
          "output_type": "stream",
          "name": "stdout",
          "text": [
            "simulator: aer_statevector, optimizer: cobyla, num of quibits: 2, anzats: x, \n",
            "problem:  [1, 1], minimal eigenvalue:  0.000\n",
            "problem:  [2, 2], minimal eigenvalue:  0.000\n",
            "problem:  [24, 24], minimal eigenvalue:  0.002\n",
            "problem:  [0, 0], minimal eigenvalue:  0.000\n",
            "[0.0005698511739740385]\n",
            "simulator: aer_statevector, optimizer: cobyla, num of quibits: 3, anzats: x, \n",
            "problem:  [0, 1, 1], minimal eigenvalue:  0.000\n",
            "problem:  [1, 3, 2], minimal eigenvalue:  0.003\n",
            "problem:  [7, 4, 3], minimal eigenvalue:  0.052\n",
            "problem:  [40, 20, 60], minimal eigenvalue:  15.829\n",
            "[0.0005698511739740385, 3.9711584112981364]\n",
            "simulator: aer_statevector, optimizer: cobyla, num of quibits: 4, anzats: x, \n",
            "problem:  [1, 6, 2, 3], minimal eigenvalue:  4.482\n",
            "problem:  [8, 2, 4, 2], minimal eigenvalue:  12.305\n",
            "problem:  [14, 7, 3, 4], minimal eigenvalue:  1.264\n",
            "problem:  [7, 1, 5, 3], minimal eigenvalue:  11.776\n",
            "[0.0005698511739740385, 3.9711584112981364, 7.456732367240094]\n",
            "simulator: aer_statevector, optimizer: cobyla, num of quibits: 5, anzats: x, \n",
            "problem:  [2, 3, 5, 4, 6], minimal eigenvalue:  10.482\n",
            "problem:  [5, 3, 5, 10, 3], minimal eigenvalue:  25.219\n",
            "problem:  [4, 7, 3, 7, 7], minimal eigenvalue:  0.909\n",
            "problem:  [1, 5, 3, 4, 5], minimal eigenvalue:  1.267\n",
            "[0.0005698511739740385, 3.9711584112981364, 7.456732367240094, 9.46904283376721]\n",
            "simulator: aer_statevector, optimizer: cobyla, num of quibits: 6, anzats: x, \n",
            "problem:  [4, 5, 3, 4, 4, 4], minimal eigenvalue:  0.140\n",
            "problem:  [7, 5, 7, 9, 9, 1], minimal eigenvalue:  34.672\n",
            "problem:  [8, 1, 2, 5, 1, 5], minimal eigenvalue:  15.686\n",
            "problem:  [4, 7, 4, 5, 5, 5], minimal eigenvalue:  7.224\n",
            "[0.0005698511739740385, 3.9711584112981364, 7.456732367240094, 9.46904283376721, 14.430531274243128]\n",
            "simulator: aer_statevector, optimizer: cobyla, num of quibits: 7, anzats: x, \n",
            "problem:  [4, 5, 4, 5, 4, 8, 6], minimal eigenvalue:  22.048\n",
            "problem:  [7, 3, 7, 4, 4, 4, 5], minimal eigenvalue:  5.395\n",
            "problem:  [8, 1, 2, 5, 6, 6, 4], minimal eigenvalue:  41.047\n",
            "problem:  [5, 3, 4, 5, 12, 4, 1], minimal eigenvalue:  12.751\n",
            "[0.0005698511739740385, 3.9711584112981364, 7.456732367240094, 9.46904283376721, 14.430531274243128, 20.31007024483023]\n",
            "simulator: aer_statevector, optimizer: cobyla, num of quibits: 8, anzats: x, \n",
            "problem:  [1, 0, 0, 0, 0, 0, 2, 1], minimal eigenvalue:  0.003\n",
            "problem:  [1, 2, 3, 4, 10, 0, 0, 0], minimal eigenvalue:  1.888\n",
            "problem:  [5, 6, 7, 8, 11, 11, 1, 3], minimal eigenvalue:  47.489\n",
            "problem:  [5, 3, 4, 2, 10, 1, 1, 2], minimal eigenvalue:  3.784\n",
            "[0.0005698511739740385, 3.9711584112981364, 7.456732367240094, 9.46904283376721, 14.430531274243128, 20.31007024483023, 13.29098005980161]\n",
            "simulator: aer_statevector, optimizer: cobyla, num of quibits: 9, anzats: x, \n",
            "problem:  [1, 6, 2, 0, 1, 2, 6, 2, 0], minimal eigenvalue:  19.763\n",
            "problem:  [4, 1, 0, 6, 4, 6, 4, 3, 2], minimal eigenvalue:  11.245\n",
            "problem:  [2, 1, 0, 4, 5, 7, 3, 1, 1], minimal eigenvalue:  11.727\n",
            "problem:  [3, 9, 1, 8, 3, 12, 4, 8, 0], minimal eigenvalue:  49.564\n",
            "[0.0005698511739740385, 3.9711584112981364, 7.456732367240094, 9.46904283376721, 14.430531274243128, 20.31007024483023, 13.29098005980161, 23.07474192663305]\n",
            "simulator: aer_statevector, optimizer: cobyla, num of quibits: 10, anzats: x, \n",
            "problem:  [8, 2, 5, 1, 0, 2, 4, 3, 2, 5], minimal eigenvalue:  12.152\n",
            "problem:  [6, 8, 4, 2, 9, 5, 5, 9, 6, 4], minimal eigenvalue:  69.492\n",
            "problem:  [5, 8, 1, 3, 2, 6, 4, 3, 3, 3], minimal eigenvalue:  15.581\n",
            "problem:  [6, 4, 3, 0, 8, 10, 6, 4, 1, 0], minimal eigenvalue:  25.180\n",
            "[0.0005698511739740385, 3.9711584112981364, 7.456732367240094, 9.46904283376721, 14.430531274243128, 20.31007024483023, 13.29098005980161, 23.07474192663305, 30.601071624468805]\n"
          ]
        }
      ]
    },
    {
      "cell_type": "markdown",
      "source": [
        "## Unsolvable problems"
      ],
      "metadata": {
        "id": "TWLh8g4YKPJp"
      }
    },
    {
      "cell_type": "code",
      "source": [
        "unsolvable_problems_sets = [\n",
        "    [[0,1],[1,2],[2,24],[23,25]],\n",
        "    [[1,1,1],[1,4,6],[13,1,11],[21,56,87]],\n",
        "    [[1,5,3,2],[8,6,4,5],[14,7,5,4],[7,3,4,3]],\n",
        "    [[4,3,5,5,6],[5,4,4,10,2],[4,7,3,13,2],[2,4,4,4,5]],\n",
        "    [[3,6,3,4,5,4],[6,5,8,9,8,1],[7,2,2,6,2,4],[6,7,2,5,4,5]],\n",
        "    [[0,0,0,0,0,0,2],[1,2,3,4,10,1,0],[7,4,7,4,11,11,1],[5,3,4,6,16,1,2]],\n",
        "    [[1,0,0,0,1,0,2,1],[1,2,3,4,11,0,2,2],[5,9,4,8,10,11,1,3],[6,2,4,2,9,1,1,2]],\n",
        "    [[2,8,4,11,3,7,5,7,0],[2,0,6,3,5,1,4,1,3],[3,2,1,2,4,6,5,3,5],[2,5,2,0,1,2,6,3,0]],\n",
        "    [[7,3,2,4,0,2,4,3,1,5],[5,9,4,2,9,5,5,8,6,4],[6,7,1,3,2,6,4,3,2,3],[5,5,2,1,8,9,6,4,1,0]],\n",
        "]\n",
        "\n",
        "\n",
        "expected_results = [\n",
        "    [1,1,484,4],\n",
        "    [1,1,1,100],\n",
        "    [1,1,4,9],\n",
        "    [1,1,1,1],\n",
        "    [1,1,1,1],\n",
        "    [4,1,1,1],\n",
        "    [1,1,1,1],\n",
        "    [1,1,1,1],\n",
        "    [1,1,1,1],\n",
        "]"
      ],
      "metadata": {
        "id": "BWMNkMytA9Lt"
      },
      "execution_count": 58,
      "outputs": []
    },
    {
      "cell_type": "code",
      "source": [
        "for i in range(2,11):\n",
        "  test_problem_instances(num_quibits=i, problems = unsolvable_problems_sets,expected_results = expected_results, solvable = False)\n",
        "  print(f\"The average deviation from the desire result of {i} qubit unsolvable instances is: \", avg_array_unsolvable[i-2])\n",
        "  print(\"\\n\\n\")"
      ],
      "metadata": {
        "colab": {
          "base_uri": "https://localhost:8080/"
        },
        "id": "ANaOGNI9Q8ar",
        "outputId": "893756c2-46dc-44da-d99e-9e2a3f7de6e3"
      },
      "execution_count": 59,
      "outputs": [
        {
          "output_type": "stream",
          "name": "stdout",
          "text": [
            "simulator: aer_statevector, optimizer: cobyla, num of quibits: 2, anzats: x, \n",
            "problem:  [0, 1], minimal eigenvalue:  1.000\n",
            "problem:  [1, 2], minimal eigenvalue:  1.000\n",
            "problem:  [2, 24], minimal eigenvalue:  484.000\n",
            "problem:  [23, 25], minimal eigenvalue:  4.002\n",
            "The average deviation from the desire result of 2 qubit unsolvable instances is:  3.3459860243251205e-05\n",
            "\n",
            "\n",
            "\n",
            "simulator: aer_statevector, optimizer: cobyla, num of quibits: 3, anzats: x, \n",
            "problem:  [1, 1, 1], minimal eigenvalue:  1.000\n",
            "problem:  [1, 4, 6], minimal eigenvalue:  1.068\n",
            "problem:  [13, 1, 11], minimal eigenvalue:  1.025\n",
            "problem:  [21, 56, 87], minimal eigenvalue:  106.614\n",
            "The average deviation from the desire result of 3 qubit unsolvable instances is:  2.259191302013598\n",
            "\n",
            "\n",
            "\n",
            "simulator: aer_statevector, optimizer: cobyla, num of quibits: 4, anzats: x, \n",
            "problem:  [1, 5, 3, 2], minimal eigenvalue:  1.268\n",
            "problem:  [8, 6, 4, 5], minimal eigenvalue:  4.374\n",
            "problem:  [14, 7, 5, 4], minimal eigenvalue:  13.660\n",
            "problem:  [7, 3, 4, 3], minimal eigenvalue:  9.052\n",
            "The average deviation from the desire result of 4 qubit unsolvable instances is:  7.693298107259121\n",
            "\n",
            "\n",
            "\n",
            "simulator: aer_statevector, optimizer: cobyla, num of quibits: 5, anzats: x, \n",
            "problem:  [4, 3, 5, 5, 6], minimal eigenvalue:  6.472\n",
            "problem:  [5, 4, 4, 10, 2], minimal eigenvalue:  19.183\n",
            "problem:  [4, 7, 3, 13, 2], minimal eigenvalue:  9.262\n",
            "problem:  [2, 4, 4, 4, 5], minimal eigenvalue:  1.081\n",
            "The average deviation from the desire result of 5 qubit unsolvable instances is:  14.772351584662538\n",
            "\n",
            "\n",
            "\n",
            "simulator: aer_statevector, optimizer: cobyla, num of quibits: 6, anzats: x, \n",
            "problem:  [3, 6, 3, 4, 5, 4], minimal eigenvalue:  3.967\n",
            "problem:  [6, 5, 8, 9, 8, 1], minimal eigenvalue:  3.362\n",
            "problem:  [7, 2, 2, 6, 2, 4], minimal eigenvalue:  4.073\n",
            "problem:  [6, 7, 2, 5, 4, 5], minimal eigenvalue:  22.295\n",
            "The average deviation from the desire result of 6 qubit unsolvable instances is:  14.507835406574618\n",
            "\n",
            "\n",
            "\n",
            "simulator: aer_statevector, optimizer: cobyla, num of quibits: 7, anzats: x, \n",
            "problem:  [0, 0, 0, 0, 0, 0, 2], minimal eigenvalue:  4.000\n",
            "problem:  [1, 2, 3, 4, 10, 1, 0], minimal eigenvalue:  1.396\n",
            "problem:  [7, 4, 7, 4, 11, 11, 1], minimal eigenvalue:  7.751\n",
            "problem:  [5, 3, 4, 6, 16, 1, 2], minimal eigenvalue:  9.139\n",
            "The average deviation from the desire result of 7 qubit unsolvable instances is:  6.980880305777594\n",
            "\n",
            "\n",
            "\n",
            "simulator: aer_statevector, optimizer: cobyla, num of quibits: 8, anzats: x, \n",
            "problem:  [1, 0, 0, 0, 1, 0, 2, 1], minimal eigenvalue:  1.046\n",
            "problem:  [1, 2, 3, 4, 11, 0, 2, 2], minimal eigenvalue:  9.289\n",
            "problem:  [5, 9, 4, 8, 10, 11, 1, 3], minimal eigenvalue:  17.082\n",
            "problem:  [6, 2, 4, 2, 9, 1, 1, 2], minimal eigenvalue:  14.699\n",
            "The average deviation from the desire result of 8 qubit unsolvable instances is:  10.71985926776929\n",
            "\n",
            "\n",
            "\n",
            "simulator: aer_statevector, optimizer: cobyla, num of quibits: 9, anzats: x, \n",
            "problem:  [2, 8, 4, 11, 3, 7, 5, 7, 0], minimal eigenvalue:  22.628\n",
            "problem:  [2, 0, 6, 3, 5, 1, 4, 1, 3], minimal eigenvalue:  2.178\n",
            "problem:  [3, 2, 1, 2, 4, 6, 5, 3, 5], minimal eigenvalue:  8.113\n",
            "problem:  [2, 5, 2, 0, 1, 2, 6, 3, 0], minimal eigenvalue:  3.078\n",
            "The average deviation from the desire result of 9 qubit unsolvable instances is:  11.688642331681805\n",
            "\n",
            "\n",
            "\n",
            "simulator: aer_statevector, optimizer: cobyla, num of quibits: 10, anzats: x, \n",
            "problem:  [7, 3, 2, 4, 0, 2, 4, 3, 1, 5], minimal eigenvalue:  3.934\n",
            "problem:  [5, 9, 4, 2, 9, 5, 5, 8, 6, 4], minimal eigenvalue:  63.840\n",
            "problem:  [6, 7, 1, 3, 2, 6, 4, 3, 2, 3], minimal eigenvalue:  16.796\n",
            "problem:  [5, 5, 2, 1, 8, 9, 6, 4, 1, 0], minimal eigenvalue:  37.407\n",
            "The average deviation from the desire result of 10 qubit unsolvable instances is:  37.737770229213396\n",
            "\n",
            "\n",
            "\n"
          ]
        }
      ]
    },
    {
      "cell_type": "markdown",
      "source": [
        "# create the graphs"
      ],
      "metadata": {
        "id": "JVaT9509SOdU"
      }
    },
    {
      "cell_type": "markdown",
      "source": [
        "# solvable problems deviation from the desired result"
      ],
      "metadata": {
        "id": "2jRc4GFDSgB5"
      }
    },
    {
      "cell_type": "code",
      "source": [
        "!pip uninstall matplotlib\n",
        "!pip install matplotlib==3.1.3"
      ],
      "metadata": {
        "id": "bAOVAPXq5E-M",
        "colab": {
          "base_uri": "https://localhost:8080/",
          "height": 607
        },
        "outputId": "d93107b8-80fb-4ab6-e59f-f47a9f4da6bd"
      },
      "execution_count": 54,
      "outputs": [
        {
          "output_type": "stream",
          "name": "stdout",
          "text": [
            "Found existing installation: matplotlib 3.5.3\n",
            "Uninstalling matplotlib-3.5.3:\n",
            "  Would remove:\n",
            "    /usr/local/lib/python3.7/dist-packages/matplotlib-3.5.3-py3.7-nspkg.pth\n",
            "    /usr/local/lib/python3.7/dist-packages/matplotlib-3.5.3.dist-info/*\n",
            "    /usr/local/lib/python3.7/dist-packages/matplotlib/*\n",
            "    /usr/local/lib/python3.7/dist-packages/mpl_toolkits/axes_grid/*\n",
            "    /usr/local/lib/python3.7/dist-packages/mpl_toolkits/axes_grid1/*\n",
            "    /usr/local/lib/python3.7/dist-packages/mpl_toolkits/axisartist/*\n",
            "    /usr/local/lib/python3.7/dist-packages/mpl_toolkits/mplot3d/*\n",
            "    /usr/local/lib/python3.7/dist-packages/mpl_toolkits/tests/*\n",
            "    /usr/local/lib/python3.7/dist-packages/pylab.py\n",
            "Proceed (y/n)? y\n",
            "  Successfully uninstalled matplotlib-3.5.3\n",
            "Looking in indexes: https://pypi.org/simple, https://us-python.pkg.dev/colab-wheels/public/simple/\n",
            "Collecting matplotlib==3.1.3\n",
            "  Downloading matplotlib-3.1.3-cp37-cp37m-manylinux1_x86_64.whl (13.1 MB)\n",
            "\u001b[K     |████████████████████████████████| 13.1 MB 22.4 MB/s \n",
            "\u001b[?25hRequirement already satisfied: python-dateutil>=2.1 in /usr/local/lib/python3.7/dist-packages (from matplotlib==3.1.3) (2.8.2)\n",
            "Requirement already satisfied: pyparsing!=2.0.4,!=2.1.2,!=2.1.6,>=2.0.1 in /usr/local/lib/python3.7/dist-packages (from matplotlib==3.1.3) (3.0.9)\n",
            "Requirement already satisfied: numpy>=1.11 in /usr/local/lib/python3.7/dist-packages (from matplotlib==3.1.3) (1.21.6)\n",
            "Requirement already satisfied: kiwisolver>=1.0.1 in /usr/local/lib/python3.7/dist-packages (from matplotlib==3.1.3) (1.4.4)\n",
            "Requirement already satisfied: cycler>=0.10 in /usr/local/lib/python3.7/dist-packages (from matplotlib==3.1.3) (0.11.0)\n",
            "Requirement already satisfied: typing-extensions in /usr/local/lib/python3.7/dist-packages (from kiwisolver>=1.0.1->matplotlib==3.1.3) (4.1.1)\n",
            "Requirement already satisfied: six>=1.5 in /usr/local/lib/python3.7/dist-packages (from python-dateutil>=2.1->matplotlib==3.1.3) (1.15.0)\n",
            "Installing collected packages: matplotlib\n",
            "\u001b[31mERROR: pip's dependency resolver does not currently take into account all the packages that are installed. This behaviour is the source of the following dependency conflicts.\n",
            "classiq 0.18.2 requires matplotlib<4.0.0,>=3.4.3, but you have matplotlib 3.1.3 which is incompatible.\u001b[0m\n",
            "Successfully installed matplotlib-3.1.3\n"
          ]
        },
        {
          "output_type": "display_data",
          "data": {
            "application/vnd.colab-display-data+json": {
              "pip_warning": {
                "packages": [
                  "matplotlib",
                  "mpl_toolkits"
                ]
              }
            }
          },
          "metadata": {}
        }
      ]
    },
    {
      "cell_type": "code",
      "source": [
        "\n",
        "\n",
        "import matplotlib.pyplot as plt\n",
        "  \n",
        "# y axis values\n",
        "y = avg_array_solvable\n",
        "# corresponding x axis values\n",
        "x = range(2,11)\n",
        "\n",
        "print(x)\n",
        "print(y)\n",
        "# plotting the points \n",
        "plt.plot(x, y, color='green', linestyle='dashed', linewidth = 3,\n",
        "         marker='o', markerfacecolor='blue', markersize=12)\n",
        "  \n",
        "# setting x and y axis range\n",
        "plt.ylim(0,120)\n",
        "plt.xlim(2,11)\n",
        "  \n",
        "# naming the x axis\n",
        "plt.xlabel('num of qubits')\n",
        "# naming the y axis\n",
        "plt.ylabel('deviation from the right result')\n",
        "  \n",
        "# giving a title to my graph\n",
        "plt.title('solvable problems deviation from the desired result')\n",
        "  \n",
        "# function to show the plot\n",
        "plt.show()\n"
      ],
      "metadata": {
        "colab": {
          "base_uri": "https://localhost:8080/",
          "height": 330
        },
        "id": "BN9oVpzdSSSx",
        "outputId": "d74c4c13-8f5d-43c3-fff8-2e50b609020d"
      },
      "execution_count": 56,
      "outputs": [
        {
          "output_type": "stream",
          "name": "stdout",
          "text": [
            "range(2, 11)\n",
            "[0.0005698511739740385, 3.9711584112981364, 7.456732367240094, 9.46904283376721, 14.430531274243128, 20.31007024483023, 13.29098005980161, 23.07474192663305, 30.601071624468805]\n"
          ]
        },
        {
          "output_type": "display_data",
          "data": {
            "text/plain": [
              "<Figure size 432x288 with 1 Axes>"
            ],
            "image/png": "[encoded data removed]"
          },
          "metadata": {
            "needs_background": "light"
          }
        }
      ]
    },
    {
      "cell_type": "markdown",
      "source": [
        "# unsolvable problems deviation from the desired result"
      ],
      "metadata": {
        "id": "sT8WTZoPSo6K"
      }
    },
    {
      "cell_type": "code",
      "source": [
        "import matplotlib.pyplot as plt\n",
        "  \n",
        "# y axis values\n",
        "y = avg_array_unsolvable\n",
        "# corresponding x axis values\n",
        "x = range(2,11)\n",
        "  \n",
        "# plotting the points \n",
        "plt.plot(x, y, color='green', linestyle='dashed', linewidth = 3,\n",
        "         marker='o', markerfacecolor='blue', markersize=12)\n",
        "  \n",
        "# setting x and y axis range\n",
        "plt.ylim(0,440)\n",
        "plt.xlim(2,11)\n",
        "  \n",
        "# naming the x axis\n",
        "plt.xlabel('num of qubits')\n",
        "# naming the y axis\n",
        "plt.ylabel('deviation from the right result')\n",
        "  \n",
        "# giving a title to my graph\n",
        "plt.title('unsolvable problems deviation from the desired result')\n",
        "  \n",
        "# function to show the plot\n",
        "plt.show()\n",
        "print(x)\n",
        "print(y)"
      ],
      "metadata": {
        "colab": {
          "base_uri": "https://localhost:8080/",
          "height": 330
        },
        "id": "tVhlrCj-So6M",
        "outputId": "ef9d6a65-6408-4f8b-fd30-cdb5ca86b913"
      },
      "execution_count": 57,
      "outputs": [
        {
          "output_type": "display_data",
          "data": {
            "text/plain": [
              "<Figure size 432x288 with 1 Axes>"
            ],
            "image/png": "[encoded data removed]"
          },
          "metadata": {
            "needs_background": "light"
          }
        },
        {
          "output_type": "stream",
          "name": "stdout",
          "text": [
            "range(2, 11)\n",
            "[3.3459860243251205e-05, 2.259191302013598, 7.693298107259121, 14.772351584662538, 14.507835406574618, 6.980880305777594, 10.71985926776929, 11.688642331681805, 37.737770229213396]\n"
          ]
        }
      ]
    }
  ]
}