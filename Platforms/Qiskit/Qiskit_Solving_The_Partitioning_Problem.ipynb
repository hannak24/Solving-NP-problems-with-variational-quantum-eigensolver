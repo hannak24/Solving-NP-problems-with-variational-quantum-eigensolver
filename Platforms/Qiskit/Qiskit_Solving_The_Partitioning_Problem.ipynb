{
  "nbformat": 4,
  "nbformat_minor": 0,
  "metadata": {
    "colab": {
      "provenance": []
    },
    "kernelspec": {
      "name": "python3",
      "display_name": "Python 3"
    },
    "language_info": {
      "name": "python"
    }
  },
  "cells": [
    {
      "cell_type": "markdown",
      "source": [
        "I will start with small 2 qubit problems, one solvable and one not."
      ],
      "metadata": {
        "id": "DGTsntVYw3Tr"
      }
    },
    {
      "cell_type": "markdown",
      "metadata": {
        "id": "806fc4e0"
      },
      "source": [
        "# The set"
      ]
    },
    {
      "cell_type": "code",
      "execution_count": 1,
      "metadata": {
        "id": "d01bebbb"
      },
      "outputs": [],
      "source": [
        "solvable_problem = [1,1] #An solvable instance of the partitioning problem to be solved using 2 quibts\n",
        "unsolvable_problem = [1,3] #An unsolvable instance of the partitioning problem to be solved using 2 quibts"
      ]
    },
    {
      "cell_type": "markdown",
      "source": [
        "# Qiskit"
      ],
      "metadata": {
        "id": "_1qvghO-S5Ok"
      }
    },
    {
      "cell_type": "code",
      "execution_count": 2,
      "metadata": {
        "colab": {
          "base_uri": "https://localhost:8080/"
        },
        "id": "3614b67b",
        "outputId": "788644a5-14e7-45e2-97be-1469d1a96b59"
      },
      "outputs": [
        {
          "output_type": "stream",
          "name": "stdout",
          "text": [
            "Looking in indexes: https://pypi.org/simple, https://us-python.pkg.dev/colab-wheels/public/simple/\n",
            "Collecting qiskit\n",
            "  Downloading qiskit-0.39.2.tar.gz (13 kB)\n",
            "Collecting qiskit-terra==0.22.2\n",
            "  Downloading qiskit_terra-0.22.2-cp37-cp37m-manylinux_2_17_x86_64.manylinux2014_x86_64.whl (4.8 MB)\n",
            "\u001b[K     |████████████████████████████████| 4.8 MB 6.0 MB/s \n",
            "\u001b[?25hCollecting qiskit-aer==0.11.1\n",
            "  Downloading qiskit_aer-0.11.1-cp37-cp37m-manylinux_2_17_x86_64.manylinux2014_x86_64.whl (19.2 MB)\n",
            "\u001b[K     |████████████████████████████████| 19.2 MB 7.7 MB/s \n",
            "\u001b[?25hCollecting qiskit-ibmq-provider==0.19.2\n",
            "  Downloading qiskit_ibmq_provider-0.19.2-py3-none-any.whl (240 kB)\n",
            "\u001b[K     |████████████████████████████████| 240 kB 43.0 MB/s \n",
            "\u001b[?25hRequirement already satisfied: scipy>=1.0 in /usr/local/lib/python3.7/dist-packages (from qiskit-aer==0.11.1->qiskit) (1.7.3)\n",
            "Requirement already satisfied: numpy>=1.16.3 in /usr/local/lib/python3.7/dist-packages (from qiskit-aer==0.11.1->qiskit) (1.21.6)\n",
            "Collecting websockets>=10.0\n",
            "  Downloading websockets-10.4-cp37-cp37m-manylinux_2_5_x86_64.manylinux1_x86_64.manylinux_2_17_x86_64.manylinux2014_x86_64.whl (106 kB)\n",
            "\u001b[K     |████████████████████████████████| 106 kB 37.8 MB/s \n",
            "\u001b[?25hCollecting requests-ntlm>=1.1.0\n",
            "  Downloading requests_ntlm-1.1.0-py2.py3-none-any.whl (5.7 kB)\n",
            "Collecting websocket-client>=1.0.1\n",
            "  Downloading websocket_client-1.4.2-py3-none-any.whl (55 kB)\n",
            "\u001b[K     |████████████████████████████████| 55 kB 1.6 MB/s \n",
            "\u001b[?25hRequirement already satisfied: urllib3>=1.21.1 in /usr/local/lib/python3.7/dist-packages (from qiskit-ibmq-provider==0.19.2->qiskit) (1.24.3)\n",
            "Requirement already satisfied: python-dateutil>=2.8.0 in /usr/local/lib/python3.7/dist-packages (from qiskit-ibmq-provider==0.19.2->qiskit) (2.8.2)\n",
            "Requirement already satisfied: requests>=2.19 in /usr/local/lib/python3.7/dist-packages (from qiskit-ibmq-provider==0.19.2->qiskit) (2.23.0)\n",
            "Requirement already satisfied: dill>=0.3 in /usr/local/lib/python3.7/dist-packages (from qiskit-terra==0.22.2->qiskit) (0.3.6)\n",
            "Collecting ply>=3.10\n",
            "  Downloading ply-3.11-py2.py3-none-any.whl (49 kB)\n",
            "\u001b[K     |████████████████████████████████| 49 kB 4.1 MB/s \n",
            "\u001b[?25hRequirement already satisfied: sympy>=1.3 in /usr/local/lib/python3.7/dist-packages (from qiskit-terra==0.22.2->qiskit) (1.7.1)\n",
            "Requirement already satisfied: importlib-metadata<5.0 in /usr/local/lib/python3.7/dist-packages (from qiskit-terra==0.22.2->qiskit) (4.13.0)\n",
            "Collecting shared-memory38\n",
            "  Downloading shared_memory38-0.1.2-cp37-cp37m-manylinux_2_5_x86_64.manylinux1_x86_64.whl (25 kB)\n",
            "Collecting retworkx>=0.11.0\n",
            "  Downloading retworkx-0.12.1-py3-none-any.whl (10 kB)\n",
            "Requirement already satisfied: psutil>=5 in /usr/local/lib/python3.7/dist-packages (from qiskit-terra==0.22.2->qiskit) (5.4.8)\n",
            "Requirement already satisfied: typing-extensions in /usr/local/lib/python3.7/dist-packages (from qiskit-terra==0.22.2->qiskit) (4.1.1)\n",
            "Collecting symengine>=0.9\n",
            "  Downloading symengine-0.9.2-cp37-cp37m-manylinux2010_x86_64.whl (37.5 MB)\n",
            "\u001b[K     |████████████████████████████████| 37.5 MB 1.3 MB/s \n",
            "\u001b[?25hCollecting tweedledum<2.0,>=1.1\n",
            "  Downloading tweedledum-1.1.1-cp37-cp37m-manylinux_2_12_x86_64.manylinux2010_x86_64.whl (943 kB)\n",
            "\u001b[K     |████████████████████████████████| 943 kB 45.6 MB/s \n",
            "\u001b[?25hCollecting stevedore>=3.0.0\n",
            "  Downloading stevedore-3.5.2-py3-none-any.whl (50 kB)\n",
            "\u001b[K     |████████████████████████████████| 50 kB 3.1 MB/s \n",
            "\u001b[?25hRequirement already satisfied: zipp>=0.5 in /usr/local/lib/python3.7/dist-packages (from importlib-metadata<5.0->qiskit-terra==0.22.2->qiskit) (3.10.0)\n",
            "Requirement already satisfied: six>=1.5 in /usr/local/lib/python3.7/dist-packages (from python-dateutil>=2.8.0->qiskit-ibmq-provider==0.19.2->qiskit) (1.15.0)\n",
            "Requirement already satisfied: certifi>=2017.4.17 in /usr/local/lib/python3.7/dist-packages (from requests>=2.19->qiskit-ibmq-provider==0.19.2->qiskit) (2022.9.24)\n",
            "Requirement already satisfied: idna<3,>=2.5 in /usr/local/lib/python3.7/dist-packages (from requests>=2.19->qiskit-ibmq-provider==0.19.2->qiskit) (2.10)\n",
            "Requirement already satisfied: chardet<4,>=3.0.2 in /usr/local/lib/python3.7/dist-packages (from requests>=2.19->qiskit-ibmq-provider==0.19.2->qiskit) (3.0.4)\n",
            "Collecting ntlm-auth>=1.0.2\n",
            "  Downloading ntlm_auth-1.5.0-py2.py3-none-any.whl (29 kB)\n",
            "Collecting cryptography>=1.3\n",
            "  Downloading cryptography-38.0.3-cp36-abi3-manylinux_2_24_x86_64.whl (4.1 MB)\n",
            "\u001b[K     |████████████████████████████████| 4.1 MB 46.7 MB/s \n",
            "\u001b[?25hRequirement already satisfied: cffi>=1.12 in /usr/local/lib/python3.7/dist-packages (from cryptography>=1.3->requests-ntlm>=1.1.0->qiskit-ibmq-provider==0.19.2->qiskit) (1.15.1)\n",
            "Requirement already satisfied: pycparser in /usr/local/lib/python3.7/dist-packages (from cffi>=1.12->cryptography>=1.3->requests-ntlm>=1.1.0->qiskit-ibmq-provider==0.19.2->qiskit) (2.21)\n",
            "Collecting rustworkx==0.12.1\n",
            "  Downloading rustworkx-0.12.1-cp37-cp37m-manylinux_2_17_x86_64.manylinux2014_x86_64.whl (1.9 MB)\n",
            "\u001b[K     |████████████████████████████████| 1.9 MB 44.0 MB/s \n",
            "\u001b[?25hCollecting pbr!=2.1.0,>=2.0.0\n",
            "  Downloading pbr-5.11.0-py2.py3-none-any.whl (112 kB)\n",
            "\u001b[K     |████████████████████████████████| 112 kB 54.0 MB/s \n",
            "\u001b[?25hRequirement already satisfied: mpmath>=0.19 in /usr/local/lib/python3.7/dist-packages (from sympy>=1.3->qiskit-terra==0.22.2->qiskit) (1.2.1)\n",
            "Building wheels for collected packages: qiskit\n",
            "  Building wheel for qiskit (setup.py) ... \u001b[?25l\u001b[?25hdone\n",
            "  Created wheel for qiskit: filename=qiskit-0.39.2-py3-none-any.whl size=12224 sha256=3611415640c3e63b4327ba561125fa4c6975afa1e971436bd054a5e092ad53ce\n",
            "  Stored in directory: /root/.cache/pip/wheels/30/dc/90/0ee55ccffd13c16db1abd4c43028f7c9cedb5576b190402190\n",
            "Successfully built qiskit\n",
            "Installing collected packages: rustworkx, pbr, tweedledum, symengine, stevedore, shared-memory38, retworkx, ply, ntlm-auth, cryptography, websockets, websocket-client, requests-ntlm, qiskit-terra, qiskit-ibmq-provider, qiskit-aer, qiskit\n",
            "Successfully installed cryptography-38.0.3 ntlm-auth-1.5.0 pbr-5.11.0 ply-3.11 qiskit-0.39.2 qiskit-aer-0.11.1 qiskit-ibmq-provider-0.19.2 qiskit-terra-0.22.2 requests-ntlm-1.1.0 retworkx-0.12.1 rustworkx-0.12.1 shared-memory38-0.1.2 stevedore-3.5.2 symengine-0.9.2 tweedledum-1.1.1 websocket-client-1.4.2 websockets-10.4\n"
          ]
        }
      ],
      "source": [
        "!pip install qiskit"
      ]
    },
    {
      "cell_type": "code",
      "source": [
        "from qiskit.algorithms import VQE\n",
        "from qiskit import Aer, IBMQ\n",
        "from qiskit.utils import QuantumInstance, algorithm_globals\n",
        "from qiskit.providers.aer.noise import NoiseModel\n",
        "from qiskit.algorithms.optimizers import L_BFGS_B, COBYLA\n",
        "from qiskit.tools.visualization import circuit_drawer\n",
        "from qiskit.circuit.library import EfficientSU2  \n",
        "\n",
        "seed = 9999\n",
        "entanglement = \"linear\""
      ],
      "metadata": {
        "id": "LWn1XIxR3sBK"
      },
      "execution_count": 3,
      "outputs": []
    },
    {
      "cell_type": "markdown",
      "metadata": {
        "id": "18c5b858"
      },
      "source": [
        "## preparing the simulator"
      ]
    },
    {
      "cell_type": "code",
      "execution_count": 4,
      "metadata": {
        "id": "167f7e1e"
      },
      "outputs": [],
      "source": [
        "def prepare_simulator(simulator_name, optimizer_name, seed):\n",
        "    algorithm_globals.random_seed = seed\n",
        "    backend = Aer.get_backend(simulator_name)\n",
        "    quantum_instance = QuantumInstance(backend=backend, \n",
        "                                      shots=8192, \n",
        "                                      seed_transpiler=seed, \n",
        "                                      seed_simulator=seed\n",
        "                                      )\n",
        "    if optimizer_name == \"cobyla\" or optimizer_name == \"COBYLA\":\n",
        "      optimizer = COBYLA(maxiter=60)\n",
        "    else:\n",
        "      optimizer = L_BFGS_B(maxiter=60)\n",
        "    return optimizer, quantum_instance"
      ]
    },
    {
      "cell_type": "markdown",
      "metadata": {
        "id": "cb1814a7"
      },
      "source": [
        "## preparing the hamiltonian for 2 quibts (Ising model)"
      ]
    },
    {
      "cell_type": "code",
      "execution_count": 5,
      "metadata": {
        "id": "da896710"
      },
      "outputs": [],
      "source": [
        "import numpy as np\n",
        "from qiskit.opflow import Z, I\n",
        "\n",
        "def create_hamiltonian(S):\n",
        "  n_1 = S[0]\n",
        "  n_2 = S[1]\n",
        "\n",
        "  H = n_1*n_1*(I^I) + n_1*n_2*(Z^Z) + n_2*n_1*(Z^Z) + n_2*n_2*(I^I)\n",
        "  print(\"========== Ising Model Hamiltonian for Two Qubits ==========\\n\")\n",
        "  print(H.to_matrix())\n",
        "  print()\n",
        "  return H"
      ]
    },
    {
      "cell_type": "markdown",
      "source": [
        "## compute minimal eigenvalue"
      ],
      "metadata": {
        "id": "xb1lbl_Cb8Xk"
      }
    },
    {
      "cell_type": "code",
      "source": [
        "from qiskit.circuit.library import EfficientSU2\n",
        "\n",
        "def minimum_eigenvalue_by_vqe(num_qubits, ansatz_entanglement, optimizer, quantum_instance, hamiltonian):\n",
        "    ansatz = EfficientSU2(num_qubits=num_qubits, entanglement=entanglement)\n",
        "    #ansatz.draw(output='latex', scale=0.5)\n",
        "    vqe = VQE(ansatz, optimizer, quantum_instance=quantum_instance)\n",
        "    result = vqe.compute_minimum_eigenvalue(hamiltonian)\n",
        "    print(\"minimal eigenvalue: \", format(result.eigenvalue,\".3f\"))"
      ],
      "metadata": {
        "id": "Eu7q77nAb724"
      },
      "execution_count": 6,
      "outputs": []
    },
    {
      "cell_type": "markdown",
      "source": [
        "## run test"
      ],
      "metadata": {
        "id": "-T1hmni4sVYt"
      }
    },
    {
      "cell_type": "code",
      "source": [
        "def run_experiment(simulator,optimizer,H,num_qubits=2):\n",
        "  bfgs_optimizer, quantum_instance = prepare_simulator(simulator, optimizer, seed) \n",
        "  minimum_eigenvalue_by_vqe(num_qubits, entanglement, bfgs_optimizer, quantum_instance, H)\n",
        "  return minimum_eigenvalue_by_vqe\n"
      ],
      "metadata": {
        "id": "bmDfhqeWseSL"
      },
      "execution_count": 11,
      "outputs": []
    },
    {
      "cell_type": "code",
      "source": [
        "def test_problem_instance(H, num_qubits=2):\n",
        "  print(f\"simulator: qasm, optimizer: cobyla, num of qubits: {num_qubits}\", end = ' ') \n",
        "  run_experiment(\"qasm_simulator\",\"cobyla\",H,num_qubits)  \n",
        "  print(f\"simulator: qasm, optimizer: bfgs, num of qubits: {num_qubits}\", end = ' ')                    \n",
        "  run_experiment(\"qasm_simulator\",\"bfgs\",H, num_qubits)   \n",
        "  print(f\"simulator: aer_simulator_statevector, optimizer: cobyla, num of qubits: {num_qubits}\", end = ' ') \n",
        "  run_experiment(\"aer_simulator_statevector\",\"cobyla\",H,num_qubits)  \n",
        "  print(f\"simulator: aer_simulator_statevector, optimizer: bfgs, num of qubits: {num_qubits}\", end = ' ')                    \n",
        "  run_experiment(\"aer_simulator_statevector\",\"bfgs\",H, num_qubits)  \n",
        "       "
      ],
      "metadata": {
        "id": "mRKUsC96s7qK"
      },
      "execution_count": 17,
      "outputs": []
    },
    {
      "cell_type": "markdown",
      "source": [
        "# Run experiments"
      ],
      "metadata": {
        "id": "Q9bAXSX7s8bz"
      }
    },
    {
      "cell_type": "markdown",
      "metadata": {
        "id": "a821e568"
      },
      "source": [
        "## Solvable problem ([1,1])"
      ]
    },
    {
      "cell_type": "code",
      "source": [
        "H = create_hamiltonian(solvable_problem)"
      ],
      "metadata": {
        "colab": {
          "base_uri": "https://localhost:8080/"
        },
        "id": "bWqPojz87cAn",
        "outputId": "31e0f8fa-1b98-4599-f085-53e3a038f40e"
      },
      "execution_count": 9,
      "outputs": [
        {
          "output_type": "stream",
          "name": "stdout",
          "text": [
            "========== Ising Model Hamiltonian for Two Qubits ==========\n",
            "\n",
            "[[4.+0.j 0.+0.j 0.+0.j 0.+0.j]\n",
            " [0.+0.j 0.+0.j 0.+0.j 0.+0.j]\n",
            " [0.+0.j 0.+0.j 0.+0.j 0.+0.j]\n",
            " [0.+0.j 0.+0.j 0.+0.j 4.+0.j]]\n",
            "\n"
          ]
        }
      ]
    },
    {
      "cell_type": "code",
      "source": [
        "test_problem_instance(H, num_qubits=2)"
      ],
      "metadata": {
        "colab": {
          "base_uri": "https://localhost:8080/"
        },
        "id": "L7AHL1XVa-Bb",
        "outputId": "cb6ead94-0d6d-4f29-dd5c-f74be8f00912"
      },
      "execution_count": 18,
      "outputs": [
        {
          "output_type": "stream",
          "name": "stdout",
          "text": [
            "simulator: qasm, optimizer: cobyla, num of qubits: 2 minimal eigenvalue:  0.000+0.000j\n",
            "simulator: qasm, optimizer: bfgs, num of qubits: 2 minimal eigenvalue:  1.247+0.000j\n",
            "simulator: aer_simulator_statevector, optimizer: cobyla, num of qubits: 2 minimal eigenvalue:  0.002+0.000j\n",
            "simulator: aer_simulator_statevector, optimizer: bfgs, num of qubits: 2 minimal eigenvalue:  0.000+0.000j\n"
          ]
        }
      ]
    },
    {
      "cell_type": "markdown",
      "metadata": {
        "id": "weiYPN_Kc1RJ"
      },
      "source": [
        "## Unsolvable problem ([1,3])"
      ]
    },
    {
      "cell_type": "markdown",
      "source": [
        "## compute minimal eigenvalue for unsolvable problem"
      ],
      "metadata": {
        "id": "-VGosfePbzpw"
      }
    },
    {
      "cell_type": "code",
      "source": [
        "H = create_hamiltonian(unsolvable_problem)"
      ],
      "metadata": {
        "colab": {
          "base_uri": "https://localhost:8080/"
        },
        "outputId": "5fcfc52d-acbf-4cfc-ad36-d624dd31b781",
        "id": "To7ttUic1wIK"
      },
      "execution_count": 19,
      "outputs": [
        {
          "output_type": "stream",
          "name": "stdout",
          "text": [
            "========== Ising Model Hamiltonian for Two Qubits ==========\n",
            "\n",
            "[[16.+0.j  0.+0.j  0.+0.j  0.+0.j]\n",
            " [ 0.+0.j  4.+0.j  0.+0.j  0.+0.j]\n",
            " [ 0.+0.j  0.+0.j  4.+0.j  0.+0.j]\n",
            " [ 0.+0.j  0.+0.j  0.+0.j 16.+0.j]]\n",
            "\n"
          ]
        }
      ]
    },
    {
      "cell_type": "code",
      "source": [
        "test_problem_instance(H, num_qubits=2)"
      ],
      "metadata": {
        "colab": {
          "base_uri": "https://localhost:8080/"
        },
        "id": "q2zhHNUsceeS",
        "outputId": "49ca0d14-0b76-471a-87ed-2da2bbd39c96"
      },
      "execution_count": 20,
      "outputs": [
        {
          "output_type": "stream",
          "name": "stdout",
          "text": [
            "simulator: qasm, optimizer: cobyla, num of qubits: 2 minimal eigenvalue:  4.000+0.000j\n",
            "simulator: qasm, optimizer: bfgs, num of qubits: 2 minimal eigenvalue:  7.740+0.000j\n",
            "simulator: aer_simulator_statevector, optimizer: cobyla, num of qubits: 2 minimal eigenvalue:  4.004+0.000j\n",
            "simulator: aer_simulator_statevector, optimizer: bfgs, num of qubits: 2 minimal eigenvalue:  4.000+0.000j\n"
          ]
        }
      ]
    },
    {
      "cell_type": "markdown",
      "source": [
        "# Results for 2 qubits problems instances"
      ],
      "metadata": {
        "id": "fulISLVaeJth"
      }
    },
    {
      "cell_type": "markdown",
      "source": [
        "All the experiments went well except of the combination of the qasm simulator and the bfgs optimizer, which returned result that deviated a lot from the expected result."
      ],
      "metadata": {
        "id": "xQhAiWuQiqi4"
      }
    },
    {
      "cell_type": "markdown",
      "source": [
        "## Solvable problem ([1,1])"
      ],
      "metadata": {
        "id": "PJQPUk_li4zr"
      }
    },
    {
      "cell_type": "markdown",
      "source": [
        "\n",
        "\n",
        "\n",
        "\n",
        "\n",
        "\n",
        "\n",
        "Optimizer/Simulator  | qasm               | aer_simulator_statevector\n",
        "------------------|:----------------|--------------------\n",
        "Cobyla            |  0.0 (worked!)  |  0.000 (worked!)\n",
        "bfgs              |  1.247 (very wrong result)  |  0.000 (worked!)"
      ],
      "metadata": {
        "id": "N5JyEZvfeQqI"
      }
    },
    {
      "cell_type": "markdown",
      "source": [
        "## Unsolvable problem ([1,3])"
      ],
      "metadata": {
        "id": "fUXM49NljFPK"
      }
    },
    {
      "cell_type": "markdown",
      "source": [
        "\n",
        "\n",
        "\n",
        "\n",
        "\n",
        "\n",
        "\n",
        "\n",
        "Optimizer/Simulator  | qasm               | aer_simulator_statevector\n",
        "------------------|:----------------|--------------------\n",
        "Cobyla            |  4.0 (worked!)  |  4.000 (worked!)\n",
        "bfgs              |  7.74 (very wrong result)  |  4.000 (worked!)"
      ],
      "metadata": {
        "id": "FbuP7uqujFPK"
      }
    },
    {
      "cell_type": "markdown",
      "source": [
        "## General Form"
      ],
      "metadata": {
        "id": "_yiEbpcGcanO"
      }
    },
    {
      "cell_type": "code",
      "source": [
        "solvable_problem_4_qubits = [1,2,3,2]\n",
        "unsolvable_problem_4_qubits = [1,2,4,2]"
      ],
      "metadata": {
        "id": "WNKChVheFUdd"
      },
      "execution_count": 21,
      "outputs": []
    },
    {
      "cell_type": "markdown",
      "metadata": {
        "id": "TjZGaMsrcnkY"
      },
      "source": [
        "### preparing the hamiltonian for n quibts (Ising model)"
      ]
    },
    {
      "cell_type": "code",
      "execution_count": 22,
      "metadata": {
        "id": "_sFzMhg3cnkY"
      },
      "outputs": [],
      "source": [
        "import numpy as np\n",
        "from qiskit.opflow import Z, I\n",
        "\n",
        "def create_general_hamiltonian(S):\n",
        "  num_qubits = len(S)\n",
        "  sum = 0\n",
        "  sigmas_list = []\n",
        "  for qubit in range(num_qubits):\n",
        "    if qubit == 0:\n",
        "       sigma = Z\n",
        "    else:\n",
        "       sigma = I\n",
        "    for i in range(1,num_qubits):\n",
        "      if i == qubit:\n",
        "        sigma = sigma^Z\n",
        "      else:\n",
        "        sigma = sigma^I\n",
        "    sigmas_list.append(sigma)  \n",
        "\n",
        "  for i in range(len(sigmas_list)):\n",
        "    for j in range(len(sigmas_list)):\n",
        "      sum += S[i]*S[j]* sigmas_list[i]@sigmas_list[j]\n",
        "  print(\"========== Ising Model Hamiltonian ==========\\n\")\n",
        "  print(sum.to_matrix())\n",
        "  print()\n",
        "  return sum"
      ]
    },
    {
      "cell_type": "markdown",
      "source": [
        "# Run experiments"
      ],
      "metadata": {
        "id": "e2D1f8Yne2k7"
      }
    },
    {
      "cell_type": "markdown",
      "metadata": {
        "id": "KS9_7tZce2k7"
      },
      "source": [
        "## Solvable problem ([1,2,3,2])"
      ]
    },
    {
      "cell_type": "code",
      "source": [
        "H = create_general_hamiltonian(solvable_problem_4_qubits)"
      ],
      "metadata": {
        "colab": {
          "base_uri": "https://localhost:8080/"
        },
        "outputId": "92e258cf-8d26-49e4-ed4f-d715cb11868c",
        "id": "_muHo3Wbe2k7"
      },
      "execution_count": 26,
      "outputs": [
        {
          "output_type": "stream",
          "name": "stdout",
          "text": [
            "========== Ising Model Hamiltonian ==========\n",
            "\n",
            "[[64.+0.j  0.+0.j  0.+0.j  0.+0.j  0.+0.j  0.+0.j  0.+0.j  0.+0.j  0.+0.j\n",
            "   0.+0.j  0.+0.j  0.+0.j  0.+0.j  0.+0.j  0.+0.j  0.+0.j]\n",
            " [ 0.+0.j 16.+0.j  0.+0.j  0.+0.j  0.+0.j  0.+0.j  0.+0.j  0.+0.j  0.+0.j\n",
            "   0.+0.j  0.+0.j  0.+0.j  0.+0.j  0.+0.j  0.+0.j  0.+0.j]\n",
            " [ 0.+0.j  0.+0.j  4.+0.j  0.+0.j  0.+0.j  0.+0.j  0.+0.j  0.+0.j  0.+0.j\n",
            "   0.+0.j  0.+0.j  0.+0.j  0.+0.j  0.+0.j  0.+0.j  0.+0.j]\n",
            " [ 0.+0.j  0.+0.j  0.+0.j  4.+0.j  0.+0.j  0.+0.j  0.+0.j  0.+0.j  0.+0.j\n",
            "   0.+0.j  0.+0.j  0.+0.j  0.+0.j  0.+0.j  0.+0.j  0.+0.j]\n",
            " [ 0.+0.j  0.+0.j  0.+0.j  0.+0.j 16.+0.j  0.+0.j  0.+0.j  0.+0.j  0.+0.j\n",
            "   0.+0.j  0.+0.j  0.+0.j  0.+0.j  0.+0.j  0.+0.j  0.+0.j]\n",
            " [ 0.+0.j  0.+0.j  0.+0.j  0.+0.j  0.+0.j  0.+0.j  0.+0.j  0.+0.j  0.+0.j\n",
            "   0.+0.j  0.+0.j  0.+0.j  0.+0.j  0.+0.j  0.+0.j  0.+0.j]\n",
            " [ 0.+0.j  0.+0.j  0.+0.j  0.+0.j  0.+0.j  0.+0.j  4.+0.j  0.+0.j  0.+0.j\n",
            "   0.+0.j  0.+0.j  0.+0.j  0.+0.j  0.+0.j  0.+0.j  0.+0.j]\n",
            " [ 0.+0.j  0.+0.j  0.+0.j  0.+0.j  0.+0.j  0.+0.j  0.+0.j 36.+0.j  0.+0.j\n",
            "   0.+0.j  0.+0.j  0.+0.j  0.+0.j  0.+0.j  0.+0.j  0.+0.j]\n",
            " [ 0.+0.j  0.+0.j  0.+0.j  0.+0.j  0.+0.j  0.+0.j  0.+0.j  0.+0.j 36.+0.j\n",
            "   0.+0.j  0.+0.j  0.+0.j  0.+0.j  0.+0.j  0.+0.j  0.+0.j]\n",
            " [ 0.+0.j  0.+0.j  0.+0.j  0.+0.j  0.+0.j  0.+0.j  0.+0.j  0.+0.j  0.+0.j\n",
            "   4.+0.j  0.+0.j  0.+0.j  0.+0.j  0.+0.j  0.+0.j  0.+0.j]\n",
            " [ 0.+0.j  0.+0.j  0.+0.j  0.+0.j  0.+0.j  0.+0.j  0.+0.j  0.+0.j  0.+0.j\n",
            "   0.+0.j  0.+0.j  0.+0.j  0.+0.j  0.+0.j  0.+0.j  0.+0.j]\n",
            " [ 0.+0.j  0.+0.j  0.+0.j  0.+0.j  0.+0.j  0.+0.j  0.+0.j  0.+0.j  0.+0.j\n",
            "   0.+0.j  0.+0.j 16.+0.j  0.+0.j  0.+0.j  0.+0.j  0.+0.j]\n",
            " [ 0.+0.j  0.+0.j  0.+0.j  0.+0.j  0.+0.j  0.+0.j  0.+0.j  0.+0.j  0.+0.j\n",
            "   0.+0.j  0.+0.j  0.+0.j  4.+0.j  0.+0.j  0.+0.j  0.+0.j]\n",
            " [ 0.+0.j  0.+0.j  0.+0.j  0.+0.j  0.+0.j  0.+0.j  0.+0.j  0.+0.j  0.+0.j\n",
            "   0.+0.j  0.+0.j  0.+0.j  0.+0.j  4.+0.j  0.+0.j  0.+0.j]\n",
            " [ 0.+0.j  0.+0.j  0.+0.j  0.+0.j  0.+0.j  0.+0.j  0.+0.j  0.+0.j  0.+0.j\n",
            "   0.+0.j  0.+0.j  0.+0.j  0.+0.j  0.+0.j 16.+0.j  0.+0.j]\n",
            " [ 0.+0.j  0.+0.j  0.+0.j  0.+0.j  0.+0.j  0.+0.j  0.+0.j  0.+0.j  0.+0.j\n",
            "   0.+0.j  0.+0.j  0.+0.j  0.+0.j  0.+0.j  0.+0.j 64.+0.j]]\n",
            "\n"
          ]
        }
      ]
    },
    {
      "cell_type": "code",
      "source": [
        "test_problem_instance(H, num_qubits=4)"
      ],
      "metadata": {
        "colab": {
          "base_uri": "https://localhost:8080/"
        },
        "outputId": "c59af766-8a0c-44f7-9af1-cc5dbdcad476",
        "id": "zJy3G8GRe2k7"
      },
      "execution_count": 27,
      "outputs": [
        {
          "output_type": "stream",
          "name": "stdout",
          "text": [
            "simulator: qasm, optimizer: cobyla, num of qubits: 4 minimal eigenvalue:  3.665+0.000j\n",
            "simulator: qasm, optimizer: bfgs, num of qubits: 4 minimal eigenvalue:  17.483+0.000j\n",
            "simulator: aer_simulator_statevector, optimizer: cobyla, num of qubits: 4 minimal eigenvalue:  5.514+0.000j\n",
            "simulator: aer_simulator_statevector, optimizer: bfgs, num of qubits: 4 minimal eigenvalue:  0.000+0.000j\n"
          ]
        }
      ]
    },
    {
      "cell_type": "markdown",
      "metadata": {
        "id": "eVwud6dJe2k7"
      },
      "source": [
        "## Unsolvable problem ([1,2,4,2])"
      ]
    },
    {
      "cell_type": "markdown",
      "source": [
        "## compute minimal eigenvalue for unsolvable problem"
      ],
      "metadata": {
        "id": "31qQsnPfe2k7"
      }
    },
    {
      "cell_type": "code",
      "source": [
        "H = create_general_hamiltonian(unsolvable_problem_4_qubits)"
      ],
      "metadata": {
        "colab": {
          "base_uri": "https://localhost:8080/"
        },
        "outputId": "30b20eb4-ed47-498d-8c3d-30e2dba51fed",
        "id": "YzIobpb0e2k8"
      },
      "execution_count": 31,
      "outputs": [
        {
          "output_type": "stream",
          "name": "stdout",
          "text": [
            "========== Ising Model Hamiltonian ==========\n",
            "\n",
            "[[81.+0.j  0.+0.j  0.+0.j  0.+0.j  0.+0.j  0.+0.j  0.+0.j  0.+0.j  0.+0.j\n",
            "   0.+0.j  0.+0.j  0.+0.j  0.+0.j  0.+0.j  0.+0.j  0.+0.j]\n",
            " [ 0.+0.j 25.+0.j  0.+0.j  0.+0.j  0.+0.j  0.+0.j  0.+0.j  0.+0.j  0.+0.j\n",
            "   0.+0.j  0.+0.j  0.+0.j  0.+0.j  0.+0.j  0.+0.j  0.+0.j]\n",
            " [ 0.+0.j  0.+0.j  1.+0.j  0.+0.j  0.+0.j  0.+0.j  0.+0.j  0.+0.j  0.+0.j\n",
            "   0.+0.j  0.+0.j  0.+0.j  0.+0.j  0.+0.j  0.+0.j  0.+0.j]\n",
            " [ 0.+0.j  0.+0.j  0.+0.j  9.+0.j  0.+0.j  0.+0.j  0.+0.j  0.+0.j  0.+0.j\n",
            "   0.+0.j  0.+0.j  0.+0.j  0.+0.j  0.+0.j  0.+0.j  0.+0.j]\n",
            " [ 0.+0.j  0.+0.j  0.+0.j  0.+0.j 25.+0.j  0.+0.j  0.+0.j  0.+0.j  0.+0.j\n",
            "   0.+0.j  0.+0.j  0.+0.j  0.+0.j  0.+0.j  0.+0.j  0.+0.j]\n",
            " [ 0.+0.j  0.+0.j  0.+0.j  0.+0.j  0.+0.j  1.+0.j  0.+0.j  0.+0.j  0.+0.j\n",
            "   0.+0.j  0.+0.j  0.+0.j  0.+0.j  0.+0.j  0.+0.j  0.+0.j]\n",
            " [ 0.+0.j  0.+0.j  0.+0.j  0.+0.j  0.+0.j  0.+0.j  9.+0.j  0.+0.j  0.+0.j\n",
            "   0.+0.j  0.+0.j  0.+0.j  0.+0.j  0.+0.j  0.+0.j  0.+0.j]\n",
            " [ 0.+0.j  0.+0.j  0.+0.j  0.+0.j  0.+0.j  0.+0.j  0.+0.j 49.+0.j  0.+0.j\n",
            "   0.+0.j  0.+0.j  0.+0.j  0.+0.j  0.+0.j  0.+0.j  0.+0.j]\n",
            " [ 0.+0.j  0.+0.j  0.+0.j  0.+0.j  0.+0.j  0.+0.j  0.+0.j  0.+0.j 49.+0.j\n",
            "   0.+0.j  0.+0.j  0.+0.j  0.+0.j  0.+0.j  0.+0.j  0.+0.j]\n",
            " [ 0.+0.j  0.+0.j  0.+0.j  0.+0.j  0.+0.j  0.+0.j  0.+0.j  0.+0.j  0.+0.j\n",
            "   9.+0.j  0.+0.j  0.+0.j  0.+0.j  0.+0.j  0.+0.j  0.+0.j]\n",
            " [ 0.+0.j  0.+0.j  0.+0.j  0.+0.j  0.+0.j  0.+0.j  0.+0.j  0.+0.j  0.+0.j\n",
            "   0.+0.j  1.+0.j  0.+0.j  0.+0.j  0.+0.j  0.+0.j  0.+0.j]\n",
            " [ 0.+0.j  0.+0.j  0.+0.j  0.+0.j  0.+0.j  0.+0.j  0.+0.j  0.+0.j  0.+0.j\n",
            "   0.+0.j  0.+0.j 25.+0.j  0.+0.j  0.+0.j  0.+0.j  0.+0.j]\n",
            " [ 0.+0.j  0.+0.j  0.+0.j  0.+0.j  0.+0.j  0.+0.j  0.+0.j  0.+0.j  0.+0.j\n",
            "   0.+0.j  0.+0.j  0.+0.j  9.+0.j  0.+0.j  0.+0.j  0.+0.j]\n",
            " [ 0.+0.j  0.+0.j  0.+0.j  0.+0.j  0.+0.j  0.+0.j  0.+0.j  0.+0.j  0.+0.j\n",
            "   0.+0.j  0.+0.j  0.+0.j  0.+0.j  1.+0.j  0.+0.j  0.+0.j]\n",
            " [ 0.+0.j  0.+0.j  0.+0.j  0.+0.j  0.+0.j  0.+0.j  0.+0.j  0.+0.j  0.+0.j\n",
            "   0.+0.j  0.+0.j  0.+0.j  0.+0.j  0.+0.j 25.+0.j  0.+0.j]\n",
            " [ 0.+0.j  0.+0.j  0.+0.j  0.+0.j  0.+0.j  0.+0.j  0.+0.j  0.+0.j  0.+0.j\n",
            "   0.+0.j  0.+0.j  0.+0.j  0.+0.j  0.+0.j  0.+0.j 81.+0.j]]\n",
            "\n"
          ]
        }
      ]
    },
    {
      "cell_type": "code",
      "source": [
        "test_problem_instance(H, num_qubits=4)"
      ],
      "metadata": {
        "colab": {
          "base_uri": "https://localhost:8080/"
        },
        "outputId": "dfae9c0e-0cfc-492f-857e-2700b6793ddc",
        "id": "bisSD9lfe2k8"
      },
      "execution_count": 32,
      "outputs": [
        {
          "output_type": "stream",
          "name": "stdout",
          "text": [
            "simulator: qasm, optimizer: cobyla, num of qubits: 4 minimal eigenvalue:  6.538+0.000j\n",
            "simulator: qasm, optimizer: bfgs, num of qubits: 4 minimal eigenvalue:  25.465+0.000j\n",
            "simulator: aer_simulator_statevector, optimizer: cobyla, num of qubits: 4 minimal eigenvalue:  8.969+0.000j\n",
            "simulator: aer_simulator_statevector, optimizer: bfgs, num of qubits: 4 minimal eigenvalue:  1.000+0.000j\n"
          ]
        }
      ]
    },
    {
      "cell_type": "markdown",
      "source": [
        "# Results for 4 qubits problems instances"
      ],
      "metadata": {
        "id": "oR6M-XUie2k8"
      }
    },
    {
      "cell_type": "markdown",
      "source": [
        "This time the only combination that worked without deviation is aer_simulator_statevector + bfgs optimizer"
      ],
      "metadata": {
        "id": "AKWR3mnne2k8"
      }
    },
    {
      "cell_type": "markdown",
      "source": [
        "## Solvable problem ([1,2,3,2])"
      ],
      "metadata": {
        "id": "MVqfxC9Be2k8"
      }
    },
    {
      "cell_type": "markdown",
      "source": [
        "\n",
        "\n",
        "\n",
        "\n",
        "\n",
        "\n",
        "\n",
        "Optimizer/Simulator  | qasm               | aer_simulator_statevector\n",
        "------------------|:----------------|--------------------\n",
        "Cobyla            |  3.665 (very wrong result)  |  5.514 (very wrong result)\n",
        "bfgs              |  17.483 (very wrong result)  |  0.000 (worked!)"
      ],
      "metadata": {
        "id": "AumHoS9Ne2k8"
      }
    },
    {
      "cell_type": "markdown",
      "source": [
        "## Unsolvable problem ([1,2,4,2])"
      ],
      "metadata": {
        "id": "6y5txVuce2k8"
      }
    },
    {
      "cell_type": "markdown",
      "source": [
        "\n",
        "\n",
        "\n",
        "\n",
        "\n",
        "\n",
        "\n",
        "\n",
        "Optimizer/Simulator  | qasm               | aer_simulator_statevector\n",
        "------------------|:----------------|--------------------\n",
        "Cobyla            |  6.538 (very wrong result)  |  8.969 (very wrong result)\n",
        "bfgs              |  25.465 (very wrong result)  |  1.000 (worked!)"
      ],
      "metadata": {
        "id": "6kgbZRq3e2k8"
      }
    }
  ]
}
