{
  "cells": [
    {
      "cell_type": "markdown",
      "metadata": {
        "id": "_1qvghO-S5Ok"
      },
      "source": [
        "# Qiskit"
      ]
    },
    {
      "cell_type": "code",
      "execution_count": 22,
      "metadata": {
        "colab": {
          "base_uri": "https://localhost:8080/"
        },
        "id": "3614b67b",
        "outputId": "6b525db4-3612-458a-d4de-fc9863d552bd"
      },
      "outputs": [
        {
          "output_type": "stream",
          "name": "stdout",
          "text": [
            "Looking in indexes: https://pypi.org/simple, https://us-python.pkg.dev/colab-wheels/public/simple/\n",
            "Requirement already satisfied: qiskit in /usr/local/lib/python3.8/dist-packages (0.39.3)\n",
            "Requirement already satisfied: qiskit-aer==0.11.1 in /usr/local/lib/python3.8/dist-packages (from qiskit) (0.11.1)\n",
            "Requirement already satisfied: qiskit-terra==0.22.3 in /usr/local/lib/python3.8/dist-packages (from qiskit) (0.22.3)\n",
            "Requirement already satisfied: qiskit-ibmq-provider==0.19.2 in /usr/local/lib/python3.8/dist-packages (from qiskit) (0.19.2)\n",
            "Requirement already satisfied: scipy>=1.0 in /usr/local/lib/python3.8/dist-packages (from qiskit-aer==0.11.1->qiskit) (1.7.3)\n",
            "Requirement already satisfied: numpy>=1.16.3 in /usr/local/lib/python3.8/dist-packages (from qiskit-aer==0.11.1->qiskit) (1.21.6)\n",
            "Requirement already satisfied: python-dateutil>=2.8.0 in /usr/local/lib/python3.8/dist-packages (from qiskit-ibmq-provider==0.19.2->qiskit) (2.8.2)\n",
            "Requirement already satisfied: requests>=2.19 in /usr/local/lib/python3.8/dist-packages (from qiskit-ibmq-provider==0.19.2->qiskit) (2.23.0)\n",
            "Requirement already satisfied: websocket-client>=1.0.1 in /usr/local/lib/python3.8/dist-packages (from qiskit-ibmq-provider==0.19.2->qiskit) (1.4.2)\n",
            "Requirement already satisfied: urllib3>=1.21.1 in /usr/local/lib/python3.8/dist-packages (from qiskit-ibmq-provider==0.19.2->qiskit) (1.24.3)\n",
            "Requirement already satisfied: websockets>=10.0 in /usr/local/lib/python3.8/dist-packages (from qiskit-ibmq-provider==0.19.2->qiskit) (10.4)\n",
            "Requirement already satisfied: requests-ntlm>=1.1.0 in /usr/local/lib/python3.8/dist-packages (from qiskit-ibmq-provider==0.19.2->qiskit) (1.1.0)\n",
            "Requirement already satisfied: stevedore>=3.0.0 in /usr/local/lib/python3.8/dist-packages (from qiskit-terra==0.22.3->qiskit) (4.1.1)\n",
            "Requirement already satisfied: sympy>=1.3 in /usr/local/lib/python3.8/dist-packages (from qiskit-terra==0.22.3->qiskit) (1.7.1)\n",
            "Requirement already satisfied: ply>=3.10 in /usr/local/lib/python3.8/dist-packages (from qiskit-terra==0.22.3->qiskit) (3.11)\n",
            "Requirement already satisfied: dill>=0.3 in /usr/local/lib/python3.8/dist-packages (from qiskit-terra==0.22.3->qiskit) (0.3.6)\n",
            "Requirement already satisfied: tweedledum<2.0,>=1.1 in /usr/local/lib/python3.8/dist-packages (from qiskit-terra==0.22.3->qiskit) (1.1.1)\n",
            "Requirement already satisfied: psutil>=5 in /usr/local/lib/python3.8/dist-packages (from qiskit-terra==0.22.3->qiskit) (5.4.8)\n",
            "Requirement already satisfied: retworkx>=0.11.0 in /usr/local/lib/python3.8/dist-packages (from qiskit-terra==0.22.3->qiskit) (0.12.1)\n",
            "Requirement already satisfied: symengine>=0.9 in /usr/local/lib/python3.8/dist-packages (from qiskit-terra==0.22.3->qiskit) (0.9.2)\n",
            "Requirement already satisfied: six>=1.5 in /usr/local/lib/python3.8/dist-packages (from python-dateutil>=2.8.0->qiskit-ibmq-provider==0.19.2->qiskit) (1.15.0)\n",
            "Requirement already satisfied: certifi>=2017.4.17 in /usr/local/lib/python3.8/dist-packages (from requests>=2.19->qiskit-ibmq-provider==0.19.2->qiskit) (2022.9.24)\n",
            "Requirement already satisfied: idna<3,>=2.5 in /usr/local/lib/python3.8/dist-packages (from requests>=2.19->qiskit-ibmq-provider==0.19.2->qiskit) (2.10)\n",
            "Requirement already satisfied: chardet<4,>=3.0.2 in /usr/local/lib/python3.8/dist-packages (from requests>=2.19->qiskit-ibmq-provider==0.19.2->qiskit) (3.0.4)\n",
            "Requirement already satisfied: cryptography>=1.3 in /usr/local/lib/python3.8/dist-packages (from requests-ntlm>=1.1.0->qiskit-ibmq-provider==0.19.2->qiskit) (38.0.4)\n",
            "Requirement already satisfied: ntlm-auth>=1.0.2 in /usr/local/lib/python3.8/dist-packages (from requests-ntlm>=1.1.0->qiskit-ibmq-provider==0.19.2->qiskit) (1.5.0)\n",
            "Requirement already satisfied: cffi>=1.12 in /usr/local/lib/python3.8/dist-packages (from cryptography>=1.3->requests-ntlm>=1.1.0->qiskit-ibmq-provider==0.19.2->qiskit) (1.15.1)\n",
            "Requirement already satisfied: pycparser in /usr/local/lib/python3.8/dist-packages (from cffi>=1.12->cryptography>=1.3->requests-ntlm>=1.1.0->qiskit-ibmq-provider==0.19.2->qiskit) (2.21)\n",
            "Requirement already satisfied: rustworkx==0.12.1 in /usr/local/lib/python3.8/dist-packages (from retworkx>=0.11.0->qiskit-terra==0.22.3->qiskit) (0.12.1)\n",
            "Requirement already satisfied: pbr!=2.1.0,>=2.0.0 in /usr/local/lib/python3.8/dist-packages (from stevedore>=3.0.0->qiskit-terra==0.22.3->qiskit) (5.11.0)\n",
            "Requirement already satisfied: mpmath>=0.19 in /usr/local/lib/python3.8/dist-packages (from sympy>=1.3->qiskit-terra==0.22.3->qiskit) (1.2.1)\n"
          ]
        }
      ],
      "source": [
        "!pip install qiskit"
      ]
    },
    {
      "cell_type": "code",
      "execution_count": 23,
      "metadata": {
        "id": "LWn1XIxR3sBK"
      },
      "outputs": [],
      "source": [
        "from qiskit.algorithms import VQE\n",
        "from qiskit import Aer, IBMQ\n",
        "from qiskit.utils import QuantumInstance, algorithm_globals\n",
        "from qiskit.providers.aer.noise import NoiseModel\n",
        "from qiskit.algorithms.optimizers import L_BFGS_B, COBYLA\n",
        "from qiskit.tools.visualization import circuit_drawer\n",
        "from qiskit.circuit.library import EfficientSU2  \n",
        "\n",
        "seed = 9999\n",
        "entanglement = \"linear\""
      ]
    },
    {
      "cell_type": "markdown",
      "metadata": {
        "id": "TjZGaMsrcnkY"
      },
      "source": [
        "## preparing the hamiltonian for n quibts (Ising model)"
      ]
    },
    {
      "cell_type": "code",
      "execution_count": 24,
      "metadata": {
        "id": "_sFzMhg3cnkY"
      },
      "outputs": [],
      "source": [
        "import numpy as np\n",
        "from qiskit.opflow import Z, I\n",
        "\n",
        "def create_general_hamiltonian(S,doPrint=0):\n",
        "  num_qubits = len(S)\n",
        "  sum = 0\n",
        "  sigmas_list = []\n",
        "  for qubit in range(num_qubits):\n",
        "    if qubit == 0:\n",
        "       sigma = Z\n",
        "    else:\n",
        "       sigma = I\n",
        "    for i in range(1,num_qubits):\n",
        "      if i == qubit:\n",
        "        sigma = sigma^Z\n",
        "      else:\n",
        "        sigma = sigma^I\n",
        "    sigmas_list.append(sigma)  \n",
        "\n",
        "  for i in range(len(sigmas_list)):\n",
        "    for j in range(len(sigmas_list)):\n",
        "      sum += S[i]*S[j]* sigmas_list[i]@sigmas_list[j]\n",
        "  if doPrint:\n",
        "    print(\"========== Ising Model Hamiltonian ==========\\n\")\n",
        "    print(sum.to_matrix())\n",
        "    print()\n",
        "  return sum"
      ]
    },
    {
      "cell_type": "markdown",
      "metadata": {
        "id": "xb1lbl_Cb8Xk"
      },
      "source": [
        "## compute minimal eigenvalue"
      ]
    },
    {
      "cell_type": "code",
      "execution_count": 25,
      "metadata": {
        "id": "Eu7q77nAb724"
      },
      "outputs": [],
      "source": [
        "from qiskit.circuit.library import EfficientSU2\n",
        "\n",
        "def minimum_eigenvalue_by_vqe(num_qubits, ansatz_entanglement, optimizer, quantum_instance, hamiltonian,doPrint=0):\n",
        "    ansatz = EfficientSU2(num_qubits=num_qubits, entanglement=entanglement)\n",
        "    #ansatz.draw(output='latex', scale=0.5)\n",
        "    vqe = VQE(ansatz, optimizer, quantum_instance=quantum_instance)\n",
        "    result = vqe.compute_minimum_eigenvalue(hamiltonian)\n",
        "    if doPrint:\n",
        "      print(\"minimal eigenvalue: \", format(result.eigenvalue,\".3f\"))\n",
        "    return result.eigenvalue, result"
      ]
    },
    {
      "cell_type": "markdown",
      "metadata": {
        "id": "18c5b858"
      },
      "source": [
        "## preparing the simulator"
      ]
    },
    {
      "cell_type": "code",
      "execution_count": 26,
      "metadata": {
        "id": "167f7e1e"
      },
      "outputs": [],
      "source": [
        "def prepare_simulator(simulator_name, optimizer_name, seed, shots=8192):\n",
        "    algorithm_globals.random_seed = seed\n",
        "    backend = Aer.get_backend(simulator_name)\n",
        "    quantum_instance = QuantumInstance(backend=backend, \n",
        "                                      shots=shots, \n",
        "                                      seed_transpiler=seed, \n",
        "                                      seed_simulator=seed\n",
        "                                      )\n",
        "    if optimizer_name == \"cobyla\" or optimizer_name == \"COBYLA\":\n",
        "      optimizer = COBYLA(maxiter=60)\n",
        "    else:\n",
        "      optimizer = L_BFGS_B(maxiter=60)\n",
        "    return optimizer, quantum_instance"
      ]
    },
    {
      "cell_type": "markdown",
      "source": [
        "## Approximate"
      ],
      "metadata": {
        "id": "7jMmyUHAOXyd"
      }
    },
    {
      "cell_type": "code",
      "source": [
        "import numpy as np\n",
        "    \n",
        "\n",
        "def approximate_eigenvalue(result, H):\n",
        "    eigenstate = result.eigenstate\n",
        "    abs_eigenstate = abs(eigenstate).tolist()\n",
        "    sorted_eigenstate = sorted(enumerate(abs_eigenstate), key=lambda i: i[1])\n",
        "    max_index = sorted_eigenstate[-1][0]\n",
        "    second_max_index = sorted_eigenstate[-2][0]\n",
        "    mat = H.to_matrix()\n",
        "    first_eigenvalue = mat[max_index][max_index]\n",
        "    second_eigenvalue = mat[second_max_index][second_max_index]\n",
        "    if (second_eigenvalue < first_eigenvalue):\n",
        "        return second_eigenvalue\n",
        "    return first_eigenvalue"
      ],
      "metadata": {
        "id": "A-ZIhLFROp7B"
      },
      "execution_count": 47,
      "outputs": []
    },
    {
      "cell_type": "markdown",
      "metadata": {
        "id": "6ojqjmUeOUQQ"
      },
      "source": [
        "## define parameters"
      ]
    },
    {
      "cell_type": "code",
      "execution_count": 48,
      "metadata": {
        "id": "srvseKbwOJFZ"
      },
      "outputs": [],
      "source": [
        "avg_array_solvable = []\n",
        "avg_array_solvable_approx = []\n",
        "avg_array_unsolvable = []\n",
        "avg_array_unsolvable_approx = []\n",
        "avg = 0.0\n",
        "sum = 0\n",
        "entanglement = \"linear\""
      ]
    },
    {
      "cell_type": "markdown",
      "metadata": {
        "id": "-T1hmni4sVYt"
      },
      "source": [
        "## run test"
      ]
    },
    {
      "cell_type": "code",
      "execution_count": 49,
      "metadata": {
        "id": "bmDfhqeWseSL"
      },
      "outputs": [],
      "source": [
        "def run_experiment(simulator,optimizer, num_qubits=2,problems = [], expected_results = [0,0,0,0], solvable = True):\n",
        "  sum = 0\n",
        "  sum_approx = 0\n",
        "  bfgs_optimizer, quantum_instance = prepare_simulator(simulator, optimizer, seed) \n",
        "  for idx, problem in enumerate(problems):\n",
        "    print(\"\\nproblem: \", problem, end= ', ')\n",
        "    H = create_general_hamiltonian(problem)\n",
        "    result, all = minimum_eigenvalue_by_vqe(num_qubits, entanglement, bfgs_optimizer, quantum_instance, H)\n",
        "    approximate_result = approximate_eigenvalue(all, H)\n",
        "    print(\"minimal eigenvalue: \", result)\n",
        "    print(\"approximate eigenvalue: \", approximate_result)\n",
        "    sum += result - expected_results[idx] \n",
        "    sum_approx += approximate_result - expected_results[idx] \n",
        "  avg = sum / 4.0\n",
        "  avg_approx = sum_approx / 4.0\n",
        "  if(solvable):\n",
        "    avg_array_solvable.append(avg)\n",
        "    avg_array_solvable_approx.append(avg_approx)\n",
        "  else:\n",
        "    avg_array_unsolvable.append(avg)\n",
        "    avg_array_unsolvable_approx.append(avg_approx)\n"
      ]
    },
    {
      "cell_type": "code",
      "execution_count": 50,
      "metadata": {
        "id": "na_RL0R496Yu"
      },
      "outputs": [],
      "source": [
        "def test_problem_instances(num_qubits=2, problems = [], expected_results = [0,0,0,0], solvable = True):\n",
        "  print(f\"simulator: aer_statevector, optimizer: bfgs, num of qubits: {num_qubits} \")     \n",
        "  if( not solvable):                       \n",
        "    r1 = run_experiment(\"aer_simulator_statevector\",\"bfgs\",num_qubits, problems[num_qubits-2], expected_results[num_qubits-2], solvable)\n",
        "  else:                      \n",
        "    r1 = run_experiment(\"aer_simulator_statevector\",\"bfgs\",num_qubits, problems[num_qubits-2], expected_results, solvable)  \n",
        "  return r1"
      ]
    },
    {
      "cell_type": "markdown",
      "metadata": {
        "id": "FD8yxYmCpnBS"
      },
      "source": [
        "# Run experiments"
      ]
    },
    {
      "cell_type": "markdown",
      "metadata": {
        "id": "Up7shZjJF8y1"
      },
      "source": [
        "## Solvable problems"
      ]
    },
    {
      "cell_type": "code",
      "execution_count": 51,
      "metadata": {
        "id": "ZFq8aU2zGBZr"
      },
      "outputs": [],
      "source": [
        "solvable_problems_sets = [[[1,1],[2,2],[24,24],[0,0]],\n",
        "                          [[0,1,1],[1,3,2],[7,4,3],[40,20,60]],\n",
        "                          [[1,6,2,3],[8,2,4,2],[14,7,3,4],[7,1,5,3]],\n",
        "                          [[2,3,5,4,6],[5,3,5,10,3],[4,7,3,7,7],[1,5,3,4,5]],\n",
        "                          [[4,5,3,4,4,4],[7,5,7,9,9,1],[8,1,2,5,1,5],[4,7,4,5,5,5]],\n",
        "                          [[4,5,4,5,4,8,6],[7,3,7,4,4,4,5],[8,1,2,5,6,6,4],[5,3,4,5,12,4,1]],\n",
        "                          [[1,0,0,0,0,0,2,1],[1,2,3,4,10,0,0,0],[5,6,7,8,11,11,1,3],[5,3,4,2,10,1,1,2]],\n",
        "                          [[1,6,2,0,1,2,6,2,0],[4,1,0,6,4,6,4,3,2],[2,1,0,4,5,7,3,1,1],[3,9,1,8,3,12,4,8,0]],\n",
        "                          [[8,2,5,1,0,2,4,3,2,5],[6,8,4,2,9,5,5,9,6,4],[5,8,1,3,2,6,4,3,3,3],[6,4,3,0,8,10,6,4,1,0]]\n",
        "                          ]"
      ]
    },
    {
      "cell_type": "code",
      "execution_count": 52,
      "metadata": {
        "colab": {
          "base_uri": "https://localhost:8080/"
        },
        "id": "9kiBkDnM_ayb",
        "outputId": "0dd6cf1f-388a-4815-9633-04d929f98c55"
      },
      "outputs": [
        {
          "output_type": "stream",
          "name": "stdout",
          "text": [
            "simulator: aer_statevector, optimizer: bfgs, num of qubits: 2 \n",
            "\n",
            "problem:  [1, 1], minimal eigenvalue:  (6.9636e-14+0j)\n",
            "approximate eigenvalue:  0j\n",
            "\n",
            "problem:  [2, 2], minimal eigenvalue:  (8.572e-15+0j)\n",
            "approximate eigenvalue:  0j\n",
            "\n",
            "problem:  [24, 24], minimal eigenvalue:  (2.0699e-14+0j)\n",
            "approximate eigenvalue:  0j\n",
            "\n",
            "problem:  [0, 0], minimal eigenvalue:  0j\n",
            "approximate eigenvalue:  0j\n",
            "\n",
            "The average deviation from the desired result of 2 quibit solvable instances is:  (2.4726749999999997e-14+0j)\n",
            "\n",
            "\n",
            "The approximated average deviation from the desired result of 2 quibit solvable instances is:  0j\n",
            "\n",
            "\n",
            "\n",
            "simulator: aer_statevector, optimizer: bfgs, num of qubits: 3 \n",
            "\n",
            "problem:  [0, 1, 1], minimal eigenvalue:  (1.1850255e-11+0j)\n",
            "approximate eigenvalue:  0j\n",
            "\n",
            "problem:  [1, 3, 2], minimal eigenvalue:  (1.5788477e-11+0j)\n",
            "approximate eigenvalue:  0j\n",
            "\n",
            "problem:  [7, 4, 3], minimal eigenvalue:  (8.49e-16+0j)\n",
            "approximate eigenvalue:  0j\n",
            "\n",
            "problem:  [40, 20, 60], minimal eigenvalue:  (1.27367162e-10+0j)\n",
            "approximate eigenvalue:  0j\n",
            "\n",
            "The average deviation from the desired result of 3 quibit solvable instances is:  (3.875168575e-11+0j)\n",
            "\n",
            "\n",
            "The approximated average deviation from the desired result of 3 quibit solvable instances is:  0j\n",
            "\n",
            "\n",
            "\n",
            "simulator: aer_statevector, optimizer: bfgs, num of qubits: 4 \n",
            "\n",
            "problem:  [1, 6, 2, 3], minimal eigenvalue:  (1.02894e-11+0j)\n",
            "approximate eigenvalue:  0j\n",
            "\n",
            "problem:  [8, 2, 4, 2], minimal eigenvalue:  (1.0270797e-11+0j)\n",
            "approximate eigenvalue:  0j\n",
            "\n",
            "problem:  [14, 7, 3, 4], minimal eigenvalue:  0j\n",
            "approximate eigenvalue:  0j\n",
            "\n",
            "problem:  [7, 1, 5, 3], minimal eigenvalue:  (4.000000000000001+0j)\n",
            "approximate eigenvalue:  (4+0j)\n",
            "\n",
            "The average deviation from the desired result of 4 quibit solvable instances is:  (1.0000000000051403+0j)\n",
            "\n",
            "\n",
            "The approximated average deviation from the desired result of 4 quibit solvable instances is:  (1+0j)\n",
            "\n",
            "\n",
            "\n",
            "simulator: aer_statevector, optimizer: bfgs, num of qubits: 5 \n",
            "\n",
            "problem:  [2, 3, 5, 4, 6], minimal eigenvalue:  (0.000935046047466584+0j)\n",
            "approximate eigenvalue:  0j\n",
            "\n",
            "problem:  [5, 3, 5, 10, 3], minimal eigenvalue:  (0.047880488719420744+0j)\n",
            "approximate eigenvalue:  0j\n",
            "\n",
            "problem:  [4, 7, 3, 7, 7], minimal eigenvalue:  (8.3616401075236e-05+0j)\n",
            "approximate eigenvalue:  0j\n",
            "\n",
            "problem:  [1, 5, 3, 4, 5], minimal eigenvalue:  (1.40506792022e-07+0j)\n",
            "approximate eigenvalue:  0j\n",
            "\n",
            "The average deviation from the desired result of 5 quibit solvable instances is:  (0.012224822918688646+0j)\n",
            "\n",
            "\n",
            "The approximated average deviation from the desired result of 5 quibit solvable instances is:  0j\n",
            "\n",
            "\n",
            "\n",
            "simulator: aer_statevector, optimizer: bfgs, num of qubits: 6 \n",
            "\n",
            "problem:  [4, 5, 3, 4, 4, 4], minimal eigenvalue:  (0.00016193496110068+0j)\n",
            "approximate eigenvalue:  0j\n",
            "\n",
            "problem:  [7, 5, 7, 9, 9, 1], minimal eigenvalue:  (0.00022806853967867+0j)\n",
            "approximate eigenvalue:  0j\n",
            "\n",
            "problem:  [8, 1, 2, 5, 1, 5], minimal eigenvalue:  (4.1558716386201e-05+0j)\n",
            "approximate eigenvalue:  0j\n",
            "\n",
            "problem:  [4, 7, 4, 5, 5, 5], minimal eigenvalue:  (0.000453399991014008+0j)\n",
            "approximate eigenvalue:  0j\n",
            "\n",
            "The average deviation from the desired result of 6 quibit solvable instances is:  (0.00022124055204488974+0j)\n",
            "\n",
            "\n",
            "The approximated average deviation from the desired result of 6 quibit solvable instances is:  0j\n",
            "\n",
            "\n",
            "\n",
            "simulator: aer_statevector, optimizer: bfgs, num of qubits: 7 \n",
            "\n",
            "problem:  [4, 5, 4, 5, 4, 8, 6], minimal eigenvalue:  (4.000054432021786+0j)\n",
            "approximate eigenvalue:  (4+0j)\n",
            "\n",
            "problem:  [7, 3, 7, 4, 4, 4, 5], minimal eigenvalue:  (4.000000000003015+0j)\n",
            "approximate eigenvalue:  (4+0j)\n",
            "\n",
            "problem:  [8, 1, 2, 5, 6, 6, 4], minimal eigenvalue:  (15.999999999999995+0j)\n",
            "approximate eigenvalue:  (16+0j)\n",
            "\n",
            "problem:  [5, 3, 4, 5, 12, 4, 1], minimal eigenvalue:  (2.9091132e-11+0j)\n",
            "approximate eigenvalue:  0j\n",
            "\n",
            "The average deviation from the desired result of 7 quibit solvable instances is:  (6.000013608013472+0j)\n",
            "\n",
            "\n",
            "The approximated average deviation from the desired result of 7 quibit solvable instances is:  (6+0j)\n",
            "\n",
            "\n",
            "\n",
            "simulator: aer_statevector, optimizer: bfgs, num of qubits: 8 \n",
            "\n",
            "problem:  [1, 0, 0, 0, 0, 0, 2, 1], minimal eigenvalue:  (8.9631043e-11+0j)\n",
            "approximate eigenvalue:  0j\n",
            "\n",
            "problem:  [1, 2, 3, 4, 10, 0, 0, 0], minimal eigenvalue:  (8.16892e-12+0j)\n",
            "approximate eigenvalue:  0j\n",
            "\n",
            "problem:  [5, 6, 7, 8, 11, 11, 1, 3], minimal eigenvalue:  (1.9986996295568273+0j)\n",
            "approximate eigenvalue:  0j\n",
            "\n",
            "problem:  [5, 3, 4, 2, 10, 1, 1, 2], minimal eigenvalue:  (0.007103560421837241+0j)\n",
            "approximate eigenvalue:  0j\n",
            "\n",
            "The average deviation from the desired result of 8 quibit solvable instances is:  (0.5014507975191161+0j)\n",
            "\n",
            "\n",
            "The approximated average deviation from the desired result of 8 quibit solvable instances is:  0j\n",
            "\n",
            "\n",
            "\n",
            "simulator: aer_statevector, optimizer: bfgs, num of qubits: 9 \n",
            "\n",
            "problem:  [1, 6, 2, 0, 1, 2, 6, 2, 0], minimal eigenvalue:  (2.2016700480718e-05+0j)\n",
            "approximate eigenvalue:  0j\n",
            "\n",
            "problem:  [4, 1, 0, 6, 4, 6, 4, 3, 2], minimal eigenvalue:  (2.702484e-11+0j)\n",
            "approximate eigenvalue:  0j\n",
            "\n",
            "problem:  [2, 1, 0, 4, 5, 7, 3, 1, 1], minimal eigenvalue:  (2.64129501e-10+0j)\n",
            "approximate eigenvalue:  0j\n",
            "\n",
            "problem:  [3, 9, 1, 8, 3, 12, 4, 8, 0], minimal eigenvalue:  (1.9985363405602468+0j)\n",
            "approximate eigenvalue:  0j\n",
            "\n",
            "The average deviation from the desired result of 9 quibit solvable instances is:  (0.49963958938797043+0j)\n",
            "\n",
            "\n",
            "The approximated average deviation from the desired result of 9 quibit solvable instances is:  0j\n",
            "\n",
            "\n",
            "\n",
            "simulator: aer_statevector, optimizer: bfgs, num of qubits: 10 \n",
            "\n",
            "problem:  [8, 2, 5, 1, 0, 2, 4, 3, 2, 5], minimal eigenvalue:  (3.81168518e-10+0j)\n",
            "approximate eigenvalue:  0j\n",
            "\n",
            "problem:  [6, 8, 4, 2, 9, 5, 5, 9, 6, 4], minimal eigenvalue:  (4.00083715273128+0j)\n",
            "approximate eigenvalue:  (4+0j)\n",
            "\n",
            "problem:  [5, 8, 1, 3, 2, 6, 4, 3, 3, 3], minimal eigenvalue:  (4.000000000001501+0j)\n",
            "approximate eigenvalue:  (4+0j)\n",
            "\n",
            "problem:  [6, 4, 3, 0, 8, 10, 6, 4, 1, 0], minimal eigenvalue:  (10.000001348071184+0j)\n",
            "approximate eigenvalue:  (4+0j)\n",
            "\n",
            "The average deviation from the desired result of 10 quibit solvable instances is:  (4.500209625296283+0j)\n",
            "\n",
            "\n",
            "The approximated average deviation from the desired result of 10 quibit solvable instances is:  (3+0j)\n",
            "\n",
            "\n",
            "\n"
          ]
        }
      ],
      "source": [
        "for i in range(2,11):\n",
        "  test_problem_instances(num_qubits=i, problems = solvable_problems_sets,solvable=True)\n",
        "  print(f\"\\nThe average deviation from the desired result of {i} quibit solvable instances is: \", avg_array_solvable[i-2])\n",
        "  print()\n",
        "  print(f\"\\nThe approximated average deviation from the desired result of {i} quibit solvable instances is: \", avg_array_solvable_approx[i-2])\n",
        "  print(\"\\n\\n\")"
      ]
    },
    {
      "cell_type": "markdown",
      "metadata": {
        "id": "TWLh8g4YKPJp"
      },
      "source": [
        "## Unsolvable problems"
      ]
    },
    {
      "cell_type": "code",
      "execution_count": 53,
      "metadata": {
        "id": "BWMNkMytA9Lt"
      },
      "outputs": [],
      "source": [
        "unsolvable_problems_sets = [\n",
        "    [[0,1],[1,2],[2,24],[23,25]],\n",
        "    [[1,1,1],[1,4,6],[13,1,11],[21,56,87]],\n",
        "    [[1,5,3,2],[8,6,4,5],[14,7,5,4],[7,3,4,3]],\n",
        "    [[4,3,5,5,6],[5,4,4,10,2],[4,7,3,13,2],[2,4,4,4,5]],\n",
        "    [[3,6,3,4,5,4],[6,5,8,9,8,1],[7,2,2,6,2,4],[6,7,2,5,4,5]],\n",
        "    [[0,0,0,0,0,0,2],[1,2,3,4,10,1,0],[7,4,7,4,11,11,1],[5,3,4,6,16,1,2]],\n",
        "    [[1,0,0,0,1,0,2,1],[1,2,3,4,11,0,2,2],[5,9,4,8,10,11,1,3],[6,2,4,2,9,1,1,2]],\n",
        "    [[2,8,4,11,3,7,5,7,0],[2,0,6,3,5,1,4,1,3],[3,2,1,2,4,6,5,3,5],[2,5,2,0,1,2,6,3,0]],\n",
        "    [[7,3,2,4,0,2,4,3,1,5],[5,9,4,2,9,5,5,8,6,4],[6,7,1,3,2,6,4,3,2,3],[5,5,2,1,8,9,6,4,1,0]],\n",
        "]\n",
        "\n",
        "\n",
        "expected_results = [\n",
        "    [1,1,484,4],\n",
        "    [1,1,1,100],\n",
        "    [1,1,4,9],\n",
        "    [1,1,1,1],\n",
        "    [1,1,1,1],\n",
        "    [4,1,1,1],\n",
        "    [1,1,1,1],\n",
        "    [1,1,1,1],\n",
        "    [1,1,1,1],\n",
        "]"
      ]
    },
    {
      "cell_type": "code",
      "execution_count": 54,
      "metadata": {
        "colab": {
          "base_uri": "https://localhost:8080/"
        },
        "id": "ANaOGNI9Q8ar",
        "outputId": "d5d332e2-a0e2-4e59-9023-c6d90e088236"
      },
      "outputs": [
        {
          "output_type": "stream",
          "name": "stdout",
          "text": [
            "simulator: aer_statevector, optimizer: bfgs, num of qubits: 2 \n",
            "\n",
            "problem:  [0, 1], minimal eigenvalue:  (1+0j)\n",
            "approximate eigenvalue:  (1+0j)\n",
            "\n",
            "problem:  [1, 2], minimal eigenvalue:  (1.0000000000000082+0j)\n",
            "approximate eigenvalue:  (1+0j)\n",
            "\n",
            "problem:  [2, 24], minimal eigenvalue:  (484.00000000000057+0j)\n",
            "approximate eigenvalue:  (484+0j)\n",
            "\n",
            "problem:  [23, 25], minimal eigenvalue:  (4.0000000000000115+0j)\n",
            "approximate eigenvalue:  (4+0j)\n",
            "\n",
            "The average deviation from the desired result of 2 quibit unsolvable instances is:  (1.4704903961160198e-13+0j)\n",
            "\n",
            "\n",
            "The approximated average deviation from the desired result of 2 quibit unsolvable instances is:  0j\n",
            "\n",
            "\n",
            "\n",
            "simulator: aer_statevector, optimizer: bfgs, num of qubits: 3 \n",
            "\n",
            "problem:  [1, 1, 1], minimal eigenvalue:  (1.0000000000000016+0j)\n",
            "approximate eigenvalue:  (1+0j)\n",
            "\n",
            "problem:  [1, 4, 6], minimal eigenvalue:  (1.0000000000006246+0j)\n",
            "approximate eigenvalue:  (1+0j)\n",
            "\n",
            "problem:  [13, 1, 11], minimal eigenvalue:  (1.0000000000003606+0j)\n",
            "approximate eigenvalue:  (1+0j)\n",
            "\n",
            "problem:  [21, 56, 87], minimal eigenvalue:  (100.00000004513225+0j)\n",
            "approximate eigenvalue:  (100+0j)\n",
            "\n",
            "The average deviation from the desired result of 3 quibit unsolvable instances is:  (1.1283310064058583e-08+0j)\n",
            "\n",
            "\n",
            "The approximated average deviation from the desired result of 3 quibit unsolvable instances is:  0j\n",
            "\n",
            "\n",
            "\n",
            "simulator: aer_statevector, optimizer: bfgs, num of qubits: 4 \n",
            "\n",
            "problem:  [1, 5, 3, 2], minimal eigenvalue:  (1.0000000000687346+0j)\n",
            "approximate eigenvalue:  (1+0j)\n",
            "\n",
            "problem:  [8, 6, 4, 5], minimal eigenvalue:  (1.0000007055877054+0j)\n",
            "approximate eigenvalue:  (1+0j)\n",
            "\n",
            "problem:  [14, 7, 5, 4], minimal eigenvalue:  (4+0j)\n",
            "approximate eigenvalue:  (4+0j)\n",
            "\n",
            "problem:  [7, 3, 4, 3], minimal eigenvalue:  (8.999999999999996+0j)\n",
            "approximate eigenvalue:  (9+0j)\n",
            "\n",
            "The average deviation from the desired result of 4 quibit unsolvable instances is:  (1.7641410909874367e-07+0j)\n",
            "\n",
            "\n",
            "The approximated average deviation from the desired result of 4 quibit unsolvable instances is:  0j\n",
            "\n",
            "\n",
            "\n",
            "simulator: aer_statevector, optimizer: bfgs, num of qubits: 5 \n",
            "\n",
            "problem:  [4, 3, 5, 5, 6], minimal eigenvalue:  (1.018577685861699+0j)\n",
            "approximate eigenvalue:  (1+0j)\n",
            "\n",
            "problem:  [5, 4, 4, 10, 2], minimal eigenvalue:  (48.999999999999986+0j)\n",
            "approximate eigenvalue:  (49+0j)\n",
            "\n",
            "problem:  [4, 7, 3, 13, 2], minimal eigenvalue:  (1.2040434213483868+0j)\n",
            "approximate eigenvalue:  (1+0j)\n",
            "\n",
            "problem:  [2, 4, 4, 4, 5], minimal eigenvalue:  (1.0000295197379163+0j)\n",
            "approximate eigenvalue:  (1+0j)\n",
            "\n",
            "The average deviation from the desired result of 5 quibit unsolvable instances is:  (12.055662656736997+0j)\n",
            "\n",
            "\n",
            "The approximated average deviation from the desired result of 5 quibit unsolvable instances is:  (12+0j)\n",
            "\n",
            "\n",
            "\n",
            "simulator: aer_statevector, optimizer: bfgs, num of qubits: 6 \n",
            "\n",
            "problem:  [3, 6, 3, 4, 5, 4], minimal eigenvalue:  (1.0000118869671486+0j)\n",
            "approximate eigenvalue:  (1+0j)\n",
            "\n",
            "problem:  [6, 5, 8, 9, 8, 1], minimal eigenvalue:  (3.1562436386077657+0j)\n",
            "approximate eigenvalue:  (1+0j)\n",
            "\n",
            "problem:  [7, 2, 2, 6, 2, 4], minimal eigenvalue:  (9.000000000009738+0j)\n",
            "approximate eigenvalue:  (9+0j)\n",
            "\n",
            "problem:  [6, 7, 2, 5, 4, 5], minimal eigenvalue:  (1.0008274380926303+0j)\n",
            "approximate eigenvalue:  (1+0j)\n",
            "\n",
            "The average deviation from the desired result of 6 quibit unsolvable instances is:  (2.5392707409193203+0j)\n",
            "\n",
            "\n",
            "The approximated average deviation from the desired result of 6 quibit unsolvable instances is:  (2+0j)\n",
            "\n",
            "\n",
            "\n",
            "simulator: aer_statevector, optimizer: bfgs, num of qubits: 7 \n",
            "\n",
            "problem:  [0, 0, 0, 0, 0, 0, 2], minimal eigenvalue:  (4+0j)\n",
            "approximate eigenvalue:  (4+0j)\n",
            "\n",
            "problem:  [1, 2, 3, 4, 10, 1, 0], minimal eigenvalue:  (1.0020625682570368+0j)\n",
            "approximate eigenvalue:  (1+0j)\n",
            "\n",
            "problem:  [7, 4, 7, 4, 11, 11, 1], minimal eigenvalue:  (1.001319102757981+0j)\n",
            "approximate eigenvalue:  (1+0j)\n",
            "\n",
            "problem:  [5, 3, 4, 6, 16, 1, 2], minimal eigenvalue:  (9.000000000000053+0j)\n",
            "approximate eigenvalue:  (9+0j)\n",
            "\n",
            "The average deviation from the desired result of 7 quibit unsolvable instances is:  (2.0008454177537676+0j)\n",
            "\n",
            "\n",
            "The approximated average deviation from the desired result of 7 quibit unsolvable instances is:  (2+0j)\n",
            "\n",
            "\n",
            "\n",
            "simulator: aer_statevector, optimizer: bfgs, num of qubits: 8 \n",
            "\n",
            "problem:  [1, 0, 0, 0, 1, 0, 2, 1], minimal eigenvalue:  (1.0000000000966205+0j)\n",
            "approximate eigenvalue:  (1+0j)\n",
            "\n",
            "problem:  [1, 2, 3, 4, 11, 0, 2, 2], minimal eigenvalue:  (1.0000003380295475+0j)\n",
            "approximate eigenvalue:  (1+0j)\n",
            "\n",
            "problem:  [5, 9, 4, 8, 10, 11, 1, 3], minimal eigenvalue:  (8.999999999999995+0j)\n",
            "approximate eigenvalue:  (9+0j)\n",
            "\n",
            "problem:  [6, 2, 4, 2, 9, 1, 1, 2], minimal eigenvalue:  (1.000006508122229+0j)\n",
            "approximate eigenvalue:  (1+0j)\n",
            "\n",
            "The average deviation from the desired result of 8 quibit unsolvable instances is:  (2.0000017115620983+0j)\n",
            "\n",
            "\n",
            "The approximated average deviation from the desired result of 8 quibit unsolvable instances is:  (2+0j)\n",
            "\n",
            "\n",
            "\n",
            "simulator: aer_statevector, optimizer: bfgs, num of qubits: 9 \n",
            "\n",
            "problem:  [2, 8, 4, 11, 3, 7, 5, 7, 0], minimal eigenvalue:  (1.000054202317023+0j)\n",
            "approximate eigenvalue:  (1+0j)\n",
            "\n",
            "problem:  [2, 0, 6, 3, 5, 1, 4, 1, 3], minimal eigenvalue:  (5.000182555856127+0j)\n",
            "approximate eigenvalue:  (1+0j)\n",
            "\n",
            "problem:  [3, 2, 1, 2, 4, 6, 5, 3, 5], minimal eigenvalue:  (1.0000000000499083+0j)\n",
            "approximate eigenvalue:  (1+0j)\n",
            "\n",
            "problem:  [2, 5, 2, 0, 1, 2, 6, 3, 0], minimal eigenvalue:  (1.0000020545254256+0j)\n",
            "approximate eigenvalue:  (1+0j)\n",
            "\n",
            "The average deviation from the desired result of 9 quibit unsolvable instances is:  (1.000059703187121+0j)\n",
            "\n",
            "\n",
            "The approximated average deviation from the desired result of 9 quibit unsolvable instances is:  0j\n",
            "\n",
            "\n",
            "\n",
            "simulator: aer_statevector, optimizer: bfgs, num of qubits: 10 \n",
            "\n",
            "problem:  [7, 3, 2, 4, 0, 2, 4, 3, 1, 5], minimal eigenvalue:  (1.0000040890643653+0j)\n",
            "approximate eigenvalue:  (1+0j)\n",
            "\n",
            "problem:  [5, 9, 4, 2, 9, 5, 5, 8, 6, 4], minimal eigenvalue:  (1.0123283516267234+0j)\n",
            "approximate eigenvalue:  (1+0j)\n",
            "\n",
            "problem:  [6, 7, 1, 3, 2, 6, 4, 3, 2, 3], minimal eigenvalue:  (9.0000000002586+0j)\n",
            "approximate eigenvalue:  (9+0j)\n",
            "\n",
            "problem:  [5, 5, 2, 1, 8, 9, 6, 4, 1, 0], minimal eigenvalue:  (1.0008238378790821+0j)\n",
            "approximate eigenvalue:  (1+0j)\n",
            "\n",
            "The average deviation from the desired result of 10 quibit unsolvable instances is:  (2.0032890697071926+0j)\n",
            "\n",
            "\n",
            "The approximated average deviation from the desired result of 10 quibit unsolvable instances is:  (2+0j)\n",
            "\n",
            "\n",
            "\n"
          ]
        }
      ],
      "source": [
        "for i in range(2,11):\n",
        "  test_problem_instances(num_qubits=i, problems = unsolvable_problems_sets,expected_results=expected_results,solvable=False)\n",
        "  print(f\"\\nThe average deviation from the desired result of {i} quibit unsolvable instances is: \", avg_array_unsolvable[i-2])\n",
        "  print()\n",
        "  print(f\"\\nThe approximated average deviation from the desired result of {i} quibit unsolvable instances is: \", avg_array_unsolvable_approx[i-2])\n",
        "  print(\"\\n\\n\")"
      ]
    },
    {
      "cell_type": "markdown",
      "metadata": {
        "id": "JVaT9509SOdU"
      },
      "source": [
        "# create the graphs"
      ]
    },
    {
      "cell_type": "markdown",
      "metadata": {
        "id": "2jRc4GFDSgB5"
      },
      "source": [
        "# solvable problems deviation from the desired result"
      ]
    },
    {
      "cell_type": "code",
      "execution_count": 55,
      "metadata": {
        "colab": {
          "base_uri": "https://localhost:8080/",
          "height": 384
        },
        "id": "BN9oVpzdSSSx",
        "outputId": "fea639bd-7822-47f9-e850-cd68efeee8c1"
      },
      "outputs": [
        {
          "output_type": "stream",
          "name": "stderr",
          "text": [
            "/usr/local/lib/python3.8/dist-packages/matplotlib/cbook/__init__.py:1317: ComplexWarning: Casting complex values to real discards the imaginary part\n",
            "  return np.asarray(x, float)\n"
          ]
        },
        {
          "output_type": "display_data",
          "data": {
            "text/plain": [
              "<Figure size 432x288 with 1 Axes>"
            ],
            "image/png": "[encoded data removed]"
          },
          "metadata": {
            "needs_background": "light"
          }
        },
        {
          "output_type": "stream",
          "name": "stdout",
          "text": [
            "range(2, 11)\n",
            "[(2.4726749999999997e-14+0j), (3.875168575e-11+0j), (1.0000000000051403+0j), (0.012224822918688646+0j), (0.00022124055204488974+0j), (6.000013608013472+0j), (0.5014507975191161+0j), (0.49963958938797043+0j), (4.500209625296283+0j)]\n"
          ]
        }
      ],
      "source": [
        "import matplotlib.pyplot as plt\n",
        "  \n",
        "# y axis values\n",
        "y = avg_array_solvable\n",
        "# corresponding x axis values\n",
        "x = range(2,11)\n",
        "\n",
        "z = avg_array_solvable_approx\n",
        "\n",
        "plt.plot(x, z, color='red', linestyle='dashed', linewidth = 3,\n",
        "         marker='o', markerfacecolor='blue', markersize=12, label='approximation') \n",
        "\n",
        "# plotting the points \n",
        "plt.plot(x, y, color='green', linestyle='dashed', linewidth = 3,\n",
        "         marker='o', markerfacecolor='blue', markersize=12, label='result')\n",
        "\n",
        "\n",
        "  \n",
        "# setting x and y axis range\n",
        "plt.ylim(0,19)\n",
        "plt.xlim(2,11)\n",
        "\n",
        "plt.legend()\n",
        "  \n",
        "# naming the x axis\n",
        "plt.xlabel('num of qubits')\n",
        "# naming the y axis\n",
        "plt.ylabel('deviation from the right result')\n",
        "  \n",
        "# giving a title to my graph\n",
        "plt.title('solvable problems deviation from the desired result')\n",
        "  \n",
        "# function to show the plot\n",
        "plt.show()\n",
        "print(x)\n",
        "print(y)"
      ]
    },
    {
      "cell_type": "markdown",
      "metadata": {
        "id": "sT8WTZoPSo6K"
      },
      "source": [
        "# unsolvable problems deviation from the desired result"
      ]
    },
    {
      "cell_type": "code",
      "execution_count": 56,
      "metadata": {
        "colab": {
          "base_uri": "https://localhost:8080/",
          "height": 350
        },
        "id": "tVhlrCj-So6M",
        "outputId": "43c41ea7-b91b-4449-9477-c40de588e9c3"
      },
      "outputs": [
        {
          "output_type": "display_data",
          "data": {
            "text/plain": [
              "<Figure size 432x288 with 1 Axes>"
            ],
            "image/png": "[encoded data removed]"
          },
          "metadata": {
            "needs_background": "light"
          }
        },
        {
          "output_type": "stream",
          "name": "stdout",
          "text": [
            "range(2, 11)\n",
            "[(1.4704903961160198e-13+0j), (1.1283310064058583e-08+0j), (1.7641410909874367e-07+0j), (12.055662656736997+0j), (2.5392707409193203+0j), (2.0008454177537676+0j), (2.0000017115620983+0j), (1.000059703187121+0j), (2.0032890697071926+0j)]\n"
          ]
        }
      ],
      "source": [
        "import matplotlib.pyplot as plt\n",
        "  \n",
        "# y axis values\n",
        "y = avg_array_unsolvable\n",
        "\n",
        "z = avg_array_unsolvable_approx\n",
        "\n",
        "# corresponding x axis values\n",
        "x = range(2,11)\n",
        "\n",
        "plt.plot(x, z, color='red', linestyle='dashed', linewidth = 3,\n",
        "         marker='o', markerfacecolor='blue', markersize=12, label='approximation')\n",
        "\n",
        "# plotting the points \n",
        "plt.plot(x, y, color='green', linestyle='dashed', linewidth = 3,\n",
        "         marker='o', markerfacecolor='blue', markersize=12, label='results')\n",
        "\n",
        "\n",
        "  \n",
        "# setting x and y axis range\n",
        "plt.ylim(0,60)\n",
        "plt.xlim(2,11)\n",
        "  \n",
        "plt.legend()\n",
        "\n",
        "# naming the x axis\n",
        "plt.xlabel('num of qubits')\n",
        "# naming the y axis\n",
        "plt.ylabel('deviation from the right result')\n",
        "  \n",
        "# giving a title to my graph\n",
        "plt.title('unsolvable problems deviation from the desired result')\n",
        "  \n",
        "# function to show the plot\n",
        "plt.show()\n",
        "print(x)\n",
        "print(y)"
      ]
    }
  ],
  "metadata": {
    "colab": {
      "provenance": []
    },
    "kernelspec": {
      "display_name": "Python 3.10.5 64-bit",
      "language": "python",
      "name": "python3"
    },
    "language_info": {
      "name": "python",
      "version": "3.10.5"
    },
    "vscode": {
      "interpreter": {
        "hash": "8a3a0e426858314758f763e7ef6780f2ad8839acb88e80dce3c543b124cafa32"
      }
    }
  },
  "nbformat": 4,
  "nbformat_minor": 0
}