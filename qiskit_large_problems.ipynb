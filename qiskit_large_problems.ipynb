{
  "nbformat": 4,
  "nbformat_minor": 0,
  "metadata": {
    "colab": {
      "name": "qiskit - large problems.ipynb",
      "provenance": [],
      "collapsed_sections": []
    },
    "kernelspec": {
      "name": "python3",
      "display_name": "Python 3"
    },
    "language_info": {
      "name": "python"
    }
  },
  "cells": [
    {
      "cell_type": "markdown",
      "source": [
        "# Qiskit"
      ],
      "metadata": {
        "id": "_1qvghO-S5Ok"
      }
    },
    {
      "cell_type": "code",
      "execution_count": 427,
      "metadata": {
        "colab": {
          "base_uri": "https://localhost:8080/"
        },
        "id": "3614b67b",
        "outputId": "245182e8-1b34-45e9-9d50-f42c250c4039"
      },
      "outputs": [
        {
          "output_type": "stream",
          "name": "stdout",
          "text": [
            "Looking in indexes: https://pypi.org/simple, https://us-python.pkg.dev/colab-wheels/public/simple/\n",
            "Requirement already satisfied: qiskit in /usr/local/lib/python3.7/dist-packages (0.37.1)\n",
            "Requirement already satisfied: qiskit-terra==0.21.1 in /usr/local/lib/python3.7/dist-packages (from qiskit) (0.21.1)\n",
            "Requirement already satisfied: qiskit-ibmq-provider==0.19.2 in /usr/local/lib/python3.7/dist-packages (from qiskit) (0.19.2)\n",
            "Requirement already satisfied: qiskit-aer==0.10.4 in /usr/local/lib/python3.7/dist-packages (from qiskit) (0.10.4)\n",
            "Requirement already satisfied: scipy>=1.0 in /usr/local/lib/python3.7/dist-packages (from qiskit-aer==0.10.4->qiskit) (1.7.3)\n",
            "Requirement already satisfied: numpy>=1.16.3 in /usr/local/lib/python3.7/dist-packages (from qiskit-aer==0.10.4->qiskit) (1.21.6)\n",
            "Requirement already satisfied: requests-ntlm>=1.1.0 in /usr/local/lib/python3.7/dist-packages (from qiskit-ibmq-provider==0.19.2->qiskit) (1.1.0)\n",
            "Requirement already satisfied: websocket-client>=1.0.1 in /usr/local/lib/python3.7/dist-packages (from qiskit-ibmq-provider==0.19.2->qiskit) (1.3.3)\n",
            "Requirement already satisfied: urllib3>=1.21.1 in /usr/local/lib/python3.7/dist-packages (from qiskit-ibmq-provider==0.19.2->qiskit) (1.24.3)\n",
            "Requirement already satisfied: python-dateutil>=2.8.0 in /usr/local/lib/python3.7/dist-packages (from qiskit-ibmq-provider==0.19.2->qiskit) (2.8.2)\n",
            "Requirement already satisfied: requests>=2.19 in /usr/local/lib/python3.7/dist-packages (from qiskit-ibmq-provider==0.19.2->qiskit) (2.23.0)\n",
            "Requirement already satisfied: websockets>=10.0 in /usr/local/lib/python3.7/dist-packages (from qiskit-ibmq-provider==0.19.2->qiskit) (10.3)\n",
            "Requirement already satisfied: ply>=3.10 in /usr/local/lib/python3.7/dist-packages (from qiskit-terra==0.21.1->qiskit) (3.11)\n",
            "Requirement already satisfied: typing-extensions in /usr/local/lib/python3.7/dist-packages (from qiskit-terra==0.21.1->qiskit) (4.1.1)\n",
            "Requirement already satisfied: tweedledum<2.0,>=1.1 in /usr/local/lib/python3.7/dist-packages (from qiskit-terra==0.21.1->qiskit) (1.1.1)\n",
            "Requirement already satisfied: retworkx>=0.11.0 in /usr/local/lib/python3.7/dist-packages (from qiskit-terra==0.21.1->qiskit) (0.11.0)\n",
            "Requirement already satisfied: psutil>=5 in /usr/local/lib/python3.7/dist-packages (from qiskit-terra==0.21.1->qiskit) (5.4.8)\n",
            "Requirement already satisfied: dill>=0.3 in /usr/local/lib/python3.7/dist-packages (from qiskit-terra==0.21.1->qiskit) (0.3.5.1)\n",
            "Requirement already satisfied: sympy>=1.3 in /usr/local/lib/python3.7/dist-packages (from qiskit-terra==0.21.1->qiskit) (1.7.1)\n",
            "Requirement already satisfied: stevedore>=3.0.0 in /usr/local/lib/python3.7/dist-packages (from qiskit-terra==0.21.1->qiskit) (3.5.0)\n",
            "Requirement already satisfied: shared-memory38 in /usr/local/lib/python3.7/dist-packages (from qiskit-terra==0.21.1->qiskit) (0.1.2)\n",
            "Requirement already satisfied: symengine>=0.9 in /usr/local/lib/python3.7/dist-packages (from qiskit-terra==0.21.1->qiskit) (0.9.2)\n",
            "Requirement already satisfied: six>=1.5 in /usr/local/lib/python3.7/dist-packages (from python-dateutil>=2.8.0->qiskit-ibmq-provider==0.19.2->qiskit) (1.15.0)\n",
            "Requirement already satisfied: certifi>=2017.4.17 in /usr/local/lib/python3.7/dist-packages (from requests>=2.19->qiskit-ibmq-provider==0.19.2->qiskit) (2022.6.15)\n",
            "Requirement already satisfied: idna<3,>=2.5 in /usr/local/lib/python3.7/dist-packages (from requests>=2.19->qiskit-ibmq-provider==0.19.2->qiskit) (2.10)\n",
            "Requirement already satisfied: chardet<4,>=3.0.2 in /usr/local/lib/python3.7/dist-packages (from requests>=2.19->qiskit-ibmq-provider==0.19.2->qiskit) (3.0.4)\n",
            "Requirement already satisfied: cryptography>=1.3 in /usr/local/lib/python3.7/dist-packages (from requests-ntlm>=1.1.0->qiskit-ibmq-provider==0.19.2->qiskit) (37.0.4)\n",
            "Requirement already satisfied: ntlm-auth>=1.0.2 in /usr/local/lib/python3.7/dist-packages (from requests-ntlm>=1.1.0->qiskit-ibmq-provider==0.19.2->qiskit) (1.5.0)\n",
            "Requirement already satisfied: cffi>=1.12 in /usr/local/lib/python3.7/dist-packages (from cryptography>=1.3->requests-ntlm>=1.1.0->qiskit-ibmq-provider==0.19.2->qiskit) (1.15.1)\n",
            "Requirement already satisfied: pycparser in /usr/local/lib/python3.7/dist-packages (from cffi>=1.12->cryptography>=1.3->requests-ntlm>=1.1.0->qiskit-ibmq-provider==0.19.2->qiskit) (2.21)\n",
            "Requirement already satisfied: importlib-metadata>=1.7.0 in /usr/local/lib/python3.7/dist-packages (from stevedore>=3.0.0->qiskit-terra==0.21.1->qiskit) (4.12.0)\n",
            "Requirement already satisfied: pbr!=2.1.0,>=2.0.0 in /usr/local/lib/python3.7/dist-packages (from stevedore>=3.0.0->qiskit-terra==0.21.1->qiskit) (5.10.0)\n",
            "Requirement already satisfied: zipp>=0.5 in /usr/local/lib/python3.7/dist-packages (from importlib-metadata>=1.7.0->stevedore>=3.0.0->qiskit-terra==0.21.1->qiskit) (3.8.1)\n",
            "Requirement already satisfied: mpmath>=0.19 in /usr/local/lib/python3.7/dist-packages (from sympy>=1.3->qiskit-terra==0.21.1->qiskit) (1.2.1)\n"
          ]
        }
      ],
      "source": [
        "!pip install qiskit"
      ]
    },
    {
      "cell_type": "code",
      "source": [
        "from qiskit.algorithms import VQE\n",
        "from qiskit import Aer, IBMQ\n",
        "from qiskit.utils import QuantumInstance, algorithm_globals\n",
        "from qiskit.providers.aer.noise import NoiseModel\n",
        "from qiskit.algorithms.optimizers import L_BFGS_B, COBYLA\n",
        "\n",
        "seed = 9999\n"
      ],
      "metadata": {
        "id": "LWn1XIxR3sBK"
      },
      "execution_count": 428,
      "outputs": []
    },
    {
      "cell_type": "markdown",
      "metadata": {
        "id": "TjZGaMsrcnkY"
      },
      "source": [
        "## preparing the hamiltonian for n quibts (Ising model)"
      ]
    },
    {
      "cell_type": "code",
      "execution_count": 429,
      "metadata": {
        "id": "_sFzMhg3cnkY"
      },
      "outputs": [],
      "source": [
        "import numpy as np\n",
        "from qiskit.opflow import Z, I\n",
        "\n",
        "def create_general_hamiltonian(S,doPrint=0):\n",
        "  num_qubits = len(S)\n",
        "  sum = 0\n",
        "  sigmas_list = []\n",
        "  for qubit in range(num_qubits):\n",
        "    if qubit == 0:\n",
        "       sigma = Z\n",
        "    else:\n",
        "       sigma = I\n",
        "    for i in range(1,num_qubits):\n",
        "      if i == qubit:\n",
        "        sigma = sigma^Z\n",
        "      else:\n",
        "        sigma = sigma^I\n",
        "    sigmas_list.append(sigma)  \n",
        "\n",
        "  for i in range(len(sigmas_list)):\n",
        "    for j in range(len(sigmas_list)):\n",
        "      sum += S[i]*S[j]* sigmas_list[i]@sigmas_list[j]\n",
        "  if doPrint:\n",
        "    print(\"========== Ising Model Hamiltonian ==========\\n\")\n",
        "    print(sum.to_matrix())\n",
        "    print()\n",
        "  return sum"
      ]
    },
    {
      "cell_type": "markdown",
      "source": [
        "## compute minimal eigenvalue"
      ],
      "metadata": {
        "id": "xb1lbl_Cb8Xk"
      }
    },
    {
      "cell_type": "code",
      "source": [
        "from qiskit.circuit.library import EfficientSU2\n",
        "\n",
        "def minimum_eigenvalue_by_vqe(num_qubits, ansatz_entanglement, optimizer, quantum_instance, hamiltonian,doPrint=0):\n",
        "    ansatz = EfficientSU2(num_qubits=num_qubits, entanglement=entanglement)\n",
        "    #ansatz.draw(output='latex', scale=0.5)\n",
        "    vqe = VQE(ansatz, optimizer, quantum_instance=quantum_instance)\n",
        "    result = vqe.compute_minimum_eigenvalue(hamiltonian)\n",
        "    if doPrint:\n",
        "      print(\"minimal eigenvalue: \", format(result.eigenvalue,\".3f\"))\n",
        "    return result.eigenvalue"
      ],
      "metadata": {
        "id": "Eu7q77nAb724"
      },
      "execution_count": 430,
      "outputs": []
    },
    {
      "cell_type": "markdown",
      "metadata": {
        "id": "18c5b858"
      },
      "source": [
        "## preparing the simulator"
      ]
    },
    {
      "cell_type": "code",
      "execution_count": 431,
      "metadata": {
        "id": "167f7e1e"
      },
      "outputs": [],
      "source": [
        "def prepare_simulator(simulator_name, optimizer_name, seed, shots=8192):\n",
        "    algorithm_globals.random_seed = seed\n",
        "    backend = Aer.get_backend(simulator_name)\n",
        "    quantum_instance = QuantumInstance(backend=backend, \n",
        "                                      shots=shots, \n",
        "                                      seed_transpiler=seed, \n",
        "                                      seed_simulator=seed\n",
        "                                      )\n",
        "    if optimizer_name == \"cobyla\" or optimizer_name == \"COBYLA\":\n",
        "      optimizer = COBYLA(maxiter=60)\n",
        "    else:\n",
        "      optimizer = L_BFGS_B(maxiter=60)\n",
        "    return optimizer, quantum_instance"
      ]
    },
    {
      "cell_type": "markdown",
      "source": [
        "## define parameters"
      ],
      "metadata": {
        "id": "6ojqjmUeOUQQ"
      }
    },
    {
      "cell_type": "code",
      "source": [
        "avg_array_solvable = []\n",
        "avg_array_unsolvable = []\n",
        "avg = 0.0\n",
        "sum = 0\n",
        "entanglement = \"linear\""
      ],
      "metadata": {
        "id": "srvseKbwOJFZ"
      },
      "execution_count": 432,
      "outputs": []
    },
    {
      "cell_type": "markdown",
      "source": [
        "# solvable sets of 2 quibts"
      ],
      "metadata": {
        "id": "j0J_LbFY4ct0"
      }
    },
    {
      "cell_type": "code",
      "execution_count": 433,
      "metadata": {
        "id": "_ysJOh3IfoMj"
      },
      "outputs": [],
      "source": [
        "s1 = [1,1]\n",
        "s2 = [2,2]\n",
        "s3 = [24,24]\n",
        "s4 = [0,0]"
      ]
    },
    {
      "cell_type": "code",
      "source": [
        "sum = 0\n",
        "H = create_general_hamiltonian(s1)\n",
        "bfgs_optimizer, quantum_instance = prepare_simulator(\"aer_simulator_statevector\", \"bfgs\", seed) \n",
        "sum += minimum_eigenvalue_by_vqe(len(s1), entanglement, bfgs_optimizer, quantum_instance, H)"
      ],
      "metadata": {
        "id": "0RIcJuPXNY6O"
      },
      "execution_count": 434,
      "outputs": []
    },
    {
      "cell_type": "code",
      "source": [
        "H = create_general_hamiltonian(s2)\n",
        "bfgs_optimizer, quantum_instance = prepare_simulator(\"aer_simulator_statevector\", \"bfgs\", seed) \n",
        "sum += minimum_eigenvalue_by_vqe(len(s2), entanglement, bfgs_optimizer, quantum_instance, H)"
      ],
      "metadata": {
        "id": "1D8ETHPMNk6Z"
      },
      "execution_count": 435,
      "outputs": []
    },
    {
      "cell_type": "code",
      "source": [
        "H = create_general_hamiltonian(s3)\n",
        "bfgs_optimizer, quantum_instance = prepare_simulator(\"aer_simulator_statevector\", \"bfgs\", seed) \n",
        "sum += minimum_eigenvalue_by_vqe(len(s3), entanglement, bfgs_optimizer, quantum_instance, H)"
      ],
      "metadata": {
        "id": "H6pw_ew4NnIN"
      },
      "execution_count": 436,
      "outputs": []
    },
    {
      "cell_type": "code",
      "source": [
        "H = create_general_hamiltonian(s4)\n",
        "bfgs_optimizer, quantum_instance = prepare_simulator(\"aer_simulator_statevector\", \"bfgs\", seed) \n",
        "sum += minimum_eigenvalue_by_vqe(len(s4), entanglement, bfgs_optimizer, quantum_instance, H)"
      ],
      "metadata": {
        "id": "dJHez7-eNos3"
      },
      "execution_count": 437,
      "outputs": []
    },
    {
      "cell_type": "code",
      "source": [
        "avg = sum / 4.0\n",
        "avg_array_solvable.append(avg)"
      ],
      "metadata": {
        "id": "Na5cYlZxO_jA"
      },
      "execution_count": 438,
      "outputs": []
    },
    {
      "cell_type": "markdown",
      "source": [
        "# unsolvable sets of 2 quibts"
      ],
      "metadata": {
        "id": "dhcu23vv5AuC"
      }
    },
    {
      "cell_type": "code",
      "source": [
        "s1 = [0,1]\n",
        "s2 = [1,2]\n",
        "s3 = [2,24]\n",
        "s4 = [23,25]"
      ],
      "metadata": {
        "id": "r17vIVDwgUBw"
      },
      "execution_count": 439,
      "outputs": []
    },
    {
      "cell_type": "code",
      "source": [
        "sum = 0\n",
        "H = create_general_hamiltonian(s1)\n",
        "bfgs_optimizer, quantum_instance = prepare_simulator(\"aer_simulator_statevector\", \"bfgs\", seed) \n",
        "sum += minimum_eigenvalue_by_vqe(len(s1), entanglement, bfgs_optimizer, quantum_instance, H) - 1"
      ],
      "metadata": {
        "id": "S5K3J3iqQJh1"
      },
      "execution_count": 440,
      "outputs": []
    },
    {
      "cell_type": "code",
      "source": [
        "H = create_general_hamiltonian(s2)\n",
        "bfgs_optimizer, quantum_instance = prepare_simulator(\"aer_simulator_statevector\", \"bfgs\", seed) \n",
        "sum += minimum_eigenvalue_by_vqe(len(s2), entanglement, bfgs_optimizer, quantum_instance, H) - 1"
      ],
      "metadata": {
        "id": "UxU0t6rAQJh-"
      },
      "execution_count": 441,
      "outputs": []
    },
    {
      "cell_type": "code",
      "source": [
        "H = create_general_hamiltonian(s3)\n",
        "bfgs_optimizer, quantum_instance = prepare_simulator(\"aer_simulator_statevector\", \"bfgs\", seed) \n",
        "sum += minimum_eigenvalue_by_vqe(len(s3), entanglement, bfgs_optimizer, quantum_instance, H) - 484\n"
      ],
      "metadata": {
        "id": "6HqoHfY7QJh-"
      },
      "execution_count": 442,
      "outputs": []
    },
    {
      "cell_type": "code",
      "source": [
        "H = create_general_hamiltonian(s4)\n",
        "bfgs_optimizer, quantum_instance = prepare_simulator(\"aer_simulator_statevector\", \"bfgs\", seed) \n",
        "sum += minimum_eigenvalue_by_vqe(len(s4), entanglement, bfgs_optimizer, quantum_instance, H) - 4"
      ],
      "metadata": {
        "id": "EvufB6K5QJh-"
      },
      "execution_count": 443,
      "outputs": []
    },
    {
      "cell_type": "code",
      "source": [
        "avg = sum / 4.0\n",
        "avg_array_unsolvable.append(avg)"
      ],
      "metadata": {
        "id": "wOsbmnQqQJh_"
      },
      "execution_count": 444,
      "outputs": []
    },
    {
      "cell_type": "markdown",
      "source": [
        "# solvable sets of 3 quibts"
      ],
      "metadata": {
        "id": "wf84iQs54mFS"
      }
    },
    {
      "cell_type": "code",
      "source": [
        "s1 = [0,1,1]\n",
        "s2 = [1,3,2]\n",
        "s3 = [7,4,3]\n",
        "s4 = [40,20,60]"
      ],
      "metadata": {
        "id": "lJioxnJBgphc"
      },
      "execution_count": 445,
      "outputs": []
    },
    {
      "cell_type": "code",
      "source": [
        "sum = 0\n",
        "H = create_general_hamiltonian(s1)\n",
        "bfgs_optimizer, quantum_instance = prepare_simulator(\"aer_simulator_statevector\", \"bfgs\", seed) \n",
        "sum += minimum_eigenvalue_by_vqe(len(s1), entanglement, bfgs_optimizer, quantum_instance, H)"
      ],
      "metadata": {
        "id": "iRjnPAfxPHb-"
      },
      "execution_count": 446,
      "outputs": []
    },
    {
      "cell_type": "code",
      "source": [
        "H = create_general_hamiltonian(s2)\n",
        "bfgs_optimizer, quantum_instance = prepare_simulator(\"aer_simulator_statevector\", \"bfgs\", seed) \n",
        "sum += minimum_eigenvalue_by_vqe(len(s2), entanglement, bfgs_optimizer, quantum_instance, H)"
      ],
      "metadata": {
        "id": "3Nv2RFPKPHb-"
      },
      "execution_count": 447,
      "outputs": []
    },
    {
      "cell_type": "code",
      "source": [
        "H = create_general_hamiltonian(s3)\n",
        "bfgs_optimizer, quantum_instance = prepare_simulator(\"aer_simulator_statevector\", \"bfgs\", seed) \n",
        "sum += minimum_eigenvalue_by_vqe(len(s3), entanglement, bfgs_optimizer, quantum_instance, H)"
      ],
      "metadata": {
        "id": "rQsHvBcUPHb-"
      },
      "execution_count": 448,
      "outputs": []
    },
    {
      "cell_type": "code",
      "source": [
        "H = create_general_hamiltonian(s4)\n",
        "bfgs_optimizer, quantum_instance = prepare_simulator(\"aer_simulator_statevector\", \"bfgs\", seed) \n",
        "sum += minimum_eigenvalue_by_vqe(len(s4), entanglement, bfgs_optimizer, quantum_instance, H)"
      ],
      "metadata": {
        "id": "uZglcjetPHb-"
      },
      "execution_count": 449,
      "outputs": []
    },
    {
      "cell_type": "code",
      "source": [
        "avg = sum / 4.0\n",
        "avg_array_solvable.append(avg)"
      ],
      "metadata": {
        "id": "1SY7WuDbPHb_"
      },
      "execution_count": 450,
      "outputs": []
    },
    {
      "cell_type": "markdown",
      "source": [
        "# unsolvable sets of 3 quibts"
      ],
      "metadata": {
        "id": "igZcO2yr5FhP"
      }
    },
    {
      "cell_type": "code",
      "source": [
        "s1 = [1,1,1]\n",
        "s2 = [1,4,6]\n",
        "s3 = [13,1,11]\n",
        "s4 = [21,56,87]"
      ],
      "metadata": {
        "id": "AyQYLUBQhMdj"
      },
      "execution_count": 451,
      "outputs": []
    },
    {
      "cell_type": "code",
      "source": [
        "sum = 0\n",
        "H = create_general_hamiltonian(s1)\n",
        "bfgs_optimizer, quantum_instance = prepare_simulator(\"aer_simulator_statevector\", \"bfgs\", seed) \n",
        "sum += minimum_eigenvalue_by_vqe(len(s1), entanglement, bfgs_optimizer, quantum_instance, H) - 1"
      ],
      "metadata": {
        "id": "w3-s30I_Qo1u"
      },
      "execution_count": 452,
      "outputs": []
    },
    {
      "cell_type": "code",
      "source": [
        "H = create_general_hamiltonian(s2)\n",
        "bfgs_optimizer, quantum_instance = prepare_simulator(\"aer_simulator_statevector\", \"bfgs\", seed) \n",
        "sum += minimum_eigenvalue_by_vqe(len(s2), entanglement, bfgs_optimizer, quantum_instance, H) - 1"
      ],
      "metadata": {
        "id": "hq-uXo3KQo1u"
      },
      "execution_count": 453,
      "outputs": []
    },
    {
      "cell_type": "code",
      "source": [
        "H = create_general_hamiltonian(s3)\n",
        "bfgs_optimizer, quantum_instance = prepare_simulator(\"aer_simulator_statevector\", \"bfgs\", seed) \n",
        "sum += minimum_eigenvalue_by_vqe(len(s3), entanglement, bfgs_optimizer, quantum_instance, H) - 1"
      ],
      "metadata": {
        "id": "1X3hdlXRQo1u"
      },
      "execution_count": 454,
      "outputs": []
    },
    {
      "cell_type": "code",
      "source": [
        "H = create_general_hamiltonian(s4)\n",
        "bfgs_optimizer, quantum_instance = prepare_simulator(\"aer_simulator_statevector\", \"bfgs\", seed) \n",
        "sum += minimum_eigenvalue_by_vqe(len(s4), entanglement, bfgs_optimizer, quantum_instance, H) - 100"
      ],
      "metadata": {
        "id": "X17seyMZQo1u"
      },
      "execution_count": 455,
      "outputs": []
    },
    {
      "cell_type": "code",
      "source": [
        "avg = sum / 4.0\n",
        "avg_array_unsolvable.append(avg)"
      ],
      "metadata": {
        "id": "-ejq808xQo1v"
      },
      "execution_count": 456,
      "outputs": []
    },
    {
      "cell_type": "markdown",
      "source": [
        "# solvable sets of 4 quibts"
      ],
      "metadata": {
        "id": "Gx_XN7474ohv"
      }
    },
    {
      "cell_type": "code",
      "source": [
        "s1 = [1,6,2,3]\n",
        "s2 = [8,2,4,2]\n",
        "s3 = [14,7,3,4]\n",
        "s4 = [7,1,5,3]"
      ],
      "metadata": {
        "id": "OWXcqqz07lDt"
      },
      "execution_count": 457,
      "outputs": []
    },
    {
      "cell_type": "code",
      "source": [
        "sum = 0\n",
        "H = create_general_hamiltonian(s1)\n",
        "bfgs_optimizer, quantum_instance = prepare_simulator(\"aer_simulator_statevector\", \"bfgs\", seed) \n",
        "sum += minimum_eigenvalue_by_vqe(len(s1), entanglement, bfgs_optimizer, quantum_instance, H)"
      ],
      "metadata": {
        "id": "zFL11r8ePJDn"
      },
      "execution_count": 458,
      "outputs": []
    },
    {
      "cell_type": "code",
      "source": [
        "H = create_general_hamiltonian(s2)\n",
        "bfgs_optimizer, quantum_instance = prepare_simulator(\"aer_simulator_statevector\", \"bfgs\", seed) \n",
        "sum += minimum_eigenvalue_by_vqe(len(s2), entanglement, bfgs_optimizer, quantum_instance, H)"
      ],
      "metadata": {
        "id": "XVVOzGcSPJDn"
      },
      "execution_count": 459,
      "outputs": []
    },
    {
      "cell_type": "code",
      "source": [
        "H = create_general_hamiltonian(s3)\n",
        "bfgs_optimizer, quantum_instance = prepare_simulator(\"aer_simulator_statevector\", \"bfgs\", seed) \n",
        "sum += minimum_eigenvalue_by_vqe(len(s3), entanglement, bfgs_optimizer, quantum_instance, H)"
      ],
      "metadata": {
        "id": "gAP5NAtiPJDn"
      },
      "execution_count": 460,
      "outputs": []
    },
    {
      "cell_type": "code",
      "source": [
        "H = create_general_hamiltonian(s4)\n",
        "bfgs_optimizer, quantum_instance = prepare_simulator(\"aer_simulator_statevector\", \"bfgs\", seed) \n",
        "sum += minimum_eigenvalue_by_vqe(len(s4), entanglement, bfgs_optimizer, quantum_instance, H)"
      ],
      "metadata": {
        "id": "GeWDEsnRPJDo"
      },
      "execution_count": 461,
      "outputs": []
    },
    {
      "cell_type": "code",
      "source": [
        "avg = sum / 4.0\n",
        "avg_array_solvable.append(avg)"
      ],
      "metadata": {
        "id": "mXEQibBRPJDo"
      },
      "execution_count": 462,
      "outputs": []
    },
    {
      "cell_type": "markdown",
      "source": [
        "# unsolvable sets of 4 quibts"
      ],
      "metadata": {
        "id": "FVP0B6oN5GXw"
      }
    },
    {
      "cell_type": "code",
      "source": [
        "s1 = [1,5,3,2]\n",
        "s2 = [8,6,4,5]\n",
        "s3 = [14,7,5,4]\n",
        "s4 = [7,3,4,3]"
      ],
      "metadata": {
        "id": "datmEbqJ8XLZ"
      },
      "execution_count": 463,
      "outputs": []
    },
    {
      "cell_type": "code",
      "source": [
        "sum = 0\n",
        "H = create_general_hamiltonian(s1)\n",
        "bfgs_optimizer, quantum_instance = prepare_simulator(\"aer_simulator_statevector\", \"bfgs\", seed) \n",
        "sum += minimum_eigenvalue_by_vqe(len(s1), entanglement, bfgs_optimizer, quantum_instance, H) - 1"
      ],
      "metadata": {
        "id": "570TmJ6VQ1JS"
      },
      "execution_count": 464,
      "outputs": []
    },
    {
      "cell_type": "code",
      "source": [
        "H = create_general_hamiltonian(s2)\n",
        "bfgs_optimizer, quantum_instance = prepare_simulator(\"aer_simulator_statevector\", \"bfgs\", seed) \n",
        "sum += minimum_eigenvalue_by_vqe(len(s2), entanglement, bfgs_optimizer, quantum_instance, H) - 9"
      ],
      "metadata": {
        "id": "Ccg76c8nQ1JT"
      },
      "execution_count": 465,
      "outputs": []
    },
    {
      "cell_type": "code",
      "source": [
        "H = create_general_hamiltonian(s3)\n",
        "bfgs_optimizer, quantum_instance = prepare_simulator(\"aer_simulator_statevector\", \"bfgs\", seed) \n",
        "sum += minimum_eigenvalue_by_vqe(len(s3), entanglement, bfgs_optimizer, quantum_instance, H) - 4"
      ],
      "metadata": {
        "id": "4W67dtCXQ1JT"
      },
      "execution_count": 466,
      "outputs": []
    },
    {
      "cell_type": "code",
      "source": [
        "H = create_general_hamiltonian(s4)\n",
        "bfgs_optimizer, quantum_instance = prepare_simulator(\"aer_simulator_statevector\", \"bfgs\", seed) \n",
        "sum += minimum_eigenvalue_by_vqe(len(s4), entanglement, bfgs_optimizer, quantum_instance, H) - 9"
      ],
      "metadata": {
        "id": "w_7tx70QQ1JT"
      },
      "execution_count": 467,
      "outputs": []
    },
    {
      "cell_type": "code",
      "source": [
        "avg = sum / 4.0\n",
        "avg_array_unsolvable.append(avg)"
      ],
      "metadata": {
        "id": "4wD9PqKJQ1JT"
      },
      "execution_count": 468,
      "outputs": []
    },
    {
      "cell_type": "markdown",
      "source": [
        "# solvable sets of 5 quibts"
      ],
      "metadata": {
        "id": "SVrK_V884r3n"
      }
    },
    {
      "cell_type": "code",
      "source": [
        "s1 = [2,3,5,4,6]\n",
        "s2 = [5,3,5,10,3]\n",
        "s3 = [4,7,3,7,7]\n",
        "s4 = [1,5,3,4,5]"
      ],
      "metadata": {
        "id": "qDOaS1rH8qgo"
      },
      "execution_count": 469,
      "outputs": []
    },
    {
      "cell_type": "code",
      "source": [
        "sum = 0\n",
        "H = create_general_hamiltonian(s1)\n",
        "bfgs_optimizer, quantum_instance = prepare_simulator(\"aer_simulator_statevector\", \"bfgs\", seed) \n",
        "sum += minimum_eigenvalue_by_vqe(len(s1), entanglement, bfgs_optimizer, quantum_instance, H)"
      ],
      "metadata": {
        "id": "JQymaMSgPKWV"
      },
      "execution_count": 470,
      "outputs": []
    },
    {
      "cell_type": "code",
      "source": [
        "H = create_general_hamiltonian(s2)\n",
        "bfgs_optimizer, quantum_instance = prepare_simulator(\"aer_simulator_statevector\", \"bfgs\", seed) \n",
        "sum += minimum_eigenvalue_by_vqe(len(s2), entanglement, bfgs_optimizer, quantum_instance, H)"
      ],
      "metadata": {
        "id": "Lxrd1L-NPKWW"
      },
      "execution_count": 471,
      "outputs": []
    },
    {
      "cell_type": "code",
      "source": [
        "H = create_general_hamiltonian(s3)\n",
        "bfgs_optimizer, quantum_instance = prepare_simulator(\"aer_simulator_statevector\", \"bfgs\", seed) \n",
        "sum += minimum_eigenvalue_by_vqe(len(s3), entanglement, bfgs_optimizer, quantum_instance, H)"
      ],
      "metadata": {
        "id": "WPsQQ_cSPKWW"
      },
      "execution_count": 472,
      "outputs": []
    },
    {
      "cell_type": "code",
      "source": [
        "H = create_general_hamiltonian(s4)\n",
        "bfgs_optimizer, quantum_instance = prepare_simulator(\"aer_simulator_statevector\", \"bfgs\", seed) \n",
        "sum += minimum_eigenvalue_by_vqe(len(s4), entanglement, bfgs_optimizer, quantum_instance, H)"
      ],
      "metadata": {
        "id": "aIM9RFQdPKWW"
      },
      "execution_count": 473,
      "outputs": []
    },
    {
      "cell_type": "code",
      "source": [
        "avg = sum / 4.0\n",
        "avg_array_solvable.append(avg)"
      ],
      "metadata": {
        "id": "uuq5NPXWPKWW"
      },
      "execution_count": 474,
      "outputs": []
    },
    {
      "cell_type": "markdown",
      "source": [
        "# unsolvable sets of 5 quibts"
      ],
      "metadata": {
        "id": "WblrL1Y25KWY"
      }
    },
    {
      "cell_type": "code",
      "source": [
        "unsolvable_problems_5 = []"
      ],
      "metadata": {
        "id": "IVI81TZwzGL7"
      },
      "execution_count": 475,
      "outputs": []
    },
    {
      "cell_type": "code",
      "source": [
        "s1 = [4,3,5,5,6]\n",
        "s2 = [5,4,4,10,2]\n",
        "s3 = [4,7,3,13,2]\n",
        "s4 = [2,4,4,4,5]"
      ],
      "metadata": {
        "id": "FCSBVlk99Gem"
      },
      "execution_count": 476,
      "outputs": []
    },
    {
      "cell_type": "code",
      "source": [
        "sum = 0\n",
        "H = create_general_hamiltonian(s1)\n",
        "bfgs_optimizer, quantum_instance = prepare_simulator(\"aer_simulator_statevector\", \"bfgs\", seed) \n",
        "sum += minimum_eigenvalue_by_vqe(len(s1), entanglement, bfgs_optimizer, quantum_instance, H) - 1\n",
        "unsolvable_problems_5.append(minimum_eigenvalue_by_vqe(len(s1), entanglement, bfgs_optimizer, quantum_instance, H, 1))"
      ],
      "metadata": {
        "colab": {
          "base_uri": "https://localhost:8080/"
        },
        "id": "RtG18ek8RSGG",
        "outputId": "a7983869-7543-468d-c007-efdd076d06fd"
      },
      "execution_count": 477,
      "outputs": [
        {
          "output_type": "stream",
          "name": "stdout",
          "text": [
            "minimal eigenvalue:  9.000+0.000j\n"
          ]
        }
      ]
    },
    {
      "cell_type": "code",
      "source": [
        "H = create_general_hamiltonian(s2)\n",
        "bfgs_optimizer, quantum_instance = prepare_simulator(\"aer_simulator_statevector\", \"bfgs\", seed) \n",
        "sum += minimum_eigenvalue_by_vqe(len(s2), entanglement, bfgs_optimizer, quantum_instance, H) - 1\n",
        "minimum_eigenvalue_by_vqe(len(s1), entanglement, bfgs_optimizer, quantum_instance, H, 1)\n",
        "unsolvable_problems_5.append(minimum_eigenvalue_by_vqe(len(s1), entanglement, bfgs_optimizer, quantum_instance, H, 1))"
      ],
      "metadata": {
        "colab": {
          "base_uri": "https://localhost:8080/"
        },
        "id": "LvSACA2qRSGH",
        "outputId": "029da281-8b0a-4818-d464-d2628d38f063"
      },
      "execution_count": 478,
      "outputs": [
        {
          "output_type": "stream",
          "name": "stdout",
          "text": [
            "minimal eigenvalue:  49.000+0.000j\n",
            "minimal eigenvalue:  49.000+0.000j\n"
          ]
        }
      ]
    },
    {
      "cell_type": "code",
      "source": [
        "H = create_general_hamiltonian(s3)\n",
        "bfgs_optimizer, quantum_instance = prepare_simulator(\"aer_simulator_statevector\", \"bfgs\", seed) \n",
        "sum += minimum_eigenvalue_by_vqe(len(s3), entanglement, bfgs_optimizer, quantum_instance, H) - 1\n",
        "minimum_eigenvalue_by_vqe(len(s1), entanglement, bfgs_optimizer, quantum_instance, H, 1)\n",
        "unsolvable_problems_5.append(minimum_eigenvalue_by_vqe(len(s1), entanglement, bfgs_optimizer, quantum_instance, H, 1))"
      ],
      "metadata": {
        "colab": {
          "base_uri": "https://localhost:8080/"
        },
        "id": "-WJpiP-bRSGH",
        "outputId": "47b1f6c4-e5b2-4015-f095-19bf089b3483"
      },
      "execution_count": 479,
      "outputs": [
        {
          "output_type": "stream",
          "name": "stdout",
          "text": [
            "minimal eigenvalue:  15.726+0.000j\n",
            "minimal eigenvalue:  5.074+0.000j\n"
          ]
        }
      ]
    },
    {
      "cell_type": "code",
      "source": [
        "H = create_general_hamiltonian(s4)\n",
        "bfgs_optimizer, quantum_instance = prepare_simulator(\"aer_simulator_statevector\", \"bfgs\", seed) \n",
        "sum += minimum_eigenvalue_by_vqe(len(s4), entanglement, bfgs_optimizer, quantum_instance, H) - 1\n",
        "minimum_eigenvalue_by_vqe(len(s1), entanglement, bfgs_optimizer, quantum_instance, H, 1)\n",
        "unsolvable_problems_5.append(minimum_eigenvalue_by_vqe(len(s1), entanglement, bfgs_optimizer, quantum_instance, H, 1))"
      ],
      "metadata": {
        "colab": {
          "base_uri": "https://localhost:8080/"
        },
        "id": "hxWGasXGRSGH",
        "outputId": "dd92938b-4e8b-4b0e-c3ee-cb3149f7bc02"
      },
      "execution_count": 480,
      "outputs": [
        {
          "output_type": "stream",
          "name": "stdout",
          "text": [
            "minimal eigenvalue:  9.000+0.000j\n",
            "minimal eigenvalue:  1.274+0.000j\n"
          ]
        }
      ]
    },
    {
      "cell_type": "code",
      "source": [
        "avg = sum / 4.0\n",
        "avg_array_unsolvable.append(avg)"
      ],
      "metadata": {
        "id": "WF0aXQd2RSGI"
      },
      "execution_count": 481,
      "outputs": []
    },
    {
      "cell_type": "markdown",
      "source": [
        "# solvable sets of 6 quibts"
      ],
      "metadata": {
        "id": "tVovid9l4ucW"
      }
    },
    {
      "cell_type": "code",
      "source": [
        "s1 = [4,5,3,4,4,4]\n",
        "s2 = [7,5,7,9,9,1]\n",
        "s3 = [8,1,2,5,1,5]\n",
        "s4 = [4,7,4,5,5,5]"
      ],
      "metadata": {
        "id": "rUviXpjP9kKT"
      },
      "execution_count": 482,
      "outputs": []
    },
    {
      "cell_type": "code",
      "source": [
        "sum = 0\n",
        "H = create_general_hamiltonian(s1)\n",
        "bfgs_optimizer, quantum_instance = prepare_simulator(\"aer_simulator_statevector\", \"bfgs\", seed) \n",
        "sum += minimum_eigenvalue_by_vqe(len(s1), entanglement, bfgs_optimizer, quantum_instance, H)"
      ],
      "metadata": {
        "id": "XpjUVVR3PnpP"
      },
      "execution_count": 483,
      "outputs": []
    },
    {
      "cell_type": "code",
      "source": [
        "H = create_general_hamiltonian(s2)\n",
        "bfgs_optimizer, quantum_instance = prepare_simulator(\"aer_simulator_statevector\", \"bfgs\", seed) \n",
        "sum += minimum_eigenvalue_by_vqe(len(s2), entanglement, bfgs_optimizer, quantum_instance, H)"
      ],
      "metadata": {
        "id": "JoiG3771PnpP"
      },
      "execution_count": 484,
      "outputs": []
    },
    {
      "cell_type": "code",
      "source": [
        "H = create_general_hamiltonian(s3)\n",
        "bfgs_optimizer, quantum_instance = prepare_simulator(\"aer_simulator_statevector\", \"bfgs\", seed) \n",
        "sum += minimum_eigenvalue_by_vqe(len(s3), entanglement, bfgs_optimizer, quantum_instance, H)"
      ],
      "metadata": {
        "id": "t5ydPMnZPnpQ"
      },
      "execution_count": 485,
      "outputs": []
    },
    {
      "cell_type": "code",
      "source": [
        "H = create_general_hamiltonian(s4)\n",
        "bfgs_optimizer, quantum_instance = prepare_simulator(\"aer_simulator_statevector\", \"bfgs\", seed) \n",
        "sum += minimum_eigenvalue_by_vqe(len(s4), entanglement, bfgs_optimizer, quantum_instance, H)"
      ],
      "metadata": {
        "id": "5CC02qfRPnpQ"
      },
      "execution_count": 486,
      "outputs": []
    },
    {
      "cell_type": "code",
      "source": [
        "avg = sum / 4.0\n",
        "avg_array_solvable.append(avg)"
      ],
      "metadata": {
        "id": "4V1HiDSJPnpQ"
      },
      "execution_count": 487,
      "outputs": []
    },
    {
      "cell_type": "markdown",
      "source": [
        "# unsolvable sets of 6 quibts"
      ],
      "metadata": {
        "id": "a-fA7dDm5Nbc"
      }
    },
    {
      "cell_type": "code",
      "source": [
        "s1 = [3,6,3,4,5,4]\n",
        "s2 = [6,5,8,9,8,1]\n",
        "s3 = [7,2,2,6,2,4]\n",
        "s4 = [6,7,2,5,4,5]"
      ],
      "metadata": {
        "id": "I0kv4RdD-Uil"
      },
      "execution_count": 488,
      "outputs": []
    },
    {
      "cell_type": "code",
      "source": [
        "sum = 0\n",
        "H = create_general_hamiltonian(s1)\n",
        "bfgs_optimizer, quantum_instance = prepare_simulator(\"aer_simulator_statevector\", \"bfgs\", seed) \n",
        "sum += minimum_eigenvalue_by_vqe(len(s1), entanglement, bfgs_optimizer, quantum_instance, H) - 1"
      ],
      "metadata": {
        "id": "LIrM4X-KRgFu"
      },
      "execution_count": 489,
      "outputs": []
    },
    {
      "cell_type": "code",
      "source": [
        "H = create_general_hamiltonian(s2)\n",
        "bfgs_optimizer, quantum_instance = prepare_simulator(\"aer_simulator_statevector\", \"bfgs\", seed) \n",
        "sum += minimum_eigenvalue_by_vqe(len(s2), entanglement, bfgs_optimizer, quantum_instance, H) - 1"
      ],
      "metadata": {
        "id": "LgB3mxqyRgFv"
      },
      "execution_count": 490,
      "outputs": []
    },
    {
      "cell_type": "code",
      "source": [
        "H = create_general_hamiltonian(s3)\n",
        "bfgs_optimizer, quantum_instance = prepare_simulator(\"aer_simulator_statevector\", \"bfgs\", seed) \n",
        "sum += minimum_eigenvalue_by_vqe(len(s3), entanglement, bfgs_optimizer, quantum_instance, H) - 1"
      ],
      "metadata": {
        "id": "xMUhE9nDRgFv"
      },
      "execution_count": 491,
      "outputs": []
    },
    {
      "cell_type": "code",
      "source": [
        "H = create_general_hamiltonian(s4)\n",
        "bfgs_optimizer, quantum_instance = prepare_simulator(\"aer_simulator_statevector\", \"bfgs\", seed) \n",
        "sum += minimum_eigenvalue_by_vqe(len(s4), entanglement, bfgs_optimizer, quantum_instance, H) - 1"
      ],
      "metadata": {
        "id": "Z5bdeCEYRgFv"
      },
      "execution_count": 492,
      "outputs": []
    },
    {
      "cell_type": "code",
      "source": [
        "avg = sum / 4.0\n",
        "avg_array_unsolvable.append(avg)"
      ],
      "metadata": {
        "id": "8NyHnT7qRgFw"
      },
      "execution_count": 493,
      "outputs": []
    },
    {
      "cell_type": "markdown",
      "source": [
        "# solvable sets of 7 quibts"
      ],
      "metadata": {
        "id": "SVTnjTit4wpK"
      }
    },
    {
      "cell_type": "code",
      "source": [
        "s1 = [4,5,4,5,4,8,6]\n",
        "s2 = [7,3,7,4,4,4,5]\n",
        "s3 = [8,1,2,5,6,6,4]\n",
        "s4 = [5,3,4,5,12,4,1]"
      ],
      "metadata": {
        "id": "d7WpKyaU-1Zc"
      },
      "execution_count": 494,
      "outputs": []
    },
    {
      "cell_type": "code",
      "source": [
        "sum = 0\n",
        "H = create_general_hamiltonian(s1)\n",
        "bfgs_optimizer, quantum_instance = prepare_simulator(\"aer_simulator_statevector\", \"bfgs\", seed) \n",
        "sum += minimum_eigenvalue_by_vqe(len(s1), entanglement, bfgs_optimizer, quantum_instance, H)"
      ],
      "metadata": {
        "id": "qBFRC2jaPoyD"
      },
      "execution_count": 495,
      "outputs": []
    },
    {
      "cell_type": "code",
      "source": [
        "H = create_general_hamiltonian(s2)\n",
        "bfgs_optimizer, quantum_instance = prepare_simulator(\"aer_simulator_statevector\", \"bfgs\", seed) \n",
        "sum += minimum_eigenvalue_by_vqe(len(s2), entanglement, bfgs_optimizer, quantum_instance, H)"
      ],
      "metadata": {
        "id": "2b3oyFHhPoyE"
      },
      "execution_count": 496,
      "outputs": []
    },
    {
      "cell_type": "code",
      "source": [
        "H = create_general_hamiltonian(s3)\n",
        "bfgs_optimizer, quantum_instance = prepare_simulator(\"aer_simulator_statevector\", \"bfgs\", seed) \n",
        "sum += minimum_eigenvalue_by_vqe(len(s3), entanglement, bfgs_optimizer, quantum_instance, H)"
      ],
      "metadata": {
        "id": "0WOAK9SlPoyE"
      },
      "execution_count": 497,
      "outputs": []
    },
    {
      "cell_type": "code",
      "source": [
        "H = create_general_hamiltonian(s4)\n",
        "bfgs_optimizer, quantum_instance = prepare_simulator(\"aer_simulator_statevector\", \"bfgs\", seed) \n",
        "sum += minimum_eigenvalue_by_vqe(len(s4), entanglement, bfgs_optimizer, quantum_instance, H)"
      ],
      "metadata": {
        "id": "WDlnHqJ0PoyE"
      },
      "execution_count": 498,
      "outputs": []
    },
    {
      "cell_type": "code",
      "source": [
        "avg = sum / 4.0\n",
        "avg_array_solvable.append(avg)"
      ],
      "metadata": {
        "id": "jv8Ay28bPoyE"
      },
      "execution_count": 499,
      "outputs": []
    },
    {
      "cell_type": "markdown",
      "source": [
        "# unsolvable sets of 7 quibts"
      ],
      "metadata": {
        "id": "tLbTjyeb5PXs"
      }
    },
    {
      "cell_type": "code",
      "source": [
        "s1 = [0,0,0,0,0,0,2]\n",
        "s2 = [1,2,3,4,10,1,0]\n",
        "s3 = [7,4,7,4,11,11,1]\n",
        "s4 = [5,3,4,6,16,1,2]"
      ],
      "metadata": {
        "id": "8fW0Yu0Y_je3"
      },
      "execution_count": 500,
      "outputs": []
    },
    {
      "cell_type": "code",
      "source": [
        "sum = 0\n",
        "H = create_general_hamiltonian(s1)\n",
        "bfgs_optimizer, quantum_instance = prepare_simulator(\"aer_simulator_statevector\", \"bfgs\", seed) \n",
        "sum += minimum_eigenvalue_by_vqe(len(s1), entanglement, bfgs_optimizer, quantum_instance, H) - 4"
      ],
      "metadata": {
        "id": "6G4farD8Rssv"
      },
      "execution_count": 501,
      "outputs": []
    },
    {
      "cell_type": "code",
      "source": [
        "H = create_general_hamiltonian(s2)\n",
        "bfgs_optimizer, quantum_instance = prepare_simulator(\"aer_simulator_statevector\", \"bfgs\", seed) \n",
        "sum += minimum_eigenvalue_by_vqe(len(s2), entanglement, bfgs_optimizer, quantum_instance, H) - 1"
      ],
      "metadata": {
        "id": "YRpsyFbjRssv"
      },
      "execution_count": 502,
      "outputs": []
    },
    {
      "cell_type": "code",
      "source": [
        "H = create_general_hamiltonian(s3)\n",
        "bfgs_optimizer, quantum_instance = prepare_simulator(\"aer_simulator_statevector\", \"bfgs\", seed) \n",
        "sum += minimum_eigenvalue_by_vqe(len(s3), entanglement, bfgs_optimizer, quantum_instance, H) - 1"
      ],
      "metadata": {
        "id": "E1x1O3TuRssv"
      },
      "execution_count": 503,
      "outputs": []
    },
    {
      "cell_type": "code",
      "source": [
        "H = create_general_hamiltonian(s4)\n",
        "bfgs_optimizer, quantum_instance = prepare_simulator(\"aer_simulator_statevector\", \"bfgs\", seed) \n",
        "sum += minimum_eigenvalue_by_vqe(len(s4), entanglement, bfgs_optimizer, quantum_instance, H) - 1"
      ],
      "metadata": {
        "id": "QWFyp7P-Rssw"
      },
      "execution_count": 504,
      "outputs": []
    },
    {
      "cell_type": "code",
      "source": [
        "avg = sum / 4.0\n",
        "avg_array_unsolvable.append(avg)"
      ],
      "metadata": {
        "id": "jr_jPMqPRssw"
      },
      "execution_count": 505,
      "outputs": []
    },
    {
      "cell_type": "markdown",
      "source": [
        "# solvable sets of 8 quibts"
      ],
      "metadata": {
        "id": "uLh4Dr664zy_"
      }
    },
    {
      "cell_type": "code",
      "source": [
        "s1 = [1,0,0,0,0,0,2,1]\n",
        "s2 = [1,2,3,4,10,0,0,0]\n",
        "s3 = [5,6,7,8,11,11,1,3]\n",
        "s4 = [5,3,4,2,10,1,1,2]"
      ],
      "metadata": {
        "id": "oOwdEn_CAX4H"
      },
      "execution_count": 506,
      "outputs": []
    },
    {
      "cell_type": "code",
      "source": [
        "sum = 0\n",
        "H = create_general_hamiltonian(s1)\n",
        "bfgs_optimizer, quantum_instance = prepare_simulator(\"aer_simulator_statevector\", \"bfgs\", seed) \n",
        "sum += minimum_eigenvalue_by_vqe(len(s1), entanglement, bfgs_optimizer, quantum_instance, H)"
      ],
      "metadata": {
        "id": "BYNSnQN1PqEs"
      },
      "execution_count": 507,
      "outputs": []
    },
    {
      "cell_type": "code",
      "source": [
        "H = create_general_hamiltonian(s2)\n",
        "bfgs_optimizer, quantum_instance = prepare_simulator(\"aer_simulator_statevector\", \"bfgs\", seed) \n",
        "sum += minimum_eigenvalue_by_vqe(len(s2), entanglement, bfgs_optimizer, quantum_instance, H)"
      ],
      "metadata": {
        "id": "aiYXmS6FPqEs"
      },
      "execution_count": 508,
      "outputs": []
    },
    {
      "cell_type": "code",
      "source": [
        "H = create_general_hamiltonian(s3)\n",
        "bfgs_optimizer, quantum_instance = prepare_simulator(\"aer_simulator_statevector\", \"bfgs\", seed) \n",
        "sum += minimum_eigenvalue_by_vqe(len(s3), entanglement, bfgs_optimizer, quantum_instance, H)"
      ],
      "metadata": {
        "id": "VSqwEwXKPqEs"
      },
      "execution_count": 509,
      "outputs": []
    },
    {
      "cell_type": "code",
      "source": [
        "H = create_general_hamiltonian(s4)\n",
        "bfgs_optimizer, quantum_instance = prepare_simulator(\"aer_simulator_statevector\", \"bfgs\", seed) \n",
        "sum += minimum_eigenvalue_by_vqe(len(s4), entanglement, bfgs_optimizer, quantum_instance, H)"
      ],
      "metadata": {
        "id": "Hr8O4_VZPqEt"
      },
      "execution_count": 510,
      "outputs": []
    },
    {
      "cell_type": "code",
      "source": [
        "avg = sum / 4.0\n",
        "avg_array_solvable.append(avg)"
      ],
      "metadata": {
        "id": "QOiBl_HPPqEt"
      },
      "execution_count": 511,
      "outputs": []
    },
    {
      "cell_type": "markdown",
      "source": [
        "# unsolvable sets of 8 quibts"
      ],
      "metadata": {
        "id": "LZ9mzDjp5RqX"
      }
    },
    {
      "cell_type": "code",
      "source": [
        "s1 = [1,0,0,0,1,0,2,1]\n",
        "s2 = [1,2,3,4,11,0,2,2]\n",
        "s3 = [5,9,4,8,10,11,1,3]\n",
        "s4 = [6,2,4,2,9,1,1,2]"
      ],
      "metadata": {
        "id": "CLMAfUa_CH_s"
      },
      "execution_count": 512,
      "outputs": []
    },
    {
      "cell_type": "code",
      "source": [
        "sum = 0\n",
        "H = create_general_hamiltonian(s1)\n",
        "bfgs_optimizer, quantum_instance = prepare_simulator(\"aer_simulator_statevector\", \"bfgs\", seed) \n",
        "sum += minimum_eigenvalue_by_vqe(len(s1), entanglement, bfgs_optimizer, quantum_instance, H) - 1"
      ],
      "metadata": {
        "id": "Yk7HlO1vR5D1"
      },
      "execution_count": 513,
      "outputs": []
    },
    {
      "cell_type": "code",
      "source": [
        "H = create_general_hamiltonian(s2)\n",
        "bfgs_optimizer, quantum_instance = prepare_simulator(\"aer_simulator_statevector\", \"bfgs\", seed) \n",
        "sum += minimum_eigenvalue_by_vqe(len(s2), entanglement, bfgs_optimizer, quantum_instance, H) - 1"
      ],
      "metadata": {
        "id": "JKHNx5XTR5D3"
      },
      "execution_count": 514,
      "outputs": []
    },
    {
      "cell_type": "code",
      "source": [
        "H = create_general_hamiltonian(s3)\n",
        "bfgs_optimizer, quantum_instance = prepare_simulator(\"aer_simulator_statevector\", \"bfgs\", seed) \n",
        "sum += minimum_eigenvalue_by_vqe(len(s3), entanglement, bfgs_optimizer, quantum_instance, H) - 1"
      ],
      "metadata": {
        "id": "NwLuUaWAR5D5"
      },
      "execution_count": 515,
      "outputs": []
    },
    {
      "cell_type": "code",
      "source": [
        "H = create_general_hamiltonian(s4)\n",
        "bfgs_optimizer, quantum_instance = prepare_simulator(\"aer_simulator_statevector\", \"bfgs\", seed) \n",
        "sum += minimum_eigenvalue_by_vqe(len(s4), entanglement, bfgs_optimizer, quantum_instance, H) - 1"
      ],
      "metadata": {
        "id": "RNwIN_rLR5D7"
      },
      "execution_count": 516,
      "outputs": []
    },
    {
      "cell_type": "code",
      "source": [
        "avg = sum / 4.0\n",
        "avg_array_unsolvable.append(avg)"
      ],
      "metadata": {
        "id": "815pYGEtR5D8"
      },
      "execution_count": 517,
      "outputs": []
    },
    {
      "cell_type": "markdown",
      "source": [
        "# solvable sets of 9 quibts"
      ],
      "metadata": {
        "id": "IbduooA2C4dB"
      }
    },
    {
      "cell_type": "code",
      "source": [
        "s1 = [1,6,2,0,1,2,6,2,0]\n",
        "s2 = [4,1,0,6,4,6,4,3,2]\n",
        "s3 = [2,1,0,4,5,7,3,1,1]\n",
        "s4 = [3,9,1,8,3,12,4,8,0]"
      ],
      "metadata": {
        "id": "uEiKx6mXC4dB"
      },
      "execution_count": 518,
      "outputs": []
    },
    {
      "cell_type": "code",
      "source": [
        "sum = 0\n",
        "H = create_general_hamiltonian(s1)\n",
        "bfgs_optimizer, quantum_instance = prepare_simulator(\"aer_simulator_statevector\", \"bfgs\", seed) \n",
        "sum += minimum_eigenvalue_by_vqe(len(s1), entanglement, bfgs_optimizer, quantum_instance, H)"
      ],
      "metadata": {
        "id": "FKroKJS_C4dC"
      },
      "execution_count": 519,
      "outputs": []
    },
    {
      "cell_type": "code",
      "source": [
        "H = create_general_hamiltonian(s2)\n",
        "bfgs_optimizer, quantum_instance = prepare_simulator(\"aer_simulator_statevector\", \"bfgs\", seed) \n",
        "sum += minimum_eigenvalue_by_vqe(len(s2), entanglement, bfgs_optimizer, quantum_instance, H)"
      ],
      "metadata": {
        "id": "HPpM2udcC4dC"
      },
      "execution_count": 520,
      "outputs": []
    },
    {
      "cell_type": "code",
      "source": [
        "H = create_general_hamiltonian(s3)\n",
        "bfgs_optimizer, quantum_instance = prepare_simulator(\"aer_simulator_statevector\", \"bfgs\", seed) \n",
        "sum += minimum_eigenvalue_by_vqe(len(s3), entanglement, bfgs_optimizer, quantum_instance, H)"
      ],
      "metadata": {
        "id": "kRgwfC6pC4dC"
      },
      "execution_count": 521,
      "outputs": []
    },
    {
      "cell_type": "code",
      "source": [
        "H = create_general_hamiltonian(s4)\n",
        "bfgs_optimizer, quantum_instance = prepare_simulator(\"aer_simulator_statevector\", \"bfgs\", seed) \n",
        "sum += minimum_eigenvalue_by_vqe(len(s4), entanglement, bfgs_optimizer, quantum_instance, H)"
      ],
      "metadata": {
        "id": "x88PVhSPC4dC"
      },
      "execution_count": 522,
      "outputs": []
    },
    {
      "cell_type": "code",
      "source": [
        "avg = sum / 4.0\n",
        "avg_array_solvable.append(avg)"
      ],
      "metadata": {
        "id": "l-ss4uj5C4dC"
      },
      "execution_count": 523,
      "outputs": []
    },
    {
      "cell_type": "markdown",
      "source": [
        "# unsolvable sets of 9 quibts"
      ],
      "metadata": {
        "id": "PxO0whRuDOwT"
      }
    },
    {
      "cell_type": "code",
      "source": [
        "s1 = [2,8,4,11,3,7,5,7,0]\n",
        "s2 = [2,0,6,3,5,1,4,1,3]\n",
        "s3 = [3,2,1,2,4,6,5,3,5]\n",
        "s4 = [2,5,2,0,1,2,6,3,0]"
      ],
      "metadata": {
        "id": "U29QexiiDOwT"
      },
      "execution_count": 524,
      "outputs": []
    },
    {
      "cell_type": "code",
      "source": [
        "sum = 0\n",
        "H = create_general_hamiltonian(s1)\n",
        "bfgs_optimizer, quantum_instance = prepare_simulator(\"aer_simulator_statevector\", \"bfgs\", seed) \n",
        "sum += minimum_eigenvalue_by_vqe(len(s1), entanglement, bfgs_optimizer, quantum_instance, H) - 1"
      ],
      "metadata": {
        "id": "Ato076osDOwU"
      },
      "execution_count": 525,
      "outputs": []
    },
    {
      "cell_type": "code",
      "source": [
        "H = create_general_hamiltonian(s2)\n",
        "bfgs_optimizer, quantum_instance = prepare_simulator(\"aer_simulator_statevector\", \"bfgs\", seed) \n",
        "sum += minimum_eigenvalue_by_vqe(len(s2), entanglement, bfgs_optimizer, quantum_instance, H) - 1"
      ],
      "metadata": {
        "id": "vQtru3JqDOwU"
      },
      "execution_count": 526,
      "outputs": []
    },
    {
      "cell_type": "code",
      "source": [
        "H = create_general_hamiltonian(s3)\n",
        "bfgs_optimizer, quantum_instance = prepare_simulator(\"aer_simulator_statevector\", \"bfgs\", seed) \n",
        "sum += minimum_eigenvalue_by_vqe(len(s3), entanglement, bfgs_optimizer, quantum_instance, H) - 1"
      ],
      "metadata": {
        "id": "FzLXXK9cDOwU"
      },
      "execution_count": 527,
      "outputs": []
    },
    {
      "cell_type": "code",
      "source": [
        "H = create_general_hamiltonian(s4)\n",
        "bfgs_optimizer, quantum_instance = prepare_simulator(\"aer_simulator_statevector\", \"bfgs\", seed) \n",
        "sum += minimum_eigenvalue_by_vqe(len(s4), entanglement, bfgs_optimizer, quantum_instance, H) - 1"
      ],
      "metadata": {
        "id": "cCAvtsb-DOwU"
      },
      "execution_count": 528,
      "outputs": []
    },
    {
      "cell_type": "code",
      "source": [
        "avg = sum / 4.0\n",
        "avg_array_unsolvable.append(avg)"
      ],
      "metadata": {
        "id": "zTRm7D8mDOwU"
      },
      "execution_count": 529,
      "outputs": []
    },
    {
      "cell_type": "markdown",
      "source": [
        "# solvable sets of 10 quibts"
      ],
      "metadata": {
        "id": "OSQJcjEkEVfw"
      }
    },
    {
      "cell_type": "code",
      "source": [
        "s1 = [8,2,5,1,0,2,4,3,2,5]\n",
        "s2 = [6,8,4,2,9,5,5,9,6,4]\n",
        "s3 = [5,8,1,3,2,6,4,3,3,3]\n",
        "s4 = [6,4,3,0,8,10,6,4,1,0]"
      ],
      "metadata": {
        "id": "NPfj7sBEEVfw"
      },
      "execution_count": 530,
      "outputs": []
    },
    {
      "cell_type": "code",
      "source": [
        "sum = 0\n",
        "H = create_general_hamiltonian(s1)\n",
        "bfgs_optimizer, quantum_instance = prepare_simulator(\"aer_simulator_statevector\", \"bfgs\", seed) \n",
        "sum += minimum_eigenvalue_by_vqe(len(s1), entanglement, bfgs_optimizer, quantum_instance, H)\n",
        "minimum_eigenvalue_by_vqe(len(s1), entanglement, bfgs_optimizer, quantum_instance, H,1)"
      ],
      "metadata": {
        "colab": {
          "base_uri": "https://localhost:8080/"
        },
        "id": "yESPoESbEVfw",
        "outputId": "25972f15-5604-451d-8f3e-56cfacda3b3f"
      },
      "execution_count": 531,
      "outputs": [
        {
          "output_type": "stream",
          "name": "stdout",
          "text": [
            "minimal eigenvalue:  6.556+0.000j\n"
          ]
        },
        {
          "output_type": "execute_result",
          "data": {
            "text/plain": [
              "(6.5562587019437615+0j)"
            ]
          },
          "metadata": {},
          "execution_count": 531
        }
      ]
    },
    {
      "cell_type": "code",
      "source": [
        "H = create_general_hamiltonian(s2)\n",
        "bfgs_optimizer, quantum_instance = prepare_simulator(\"aer_simulator_statevector\", \"bfgs\", seed) \n",
        "sum += minimum_eigenvalue_by_vqe(len(s2), entanglement, bfgs_optimizer, quantum_instance, H)\n",
        "minimum_eigenvalue_by_vqe(len(s1), entanglement, bfgs_optimizer, quantum_instance, H,1)"
      ],
      "metadata": {
        "colab": {
          "base_uri": "https://localhost:8080/"
        },
        "id": "lEy2KW19EVfx",
        "outputId": "8b9debe6-8b0c-4511-9033-5912a857a8e0"
      },
      "execution_count": 532,
      "outputs": [
        {
          "output_type": "stream",
          "name": "stdout",
          "text": [
            "minimal eigenvalue:  61.699+0.000j\n"
          ]
        },
        {
          "output_type": "execute_result",
          "data": {
            "text/plain": [
              "(61.69931256283371+0j)"
            ]
          },
          "metadata": {},
          "execution_count": 532
        }
      ]
    },
    {
      "cell_type": "code",
      "source": [
        "H = create_general_hamiltonian(s3)\n",
        "bfgs_optimizer, quantum_instance = prepare_simulator(\"aer_simulator_statevector\", \"bfgs\", seed) \n",
        "sum += minimum_eigenvalue_by_vqe(len(s3), entanglement, bfgs_optimizer, quantum_instance, H)\n",
        "minimum_eigenvalue_by_vqe(len(s1), entanglement, bfgs_optimizer, quantum_instance, H,1)"
      ],
      "metadata": {
        "colab": {
          "base_uri": "https://localhost:8080/"
        },
        "id": "YQkrJwqDEVfx",
        "outputId": "3b96d381-265a-4531-f220-e5231f2f0689"
      },
      "execution_count": 533,
      "outputs": [
        {
          "output_type": "stream",
          "name": "stdout",
          "text": [
            "minimal eigenvalue:  14.511+0.000j\n"
          ]
        },
        {
          "output_type": "execute_result",
          "data": {
            "text/plain": [
              "(14.511332394220123+0j)"
            ]
          },
          "metadata": {},
          "execution_count": 533
        }
      ]
    },
    {
      "cell_type": "code",
      "source": [
        "H = create_general_hamiltonian(s4)\n",
        "bfgs_optimizer, quantum_instance = prepare_simulator(\"aer_simulator_statevector\", \"bfgs\", seed) \n",
        "sum += minimum_eigenvalue_by_vqe(len(s4), entanglement, bfgs_optimizer, quantum_instance, H)\n",
        "minimum_eigenvalue_by_vqe(len(s1), entanglement, bfgs_optimizer, quantum_instance, H,1)"
      ],
      "metadata": {
        "colab": {
          "base_uri": "https://localhost:8080/"
        },
        "id": "2wE69ky1EVfx",
        "outputId": "76dda858-22c4-48e6-f0c2-30cb252713e5"
      },
      "execution_count": 534,
      "outputs": [
        {
          "output_type": "stream",
          "name": "stdout",
          "text": [
            "minimal eigenvalue:  34.248+0.000j\n"
          ]
        },
        {
          "output_type": "execute_result",
          "data": {
            "text/plain": [
              "(34.2476868982815+0j)"
            ]
          },
          "metadata": {},
          "execution_count": 534
        }
      ]
    },
    {
      "cell_type": "code",
      "source": [
        "avg = sum / 4.0\n",
        "avg_array_solvable.append(avg)"
      ],
      "metadata": {
        "id": "avaDHvAMEVfx"
      },
      "execution_count": 535,
      "outputs": []
    },
    {
      "cell_type": "markdown",
      "source": [
        "# unsolvable sets of 10 quibts"
      ],
      "metadata": {
        "id": "175X8SAaEnOQ"
      }
    },
    {
      "cell_type": "code",
      "source": [
        "s1 = [7,3,2,4,0,2,4,3,1,5]\n",
        "s2 = [5,9,4,2,9,5,5,8,6,4]\n",
        "s3 = [6,7,1,3,2,6,4,3,2,3]\n",
        "s4 = [5,5,2,1,8,9,6,4,1,0]"
      ],
      "metadata": {
        "id": "dODvSn2xEnOQ"
      },
      "execution_count": 536,
      "outputs": []
    },
    {
      "cell_type": "code",
      "source": [
        "sum = 0\n",
        "H = create_general_hamiltonian(s1)\n",
        "bfgs_optimizer, quantum_instance = prepare_simulator(\"aer_simulator_statevector\", \"bfgs\", seed) \n",
        "sum += minimum_eigenvalue_by_vqe(len(s1), entanglement, bfgs_optimizer, quantum_instance, H) - 1"
      ],
      "metadata": {
        "id": "XBrqMPuNEnOQ"
      },
      "execution_count": 537,
      "outputs": []
    },
    {
      "cell_type": "code",
      "source": [
        "H = create_general_hamiltonian(s2)\n",
        "bfgs_optimizer, quantum_instance = prepare_simulator(\"aer_simulator_statevector\", \"bfgs\", seed) \n",
        "sum += minimum_eigenvalue_by_vqe(len(s2), entanglement, bfgs_optimizer, quantum_instance, H) - 1"
      ],
      "metadata": {
        "id": "V4Z3RIYUEnOQ"
      },
      "execution_count": 538,
      "outputs": []
    },
    {
      "cell_type": "code",
      "source": [
        "H = create_general_hamiltonian(s3)\n",
        "bfgs_optimizer, quantum_instance = prepare_simulator(\"aer_simulator_statevector\", \"bfgs\", seed) \n",
        "sum += minimum_eigenvalue_by_vqe(len(s3), entanglement, bfgs_optimizer, quantum_instance, H) - 1"
      ],
      "metadata": {
        "id": "QSH2FJJDEnOR"
      },
      "execution_count": 539,
      "outputs": []
    },
    {
      "cell_type": "code",
      "source": [
        "H = create_general_hamiltonian(s4)\n",
        "bfgs_optimizer, quantum_instance = prepare_simulator(\"aer_simulator_statevector\", \"bfgs\", seed) \n",
        "sum += minimum_eigenvalue_by_vqe(len(s4), entanglement, bfgs_optimizer, quantum_instance, H) - 1"
      ],
      "metadata": {
        "id": "si1HTtR7EnOR"
      },
      "execution_count": 540,
      "outputs": []
    },
    {
      "cell_type": "code",
      "source": [
        "avg = sum / 4.0\n",
        "avg_array_unsolvable.append(avg)"
      ],
      "metadata": {
        "id": "cYKMlQ2LEnOR"
      },
      "execution_count": 541,
      "outputs": []
    },
    {
      "cell_type": "markdown",
      "source": [
        "# create the graphs"
      ],
      "metadata": {
        "id": "JVaT9509SOdU"
      }
    },
    {
      "cell_type": "markdown",
      "source": [
        "# solvable problems deviation from the desired result"
      ],
      "metadata": {
        "id": "2jRc4GFDSgB5"
      }
    },
    {
      "cell_type": "code",
      "source": [
        "import matplotlib.pyplot as plt\n",
        "  \n",
        "# y axis values\n",
        "y = avg_array_solvable\n",
        "# corresponding x axis values\n",
        "x = range(2,11)\n",
        "  \n",
        "# plotting the points \n",
        "plt.plot(x, y, color='green', linestyle='dashed', linewidth = 3,\n",
        "         marker='o', markerfacecolor='blue', markersize=12)\n",
        "  \n",
        "# setting x and y axis range\n",
        "plt.ylim(0,19)\n",
        "plt.xlim(2,11)\n",
        "  \n",
        "# naming the x axis\n",
        "plt.xlabel('num of qubits')\n",
        "# naming the y axis\n",
        "plt.ylabel('deviation from the right result')\n",
        "  \n",
        "# giving a title to my graph\n",
        "plt.title('solvable problems deviation from the desired result')\n",
        "  \n",
        "# function to show the plot\n",
        "plt.show()\n",
        "print(x)\n",
        "print(y)"
      ],
      "metadata": {
        "colab": {
          "base_uri": "https://localhost:8080/",
          "height": 350
        },
        "id": "BN9oVpzdSSSx",
        "outputId": "09e9a7bc-8b29-4139-ebaf-d681cf019e31"
      },
      "execution_count": 542,
      "outputs": [
        {
          "output_type": "display_data",
          "data": {
            "text/plain": [
              "<Figure size 432x288 with 1 Axes>"
            ],
            "image/png": "[encoded data removed]"
          },
          "metadata": {
            "needs_background": "light"
          }
        },
        {
          "output_type": "stream",
          "name": "stdout",
          "text": [
            "range(2, 11)\n",
            "[(1.9631025e-13+0j), (0.06862537234574569+0j), (8.490394818125e-08+0j), (10.40712757343533+0j), (6.530812267868924+0j), (11.006709207305542+0j), (5.222138789141066+0j), (7.381297664153868+0j), (17.786268058749883+0j)]\n"
          ]
        }
      ]
    },
    {
      "cell_type": "markdown",
      "source": [
        "# unsolvable problems deviation from the desired result"
      ],
      "metadata": {
        "id": "sT8WTZoPSo6K"
      }
    },
    {
      "cell_type": "code",
      "source": [
        "import matplotlib.pyplot as plt\n",
        "  \n",
        "# y axis values\n",
        "y = avg_array_unsolvable\n",
        "# corresponding x axis values\n",
        "x = range(2,11)\n",
        "  \n",
        "# plotting the points \n",
        "plt.plot(x, y, color='green', linestyle='dashed', linewidth = 3,\n",
        "         marker='o', markerfacecolor='blue', markersize=12)\n",
        "  \n",
        "# setting x and y axis range\n",
        "plt.ylim(0,60)\n",
        "plt.xlim(2,11)\n",
        "  \n",
        "# naming the x axis\n",
        "plt.xlabel('num of qubits')\n",
        "# naming the y axis\n",
        "plt.ylabel('deviation from the right result')\n",
        "  \n",
        "# giving a title to my graph\n",
        "plt.title('unsolvable problems deviation from the desired result')\n",
        "  \n",
        "# function to show the plot\n",
        "plt.show()\n",
        "print(x)\n",
        "print(y)"
      ],
      "metadata": {
        "colab": {
          "base_uri": "https://localhost:8080/",
          "height": 350
        },
        "id": "tVhlrCj-So6M",
        "outputId": "ad5ac6f2-a264-4d62-b35b-a99381de74a5"
      },
      "execution_count": 543,
      "outputs": [
        {
          "output_type": "display_data",
          "data": {
            "text/plain": [
              "<Figure size 432x288 with 1 Axes>"
            ],
            "image/png": "[encoded data removed]"
          },
          "metadata": {
            "needs_background": "light"
          }
        },
        {
          "output_type": "stream",
          "name": "stdout",
          "text": [
            "range(2, 11)\n",
            "[(8.427147868417251e-13+0j), (0.00014536456180730406+0j), (10.000029620053416+0j), (59.297793458885174+0j), (1.388265941130446+0j), (13.786266079899764+0j), (6.921850704438349+0j), (5.188829667019833+0j), (17.6113242983348+0j)]\n"
          ]
        }
      ]
    }
  ]
}