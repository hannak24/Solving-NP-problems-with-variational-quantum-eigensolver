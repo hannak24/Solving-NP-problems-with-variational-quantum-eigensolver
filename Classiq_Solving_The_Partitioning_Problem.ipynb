{
  "nbformat": 4,
  "nbformat_minor": 0,
  "metadata": {
    "colab": {
      "name": "Classiq - Solving The Partitioning Problem.ipynb",
      "provenance": []
    },
    "kernelspec": {
      "name": "python3",
      "display_name": "Python 3"
    },
    "language_info": {
      "name": "python"
    }
  },
  "cells": [
    {
      "cell_type": "markdown",
      "source": [
        "# classiq"
      ],
      "metadata": {
        "id": "V-228Lj-0HKQ"
      }
    },
    {
      "cell_type": "markdown",
      "source": [
        "I will start with small 2 qubit problems, one solvable and one not."
      ],
      "metadata": {
        "id": "fz5soA412HR1"
      }
    },
    {
      "cell_type": "code",
      "execution_count": 1,
      "metadata": {
        "id": "Zx9pgIAC_w7e"
      },
      "outputs": [],
      "source": [
        "solvable_problem = [1,1] #An solvable instance of the partitioning problem to be solved using 2 quibts\n",
        "unsolvable_problem = [1,3] #An unsolvable instance of the partitioning problem to be solved using 2 quibts"
      ]
    },
    {
      "cell_type": "code",
      "source": [
        "%pip install qiskit\n",
        "%pip install classiq\n",
        "%pip install nest_asyncio"
      ],
      "metadata": {
        "colab": {
          "base_uri": "https://localhost:8080/",
          "height": 1000
        },
        "outputId": "a768bc41-00b7-4e76-8b5d-f33a9f352271",
        "id": "7DIy0Pvn0HKZ"
      },
      "execution_count": 2,
      "outputs": [
        {
          "output_type": "stream",
          "name": "stdout",
          "text": [
            "Looking in indexes: https://pypi.org/simple, https://us-python.pkg.dev/colab-wheels/public/simple/\n",
            "Collecting qiskit\n",
            "  Downloading qiskit-0.37.1.tar.gz (13 kB)\n",
            "Collecting qiskit-terra==0.21.1\n",
            "  Downloading qiskit_terra-0.21.1-cp37-cp37m-manylinux_2_17_x86_64.manylinux2014_x86_64.whl (6.7 MB)\n",
            "\u001b[K     |████████████████████████████████| 6.7 MB 5.1 MB/s \n",
            "\u001b[?25hCollecting qiskit-aer==0.10.4\n",
            "  Downloading qiskit_aer-0.10.4-cp37-cp37m-manylinux_2_12_x86_64.manylinux2010_x86_64.whl (18.0 MB)\n",
            "\u001b[K     |████████████████████████████████| 18.0 MB 43.4 MB/s \n",
            "\u001b[?25hCollecting qiskit-ibmq-provider==0.19.2\n",
            "  Downloading qiskit_ibmq_provider-0.19.2-py3-none-any.whl (240 kB)\n",
            "\u001b[K     |████████████████████████████████| 240 kB 71.7 MB/s \n",
            "\u001b[?25hRequirement already satisfied: scipy>=1.0 in /usr/local/lib/python3.7/dist-packages (from qiskit-aer==0.10.4->qiskit) (1.7.3)\n",
            "Requirement already satisfied: numpy>=1.16.3 in /usr/local/lib/python3.7/dist-packages (from qiskit-aer==0.10.4->qiskit) (1.21.6)\n",
            "Collecting websockets>=10.0\n",
            "  Downloading websockets-10.3-cp37-cp37m-manylinux_2_5_x86_64.manylinux1_x86_64.manylinux_2_12_x86_64.manylinux2010_x86_64.whl (112 kB)\n",
            "\u001b[K     |████████████████████████████████| 112 kB 74.0 MB/s \n",
            "\u001b[?25hCollecting websocket-client>=1.0.1\n",
            "  Downloading websocket_client-1.3.3-py3-none-any.whl (54 kB)\n",
            "\u001b[K     |████████████████████████████████| 54 kB 2.7 MB/s \n",
            "\u001b[?25hCollecting requests-ntlm>=1.1.0\n",
            "  Downloading requests_ntlm-1.1.0-py2.py3-none-any.whl (5.7 kB)\n",
            "Requirement already satisfied: urllib3>=1.21.1 in /usr/local/lib/python3.7/dist-packages (from qiskit-ibmq-provider==0.19.2->qiskit) (1.24.3)\n",
            "Requirement already satisfied: requests>=2.19 in /usr/local/lib/python3.7/dist-packages (from qiskit-ibmq-provider==0.19.2->qiskit) (2.23.0)\n",
            "Requirement already satisfied: python-dateutil>=2.8.0 in /usr/local/lib/python3.7/dist-packages (from qiskit-ibmq-provider==0.19.2->qiskit) (2.8.2)\n",
            "Requirement already satisfied: typing-extensions in /usr/local/lib/python3.7/dist-packages (from qiskit-terra==0.21.1->qiskit) (4.1.1)\n",
            "Collecting symengine>=0.9\n",
            "  Downloading symengine-0.9.2-cp37-cp37m-manylinux2010_x86_64.whl (37.5 MB)\n",
            "\u001b[K     |████████████████████████████████| 37.5 MB 1.3 MB/s \n",
            "\u001b[?25hCollecting tweedledum<2.0,>=1.1\n",
            "  Downloading tweedledum-1.1.1-cp37-cp37m-manylinux_2_12_x86_64.manylinux2010_x86_64.whl (943 kB)\n",
            "\u001b[K     |████████████████████████████████| 943 kB 69.1 MB/s \n",
            "\u001b[?25hRequirement already satisfied: psutil>=5 in /usr/local/lib/python3.7/dist-packages (from qiskit-terra==0.21.1->qiskit) (5.4.8)\n",
            "Requirement already satisfied: sympy>=1.3 in /usr/local/lib/python3.7/dist-packages (from qiskit-terra==0.21.1->qiskit) (1.7.1)\n",
            "Collecting shared-memory38\n",
            "  Downloading shared_memory38-0.1.2-cp37-cp37m-manylinux_2_5_x86_64.manylinux1_x86_64.whl (25 kB)\n",
            "Requirement already satisfied: dill>=0.3 in /usr/local/lib/python3.7/dist-packages (from qiskit-terra==0.21.1->qiskit) (0.3.5.1)\n",
            "Collecting ply>=3.10\n",
            "  Downloading ply-3.11-py2.py3-none-any.whl (49 kB)\n",
            "\u001b[K     |████████████████████████████████| 49 kB 6.3 MB/s \n",
            "\u001b[?25hCollecting retworkx>=0.11.0\n",
            "  Downloading retworkx-0.11.0-cp37-cp37m-manylinux_2_5_x86_64.manylinux1_x86_64.manylinux_2_12_x86_64.manylinux2010_x86_64.whl (1.6 MB)\n",
            "\u001b[K     |████████████████████████████████| 1.6 MB 40.0 MB/s \n",
            "\u001b[?25hCollecting stevedore>=3.0.0\n",
            "  Downloading stevedore-3.5.0-py3-none-any.whl (49 kB)\n",
            "\u001b[K     |████████████████████████████████| 49 kB 4.8 MB/s \n",
            "\u001b[?25hRequirement already satisfied: six>=1.5 in /usr/local/lib/python3.7/dist-packages (from python-dateutil>=2.8.0->qiskit-ibmq-provider==0.19.2->qiskit) (1.15.0)\n",
            "Requirement already satisfied: chardet<4,>=3.0.2 in /usr/local/lib/python3.7/dist-packages (from requests>=2.19->qiskit-ibmq-provider==0.19.2->qiskit) (3.0.4)\n",
            "Requirement already satisfied: certifi>=2017.4.17 in /usr/local/lib/python3.7/dist-packages (from requests>=2.19->qiskit-ibmq-provider==0.19.2->qiskit) (2022.6.15)\n",
            "Requirement already satisfied: idna<3,>=2.5 in /usr/local/lib/python3.7/dist-packages (from requests>=2.19->qiskit-ibmq-provider==0.19.2->qiskit) (2.10)\n",
            "Collecting ntlm-auth>=1.0.2\n",
            "  Downloading ntlm_auth-1.5.0-py2.py3-none-any.whl (29 kB)\n",
            "Collecting cryptography>=1.3\n",
            "  Downloading cryptography-37.0.4-cp36-abi3-manylinux_2_24_x86_64.whl (4.1 MB)\n",
            "\u001b[K     |████████████████████████████████| 4.1 MB 46.2 MB/s \n",
            "\u001b[?25hRequirement already satisfied: cffi>=1.12 in /usr/local/lib/python3.7/dist-packages (from cryptography>=1.3->requests-ntlm>=1.1.0->qiskit-ibmq-provider==0.19.2->qiskit) (1.15.1)\n",
            "Requirement already satisfied: pycparser in /usr/local/lib/python3.7/dist-packages (from cffi>=1.12->cryptography>=1.3->requests-ntlm>=1.1.0->qiskit-ibmq-provider==0.19.2->qiskit) (2.21)\n",
            "Requirement already satisfied: importlib-metadata>=1.7.0 in /usr/local/lib/python3.7/dist-packages (from stevedore>=3.0.0->qiskit-terra==0.21.1->qiskit) (4.12.0)\n",
            "Collecting pbr!=2.1.0,>=2.0.0\n",
            "  Downloading pbr-5.10.0-py2.py3-none-any.whl (112 kB)\n",
            "\u001b[K     |████████████████████████████████| 112 kB 68.7 MB/s \n",
            "\u001b[?25hRequirement already satisfied: zipp>=0.5 in /usr/local/lib/python3.7/dist-packages (from importlib-metadata>=1.7.0->stevedore>=3.0.0->qiskit-terra==0.21.1->qiskit) (3.8.1)\n",
            "Requirement already satisfied: mpmath>=0.19 in /usr/local/lib/python3.7/dist-packages (from sympy>=1.3->qiskit-terra==0.21.1->qiskit) (1.2.1)\n",
            "Building wheels for collected packages: qiskit\n",
            "  Building wheel for qiskit (setup.py) ... \u001b[?25l\u001b[?25hdone\n",
            "  Created wheel for qiskit: filename=qiskit-0.37.1-py3-none-any.whl size=12067 sha256=1b7579631c0c481a24db13e9b2b4cfeb5f181455e5f8f90733626628feb14543\n",
            "  Stored in directory: /root/.cache/pip/wheels/1c/3c/a3/bf8c2931e17937329c34a88b76cb88cbb7f9f2692fa7cfbcd1\n",
            "Successfully built qiskit\n",
            "Installing collected packages: pbr, tweedledum, symengine, stevedore, shared-memory38, retworkx, ply, ntlm-auth, cryptography, websockets, websocket-client, requests-ntlm, qiskit-terra, qiskit-ibmq-provider, qiskit-aer, qiskit\n",
            "Successfully installed cryptography-37.0.4 ntlm-auth-1.5.0 pbr-5.10.0 ply-3.11 qiskit-0.37.1 qiskit-aer-0.10.4 qiskit-ibmq-provider-0.19.2 qiskit-terra-0.21.1 requests-ntlm-1.1.0 retworkx-0.11.0 shared-memory38-0.1.2 stevedore-3.5.0 symengine-0.9.2 tweedledum-1.1.1 websocket-client-1.3.3 websockets-10.3\n",
            "Looking in indexes: https://pypi.org/simple, https://us-python.pkg.dev/colab-wheels/public/simple/\n",
            "Collecting classiq\n",
            "  Downloading classiq-0.15.0-py3-none-any.whl (188 kB)\n",
            "\u001b[K     |████████████████████████████████| 188 kB 5.2 MB/s \n",
            "\u001b[?25hRequirement already satisfied: semver<3.0.0,>=2.13.0 in /usr/local/lib/python3.7/dist-packages (from classiq) (2.13.0)\n",
            "Collecting sympy<2.0.0,>=1.9.0\n",
            "  Downloading sympy-1.10.1-py3-none-any.whl (6.4 MB)\n",
            "\u001b[K     |████████████████████████████████| 6.4 MB 40.6 MB/s \n",
            "\u001b[?25hRequirement already satisfied: pydantic<2.0.0,>=1.9.0 in /usr/local/lib/python3.7/dist-packages (from classiq) (1.9.2)\n",
            "Collecting matplotlib<4.0.0,>=3.4.3\n",
            "  Downloading matplotlib-3.5.3-cp37-cp37m-manylinux_2_5_x86_64.manylinux1_x86_64.whl (11.2 MB)\n",
            "\u001b[K     |████████████████████████████████| 11.2 MB 34.8 MB/s \n",
            "\u001b[?25hRequirement already satisfied: pandas<1.4.0,>=1.3.0 in /usr/local/lib/python3.7/dist-packages (from classiq) (1.3.5)\n",
            "Requirement already satisfied: tabulate<1,>=0.8.9 in /usr/local/lib/python3.7/dist-packages (from classiq) (0.8.10)\n",
            "Collecting nest-asyncio<2.0.0,>=1.5.4\n",
            "  Downloading nest_asyncio-1.5.5-py3-none-any.whl (5.2 kB)\n",
            "Collecting Pyomo<6.1,>=6.0\n",
            "  Downloading Pyomo-6.0.1-cp37-cp37m-manylinux_2_5_x86_64.manylinux1_x86_64.manylinux_2_12_x86_64.manylinux2010_x86_64.whl (8.9 MB)\n",
            "\u001b[K     |████████████████████████████████| 8.9 MB 45.3 MB/s \n",
            "\u001b[?25hRequirement already satisfied: more-itertools<9.0.0,>=8.8.0 in /usr/local/lib/python3.7/dist-packages (from classiq) (8.14.0)\n",
            "Collecting httpx<1,>=0.23.0\n",
            "  Downloading httpx-0.23.0-py3-none-any.whl (84 kB)\n",
            "\u001b[K     |████████████████████████████████| 84 kB 4.0 MB/s \n",
            "\u001b[?25hCollecting ConfigArgParse<2.0.0,>=1.5.3\n",
            "  Downloading ConfigArgParse-1.5.3-py3-none-any.whl (20 kB)\n",
            "Requirement already satisfied: networkx<3.0.0,>=2.5.1 in /usr/local/lib/python3.7/dist-packages (from classiq) (2.6.3)\n",
            "Collecting plotly<6.0.0,>=5.7.0\n",
            "  Downloading plotly-5.10.0-py2.py3-none-any.whl (15.2 MB)\n",
            "\u001b[K     |████████████████████████████████| 15.2 MB 42.7 MB/s \n",
            "\u001b[?25hRequirement already satisfied: scipy<1.8.0,>=1.7.3 in /usr/local/lib/python3.7/dist-packages (from classiq) (1.7.3)\n",
            "Collecting keyring<24.0.0,>=23.5.0\n",
            "  Downloading keyring-23.8.2-py3-none-any.whl (34 kB)\n",
            "Collecting pillow<10.0.0,>=9.0.0\n",
            "  Downloading Pillow-9.2.0-cp37-cp37m-manylinux_2_17_x86_64.manylinux2014_x86_64.whl (3.1 MB)\n",
            "\u001b[K     |████████████████████████████████| 3.1 MB 38.8 MB/s \n",
            "\u001b[?25hRequirement already satisfied: importlib-metadata<5.0.0,>=4.11.1 in /usr/local/lib/python3.7/dist-packages (from classiq) (4.12.0)\n",
            "Requirement already satisfied: numpy<2.0.0,>=1.20.1 in /usr/local/lib/python3.7/dist-packages (from classiq) (1.21.6)\n",
            "Requirement already satisfied: certifi in /usr/local/lib/python3.7/dist-packages (from httpx<1,>=0.23.0->classiq) (2022.6.15)\n",
            "Collecting httpcore<0.16.0,>=0.15.0\n",
            "  Downloading httpcore-0.15.0-py3-none-any.whl (68 kB)\n",
            "\u001b[K     |████████████████████████████████| 68 kB 6.8 MB/s \n",
            "\u001b[?25hCollecting sniffio\n",
            "  Downloading sniffio-1.2.0-py3-none-any.whl (10 kB)\n",
            "Collecting rfc3986[idna2008]<2,>=1.3\n",
            "  Downloading rfc3986-1.5.0-py2.py3-none-any.whl (31 kB)\n",
            "Collecting h11<0.13,>=0.11\n",
            "  Downloading h11-0.12.0-py3-none-any.whl (54 kB)\n",
            "\u001b[K     |████████████████████████████████| 54 kB 3.6 MB/s \n",
            "\u001b[?25hCollecting anyio==3.*\n",
            "  Downloading anyio-3.6.1-py3-none-any.whl (80 kB)\n",
            "\u001b[K     |████████████████████████████████| 80 kB 9.9 MB/s \n",
            "\u001b[?25hRequirement already satisfied: typing-extensions in /usr/local/lib/python3.7/dist-packages (from anyio==3.*->httpcore<0.16.0,>=0.15.0->httpx<1,>=0.23.0->classiq) (4.1.1)\n",
            "Requirement already satisfied: idna>=2.8 in /usr/local/lib/python3.7/dist-packages (from anyio==3.*->httpcore<0.16.0,>=0.15.0->httpx<1,>=0.23.0->classiq) (2.10)\n",
            "Requirement already satisfied: zipp>=0.5 in /usr/local/lib/python3.7/dist-packages (from importlib-metadata<5.0.0,>=4.11.1->classiq) (3.8.1)\n",
            "Collecting jeepney>=0.4.2\n",
            "  Downloading jeepney-0.8.0-py3-none-any.whl (48 kB)\n",
            "\u001b[K     |████████████████████████████████| 48 kB 5.5 MB/s \n",
            "\u001b[?25hCollecting SecretStorage>=3.2\n",
            "  Downloading SecretStorage-3.3.3-py3-none-any.whl (15 kB)\n",
            "Requirement already satisfied: pyparsing>=2.2.1 in /usr/local/lib/python3.7/dist-packages (from matplotlib<4.0.0,>=3.4.3->classiq) (3.0.9)\n",
            "Collecting fonttools>=4.22.0\n",
            "  Downloading fonttools-4.36.0-py3-none-any.whl (950 kB)\n",
            "\u001b[K     |████████████████████████████████| 950 kB 61.7 MB/s \n",
            "\u001b[?25hRequirement already satisfied: packaging>=20.0 in /usr/local/lib/python3.7/dist-packages (from matplotlib<4.0.0,>=3.4.3->classiq) (21.3)\n",
            "Requirement already satisfied: python-dateutil>=2.7 in /usr/local/lib/python3.7/dist-packages (from matplotlib<4.0.0,>=3.4.3->classiq) (2.8.2)\n",
            "Requirement already satisfied: cycler>=0.10 in /usr/local/lib/python3.7/dist-packages (from matplotlib<4.0.0,>=3.4.3->classiq) (0.11.0)\n",
            "Requirement already satisfied: kiwisolver>=1.0.1 in /usr/local/lib/python3.7/dist-packages (from matplotlib<4.0.0,>=3.4.3->classiq) (1.4.4)\n",
            "Requirement already satisfied: pytz>=2017.3 in /usr/local/lib/python3.7/dist-packages (from pandas<1.4.0,>=1.3.0->classiq) (2022.2.1)\n",
            "Requirement already satisfied: tenacity>=6.2.0 in /usr/local/lib/python3.7/dist-packages (from plotly<6.0.0,>=5.7.0->classiq) (8.0.1)\n",
            "Requirement already satisfied: ply in /usr/local/lib/python3.7/dist-packages (from Pyomo<6.1,>=6.0->classiq) (3.11)\n",
            "Requirement already satisfied: six>=1.5 in /usr/local/lib/python3.7/dist-packages (from python-dateutil>=2.7->matplotlib<4.0.0,>=3.4.3->classiq) (1.15.0)\n",
            "Requirement already satisfied: cryptography>=2.0 in /usr/local/lib/python3.7/dist-packages (from SecretStorage>=3.2->keyring<24.0.0,>=23.5.0->classiq) (37.0.4)\n",
            "Requirement already satisfied: cffi>=1.12 in /usr/local/lib/python3.7/dist-packages (from cryptography>=2.0->SecretStorage>=3.2->keyring<24.0.0,>=23.5.0->classiq) (1.15.1)\n",
            "Requirement already satisfied: pycparser in /usr/local/lib/python3.7/dist-packages (from cffi>=1.12->cryptography>=2.0->SecretStorage>=3.2->keyring<24.0.0,>=23.5.0->classiq) (2.21)\n",
            "Requirement already satisfied: mpmath>=0.19 in /usr/local/lib/python3.7/dist-packages (from sympy<2.0.0,>=1.9.0->classiq) (1.2.1)\n",
            "Installing collected packages: sniffio, rfc3986, jeepney, h11, anyio, SecretStorage, pillow, httpcore, fonttools, sympy, Pyomo, plotly, nest-asyncio, matplotlib, keyring, httpx, ConfigArgParse, classiq\n",
            "  Attempting uninstall: pillow\n",
            "    Found existing installation: Pillow 7.1.2\n",
            "    Uninstalling Pillow-7.1.2:\n",
            "      Successfully uninstalled Pillow-7.1.2\n",
            "  Attempting uninstall: sympy\n",
            "    Found existing installation: sympy 1.7.1\n",
            "    Uninstalling sympy-1.7.1:\n",
            "      Successfully uninstalled sympy-1.7.1\n",
            "  Attempting uninstall: plotly\n",
            "    Found existing installation: plotly 5.5.0\n",
            "    Uninstalling plotly-5.5.0:\n",
            "      Successfully uninstalled plotly-5.5.0\n",
            "  Attempting uninstall: matplotlib\n",
            "    Found existing installation: matplotlib 3.2.2\n",
            "    Uninstalling matplotlib-3.2.2:\n",
            "      Successfully uninstalled matplotlib-3.2.2\n",
            "Successfully installed ConfigArgParse-1.5.3 Pyomo-6.0.1 SecretStorage-3.3.3 anyio-3.6.1 classiq-0.15.0 fonttools-4.36.0 h11-0.12.0 httpcore-0.15.0 httpx-0.23.0 jeepney-0.8.0 keyring-23.8.2 matplotlib-3.5.3 nest-asyncio-1.5.5 pillow-9.2.0 plotly-5.10.0 rfc3986-1.5.0 sniffio-1.2.0 sympy-1.10.1\n"
          ]
        },
        {
          "output_type": "display_data",
          "data": {
            "application/vnd.colab-display-data+json": {
              "pip_warning": {
                "packages": [
                  "PIL",
                  "matplotlib",
                  "mpl_toolkits"
                ]
              }
            }
          },
          "metadata": {}
        },
        {
          "output_type": "stream",
          "name": "stdout",
          "text": [
            "Looking in indexes: https://pypi.org/simple, https://us-python.pkg.dev/colab-wheels/public/simple/\n",
            "Requirement already satisfied: nest_asyncio in /usr/local/lib/python3.7/dist-packages (1.5.5)\n"
          ]
        }
      ]
    },
    {
      "cell_type": "code",
      "source": [
        "import nest_asyncio\n",
        "nest_asyncio.apply()\n",
        "import classiq\n",
        "\n",
        "classiq.authenticate()"
      ],
      "metadata": {
        "id": "A79EDVzf0HKZ",
        "colab": {
          "base_uri": "https://localhost:8080/"
        },
        "outputId": "94ef918d-46d9-42be-f9bc-0f1160172295"
      },
      "execution_count": 3,
      "outputs": [
        {
          "output_type": "stream",
          "name": "stdout",
          "text": [
            "Your user code: TJJM-ZWVX\n",
            "If a browser doesn't automatically open, please visit the url: https://classiq.eu.auth0.com/activate?user_code=TJJM-ZWVX\n"
          ]
        }
      ]
    },
    {
      "cell_type": "code",
      "source": [
        "from classiq import ModelDesigner, Executor\n",
        "from classiq.builtin_functions import UCC, HartreeFock\n",
        "\n",
        "from classiq.interface.chemistry.molecule import Molecule\n",
        "from classiq.interface.chemistry.ground_state_problem import GroundStateProblem\n",
        "from classiq.interface.backend.backend_preferences import (\n",
        "    IBMBackendPreferences,\n",
        "    IBMBackendProvider,\n",
        ")\n",
        "from classiq.interface.executor.execution_preferences import ExecutionPreferences, OptimizerPreferences\n",
        "from classiq.interface.executor.hamiltonian_minimization_problem import HamiltonianMinimizationProblem\n",
        "from classiq.interface.executor.quantum_instruction_set import QuantumInstructionSet\n",
        "from classiq.interface.executor.quantum_program import QuantumProgram\n",
        "from classiq.interface.chemistry.operator import PauliOperator\n",
        "from classiq import ModelDesigner\n",
        "from classiq.builtin_functions import HardwareEfficientAnsatz"
      ],
      "metadata": {
        "id": "UiqvmbPd0HKZ"
      },
      "execution_count": 4,
      "outputs": []
    },
    {
      "cell_type": "markdown",
      "source": [
        "## preparing the hamiltonian for 2 quibts (Ising model)"
      ],
      "metadata": {
        "id": "s0Op-nXJ0HKZ"
      }
    },
    {
      "cell_type": "code",
      "source": [
        "def create_hamiltonian(S):\n",
        "  n_1 = S[0]\n",
        "  n_2 = S[1]\n",
        "\n",
        "  H = [(\"II\",n_1*n_1),\n",
        " (\"ZZ\",n_1*n_2),\n",
        " (\"ZZ\",n_2*n_1),\n",
        " (\"II\",n_2*n_2)]\n",
        "  return H\n"
      ],
      "metadata": {
        "id": "kRsNWDAj0HKa"
      },
      "execution_count": 5,
      "outputs": []
    },
    {
      "cell_type": "markdown",
      "source": [
        "## Prepare simulator"
      ],
      "metadata": {
        "id": "HKXVTP8p0HKa"
      }
    },
    {
      "cell_type": "code",
      "source": [
        "def define_simulator(simulator_name):\n",
        "    if(simulator_name == \"qasm\" or simulator_name == \"QASM\"):\n",
        "      curr_simulator = \"qasm_simulator\"\n",
        "    else:\n",
        "      curr_simulator = \"aer_simulator_statevector\"\n",
        "    return curr_simulator"
      ],
      "metadata": {
        "id": "GWanBkLTCD88"
      },
      "execution_count": 6,
      "outputs": []
    },
    {
      "cell_type": "code",
      "source": [
        "def define_optimizer(optimizer_name):\n",
        "    if(optimizer_name == \"cobyla\" or optimizer_name == \"COBYLA\"):\n",
        "      curr_optimizer = \"COBYLA\"\n",
        "    else:\n",
        "      curr_optimizer = \"L_BFGS_B\"\n",
        "    return curr_optimizer"
      ],
      "metadata": {
        "id": "XXPi5KKdDG2w"
      },
      "execution_count": 7,
      "outputs": []
    },
    {
      "cell_type": "code",
      "source": [
        "def prepare_simulator_classiq(curr_simulator, curr_optimizer,num_of_qubits=2, anzatz_first_gate = \"x\",anzatz_second_gate = \"ry\"):\n",
        "    NUM_QUBITS = num_of_qubits\n",
        "    FULLY_CONNECTED_MESH = []\n",
        "    for i in range(num_of_qubits-1):\n",
        "        FULLY_CONNECTED_MESH.append([i,i+1])\n",
        "    hwea_params = HardwareEfficientAnsatz(\n",
        "        num_qubits=NUM_QUBITS,\n",
        "        connectivity_map=FULLY_CONNECTED_MESH,\n",
        "        one_qubit_gates=[anzatz_first_gate, anzatz_second_gate],\n",
        "        two_qubit_gates=\"cx\",\n",
        "        reps=3,\n",
        "    )\n",
        "\n",
        "    model_designer = ModelDesigner()\n",
        "    model_designer.HardwareEfficientAnsatz(params=hwea_params)\n",
        "    circuit = model_designer.synthesize()\n",
        "    #circuit.show()\n",
        "    #circuit.draw()\n",
        "    circuit_qasm = circuit.qasm\n",
        "    optimizer_preferences = OptimizerPreferences(\n",
        "        max_iteration=60,\n",
        "        name = curr_optimizer\n",
        "    )\n",
        "\n",
        "    ibm_provider = IBMBackendProvider(\n",
        "        #insert details\n",
        "    )\n",
        "\n",
        "    backend_preferences = IBMBackendPreferences(\n",
        "        backend_name=curr_simulator,\n",
        "        access_token= \"insert details\",\n",
        "        provider=ibm_provider,\n",
        "    )\n",
        "\n",
        "    num_shots = 8192\n",
        "\n",
        "    execution_preferences = ExecutionPreferences(\n",
        "        num_shots=num_shots,\n",
        "        backend_preferences=backend_preferences,\n",
        "        optimizer_preferences=optimizer_preferences\n",
        "    )\n",
        "    return execution_preferences, circuit_qasm"
      ],
      "metadata": {
        "id": "mBjluCYWDh9z"
      },
      "execution_count": 14,
      "outputs": []
    },
    {
      "cell_type": "markdown",
      "source": [
        "## compute minimal eigenvalue"
      ],
      "metadata": {
        "id": "iY0un-Is0HKa"
      }
    },
    {
      "cell_type": "code",
      "source": [
        "def minimum_eigenvalue_by_vqe(H):\n",
        "  hamiltonian_problem = HamiltonianMinimizationProblem(\n",
        "      ansatz=QuantumProgram(code=circuit_qasm, syntax=QuantumInstructionSet.QASM),\n",
        "      hamiltonian=H\n",
        "  )\n",
        "  result = Executor(\n",
        "      preferences=execution_preferences\n",
        "  ).execute_hamiltonian_minimization(hamiltonian_problem)\n",
        "  print(\"minimal eigenvalue: \", format(result.energy,\".3f\"))"
      ],
      "metadata": {
        "id": "KglpQYOv0HKa"
      },
      "execution_count": 9,
      "outputs": []
    },
    {
      "cell_type": "markdown",
      "source": [
        "## compute minimal eigenvalue for solvable problem"
      ],
      "metadata": {
        "id": "_0hke4WX0HKa"
      }
    },
    {
      "cell_type": "code",
      "source": [
        "partitioningProblem = create_hamiltonian(solvable_problem)\n",
        "operator= PauliOperator(pauli_list=partitioningProblem)\n",
        "print(operator)"
      ],
      "metadata": {
        "colab": {
          "base_uri": "https://localhost:8080/"
        },
        "outputId": "9021515d-d78f-4c36-de37-4582a68a2f32",
        "id": "gE4oA4Bl0HKb"
      },
      "execution_count": 10,
      "outputs": [
        {
          "output_type": "stream",
          "name": "stdout",
          "text": [
            "pauli_list=[('II', (1+0j)), ('ZZ', (1+0j)), ('ZZ', (1+0j)), ('II', (1+0j))]\n"
          ]
        }
      ]
    },
    {
      "cell_type": "markdown",
      "source": [
        "### qasm simulator and cobyla optimizer"
      ],
      "metadata": {
        "id": "PtKKLEZBF7Gl"
      }
    },
    {
      "cell_type": "markdown",
      "source": [
        "stuck in a loop or returns error :/"
      ],
      "metadata": {
        "id": "qp7QhdXkKmXX"
      }
    },
    {
      "cell_type": "code",
      "source": [
        "# curr_simulator = define_simulator(\"qasm\")\n",
        "# curr_optimizer = define_optimizer(\"cobyla\")\n",
        "# execution_preferences, circuit_qasm = prepare_simulator_classiq(curr_simulator, curr_optimizer)\n",
        "# minimum_eigenvalue_by_vqe(operator)"
      ],
      "metadata": {
        "id": "GthYIS3iF7Gm"
      },
      "execution_count": 11,
      "outputs": []
    },
    {
      "cell_type": "markdown",
      "source": [
        "### qasm simulator and bfgs optimizer"
      ],
      "metadata": {
        "id": "1zp3gS0AF7Gm"
      }
    },
    {
      "cell_type": "markdown",
      "source": [
        "stuck in a loop or returns error :/"
      ],
      "metadata": {
        "id": "EFkM14CHKvHE"
      }
    },
    {
      "cell_type": "code",
      "source": [
        "# curr_simulator = define_simulator(\"qasm\")\n",
        "# curr_optimizer = define_optimizer(\"bfgs\")\n",
        "# execution_preferences, circuit_qasm = prepare_simulator_classiq(curr_simulator, curr_optimizer)\n",
        "# minimum_eigenvalue_by_vqe(operator)"
      ],
      "metadata": {
        "id": "mXB2Ep5VF7Gm"
      },
      "execution_count": 12,
      "outputs": []
    },
    {
      "cell_type": "markdown",
      "source": [
        "### aer_statevector simulator and cobyla optimizer - x anzays"
      ],
      "metadata": {
        "id": "T8lSrO4gF7Gn"
      }
    },
    {
      "cell_type": "code",
      "source": [
        "curr_simulator = define_simulator(\"aer_statevector\")\n",
        "curr_optimizer = define_optimizer(\"cobyla\")\n",
        "execution_preferences, circuit_qasm = prepare_simulator_classiq(curr_simulator, curr_optimizer)\n",
        "minimum_eigenvalue_by_vqe(operator)"
      ],
      "metadata": {
        "id": "7tvLXV8LF7Gn",
        "colab": {
          "base_uri": "https://localhost:8080/"
        },
        "outputId": "ca09d203-0760-41bb-f003-b875b9d04c7f"
      },
      "execution_count": 15,
      "outputs": [
        {
          "output_type": "stream",
          "name": "stdout",
          "text": [
            "minimal eigenvalue:  0.000\n"
          ]
        }
      ]
    },
    {
      "cell_type": "markdown",
      "source": [
        "### aer_statevector simulator and cobyla optimizer - RyRz anzats"
      ],
      "metadata": {
        "id": "nXRQebLLujjb"
      }
    },
    {
      "cell_type": "code",
      "source": [
        "curr_simulator = define_simulator(\"aer_statevector\")\n",
        "curr_optimizer = define_optimizer(\"cobyla\")\n",
        "execution_preferences, circuit_qasm = prepare_simulator_classiq(curr_simulator, curr_optimizer,2 , \"ry\",\"rz\")\n",
        "minimum_eigenvalue_by_vqe(operator)"
      ],
      "metadata": {
        "colab": {
          "base_uri": "https://localhost:8080/"
        },
        "id": "55XU6ukdujjc",
        "outputId": "f3691fc7-eaec-4311-ebe4-d2110ccaf036"
      },
      "execution_count": 16,
      "outputs": [
        {
          "output_type": "stream",
          "name": "stdout",
          "text": [
            "minimal eigenvalue:  0.000\n"
          ]
        }
      ]
    },
    {
      "cell_type": "markdown",
      "source": [
        "### aer_statevector simulator and bfgs optimizer - x anzats"
      ],
      "metadata": {
        "id": "qVbdb5COF7Go"
      }
    },
    {
      "cell_type": "markdown",
      "source": [
        "returns wrong result :/ expected result: 0.000"
      ],
      "metadata": {
        "id": "c1Ux8NwVKwVd"
      }
    },
    {
      "cell_type": "code",
      "execution_count": 17,
      "metadata": {
        "scrolled": true,
        "id": "nHNnLFkPF7Go",
        "colab": {
          "base_uri": "https://localhost:8080/"
        },
        "outputId": "3d4c75d0-2bae-4020-f525-f549b6a0c025"
      },
      "outputs": [
        {
          "output_type": "stream",
          "name": "stdout",
          "text": [
            "minimal eigenvalue:  0.001\n"
          ]
        }
      ],
      "source": [
        "curr_simulator = define_simulator(\"aer_statevector\")\n",
        "curr_optimizer = define_optimizer(\"bfgs\")\n",
        "execution_preferences, circuit_qasm = prepare_simulator_classiq(curr_simulator, curr_optimizer)\n",
        "minimum_eigenvalue_by_vqe(operator)"
      ]
    },
    {
      "cell_type": "markdown",
      "source": [
        "### aer_statevector simulator and bfgs optimizer - RyRz anzats"
      ],
      "metadata": {
        "id": "8qVw8uvqu57g"
      }
    },
    {
      "cell_type": "markdown",
      "source": [
        "returns wrong result :/ expected result: 0.000"
      ],
      "metadata": {
        "id": "RZQZch_Mu57h"
      }
    },
    {
      "cell_type": "code",
      "execution_count": 18,
      "metadata": {
        "scrolled": true,
        "colab": {
          "base_uri": "https://localhost:8080/"
        },
        "id": "4WBUhedju57h",
        "outputId": "9788e518-ab95-41f5-bfa5-b066522615b6"
      },
      "outputs": [
        {
          "output_type": "stream",
          "name": "stdout",
          "text": [
            "minimal eigenvalue:  0.001\n"
          ]
        }
      ],
      "source": [
        "curr_simulator = define_simulator(\"aer_statevector\")\n",
        "curr_optimizer = define_optimizer(\"bfgs\")\n",
        "execution_preferences, circuit_qasm = prepare_simulator_classiq(curr_simulator, curr_optimizer,2,\"ry\",\"rz\")\n",
        "minimum_eigenvalue_by_vqe(operator)"
      ]
    },
    {
      "cell_type": "markdown",
      "source": [
        "## compute minimal eigenvalue for unsolvable problem"
      ],
      "metadata": {
        "id": "ZXgnBLia0HKb"
      }
    },
    {
      "cell_type": "code",
      "source": [
        "partitioningProblem = create_hamiltonian(unsolvable_problem)\n",
        "operator= PauliOperator(pauli_list=partitioningProblem)\n",
        "print(operator)"
      ],
      "metadata": {
        "id": "GOiUc8Lw0HKb",
        "colab": {
          "base_uri": "https://localhost:8080/"
        },
        "outputId": "5de50768-6eff-40b0-d57f-f368bd661941"
      },
      "execution_count": 19,
      "outputs": [
        {
          "output_type": "stream",
          "name": "stdout",
          "text": [
            "pauli_list=[('II', (1+0j)), ('ZZ', (3+0j)), ('ZZ', (3+0j)), ('II', (9+0j))]\n"
          ]
        }
      ]
    },
    {
      "cell_type": "markdown",
      "source": [
        "### qasm simulator and cobyla optimizer"
      ],
      "metadata": {
        "id": "9-2SG4jWF7Gp"
      }
    },
    {
      "cell_type": "markdown",
      "source": [
        "stuck in a loop or returns error :/"
      ],
      "metadata": {
        "id": "LMVEb6AUKx3S"
      }
    },
    {
      "cell_type": "code",
      "source": [
        "# curr_simulator = define_simulator(\"qasm\")\n",
        "# curr_optimizer = define_optimizer(\"cobyla\")\n",
        "# execution_preferences, circuit_qasm = prepare_simulator_classiq(curr_simulator, curr_optimizer)\n",
        "# minimum_eigenvalue_by_vqe(operator)"
      ],
      "metadata": {
        "id": "Mmdyh51OF7Gp"
      },
      "execution_count": null,
      "outputs": []
    },
    {
      "cell_type": "markdown",
      "source": [
        "### qasm simulator and bfgs optimizer"
      ],
      "metadata": {
        "id": "NxblSbewF7Gp"
      }
    },
    {
      "cell_type": "markdown",
      "source": [
        "stuck in a loop or returns error :/"
      ],
      "metadata": {
        "id": "ZRm3VLhiK1kb"
      }
    },
    {
      "cell_type": "code",
      "source": [
        "# curr_simulator = define_simulator(\"qasm\")\n",
        "# curr_optimizer = define_optimizer(\"bfgs\")\n",
        "# execution_preferences, circuit_qasm = prepare_simulator_classiq(curr_simulator, curr_optimizer)\n",
        "# minimum_eigenvalue_by_vqe(operator)"
      ],
      "metadata": {
        "id": "LFM2isb7F7Gp"
      },
      "execution_count": null,
      "outputs": []
    },
    {
      "cell_type": "markdown",
      "source": [
        "### aer_statevector simulator and cobyla optimizer - x anzats"
      ],
      "metadata": {
        "id": "4Twie2uQF7Gp"
      }
    },
    {
      "cell_type": "code",
      "source": [
        "curr_simulator = define_simulator(\"aer_statevector\")\n",
        "curr_optimizer = define_optimizer(\"cobyla\")\n",
        "execution_preferences, circuit_qasm = prepare_simulator_classiq(curr_simulator, curr_optimizer)\n",
        "minimum_eigenvalue_by_vqe(operator)"
      ],
      "metadata": {
        "id": "tZ1YojivF7Gq",
        "colab": {
          "base_uri": "https://localhost:8080/"
        },
        "outputId": "d6e1010e-f396-4dd8-cd8e-77ed95a40f7f"
      },
      "execution_count": 20,
      "outputs": [
        {
          "output_type": "stream",
          "name": "stdout",
          "text": [
            "minimal eigenvalue:  4.000\n"
          ]
        }
      ]
    },
    {
      "cell_type": "markdown",
      "source": [
        "### aer_statevector simulator and cobyla optimizer - RyRz anzats"
      ],
      "metadata": {
        "id": "59NjLvU0tzDG"
      }
    },
    {
      "cell_type": "markdown",
      "source": [
        "returns wrong result :/ expected result: 4.000"
      ],
      "metadata": {
        "id": "GFU5Q31TuJyP"
      }
    },
    {
      "cell_type": "code",
      "source": [
        "curr_simulator = define_simulator(\"aer_statevector\")\n",
        "curr_optimizer = define_optimizer(\"cobyla\")\n",
        "execution_preferences, circuit_qasm = prepare_simulator_classiq(curr_simulator, curr_optimizer, 2, \"ry\",\"rz\")\n",
        "minimum_eigenvalue_by_vqe(operator)"
      ],
      "metadata": {
        "colab": {
          "base_uri": "https://localhost:8080/"
        },
        "id": "1hvHFSGFtzDP",
        "outputId": "10620f9b-262b-45fe-f1ab-35632742e075"
      },
      "execution_count": 21,
      "outputs": [
        {
          "output_type": "stream",
          "name": "stdout",
          "text": [
            "minimal eigenvalue:  4.001\n"
          ]
        }
      ]
    },
    {
      "cell_type": "markdown",
      "source": [
        "### aer_statevector simulator and bfgs optimizer - x anzats"
      ],
      "metadata": {
        "id": "GzVbnmqCF7Gq"
      }
    },
    {
      "cell_type": "markdown",
      "source": [
        "returns wrong result :/ expected result: 4.000"
      ],
      "metadata": {
        "id": "Y6Y-f6LjK2jt"
      }
    },
    {
      "cell_type": "code",
      "execution_count": 22,
      "metadata": {
        "scrolled": true,
        "id": "MIO29wdPF7Gq",
        "colab": {
          "base_uri": "https://localhost:8080/"
        },
        "outputId": "68c43fc3-4a78-4b2a-a84c-0ccf29203eda"
      },
      "outputs": [
        {
          "output_type": "stream",
          "name": "stdout",
          "text": [
            "minimal eigenvalue:  4.003\n"
          ]
        }
      ],
      "source": [
        "curr_simulator = define_simulator(\"aer_statevector\")\n",
        "curr_optimizer = define_optimizer(\"bfgs\")\n",
        "execution_preferences, circuit_qasm = prepare_simulator_classiq(curr_simulator, curr_optimizer)\n",
        "minimum_eigenvalue_by_vqe(operator)"
      ]
    },
    {
      "cell_type": "markdown",
      "source": [
        "### aer_statevector simulator and bfgs optimizer - RyRz anzats"
      ],
      "metadata": {
        "id": "Jm_SdzA5tMIT"
      }
    },
    {
      "cell_type": "markdown",
      "source": [
        "returns wrong result :/ expected result: 4.000"
      ],
      "metadata": {
        "id": "R8WO3UnUtMIU"
      }
    },
    {
      "cell_type": "code",
      "execution_count": 24,
      "metadata": {
        "scrolled": true,
        "colab": {
          "base_uri": "https://localhost:8080/"
        },
        "id": "nO8Gw6abtMIU",
        "outputId": "9270707c-a537-4667-8c7d-3177ed97797a"
      },
      "outputs": [
        {
          "output_type": "stream",
          "name": "stdout",
          "text": [
            "minimal eigenvalue:  4.003\n"
          ]
        }
      ],
      "source": [
        "curr_simulator = define_simulator(\"aer_statevector\")\n",
        "curr_optimizer = define_optimizer(\"bfgs\")\n",
        "execution_preferences, circuit_qasm = prepare_simulator_classiq(curr_simulator, curr_optimizer,2,\"ry\",\"rz\")\n",
        "minimum_eigenvalue_by_vqe(operator)"
      ]
    },
    {
      "cell_type": "markdown",
      "source": [
        "## General Form"
      ],
      "metadata": {
        "id": "Jg_zSDMaOQOB"
      }
    },
    {
      "cell_type": "code",
      "source": [
        "solvable_problem_4_qubits = [1,2,3,2]\n",
        "solvable_problem_3_qubits = [1,2,1]\n",
        "unsolvable_problem_3_qubits = [1,3,1]\n",
        "unsolvable_problem_4_qubits = [1,2,4,2]"
      ],
      "metadata": {
        "id": "2xcvXwFqOQOB"
      },
      "execution_count": 25,
      "outputs": []
    },
    {
      "cell_type": "markdown",
      "metadata": {
        "id": "6F7y-T5TOQOB"
      },
      "source": [
        "### preparing the hamiltonian for n quibts (Ising model)"
      ]
    },
    {
      "cell_type": "code",
      "execution_count": 26,
      "metadata": {
        "id": "QjWlWhqtOQOC"
      },
      "outputs": [],
      "source": [
        "import numpy as np\n",
        "from qiskit.opflow import Z, I\n",
        "\n",
        "def multiply_ising_models(ham1, ham2, coef1, coef2):\n",
        "  final_sigma = \"\"\n",
        "  final_coef = 0\n",
        "  for i in range(len(ham1)):\n",
        "      sigma1 = ham1[i]\n",
        "      sigma2 = ham2[i]\n",
        "      if (sigma1 == 'Z' and sigma2 == 'Z'):\n",
        "        final_sigma += 'I'\n",
        "      elif (sigma1 == 'I' and sigma2 == 'Z'):\n",
        "        final_sigma += 'Z'\n",
        "      elif (sigma1 == 'Z' and sigma2 == 'I'):\n",
        "        final_sigma += 'Z'\n",
        "      else:\n",
        "        final_sigma += 'I'\n",
        "  return (final_sigma,coef1*coef2)\n",
        "\n",
        "\n",
        "def create_general_hamiltonian_classiq(S):\n",
        "  num_qubits = len(S)\n",
        "  operator = []\n",
        "  sigmas_list = []\n",
        "  for qubit in range(num_qubits):\n",
        "    if qubit == 0:\n",
        "       sigma = \"Z\"\n",
        "    else:\n",
        "       sigma = \"I\"\n",
        "    for i in range(1,num_qubits):\n",
        "      if i == qubit:\n",
        "        sigma = sigma + \"Z\"\n",
        "      else:\n",
        "        sigma = sigma + \"I\"\n",
        "    sigmas_list.append((sigma,S[qubit]))\n",
        "\n",
        "  for i in range(len(sigmas_list)):\n",
        "    for j in range(len(sigmas_list)):\n",
        "      sigma = multiply_ising_models(sigmas_list[i][0], sigmas_list[j][0], sigmas_list[i][1], sigmas_list[j][1])\n",
        "      operator.append(sigma)\n",
        "  return operator \n"
      ]
    },
    {
      "cell_type": "markdown",
      "source": [
        "### Example: solvable 3 qubit problem"
      ],
      "metadata": {
        "id": "LTxP4cDHOQOC"
      }
    },
    {
      "cell_type": "code",
      "source": [
        "H = create_general_hamiltonian_classiq(solvable_problem_3_qubits)\n",
        "operator= PauliOperator(pauli_list=H)\n",
        "print(operator)"
      ],
      "metadata": {
        "colab": {
          "base_uri": "https://localhost:8080/"
        },
        "outputId": "f150bac3-7204-437b-ceb4-6e51e7b4eddd",
        "id": "9gFU4AOs0wqR"
      },
      "execution_count": 27,
      "outputs": [
        {
          "output_type": "stream",
          "name": "stdout",
          "text": [
            "pauli_list=[('III', (1+0j)), ('ZZI', (2+0j)), ('ZIZ', (1+0j)), ('ZZI', (2+0j)), ('III', (4+0j)), ('IZZ', (2+0j)), ('ZIZ', (1+0j)), ('IZZ', (2+0j)), ('III', (1+0j))]\n"
          ]
        }
      ]
    },
    {
      "cell_type": "markdown",
      "source": [
        "### aer_statevector simulator and cobyla optimizer - x anzats"
      ],
      "metadata": {
        "id": "t4ixHkUX56Xy"
      }
    },
    {
      "cell_type": "markdown",
      "source": [
        "returns wrong result :/ expected result: 0.000"
      ],
      "metadata": {
        "id": "kk7VGcgW59DB"
      }
    },
    {
      "cell_type": "code",
      "source": [
        "curr_simulator = define_simulator(\"aer_statevector\")\n",
        "curr_optimizer = define_optimizer(\"cobyla\")\n",
        "execution_preferences, circuit_qasm = prepare_simulator_classiq(curr_simulator, curr_optimizer,3)\n",
        "minimum_eigenvalue_by_vqe(operator)"
      ],
      "metadata": {
        "colab": {
          "base_uri": "https://localhost:8080/"
        },
        "outputId": "38899e14-7173-48da-d59c-da43caa4522b",
        "id": "BvvvjGTaOQOC"
      },
      "execution_count": 28,
      "outputs": [
        {
          "output_type": "stream",
          "name": "stdout",
          "text": [
            "minimal eigenvalue:  0.006\n"
          ]
        }
      ]
    },
    {
      "cell_type": "markdown",
      "source": [
        "### aer_statevector simulator and cobyla optimizer - RyRz anzats"
      ],
      "metadata": {
        "id": "BRnOrSLxrmtl"
      }
    },
    {
      "cell_type": "markdown",
      "source": [
        "returns wrong result :/ expected result: 0.000"
      ],
      "metadata": {
        "id": "4XAzCAjFsG3e"
      }
    },
    {
      "cell_type": "code",
      "source": [
        "curr_simulator = define_simulator(\"aer_statevector\")\n",
        "curr_optimizer = define_optimizer(\"cobyla\")\n",
        "execution_preferences, circuit_qasm = prepare_simulator_classiq(curr_simulator, curr_optimizer,3, \"ry\",\"rz\")\n",
        "minimum_eigenvalue_by_vqe(operator)"
      ],
      "metadata": {
        "colab": {
          "base_uri": "https://localhost:8080/"
        },
        "id": "LKXD1zUhqcgg",
        "outputId": "45caa5b3-db92-4010-8c39-1645ba4433ed"
      },
      "execution_count": 29,
      "outputs": [
        {
          "output_type": "stream",
          "name": "stdout",
          "text": [
            "minimal eigenvalue:  0.056\n"
          ]
        }
      ]
    },
    {
      "cell_type": "markdown",
      "source": [
        "### aer_statevector simulator and bfgs optimizer - x anzats"
      ],
      "metadata": {
        "id": "L9MZS0jR569_"
      }
    },
    {
      "cell_type": "markdown",
      "source": [
        "returns wrong result :/ expected result: 0.000"
      ],
      "metadata": {
        "id": "xyFwA4Pi6B3K"
      }
    },
    {
      "cell_type": "code",
      "source": [
        "curr_simulator = define_simulator(\"aer_statevector\")\n",
        "curr_optimizer = define_optimizer(\"bfgs\")\n",
        "execution_preferences, circuit_qasm = prepare_simulator_classiq(curr_simulator, curr_optimizer,3)\n",
        "minimum_eigenvalue_by_vqe(operator)"
      ],
      "metadata": {
        "colab": {
          "base_uri": "https://localhost:8080/"
        },
        "id": "kFmVm9BP4FQu",
        "outputId": "f51264a8-cc18-44ca-d36b-2033118b13ce"
      },
      "execution_count": null,
      "outputs": [
        {
          "output_type": "stream",
          "name": "stdout",
          "text": [
            "minimal eigenvalue:  0.011\n"
          ]
        }
      ]
    },
    {
      "cell_type": "markdown",
      "source": [
        "### aer_statevector simulator and bfgs optimizer - RyRz anzats"
      ],
      "metadata": {
        "id": "NBkAAC4Jr142"
      }
    },
    {
      "cell_type": "markdown",
      "source": [
        "returns wrong result :/ expected result: 0.000"
      ],
      "metadata": {
        "id": "kifamq7vsGEL"
      }
    },
    {
      "cell_type": "code",
      "source": [
        "curr_simulator = define_simulator(\"aer_statevector\")\n",
        "curr_optimizer = define_optimizer(\"bfgs\")\n",
        "execution_preferences, circuit_qasm = prepare_simulator_classiq(curr_simulator, curr_optimizer,3,\"ry\",\"rz\")\n",
        "minimum_eigenvalue_by_vqe(operator)"
      ],
      "metadata": {
        "colab": {
          "base_uri": "https://localhost:8080/"
        },
        "id": "OXytebyErtDv",
        "outputId": "8435cbe8-811c-48d2-a6c4-e238674c4e0c"
      },
      "execution_count": 30,
      "outputs": [
        {
          "output_type": "stream",
          "name": "stdout",
          "text": [
            "minimal eigenvalue:  0.022\n"
          ]
        }
      ]
    },
    {
      "cell_type": "markdown",
      "source": [
        "### Example: unsolvable 3 qubit problem"
      ],
      "metadata": {
        "id": "NHdBtEe_OQOC"
      }
    },
    {
      "cell_type": "code",
      "source": [
        "H = create_general_hamiltonian_classiq(unsolvable_problem_3_qubits)\n",
        "operator= PauliOperator(pauli_list=H)\n",
        "print(operator)"
      ],
      "metadata": {
        "colab": {
          "base_uri": "https://localhost:8080/"
        },
        "outputId": "67477c9b-a6aa-4f43-8439-d745e029744b",
        "id": "TU-xt0Mr42XI"
      },
      "execution_count": 32,
      "outputs": [
        {
          "output_type": "stream",
          "name": "stdout",
          "text": [
            "pauli_list=[('III', (1+0j)), ('ZZI', (3+0j)), ('ZIZ', (1+0j)), ('ZZI', (3+0j)), ('III', (9+0j)), ('IZZ', (3+0j)), ('ZIZ', (1+0j)), ('IZZ', (3+0j)), ('III', (1+0j))]\n"
          ]
        }
      ]
    },
    {
      "cell_type": "markdown",
      "source": [
        "### aer_statevector simulator and cobyla optimizer - x anzats"
      ],
      "metadata": {
        "id": "dllMfJNP6KAL"
      }
    },
    {
      "cell_type": "markdown",
      "source": [
        "returns wrong result :/ expected result: 1.000"
      ],
      "metadata": {
        "id": "d-Agfs0H6K5-"
      }
    },
    {
      "cell_type": "code",
      "source": [
        "curr_simulator = define_simulator(\"aer_statevector\")\n",
        "curr_optimizer = define_optimizer(\"cobyla\")\n",
        "execution_preferences, circuit_qasm = prepare_simulator_classiq(curr_simulator, curr_optimizer,3)\n",
        "minimum_eigenvalue_by_vqe(operator)"
      ],
      "metadata": {
        "colab": {
          "base_uri": "https://localhost:8080/"
        },
        "outputId": "d899955c-53da-4b3e-ce66-9c6366c77549",
        "id": "GdI7J8H242XJ"
      },
      "execution_count": 33,
      "outputs": [
        {
          "output_type": "stream",
          "name": "stdout",
          "text": [
            "minimal eigenvalue:  1.004\n"
          ]
        }
      ]
    },
    {
      "cell_type": "markdown",
      "source": [
        "### aer_statevector simulator and cobyla optimizer - RyRz anzats"
      ],
      "metadata": {
        "id": "0XmQSvNasWGM"
      }
    },
    {
      "cell_type": "markdown",
      "source": [
        "returns wrong result :/ expected result: 1.000"
      ],
      "metadata": {
        "id": "hwzceqmQsaeY"
      }
    },
    {
      "cell_type": "code",
      "source": [
        "curr_simulator = define_simulator(\"aer_statevector\")\n",
        "curr_optimizer = define_optimizer(\"cobyla\")\n",
        "execution_preferences, circuit_qasm = prepare_simulator_classiq(curr_simulator, curr_optimizer,3,\"ry\",\"rz\")\n",
        "minimum_eigenvalue_by_vqe(operator)"
      ],
      "metadata": {
        "colab": {
          "base_uri": "https://localhost:8080/"
        },
        "id": "hhgwI_8SsLRR",
        "outputId": "ab0c24d1-916b-4efb-ca9e-53c3683660e9"
      },
      "execution_count": 34,
      "outputs": [
        {
          "output_type": "stream",
          "name": "stdout",
          "text": [
            "minimal eigenvalue:  1.174\n"
          ]
        }
      ]
    },
    {
      "cell_type": "markdown",
      "source": [
        "### aer_statevector simulator and bfgs optimizer - x anzats"
      ],
      "metadata": {
        "id": "RgDbUlsX6PhU"
      }
    },
    {
      "cell_type": "markdown",
      "source": [
        "returns wrong result :/ expected result: 1.000"
      ],
      "metadata": {
        "id": "q_QetcnBsn2J"
      }
    },
    {
      "cell_type": "code",
      "source": [
        "curr_simulator = define_simulator(\"aer_statevector\")\n",
        "curr_optimizer = define_optimizer(\"bfgs\")\n",
        "execution_preferences, circuit_qasm = prepare_simulator_classiq(curr_simulator, curr_optimizer,3)\n",
        "minimum_eigenvalue_by_vqe(operator)"
      ],
      "metadata": {
        "colab": {
          "base_uri": "https://localhost:8080/"
        },
        "outputId": "10c95d3b-1a69-491c-82d3-85befd332b8f",
        "id": "FdW1zISV42XJ"
      },
      "execution_count": 35,
      "outputs": [
        {
          "output_type": "stream",
          "name": "stdout",
          "text": [
            "minimal eigenvalue:  1.005\n"
          ]
        }
      ]
    },
    {
      "cell_type": "markdown",
      "source": [
        "### aer_statevector simulator and bfgs optimizer - RyRz anzats"
      ],
      "metadata": {
        "id": "ZHmEnExksr_2"
      }
    },
    {
      "cell_type": "markdown",
      "source": [
        "returns wrong result :/ expected result: 1.000"
      ],
      "metadata": {
        "id": "Ql3-2wRrsr_3"
      }
    },
    {
      "cell_type": "code",
      "source": [
        "curr_simulator = define_simulator(\"aer_statevector\")\n",
        "curr_optimizer = define_optimizer(\"bfgs\")\n",
        "execution_preferences, circuit_qasm = prepare_simulator_classiq(curr_simulator, curr_optimizer,3, \"ry\",\"rz\")\n",
        "minimum_eigenvalue_by_vqe(operator)"
      ],
      "metadata": {
        "colab": {
          "base_uri": "https://localhost:8080/"
        },
        "id": "kNrNDvUYsvsV",
        "outputId": "4b8d58b0-e71d-47fc-c0fe-86845a223a61"
      },
      "execution_count": 36,
      "outputs": [
        {
          "output_type": "stream",
          "name": "stdout",
          "text": [
            "minimal eigenvalue:  1.032\n"
          ]
        }
      ]
    }
  ]
}
